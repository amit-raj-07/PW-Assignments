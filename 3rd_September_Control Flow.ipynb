{
 "cells": [
  {
   "cell_type": "markdown",
   "id": "41cd8caf-3ae7-4dc6-8677-8e42ea3865f8",
   "metadata": {},
   "source": [
    "Basic If-Else Statements:"
   ]
  },
  {
   "cell_type": "markdown",
   "id": "21258e7e-040c-4be2-859a-befbdc4ab475",
   "metadata": {},
   "source": [
    "1. Write a Python program to check if a given number is positive or negative."
   ]
  },
  {
   "cell_type": "code",
   "execution_count": 11,
   "id": "4ffc9bbd-b92c-4aba-b00d-800763125e35",
   "metadata": {},
   "outputs": [
    {
     "name": "stdin",
     "output_type": "stream",
     "text": [
      "Enter a number:  -2\n"
     ]
    },
    {
     "name": "stdout",
     "output_type": "stream",
     "text": [
      "The given number -2 is Negative\n"
     ]
    }
   ],
   "source": [
    "def number_check(n):\n",
    "    if n>=0:\n",
    "        return \"Positive\"\n",
    "    else:\n",
    "        return \"Negative\"\n",
    "    \n",
    "\n",
    "n = int(input(\"Enter a number: \"))\n",
    "result = number_check(n)\n",
    "print(f\"The given number {n} is {result}\")"
   ]
  },
  {
   "cell_type": "markdown",
   "id": "fea0f800-7604-448d-80eb-df318785b121",
   "metadata": {},
   "source": [
    "2. Create a program that determines if a person is eligible to vote based on their age."
   ]
  },
  {
   "cell_type": "code",
   "execution_count": 15,
   "id": "bc0427bf-6eb6-4ec1-9b9d-0cfcb6d79669",
   "metadata": {},
   "outputs": [
    {
     "name": "stdin",
     "output_type": "stream",
     "text": [
      "Enter your age:  16\n"
     ]
    },
    {
     "name": "stdout",
     "output_type": "stream",
     "text": [
      "You are 16 Years old and you are Not Eligible to give Vote\n"
     ]
    }
   ],
   "source": [
    "def eligibility_check(age):\n",
    "    if age>=18:\n",
    "        return \"Eligible to give Vote\"\n",
    "    else:\n",
    "        return \"Not Eligible to give Vote\"\n",
    "    \n",
    "\n",
    "age = int(input(\"Enter your age: \"))\n",
    "result = eligibility_check(age)\n",
    "print(f\"You are {age} Years old and you are {result}\")"
   ]
  },
  {
   "cell_type": "markdown",
   "id": "78572cf4-fe89-463a-9833-8e6ebb80f1d4",
   "metadata": {},
   "source": [
    "3. Develop a program to find the maximum of two numbers using if-else statements."
   ]
  },
  {
   "cell_type": "code",
   "execution_count": 18,
   "id": "23dada5c-befb-4f62-b53e-75216e3b0ba3",
   "metadata": {},
   "outputs": [
    {
     "name": "stdin",
     "output_type": "stream",
     "text": [
      "Enter first number:  46\n",
      "Enter second number:  28\n"
     ]
    },
    {
     "name": "stdout",
     "output_type": "stream",
     "text": [
      "The greater number between 46 and 28 is: 46\n"
     ]
    }
   ],
   "source": [
    "def check_greater(num1, num2):\n",
    "    if num1 > num2:\n",
    "        return num1\n",
    "    else:\n",
    "        return num2\n",
    "\n",
    "num1 = int(input(\"Enter first number: \"))\n",
    "num2 = int(input(\"Enter second number: \"))\n",
    "result = check_greater(num1, num2)\n",
    "print(f\"The greater number between {num1} and {num2} is: {result}\")"
   ]
  },
  {
   "cell_type": "markdown",
   "id": "6b21dba3-be03-4c93-a638-6ce5b7d02a7f",
   "metadata": {},
   "source": [
    "4. Write a Python script to classify a given year as a leap year or not."
   ]
  },
  {
   "cell_type": "code",
   "execution_count": 21,
   "id": "fbda12ba-e981-4938-827b-c445fec3bc7e",
   "metadata": {},
   "outputs": [
    {
     "name": "stdin",
     "output_type": "stream",
     "text": [
      "Enter year:  2024\n"
     ]
    },
    {
     "name": "stdout",
     "output_type": "stream",
     "text": [
      "This 2024 is leap year\n"
     ]
    }
   ],
   "source": [
    "def check_leap_year(year):\n",
    "    if year % 4 == 0 and (year % 100 != 0 or year % 400 == 0):\n",
    "        return \"leap year\"\n",
    "    else:\n",
    "        return \"Not leap year\"\n",
    "\n",
    "year = int(input(\"Enter year: \"))\n",
    "result = check_leap_year(year)\n",
    "print(f\"This {year} is {result}\")\n"
   ]
  },
  {
   "cell_type": "markdown",
   "id": "4348981e-fd49-4306-ae3d-b0c434550da4",
   "metadata": {},
   "source": [
    "5. Create a program that checks whether a character is a vowel or a consonant."
   ]
  },
  {
   "cell_type": "code",
   "execution_count": 25,
   "id": "ccbe27a1-b389-4bfc-81ef-b8289383a5e2",
   "metadata": {},
   "outputs": [
    {
     "name": "stdin",
     "output_type": "stream",
     "text": [
      "Enter character:  w\n"
     ]
    },
    {
     "name": "stdout",
     "output_type": "stream",
     "text": [
      "The given character w is It is a Consonant\n"
     ]
    }
   ],
   "source": [
    "def check_vowel_consonant(char):\n",
    "    vowels = ['a', 'e', 'i', 'o', 'u']\n",
    "    if char.lower() in vowels:\n",
    "        return \"It is a Vowel\"\n",
    "    else:\n",
    "        return \"It is a Consonant\"\n",
    "\n",
    "char = input(\"Enter character: \")\n",
    "result = check_vowel_consonant(char)\n",
    "print(f\"The given character {char} is {result}\")\n"
   ]
  },
  {
   "cell_type": "markdown",
   "id": "486d9ace-fa96-46e2-b5d9-e935f7ad1ff8",
   "metadata": {},
   "source": [
    "6. Implement a program to determine whether a given number is even or odd."
   ]
  },
  {
   "cell_type": "code",
   "execution_count": 27,
   "id": "b5bbb9ee-af80-4aed-a232-84ced7b0d98e",
   "metadata": {},
   "outputs": [
    {
     "name": "stdin",
     "output_type": "stream",
     "text": [
      "Enter a number:  51\n"
     ]
    },
    {
     "name": "stdout",
     "output_type": "stream",
     "text": [
      "The given number 51 is Odd\n"
     ]
    }
   ],
   "source": [
    "def number_odd_even(n):\n",
    "    if n%2==0:\n",
    "        return \"Even\"\n",
    "    else:\n",
    "        return \"Odd\"\n",
    "    \n",
    "\n",
    "n = int(input(\"Enter a number: \"))\n",
    "result = number_odd_even(n)\n",
    "print(f\"The given number {n} is {result}\")"
   ]
  },
  {
   "cell_type": "markdown",
   "id": "9ff13612-d850-4791-90dd-b630b403affd",
   "metadata": {},
   "source": [
    "7. Write a Python function to calculate the absolute value of a number without using the `abs()` function."
   ]
  },
  {
   "cell_type": "code",
   "execution_count": 29,
   "id": "a55f2f3c-1815-4121-99cd-1adb757e7aef",
   "metadata": {},
   "outputs": [
    {
     "name": "stdin",
     "output_type": "stream",
     "text": [
      "Enter number -5\n"
     ]
    },
    {
     "name": "stdout",
     "output_type": "stream",
     "text": [
      "The abs number of -5 is 5\n"
     ]
    }
   ],
   "source": [
    "def abs_number(n):\n",
    "    if n>=0:\n",
    "        return n\n",
    "    else:\n",
    "        return -n\n",
    "n = int(input(\"Enter number\"))\n",
    "result = abs_number(n)\n",
    "print(f\"The abs number of {n} is {result}\")"
   ]
  },
  {
   "cell_type": "markdown",
   "id": "320e1cdd-f1d5-4380-b0f4-dd71993c13ef",
   "metadata": {},
   "source": [
    "8. Develop a program that determines the largest of three given numbers using if-else statements."
   ]
  },
  {
   "cell_type": "code",
   "execution_count": 31,
   "id": "321f7a7c-3b2a-4edc-b43b-88c43d9ccc6a",
   "metadata": {},
   "outputs": [
    {
     "name": "stdin",
     "output_type": "stream",
     "text": [
      "Enter first number:  4\n",
      "Enter second number:  56\n",
      "Enter third number:  8\n"
     ]
    },
    {
     "name": "stdout",
     "output_type": "stream",
     "text": [
      "The greatest number between 4, 56, and 8 is: 56\n"
     ]
    }
   ],
   "source": [
    "def check_greater(num1, num2, num3):\n",
    "    return max(num1, num2, num3)\n",
    "\n",
    "num1 = int(input(\"Enter first number: \"))\n",
    "num2 = int(input(\"Enter second number: \"))\n",
    "num3 = int(input(\"Enter third number: \"))\n",
    "\n",
    "result = check_greater(num1, num2, num3)\n",
    "print(f\"The greatest number between {num1}, {num2}, and {num3} is: {result}\")\n"
   ]
  },
  {
   "cell_type": "markdown",
   "id": "1e7a63d7-f06d-456a-bcfe-5b02a8fcf260",
   "metadata": {},
   "source": [
    "9. Create a program that checks if a given string is a palindrome."
   ]
  },
  {
   "cell_type": "code",
   "execution_count": 33,
   "id": "193331af-0aa3-4392-a886-5a8d5f935073",
   "metadata": {},
   "outputs": [
    {
     "name": "stdin",
     "output_type": "stream",
     "text": [
      "Enter a string:  hjdfh\n"
     ]
    },
    {
     "name": "stdout",
     "output_type": "stream",
     "text": [
      "The string 'hjdfh' is not a palindrome.\n"
     ]
    }
   ],
   "source": [
    "def is_palindrome(input_str):\n",
    "    cleaned_str = ''.join(char.lower() for char in input_str if char.isalnum())\n",
    "    return cleaned_str == cleaned_str[::-1]\n",
    "\n",
    "def main():\n",
    "    user_input = input(\"Enter a string: \")\n",
    "    if is_palindrome(user_input):\n",
    "        print(f\"The string '{user_input}' is a palindrome.\")\n",
    "    else:\n",
    "        print(f\"The string '{user_input}' is not a palindrome.\")\n",
    "\n",
    "if __name__ == \"__main__\":\n",
    "    main()"
   ]
  },
  {
   "cell_type": "markdown",
   "id": "9479b2eb-a227-41dc-9046-265e5973c600",
   "metadata": {},
   "source": [
    "10. Write a Python program to calculate the grade based on a student's score."
   ]
  },
  {
   "cell_type": "code",
   "execution_count": 1,
   "id": "f88f59c5-e5be-45bc-aa2e-54f9e2a9a5ee",
   "metadata": {},
   "outputs": [
    {
     "name": "stdin",
     "output_type": "stream",
     "text": [
      "Enter the student's score:  68\n"
     ]
    },
    {
     "name": "stdout",
     "output_type": "stream",
     "text": [
      "The Student's Grade is : D.\n"
     ]
    }
   ],
   "source": [
    "def calculate_grade(score):\n",
    "    if 90<= score <= 100:\n",
    "        return 'A'\n",
    "    elif 80<= score < 90:\n",
    "        return 'B'\n",
    "    elif 70<= score < 80:\n",
    "        return 'C'\n",
    "    elif 60<= score < 70:\n",
    "        return 'D'\n",
    "    elif 0<= score < 60:\n",
    "        return 'F'\n",
    "    else:\n",
    "        return \"Invalid Score\"\n",
    "    \n",
    "def main():\n",
    "    try:\n",
    "        score = float(input(\"Enter the student's score: \"))\n",
    "        if 0<=score<=100:\n",
    "            grade = calculate_grade(score)\n",
    "            print(f\"The Student's Grade is : {grade}.\")\n",
    "        else:\n",
    "            print(\"Invalid input! Score must be between 0 and 100.\")\n",
    "    except ValueError:\n",
    "        print(\"Invalid input! Please enter a numeric score.\")\n",
    "if __name__ == \"__main__\":\n",
    "    main()"
   ]
  },
  {
   "cell_type": "markdown",
   "id": "25a02915-f209-4682-a25c-bdef3d18ba04",
   "metadata": {},
   "source": [
    "Nested If-Else Statements:"
   ]
  },
  {
   "cell_type": "markdown",
   "id": "b7323f50-bd44-4250-9393-26de4728175b",
   "metadata": {},
   "source": [
    "11. Write a program to find the largest among three numbers using nested if-else statements."
   ]
  },
  {
   "cell_type": "code",
   "execution_count": 2,
   "id": "ad961dc4-f437-4af3-a87c-b5466afc4546",
   "metadata": {},
   "outputs": [
    {
     "name": "stdin",
     "output_type": "stream",
     "text": [
      "Enter the first number:  6\n",
      "Enter the second number:  12\n",
      "Enter the third number:  9\n"
     ]
    },
    {
     "name": "stdout",
     "output_type": "stream",
     "text": [
      "The largest number among 6.0, 12.0, and 9.0 is : 12.0\n"
     ]
    }
   ],
   "source": [
    "def find_largest(num1,num2,num3):\n",
    "    if num1 >= num2:\n",
    "        if num1 >= num3:\n",
    "            return num1\n",
    "        else:\n",
    "            return num3\n",
    "    else:\n",
    "        if num2>=num3:\n",
    "            return num2\n",
    "        else:\n",
    "            return num3\n",
    "def main():\n",
    "    try:\n",
    "        num1 = float(input(\"Enter the first number: \"))\n",
    "        num2 = float(input(\"Enter the second number: \"))\n",
    "        num3 = float(input(\"Enter the third number: \"))\n",
    "        \n",
    "        largest = find_largest(num1,num2,num3)\n",
    "        print(f\"The largest number among {num1}, {num2}, and {num3} is : {largest}\")\n",
    "    except ValueError:\n",
    "        print(\"Invalid input! Please enter numeric values.\")\n",
    "\n",
    "if __name__ == \"__main__\":\n",
    "    main()"
   ]
  },
  {
   "cell_type": "markdown",
   "id": "2541d7b3-b333-4c8c-9570-ea0bc1cc0408",
   "metadata": {},
   "source": [
    "12. Implement a program to determine if a triangle is equilateral, isosceles, or scalene."
   ]
  },
  {
   "cell_type": "code",
   "execution_count": 6,
   "id": "2859d7d0-5e2a-4ae3-a8eb-2acae0b33ffa",
   "metadata": {},
   "outputs": [
    {
     "name": "stdin",
     "output_type": "stream",
     "text": [
      "Enter the first side:  5\n",
      "Enter the second side:  5\n",
      "Enter the third side:  9\n"
     ]
    },
    {
     "name": "stdout",
     "output_type": "stream",
     "text": [
      "The sides of a triangle is 5.0, 5.0, and 9.0 so it is : Isosceles Triangle\n"
     ]
    }
   ],
   "source": [
    "def triangle_is(side1,side2,side3):\n",
    "    if side1==side2==side3:\n",
    "        return \"Equlateral Triangle\"\n",
    "    elif side1!=side2!=side3:\n",
    "        return \"Scalene Triangle\"\n",
    "    else:\n",
    "        return \"Isosceles Triangle\"\n",
    "\n",
    "\n",
    "def main():\n",
    "    try:\n",
    "        side1 = float(input(\"Enter the first side: \"))\n",
    "        side2 = float(input(\"Enter the second side: \"))\n",
    "        side3 = float(input(\"Enter the third side: \"))\n",
    "    \n",
    "        triangle = triangle_is(side1,side2,side3)\n",
    "        print(f\"The sides of a triangle is {side1}, {side2}, and {side3} so it is : {triangle}\")\n",
    "        \n",
    "    except ValueError:\n",
    "        print(\"Invalid input! Please enter numeric values.\")\n",
    "        \n",
    "if __name__ == \"__main__\":\n",
    "    main()\n",
    "        \n",
    "    \n",
    "    \n",
    "    "
   ]
  },
  {
   "cell_type": "markdown",
   "id": "f60761e0-b0a6-414d-8ec9-1025c0caed0b",
   "metadata": {},
   "source": [
    "13. Develop a program that checks if a year is a leap year and also if it is a century year."
   ]
  },
  {
   "cell_type": "code",
   "execution_count": 4,
   "id": "952057d4-efa2-4fa1-8352-93debf6f47d3",
   "metadata": {},
   "outputs": [
    {
     "name": "stdin",
     "output_type": "stream",
     "text": [
      "Enter the year:  2000\n"
     ]
    },
    {
     "name": "stdout",
     "output_type": "stream",
     "text": [
      "The year 2000 is: Leap Year and Century Year\n"
     ]
    }
   ],
   "source": [
    "def check_leap_year(year):\n",
    "    if (year % 4 == 0 and year % 100 != 0) or (year % 400 == 0):\n",
    "        return \"Leap Year\"\n",
    "    else:\n",
    "        return \"Not a Leap Year\"\n",
    "\n",
    "def check_century_year(year):\n",
    "    if year % 100 == 0:\n",
    "        return \"Century Year\"\n",
    "    else:\n",
    "        return \"Not a Century Year\"\n",
    "\n",
    "def main():\n",
    "    try:\n",
    "        year = int(input(\"Enter the year: \"))\n",
    "        \n",
    "        leap_year_result = check_leap_year(year)\n",
    "        century_year_result = check_century_year(year)\n",
    "        \n",
    "        print(f\"The year {year} is: {leap_year_result} and {century_year_result}\")\n",
    "        \n",
    "    except ValueError:\n",
    "        print(\"Invalid input! Please enter a valid numeric year.\")\n",
    "\n",
    "if __name__ == \"__main__\":\n",
    "    main()\n"
   ]
  },
  {
   "cell_type": "markdown",
   "id": "d76c1963-0853-4fd5-82ca-82dd076e8ffe",
   "metadata": {},
   "source": [
    "14. Write a Python script to determine if a number is positive, negative, or zero."
   ]
  },
  {
   "cell_type": "code",
   "execution_count": 5,
   "id": "13a5ff01-842a-443f-b6cb-4c8fc63ba3d2",
   "metadata": {},
   "outputs": [
    {
     "name": "stdin",
     "output_type": "stream",
     "text": [
      "Enter a number:  -6\n"
     ]
    },
    {
     "name": "stdout",
     "output_type": "stream",
     "text": [
      "The number -6.0 is Negative.\n"
     ]
    }
   ],
   "source": [
    "def check_number(number):\n",
    "    if number > 0:\n",
    "        return \"Positive\"\n",
    "    elif number < 0:\n",
    "        return \"Negative\"\n",
    "    else:\n",
    "        return \"Zero\"\n",
    "\n",
    "def main():\n",
    "    try:\n",
    "        number = float(input(\"Enter a number: \"))\n",
    "        result = check_number(number)\n",
    "        print(f\"The number {number} is {result}.\")\n",
    "    except ValueError:\n",
    "        print(\"Invalid input! Please enter a valid numeric value.\")\n",
    "\n",
    "if __name__ == \"__main__\":\n",
    "    main()"
   ]
  },
  {
   "cell_type": "markdown",
   "id": "dfb91926-89c8-4656-af5a-196381d5c938",
   "metadata": {},
   "source": [
    "15. Create a program to check if a person is a teenager (between 13 and 19 years old)."
   ]
  },
  {
   "cell_type": "code",
   "execution_count": 8,
   "id": "c80fd419-3c82-4467-a5ee-be953e3e8964",
   "metadata": {},
   "outputs": [
    {
     "name": "stdin",
     "output_type": "stream",
     "text": [
      "Enter Year:  18\n"
     ]
    },
    {
     "name": "stdout",
     "output_type": "stream",
     "text": [
      "The Person 18  Years old is Teenager.\n"
     ]
    }
   ],
   "source": [
    "def check_person(year):\n",
    "    if 13<=year<=19:\n",
    "        return \"Teenager\"\n",
    "    else:\n",
    "        return \"Not Teenager\"\n",
    "\n",
    "def main():\n",
    "    try:\n",
    "        year = int(input(\"Enter Year: \"))\n",
    "        result = check_person(year)\n",
    "        print(f\"The Person {year}  Years old is {result}.\")\n",
    "    except ValueError:\n",
    "        print(\"Invalid input! Please enter a valid numeric value.\")\n",
    "\n",
    "if __name__ == \"__main__\":\n",
    "    main()"
   ]
  },
  {
   "cell_type": "markdown",
   "id": "eb1fec68-d0af-4dad-ac79-5a9e7a35b1ba",
   "metadata": {},
   "source": [
    "16. Develop a program that determines the type of angle based on its measure (acute, obtuse, or right)."
   ]
  },
  {
   "cell_type": "code",
   "execution_count": 12,
   "id": "d65bed51-b4dc-4cb0-93c1-2dcb2cc4e395",
   "metadata": {},
   "outputs": [
    {
     "name": "stdin",
     "output_type": "stream",
     "text": [
      "Enter the first angle:  12\n",
      "Enter the second angle:  65\n",
      "Enter the third angle:  3\n"
     ]
    },
    {
     "name": "stdout",
     "output_type": "stream",
     "text": [
      "The angle of a triangle is 12.0, 65.0, and 3.0 and total sum is 80.0 so it is : Acute Angle Triangle\n"
     ]
    }
   ],
   "source": [
    "def triangle_is(angle1, angle2,angle3):\n",
    "    if angle1+angle2+angle3<90:\n",
    "        return \"Acute Angle Triangle\"\n",
    "    elif angle1+angle2+angle3==90:\n",
    "        return \"Right Angle Triangle\"\n",
    "    elif 90<angle1+angle2+angle3<180:\n",
    "        return \"Obtuse Angle Triangle\"\n",
    "\n",
    "\n",
    "def main():\n",
    "    try:\n",
    "        angle1 = float(input(\"Enter the first angle: \"))\n",
    "        angle2 = float(input(\"Enter the second angle: \"))\n",
    "        angle3 = float(input(\"Enter the third angle: \"))\n",
    "    \n",
    "        triangle = triangle_is(angle1, angle2,angle3)\n",
    "        sum1 = angle1+angle2+angle3\n",
    "        print(f\"The angle of a triangle is {angle1}, {angle2}, and {angle3} and total sum is {sum1} so it is : {triangle}\")\n",
    "        \n",
    "    except ValueError:\n",
    "        print(\"Invalid input! Please enter numeric values.\")\n",
    "        \n",
    "if __name__ == \"__main__\":\n",
    "    main()\n",
    "        \n",
    "    "
   ]
  },
  {
   "cell_type": "markdown",
   "id": "4bd6c761-7dcb-4471-bb90-defbbe8bed2b",
   "metadata": {},
   "source": [
    "17. Write a Python program to calculate the roots of a quadratic equation."
   ]
  },
  {
   "cell_type": "code",
   "execution_count": 13,
   "id": "fca92e52-014c-43d2-bbe7-ec4d5c48a8b2",
   "metadata": {},
   "outputs": [
    {
     "name": "stdin",
     "output_type": "stream",
     "text": [
      "Enter the coefficient a:  5\n",
      "Enter the coefficient b:  3\n",
      "Enter the coefficient c:  8\n"
     ]
    },
    {
     "name": "stdout",
     "output_type": "stream",
     "text": [
      "('Complex roots:', '-0.3 + 1.2288205727444508i', 'and', '-0.3 - 1.2288205727444508i')\n"
     ]
    }
   ],
   "source": [
    "import math\n",
    "\n",
    "def calculate_roots(a, b, c):\n",
    "    discriminant = b**2 - 4*a*c\n",
    "\n",
    "    if discriminant > 0:\n",
    "        root1 = (-b + math.sqrt(discriminant)) / (2*a)\n",
    "        root2 = (-b - math.sqrt(discriminant)) / (2*a)\n",
    "        return \"Two distinct real roots:\", root1, \"and\", root2\n",
    "    elif discriminant == 0:\n",
    "        root = -b / (2*a)\n",
    "        return \"One real root:\", root\n",
    "    else:\n",
    "        real_part = -b / (2*a)\n",
    "        imaginary_part = math.sqrt(abs(discriminant)) / (2*a)\n",
    "        return \"Complex roots:\", f\"{real_part} + {imaginary_part}i\", \"and\", f\"{real_part} - {imaginary_part}i\"\n",
    "\n",
    "def main():\n",
    "    try:\n",
    "        a = float(input(\"Enter the coefficient a: \"))\n",
    "        b = float(input(\"Enter the coefficient b: \"))\n",
    "        c = float(input(\"Enter the coefficient c: \"))\n",
    "        \n",
    "        result = calculate_roots(a, b, c)\n",
    "        print(result)\n",
    "        \n",
    "    except ValueError:\n",
    "        print(\"Invalid input! Please enter valid numeric coefficients.\")\n",
    "\n",
    "if __name__ == \"__main__\":\n",
    "    main()\n"
   ]
  },
  {
   "cell_type": "markdown",
   "id": "c088e1fe-6330-491b-bc12-aa7dc2cfc105",
   "metadata": {},
   "source": [
    "18. Implement a program to determine the day of the week based on a user-provided number (1 for Monday, 2\n",
    "for Tuesday, etc.)."
   ]
  },
  {
   "cell_type": "code",
   "execution_count": 15,
   "id": "3ffa8f92-9868-4da6-b47b-1e9c6f24906c",
   "metadata": {},
   "outputs": [
    {
     "name": "stdin",
     "output_type": "stream",
     "text": [
      "Enter a number (1 for Monday, 2 for Tuesday, etc.):  5\n"
     ]
    },
    {
     "name": "stdout",
     "output_type": "stream",
     "text": [
      "The day of the week is: Friday\n"
     ]
    }
   ],
   "source": [
    "def get_day_of_week(day_number):\n",
    "    days_of_week = [\"Monday\", \"Tuesday\", \"Wednesday\", \"Thursday\", \"Friday\", \"Saturday\", \"Sunday\"]\n",
    "\n",
    "    if 1 <= day_number <= 7:\n",
    "        return days_of_week[day_number - 1]\n",
    "    else:\n",
    "        return \"Invalid day number\"\n",
    "\n",
    "def main():\n",
    "    try:\n",
    "        day_number = int(input(\"Enter a number (1 for Monday, 2 for Tuesday, etc.): \"))\n",
    "        result = get_day_of_week(day_number)\n",
    "        print(f\"The day of the week is: {result}\")\n",
    "    except ValueError:\n",
    "        print(\"Invalid input! Please enter a valid numeric day number.\")\n",
    "\n",
    "if __name__ == \"__main__\":\n",
    "    main()\n"
   ]
  },
  {
   "cell_type": "markdown",
   "id": "22106b4c-4295-40f6-978c-e9e4ac2ae600",
   "metadata": {},
   "source": [
    "19. Create a program that determines if a year is a leap year and also if it is evenly divisible by 400."
   ]
  },
  {
   "cell_type": "code",
   "execution_count": 17,
   "id": "73bd29c4-576d-4438-bd53-6333a03d7f6d",
   "metadata": {},
   "outputs": [
    {
     "name": "stdin",
     "output_type": "stream",
     "text": [
      "Enter the year:  2024\n"
     ]
    },
    {
     "name": "stdout",
     "output_type": "stream",
     "text": [
      "The year 2024 is: Leap Year and Not a 4Century Year\n"
     ]
    }
   ],
   "source": [
    "def check_leap_year(year):\n",
    "    if (year % 4 == 0 and year % 100 != 0) or (year % 400 == 0):\n",
    "        return \"Leap Year\"\n",
    "    else:\n",
    "        return \"Not a Leap Year\"\n",
    "\n",
    "def check_4century_year(year):\n",
    "    if year % 400 == 0:\n",
    "        return \"4Century Year\"\n",
    "    else:\n",
    "        return \"Not a 4Century Year\"\n",
    "\n",
    "def main():\n",
    "    try:\n",
    "        year = int(input(\"Enter the year: \"))\n",
    "        \n",
    "        leap_year_result = check_leap_year(year)\n",
    "        century_year_result = check_4century_year(year)\n",
    "        \n",
    "        print(f\"The year {year} is: {leap_year_result} and {century_year_result}\")\n",
    "        \n",
    "    except ValueError:\n",
    "        print(\"Invalid input! Please enter a valid numeric year.\")\n",
    "\n",
    "if __name__ == \"__main__\":\n",
    "    main()\n"
   ]
  },
  {
   "cell_type": "markdown",
   "id": "ac2d8885-0d38-468b-be64-9a0a946babf6",
   "metadata": {},
   "source": [
    "20. Develop a program that checks if a given number is prime or not using nested if-else statements."
   ]
  },
  {
   "cell_type": "code",
   "execution_count": 20,
   "id": "66c209a0-3b2a-44e6-ad8a-658240c9d24d",
   "metadata": {},
   "outputs": [
    {
     "name": "stdin",
     "output_type": "stream",
     "text": [
      "Enter a number:  6\n"
     ]
    },
    {
     "name": "stdout",
     "output_type": "stream",
     "text": [
      "6 is not a prime number\n"
     ]
    }
   ],
   "source": [
    "def is_prime(number):\n",
    "    if number > 1:\n",
    "        for i in range(2, int(number**0.5)+1):\n",
    "            if number%i==0:\n",
    "                return f\"{number} is not a prime number\"\n",
    "        else:\n",
    "            return f\"{number} is a prime number\"\n",
    "    else:\n",
    "        return f\"{number} is not a prime number\"\n",
    "    \n",
    "\n",
    "def main():\n",
    "    try:\n",
    "        num = int(input(\"Enter a number: \"))\n",
    "        result = is_prime(num)\n",
    "        print(result)\n",
    "    except ValueError:\n",
    "        print(\"Invalid input! Please enter a valid numeric value.\")\n",
    "        \n",
    "if __name__ == \"__main__\":\n",
    "    main()"
   ]
  },
  {
   "cell_type": "markdown",
   "id": "253d0717-492e-45ee-af9e-77b200341e7d",
   "metadata": {},
   "source": [
    "Elif Statements:"
   ]
  },
  {
   "cell_type": "markdown",
   "id": "087d1fe1-2fc9-4c35-ba5a-24018720e827",
   "metadata": {},
   "source": [
    "21. Write a Python program to assign grades based on different ranges of scores using elif statements."
   ]
  },
  {
   "cell_type": "code",
   "execution_count": 21,
   "id": "8eca17c9-0722-4ebb-acc5-86a4be87908e",
   "metadata": {},
   "outputs": [
    {
     "name": "stdin",
     "output_type": "stream",
     "text": [
      "Enter the student's score:  85\n"
     ]
    },
    {
     "name": "stdout",
     "output_type": "stream",
     "text": [
      "The student's grade is: B\n"
     ]
    }
   ],
   "source": [
    "def assign_grade(score):\n",
    "    if 90 <= score <= 100:\n",
    "        return 'A'\n",
    "    elif 80 <= score < 90:\n",
    "        return 'B'\n",
    "    elif 70 <= score < 80:\n",
    "        return 'C'\n",
    "    elif 60 <= score < 70:\n",
    "        return 'D'\n",
    "    elif 0 <= score < 60:\n",
    "        return 'F'\n",
    "    else:\n",
    "        return 'Invalid Score'\n",
    "\n",
    "def main():\n",
    "    try:\n",
    "        score = float(input(\"Enter the student's score: \"))\n",
    "        if 0 <= score <= 100:\n",
    "            grade = assign_grade(score)\n",
    "            print(f\"The student's grade is: {grade}\")\n",
    "        else:\n",
    "            print(\"Invalid input! Score must be between 0 and 100.\")\n",
    "    except ValueError:\n",
    "        print(\"Invalid input! Please enter a numeric score.\")\n",
    "\n",
    "if __name__ == \"__main__\":\n",
    "    main()\n"
   ]
  },
  {
   "cell_type": "markdown",
   "id": "b8e85f20-e849-4dce-b1cd-813d71005ab9",
   "metadata": {},
   "source": [
    "22. Implement a program to determine the type of a triangle based on its angles."
   ]
  },
  {
   "cell_type": "code",
   "execution_count": 23,
   "id": "7e1986f3-822f-47b7-b505-5472d84fcda0",
   "metadata": {},
   "outputs": [
    {
     "name": "stdin",
     "output_type": "stream",
     "text": [
      "Enter the first angle:  45\n",
      "Enter the second angle:  45\n",
      "Enter the third angle:  90\n"
     ]
    },
    {
     "name": "stdout",
     "output_type": "stream",
     "text": [
      "The triangle with angles 45, 45, and 90 is a: Isosceles Triangle\n"
     ]
    }
   ],
   "source": [
    "def triangle_type(angle1, angle2, angle3):\n",
    "    if angle1 + angle2 + angle3 == 180:\n",
    "        if angle1 == angle2 == angle3 == 60:\n",
    "            return \"Equilateral Triangle\"\n",
    "        elif angle1 == angle2 or angle1 == angle3 or angle2 == angle3:\n",
    "            return \"Isosceles Triangle\"\n",
    "        else:\n",
    "            return \"Scalene Triangle\"\n",
    "    else:\n",
    "        return \"Invalid Triangle\"\n",
    "\n",
    "def main():\n",
    "    try:\n",
    "        angle1 = int(input(\"Enter the first angle: \"))\n",
    "        angle2 = int(input(\"Enter the second angle: \"))\n",
    "        angle3 = int(input(\"Enter the third angle: \"))\n",
    "        \n",
    "        result = triangle_type(angle1, angle2, angle3)\n",
    "        print(f\"The triangle with angles {angle1}, {angle2}, and {angle3} is a: {result}\")\n",
    "    except ValueError:\n",
    "        print(\"Invalid input! Please enter valid numeric angles.\")\n",
    "\n",
    "if __name__ == \"__main__\":\n",
    "    main()\n"
   ]
  },
  {
   "cell_type": "markdown",
   "id": "118028f4-7b1d-4c92-8fe3-73f030bbe1b8",
   "metadata": {},
   "source": [
    "23. Develop a program to categorize a given person's BMI into underweight, normal, overweight, or obese using\n",
    "elif statements."
   ]
  },
  {
   "cell_type": "code",
   "execution_count": 25,
   "id": "994b04ab-7a7a-4829-87ac-342a0a79b130",
   "metadata": {},
   "outputs": [
    {
     "name": "stdin",
     "output_type": "stream",
     "text": [
      "Enter weight in kilograms:  74\n",
      "Enter height in meters:  1.74\n"
     ]
    },
    {
     "name": "stdout",
     "output_type": "stream",
     "text": [
      "The BMI is 24.44, and the person is categorized as: Normal Weight\n"
     ]
    }
   ],
   "source": [
    "def calculate_bmi(weight, height):\n",
    "    bmi = weight / (height ** 2)\n",
    "    return bmi\n",
    "\n",
    "def categorize_bmi(bmi):\n",
    "    if bmi < 18.5:\n",
    "        return \"Underweight\"\n",
    "    elif 18.5 <= bmi < 24.9:\n",
    "        return \"Normal Weight\"\n",
    "    elif 25 <= bmi < 29.9:\n",
    "        return \"Overweight\"\n",
    "    else:\n",
    "        return \"Obese\"\n",
    "\n",
    "def main():\n",
    "    try:\n",
    "        weight = float(input(\"Enter weight in kilograms: \"))\n",
    "        height = float(input(\"Enter height in meters: \"))\n",
    "        \n",
    "        if weight > 0 and height > 0:\n",
    "            bmi = calculate_bmi(weight, height)\n",
    "            category = categorize_bmi(bmi)\n",
    "            print(f\"The BMI is {bmi:.2f}, and the person is categorized as: {category}\")\n",
    "        else:\n",
    "            print(\"Invalid input! Weight and height must be positive numbers.\")\n",
    "    except ValueError:\n",
    "        print(\"Invalid input! Please enter valid numeric values for weight and height.\")\n",
    "\n",
    "if __name__ == \"__main__\":\n",
    "    main()\n"
   ]
  },
  {
   "cell_type": "markdown",
   "id": "e019ca00-336a-4e8d-acba-4d41dbb8955d",
   "metadata": {},
   "source": [
    "24. Create a program that determines whether a given number is positive, negative, or zero using elif\n",
    "statements."
   ]
  },
  {
   "cell_type": "code",
   "execution_count": 26,
   "id": "7a3b2e43-e62c-416f-81ef-a01cf1e0cdb5",
   "metadata": {},
   "outputs": [
    {
     "name": "stdin",
     "output_type": "stream",
     "text": [
      "Enter a number:  5\n"
     ]
    },
    {
     "name": "stdout",
     "output_type": "stream",
     "text": [
      "The number 5.0 is Positive.\n"
     ]
    }
   ],
   "source": [
    "def check_number_type(number):\n",
    "    if number > 0:\n",
    "        return \"Positive\"\n",
    "    elif number < 0:\n",
    "        return \"Negative\"\n",
    "    else:\n",
    "        return \"Zero\"\n",
    "\n",
    "def main():\n",
    "    try:\n",
    "        number = float(input(\"Enter a number: \"))\n",
    "        result = check_number_type(number)\n",
    "        print(f\"The number {number} is {result}.\")\n",
    "    except ValueError:\n",
    "        print(\"Invalid input! Please enter a valid numeric value.\")\n",
    "\n",
    "if __name__ == \"__main__\":\n",
    "    main()\n"
   ]
  },
  {
   "cell_type": "markdown",
   "id": "97894b3f-0c8f-483b-952f-cc0bfc8a9722",
   "metadata": {},
   "source": [
    "25. Write a Python script to determine the type of a character (uppercase, lowercase, or special) using elif\n",
    "statements."
   ]
  },
  {
   "cell_type": "code",
   "execution_count": 28,
   "id": "788d10e8-e265-45fb-8613-f068e7241a64",
   "metadata": {},
   "outputs": [
    {
     "name": "stdin",
     "output_type": "stream",
     "text": [
      "Enter a character:  A\n"
     ]
    },
    {
     "name": "stdout",
     "output_type": "stream",
     "text": [
      "The character 'A' is Uppercase.\n"
     ]
    }
   ],
   "source": [
    "def character_type(char):\n",
    "    if char.isupper():\n",
    "        return \"Uppercase\"\n",
    "    elif char.islower():\n",
    "        return \"Lowercase\"\n",
    "    elif char.isalnum():\n",
    "        return \"Numeric\"\n",
    "    else:\n",
    "        return \"Special Character\"\n",
    "    \n",
    "def main():\n",
    "    try:\n",
    "        char = input(\"Enter a character: \")\n",
    "        if len(char) == 1:\n",
    "            result = character_type(char)\n",
    "            print(f\"The character '{char}' is {result}.\")\n",
    "        else:\n",
    "            print(\"Invalid input! Please Enter a Single character.\")\n",
    "        \n",
    "    except ValueError:\n",
    "        print(\"Invalid input! Please enter a valid character.\")\n",
    "\n",
    "if __name__ == \"__main__\":\n",
    "    main()"
   ]
  },
  {
   "cell_type": "markdown",
   "id": "354e3c0d-d23a-4f43-a58f-ac7f33c42758",
   "metadata": {},
   "source": [
    "26. Implement a program to calculate the discounted price based on different purchase amounts using elif\n",
    "statements."
   ]
  },
  {
   "cell_type": "code",
   "execution_count": 1,
   "id": "f0630a1e-15a2-40d4-b2a2-35b240c6519d",
   "metadata": {},
   "outputs": [
    {
     "name": "stdin",
     "output_type": "stream",
     "text": [
      "Enter the purchase amount:  5600\n"
     ]
    },
    {
     "name": "stdout",
     "output_type": "stream",
     "text": [
      "The discounted price for a purchase of $5600.00 is: $4760.00\n"
     ]
    }
   ],
   "source": [
    "def calculate_discounted_price(purchase_amount):\n",
    "    if purchase_amount >= 500:\n",
    "        discount_rate = 0.15\n",
    "    elif purchase_amount >= 200:\n",
    "        discount_rate = 0.1\n",
    "    elif purchase_amount >= 100:\n",
    "        discount_rate = 0.05\n",
    "    else:\n",
    "        discount_rate = 0.0\n",
    "\n",
    "    discounted_price = purchase_amount - (purchase_amount * discount_rate)\n",
    "    return discounted_price\n",
    "\n",
    "def main():\n",
    "    try:\n",
    "        purchase_amount = float(input(\"Enter the purchase amount: \"))\n",
    "        if purchase_amount >= 0:\n",
    "            discounted_price = calculate_discounted_price(purchase_amount)\n",
    "            print(f\"The discounted price for a purchase of ${purchase_amount:.2f} is: ${discounted_price:.2f}\")\n",
    "        else:\n",
    "            print(\"Invalid input! Purchase amount must be a non-negative number.\")\n",
    "    except ValueError:\n",
    "        print(\"Invalid input! Please enter a valid numeric purchase amount.\")\n",
    "\n",
    "if __name__ == \"__main__\":\n",
    "    main()"
   ]
  },
  {
   "cell_type": "markdown",
   "id": "75ed5e57-224d-4478-88c7-779cc6ed6608",
   "metadata": {},
   "source": [
    "27. Develop a program to calculate the electricity bill based on different consumption slabs using elif\n",
    "statements."
   ]
  },
  {
   "cell_type": "code",
   "execution_count": 2,
   "id": "db0bf8b4-b003-44b2-8e48-5597d3fd272e",
   "metadata": {},
   "outputs": [
    {
     "name": "stdin",
     "output_type": "stream",
     "text": [
      "Enter the units of electricity consumed:  850\n"
     ]
    },
    {
     "name": "stdout",
     "output_type": "stream",
     "text": [
      "The electricity bill for 850.0 units is: $4880.00\n"
     ]
    }
   ],
   "source": [
    "def calculate_electricity_bill(units_consumed):\n",
    "    if units_consumed <= 50:\n",
    "        bill_amount = units_consumed * 2.50\n",
    "    elif units_consumed <= 150:\n",
    "        bill_amount = 50 * 2.50 + (units_consumed - 50) * 4.00\n",
    "    elif units_consumed <= 300:\n",
    "        bill_amount = 50 * 2.50 + 100 * 4.00 + (units_consumed - 150) * 5.20\n",
    "    else:\n",
    "        bill_amount = 50 * 2.50 + 100 * 4.00 + 150 * 5.20 + (units_consumed - 300) * 6.50\n",
    "\n",
    "    return bill_amount\n",
    "\n",
    "def main():\n",
    "    try:\n",
    "        units_consumed = float(input(\"Enter the units of electricity consumed: \"))\n",
    "        if units_consumed >= 0:\n",
    "            bill_amount = calculate_electricity_bill(units_consumed)\n",
    "            print(f\"The electricity bill for {units_consumed} units is: ${bill_amount:.2f}\")\n",
    "        else:\n",
    "            print(\"Invalid input! Units consumed must be a non-negative number.\")\n",
    "    except ValueError:\n",
    "        print(\"Invalid input! Please enter a valid numeric value for units consumed.\")\n",
    "\n",
    "if __name__ == \"__main__\":\n",
    "    main()\n"
   ]
  },
  {
   "cell_type": "markdown",
   "id": "b6ce23a6-174b-4b4d-81f6-0ba207904b5f",
   "metadata": {},
   "source": [
    "28. Create a program to determine the type of quadrilateral based on its angles and sides using elif\n",
    "statements."
   ]
  },
  {
   "cell_type": "code",
   "execution_count": 4,
   "id": "38e3ece5-701d-4097-9ea4-50ce4c205e5f",
   "metadata": {},
   "outputs": [
    {
     "name": "stdin",
     "output_type": "stream",
     "text": [
      "Enter angle 1:  90\n",
      "Enter angle 2:  90\n",
      "Enter angle 3:  90\n",
      "Enter angle 4:  90\n",
      "Enter side 1 length:  15\n",
      "Enter side 2 length:  12\n",
      "Enter side 3 length:  15\n",
      "Enter side 4 length:  12\n"
     ]
    },
    {
     "name": "stdout",
     "output_type": "stream",
     "text": [
      "The quadrilateral is a Rectangle\n"
     ]
    }
   ],
   "source": [
    "def determine_quadrilateral_type(angles, sides):\n",
    "    if sum(angles) == 360:\n",
    "        if len(set(angles)) == 1 and len(set(sides)) == 1:\n",
    "            return \"Square\"\n",
    "        elif len(set(angles)) == 1 and len(set(sides)) == 2:\n",
    "            return \"Rectangle\"\n",
    "        elif len(set(angles)) == 2 and len(set(sides)) == 2:\n",
    "            return \"Rhombus\"\n",
    "        elif len(set(angles)) == 2 and len(set(sides)) == 4:\n",
    "            return \"Parallelogram\"\n",
    "        elif len(set(angles)) == 4 and len(set(sides)) == 4:\n",
    "            return \"Quadrilateral\"\n",
    "        else:\n",
    "            return \"Irregular Quadrilateral\"\n",
    "    else:\n",
    "        return \"Invalid Quadrilateral\"\n",
    "\n",
    "def main():\n",
    "    try:\n",
    "        angles = [int(input(f\"Enter angle {i + 1}: \")) for i in range(4)]\n",
    "        sides = [int(input(f\"Enter side {i + 1} length: \")) for i in range(4)]\n",
    "        \n",
    "        result = determine_quadrilateral_type(angles, sides)\n",
    "        print(f\"The quadrilateral is a {result}\")\n",
    "    except ValueError:\n",
    "        print(\"Invalid input! Please enter valid numeric values for angles and sides.\")\n",
    "\n",
    "if __name__ == \"__main__\":\n",
    "    main()\n"
   ]
  },
  {
   "cell_type": "markdown",
   "id": "3fa3f2cb-beb8-4442-b45c-83706e9a2bf7",
   "metadata": {},
   "source": [
    "29. Write a Python script to determine the season based on a user-provided month using elif statements."
   ]
  },
  {
   "cell_type": "code",
   "execution_count": 5,
   "id": "af409d17-1f66-41f4-80bc-5006477199e7",
   "metadata": {},
   "outputs": [
    {
     "name": "stdin",
     "output_type": "stream",
     "text": [
      "Enter a month (1-12):  6\n"
     ]
    },
    {
     "name": "stdout",
     "output_type": "stream",
     "text": [
      "The season for month 6 is: Summer\n"
     ]
    }
   ],
   "source": [
    "def determine_season(month):\n",
    "    if month in [12, 1, 2]:\n",
    "        return \"Winter\"\n",
    "    elif month in [3, 4, 5]:\n",
    "        return \"Spring\"\n",
    "    elif month in [6, 7, 8]:\n",
    "        return \"Summer\"\n",
    "    elif month in [9, 10, 11]:\n",
    "        return \"Fall\"\n",
    "    else:\n",
    "        return \"Invalid Month\"\n",
    "\n",
    "def main():\n",
    "    try:\n",
    "        month = int(input(\"Enter a month (1-12): \"))\n",
    "        if 1 <= month <= 12:\n",
    "            result = determine_season(month)\n",
    "            print(f\"The season for month {month} is: {result}\")\n",
    "        else:\n",
    "            print(\"Invalid input! Please enter a month between 1 and 12.\")\n",
    "    except ValueError:\n",
    "        print(\"Invalid input! Please enter a valid numeric month.\")\n",
    "\n",
    "if __name__ == \"__main__\":\n",
    "    main()\n"
   ]
  },
  {
   "cell_type": "markdown",
   "id": "f02e14b0-a3aa-417d-ae00-09b2686ba54d",
   "metadata": {},
   "source": [
    "30. Implement a program to determine the type of a year (leap or common) and month (30 or 31 days) using\n",
    "elif statements."
   ]
  },
  {
   "cell_type": "code",
   "execution_count": 7,
   "id": "09689936-2175-44b4-b040-aa299716ab12",
   "metadata": {},
   "outputs": [
    {
     "name": "stdin",
     "output_type": "stream",
     "text": [
      "Enter a Year:  5\n",
      "Enter a month (1-12):  6\n"
     ]
    },
    {
     "name": "stdout",
     "output_type": "stream",
     "text": [
      "The year 5 is a Common year, and the month 6 has 30 days.\n"
     ]
    }
   ],
   "source": [
    "def is_leap_year(year):\n",
    "    if (year%4 == 0 and year%100 !=0) or (year%400==0):\n",
    "        return True\n",
    "    \n",
    "    else:\n",
    "        return False\n",
    "    \n",
    "def days_in_month(month, year):\n",
    "    if month in [1,3,5,7,8,10,12]:\n",
    "        return 31\n",
    "    elif month in [4,6,9,11]:\n",
    "        return 30\n",
    "    elif month == 2:\n",
    "        return 29 if is_leap_year(year) else 28\n",
    "    else:\n",
    "        return -1\n",
    "    \n",
    "def main():\n",
    "    try:\n",
    "        year = int(input(\"Enter a Year: \"))\n",
    "        month = int(input(\"Enter a month (1-12): \"))\n",
    "        if 1 <= month <= 12:\n",
    "            leap_year_result = \"Leap\" if is_leap_year(year) else \"Common\"\n",
    "            days = days_in_month(month, year)\n",
    "            \n",
    "            if days == -1:\n",
    "                print(\"Invalid month!\")\n",
    "            else:\n",
    "                print(f\"The year {year} is a {leap_year_result} year, and the month {month} has {days} days.\")\n",
    "        else:\n",
    "            print(\"Invalid input! Please enter a month between 1 and 12.\")\n",
    "    except ValueError:\n",
    "        print(\"Invalid input! Please enter valid numeric values for year and month.\")\n",
    "\n",
    "if __name__ == \"__main__\":\n",
    "    main() \n",
    "        "
   ]
  },
  {
   "cell_type": "raw",
   "id": "9245f7d0-6e4d-444c-87b8-25d98cd10d52",
   "metadata": {},
   "source": [
    "#Assignment QUestions:\n",
    "#Basic Level : - "
   ]
  },
  {
   "cell_type": "markdown",
   "id": "b5e8086a-e024-4118-9afc-61b688d3017f",
   "metadata": {},
   "source": [
    "1. Write a Python program that checks if a given number is positive, negative, or zero."
   ]
  },
  {
   "cell_type": "code",
   "execution_count": 8,
   "id": "1aef9f16-0c16-488b-a80b-1e7ac88ddd05",
   "metadata": {},
   "outputs": [
    {
     "name": "stdin",
     "output_type": "stream",
     "text": [
      "Enter a number:  6\n"
     ]
    },
    {
     "name": "stdout",
     "output_type": "stream",
     "text": [
      "The number 6.0 is Positive.\n"
     ]
    }
   ],
   "source": [
    "def check_number_type(number):\n",
    "    if number > 0:\n",
    "        return \"Positive\"\n",
    "    elif number < 0:\n",
    "        return \"Negative\"\n",
    "    else:\n",
    "        return \"Zero\"\n",
    "\n",
    "def main():\n",
    "    try:\n",
    "        number = float(input(\"Enter a number: \"))\n",
    "        result = check_number_type(number)\n",
    "        print(f\"The number {number} is {result}.\")\n",
    "    except ValueError:\n",
    "        print(\"Invalid input! Please enter a valid numeric value.\")\n",
    "\n",
    "if __name__ == \"__main__\":\n",
    "    main()\n"
   ]
  },
  {
   "cell_type": "markdown",
   "id": "8afebb2b-3a22-47ee-aaaa-8053c8074803",
   "metadata": {},
   "source": [
    "2. Create a program to determine if a person is eligible to vote based on their age."
   ]
  },
  {
   "cell_type": "code",
   "execution_count": 9,
   "id": "1ca9a349-94aa-4947-a11a-d495731b09b5",
   "metadata": {},
   "outputs": [
    {
     "name": "stdin",
     "output_type": "stream",
     "text": [
      "Enter your age:  56\n"
     ]
    },
    {
     "name": "stdout",
     "output_type": "stream",
     "text": [
      "You are Eligible to vote.\n"
     ]
    }
   ],
   "source": [
    "def check_voting_eligibility(age):\n",
    "    if age >= 18:\n",
    "        return \"Eligible to vote\"\n",
    "    else:\n",
    "        return \"Not eligible to vote\"\n",
    "\n",
    "def main():\n",
    "    try:\n",
    "        age = int(input(\"Enter your age: \"))\n",
    "        result = check_voting_eligibility(age)\n",
    "        print(f\"You are {result}.\")\n",
    "    except ValueError:\n",
    "        print(\"Invalid input! Please enter a valid numeric age.\")\n",
    "\n",
    "if __name__ == \"__main__\":\n",
    "    main()\n"
   ]
  },
  {
   "cell_type": "markdown",
   "id": "dcbe0e37-2dbb-4795-b6a8-9221e19c3176",
   "metadata": {},
   "source": [
    "3. Write a program to find the maximum of two given numbers using conditional statements."
   ]
  },
  {
   "cell_type": "code",
   "execution_count": 10,
   "id": "00fd7a55-e050-4383-b863-79e7a0c955c5",
   "metadata": {},
   "outputs": [
    {
     "name": "stdin",
     "output_type": "stream",
     "text": [
      "Enter the first number:  56\n",
      "Enter the second number:  23\n"
     ]
    },
    {
     "name": "stdout",
     "output_type": "stream",
     "text": [
      "The maximum of 56.0 and 23.0 is: 56.0\n"
     ]
    }
   ],
   "source": [
    "def find_maximum(num1, num2):\n",
    "    if num1 > num2:\n",
    "        return num1\n",
    "    else:\n",
    "        return num2\n",
    "\n",
    "def main():\n",
    "    try:\n",
    "        num1 = float(input(\"Enter the first number: \"))\n",
    "        num2 = float(input(\"Enter the second number: \"))\n",
    "        result = find_maximum(num1, num2)\n",
    "        print(f\"The maximum of {num1} and {num2} is: {result}\")\n",
    "    except ValueError:\n",
    "        print(\"Invalid input! Please enter valid numeric values.\")\n",
    "\n",
    "if __name__ == \"__main__\":\n",
    "    main()\n"
   ]
  },
  {
   "cell_type": "markdown",
   "id": "1a576685-416d-4a7e-be81-1924a5021dee",
   "metadata": {},
   "source": [
    "4. Develop a program that calculates the grade of a student based on their exam score."
   ]
  },
  {
   "cell_type": "code",
   "execution_count": 11,
   "id": "3a9b2510-e8e3-4c23-805d-2a5c3b346f57",
   "metadata": {},
   "outputs": [
    {
     "name": "stdin",
     "output_type": "stream",
     "text": [
      "Enter the student's score:  85\n"
     ]
    },
    {
     "name": "stdout",
     "output_type": "stream",
     "text": [
      "The student's grade is: B\n"
     ]
    }
   ],
   "source": [
    "def calculate_grade(score):\n",
    "    if 90 <= score <= 100:\n",
    "        return 'A'\n",
    "    elif 80 <= score < 90:\n",
    "        return 'B'\n",
    "    elif 70 <= score < 80:\n",
    "        return 'C'\n",
    "    elif 60 <= score < 70:\n",
    "        return 'D'\n",
    "    elif 0 <= score < 60:\n",
    "        return 'F'\n",
    "    else:\n",
    "        return 'Invalid Score'\n",
    "\n",
    "def main():\n",
    "    try:\n",
    "        score = float(input(\"Enter the student's score: \"))\n",
    "        if 0 <= score <= 100:\n",
    "            grade = calculate_grade(score)\n",
    "            print(f\"The student's grade is: {grade}\")\n",
    "        else:\n",
    "            print(\"Invalid input! Score must be between 0 and 100.\")\n",
    "    except ValueError:\n",
    "        print(\"Invalid input! Please enter a valid numeric score.\")\n",
    "\n",
    "if __name__ == \"__main__\":\n",
    "    main()\n"
   ]
  },
  {
   "cell_type": "markdown",
   "id": "331141d5-1781-4c0c-90f8-273bca4f6813",
   "metadata": {},
   "source": [
    "5. Create a program that checks if a year is a leap year or not."
   ]
  },
  {
   "cell_type": "code",
   "execution_count": 12,
   "id": "73a5591c-3387-48f1-9c5e-0be16902b888",
   "metadata": {},
   "outputs": [
    {
     "name": "stdin",
     "output_type": "stream",
     "text": [
      "Enter a year:  2028\n"
     ]
    },
    {
     "name": "stdout",
     "output_type": "stream",
     "text": [
      "2028 is Leap Year.\n"
     ]
    }
   ],
   "source": [
    "def is_leap_year(year):\n",
    "    if (year % 4 == 0 and year % 100 != 0) or (year % 400 == 0):\n",
    "        return True\n",
    "    else:\n",
    "        return False\n",
    "\n",
    "def main():\n",
    "    try:\n",
    "        year = int(input(\"Enter a year: \"))\n",
    "        result = \"Leap Year\" if is_leap_year(year) else \"Not a Leap Year\"\n",
    "        print(f\"{year} is {result}.\")\n",
    "    except ValueError:\n",
    "        print(\"Invalid input! Please enter a valid numeric year.\")\n",
    "\n",
    "if __name__ == \"__main__\":\n",
    "    main()\n"
   ]
  },
  {
   "cell_type": "markdown",
   "id": "6e963428-3fde-4e45-bd84-37ab414ac979",
   "metadata": {},
   "source": [
    "6. Write a program to classify a triangle based on its sides' lengths."
   ]
  },
  {
   "cell_type": "code",
   "execution_count": 13,
   "id": "93ecebe3-fe55-407e-a75c-944baba5aae5",
   "metadata": {},
   "outputs": [
    {
     "name": "stdin",
     "output_type": "stream",
     "text": [
      "Enter the length of the first side:  45\n",
      "Enter the length of the second side:  65\n",
      "Enter the length of the third side:  23\n"
     ]
    },
    {
     "name": "stdout",
     "output_type": "stream",
     "text": [
      "The triangle is a Scalene Triangle.\n"
     ]
    }
   ],
   "source": [
    "def classify_triangle(side1, side2, side3):\n",
    "    if side1 == side2 == side3:\n",
    "        return \"Equilateral Triangle\"\n",
    "    elif side1 == side2 or side1 == side3 or side2 == side3:\n",
    "        return \"Isosceles Triangle\"\n",
    "    else:\n",
    "        return \"Scalene Triangle\"\n",
    "\n",
    "def main():\n",
    "    try:\n",
    "        side1 = float(input(\"Enter the length of the first side: \"))\n",
    "        side2 = float(input(\"Enter the length of the second side: \"))\n",
    "        side3 = float(input(\"Enter the length of the third side: \"))\n",
    "        result = classify_triangle(side1, side2, side3)\n",
    "        print(f\"The triangle is a {result}.\")\n",
    "    except ValueError:\n",
    "        print(\"Invalid input! Please enter valid numeric values for sides.\")\n",
    "\n",
    "if __name__ == \"__main__\":\n",
    "    main()\n"
   ]
  },
  {
   "cell_type": "markdown",
   "id": "3ddb160e-99fe-4608-b9a8-1182ed3ab094",
   "metadata": {},
   "source": [
    "7. Build a program that determines the largest of three given numbers."
   ]
  },
  {
   "cell_type": "code",
   "execution_count": 14,
   "id": "146c1f89-2838-4ecb-849b-a412275d8ce6",
   "metadata": {},
   "outputs": [
    {
     "name": "stdin",
     "output_type": "stream",
     "text": [
      "Enter the first number:  56\n",
      "Enter the second number:  32\n",
      "Enter the third number:  56\n"
     ]
    },
    {
     "name": "stdout",
     "output_type": "stream",
     "text": [
      "The largest number is: 56.0\n"
     ]
    }
   ],
   "source": [
    "def find_largest(num1, num2, num3):\n",
    "    if num1 > num2 and num1 > num3:\n",
    "        return num1\n",
    "    elif num2 > num1 and num2 > num3:\n",
    "        return num2\n",
    "    else:\n",
    "        return num3\n",
    "\n",
    "def main():\n",
    "    try:\n",
    "        num1 = float(input(\"Enter the first number: \"))\n",
    "        num2 = float(input(\"Enter the second number: \"))\n",
    "        num3 = float(input(\"Enter the third number: \"))\n",
    "        result = find_largest(num1, num2, num3)\n",
    "        print(f\"The largest number is: {result}\")\n",
    "    except ValueError:\n",
    "        print(\"Invalid input! Please enter valid numeric values.\")\n",
    "\n",
    "if __name__ == \"__main__\":\n",
    "    main()\n"
   ]
  },
  {
   "cell_type": "markdown",
   "id": "5ad85398-8576-4fc8-bf0d-9baade795ba8",
   "metadata": {},
   "source": [
    "8. Develop a program that checks whether a character is a vowel or a consonant."
   ]
  },
  {
   "cell_type": "code",
   "execution_count": 16,
   "id": "af3bc1cf-713e-4b08-8d13-0196af8c75ee",
   "metadata": {},
   "outputs": [
    {
     "name": "stdin",
     "output_type": "stream",
     "text": [
      "Enter a character:  j\n"
     ]
    },
    {
     "name": "stdout",
     "output_type": "stream",
     "text": [
      "The character 'j' is a Consonent.\n"
     ]
    }
   ],
   "source": [
    "def check_vowel_consonant(char):\n",
    "    if char.isalpha():\n",
    "        if char.lower() in ['a', 'e', 'i', 'o', 'u']:\n",
    "            return 'Vowel'\n",
    "        else:\n",
    "            return \"Consonent\"\n",
    "        \n",
    "    else:\n",
    "        return \"Not a valid alphabet character\"\n",
    "    \n",
    "def main():\n",
    "    try:\n",
    "        char = input(\"Enter a character: \")\n",
    "        if len(char) == 1:\n",
    "            result = check_vowel_consonant(char)\n",
    "            print(f\"The character '{char}' is a {result}.\")\n",
    "        else:\n",
    "            print(\"Invalid input! Please enter a single character.\")\n",
    "    except ValueError:\n",
    "        print(\"Invalid input! Please enter a valid character.\")\n",
    "\n",
    "if __name__ == \"__main__\":\n",
    "    main()\n",
    "                     "
   ]
  },
  {
   "cell_type": "markdown",
   "id": "f38622af-674a-4b0f-a906-2a4edc276d7e",
   "metadata": {},
   "source": [
    "9. Create a program to calculate the total cost of a shopping cart based on discounts."
   ]
  },
  {
   "cell_type": "code",
   "execution_count": 17,
   "id": "dbc2421b-5a9d-4d45-8d6b-52913dfc96da",
   "metadata": {},
   "outputs": [
    {
     "name": "stdin",
     "output_type": "stream",
     "text": [
      "Enter the total cost of the shopping cart:  6500\n"
     ]
    },
    {
     "name": "stdout",
     "output_type": "stream",
     "text": [
      "The discounted price for the shopping cart is: $5850.00\n"
     ]
    }
   ],
   "source": [
    "def calculate_discounted_price(total_cost):\n",
    "    if total_cost >= 100:\n",
    "        discount_rate = 0.1\n",
    "    elif total_cost >= 50:\n",
    "        discount_rate = 0.05\n",
    "    else:\n",
    "        discount_rate = 0.0\n",
    "\n",
    "    discounted_price = total_cost - (total_cost * discount_rate)\n",
    "    return discounted_price\n",
    "\n",
    "def main():\n",
    "    try:\n",
    "        total_cost = float(input(\"Enter the total cost of the shopping cart: \"))\n",
    "        if total_cost >= 0:\n",
    "            discounted_price = calculate_discounted_price(total_cost)\n",
    "            print(f\"The discounted price for the shopping cart is: ${discounted_price:.2f}\")\n",
    "        else:\n",
    "            print(\"Invalid input! Total cost must be a non-negative number.\")\n",
    "    except ValueError:\n",
    "        print(\"Invalid input! Please enter a valid numeric total cost.\")\n",
    "\n",
    "if __name__ == \"__main__\":\n",
    "    main()\n"
   ]
  },
  {
   "cell_type": "markdown",
   "id": "8bbb28e6-bb7e-4f6f-84eb-bc1111241258",
   "metadata": {},
   "source": [
    "10. Write a program that checks if a given number is even or odd."
   ]
  },
  {
   "cell_type": "code",
   "execution_count": 18,
   "id": "170cda3b-f235-45bb-9239-b14800795580",
   "metadata": {},
   "outputs": [
    {
     "name": "stdin",
     "output_type": "stream",
     "text": [
      "Enter a number:  56\n"
     ]
    },
    {
     "name": "stdout",
     "output_type": "stream",
     "text": [
      "The number 56 is Even.\n"
     ]
    }
   ],
   "source": [
    "def check_even_odd(number):\n",
    "    return \"Even\" if number % 2 == 0 else \"Odd\"\n",
    "\n",
    "def main():\n",
    "    try:\n",
    "        number = int(input(\"Enter a number: \"))\n",
    "        result = check_even_odd(number)\n",
    "        print(f\"The number {number} is {result}.\")\n",
    "    except ValueError:\n",
    "        print(\"Invalid input! Please enter a valid numeric value.\")\n",
    "\n",
    "if __name__ == \"__main__\":\n",
    "    main()\n"
   ]
  },
  {
   "cell_type": "markdown",
   "id": "b7b0bbac-519e-47b4-b189-d8f3df1f84c7",
   "metadata": {},
   "source": [
    "Intermediate Level:"
   ]
  },
  {
   "cell_type": "markdown",
   "id": "977afb43-df7e-42c5-9c10-4d8e6d0eebf9",
   "metadata": {},
   "source": [
    "11. Write a program that calculates the roots of a quadratic equation ."
   ]
  },
  {
   "cell_type": "code",
   "execution_count": 19,
   "id": "181d9064-c9f6-4282-9b5c-2ed075fb5e7b",
   "metadata": {},
   "outputs": [
    {
     "name": "stdin",
     "output_type": "stream",
     "text": [
      "Enter the coefficient a:  5\n",
      "Enter the coefficient b:  3\n",
      "Enter the coefficient c:  56\n"
     ]
    },
    {
     "name": "stdout",
     "output_type": "stream",
     "text": [
      "The roots of the quadratic equation are: ((-0.3+3.3331666624997913j), (-0.3-3.3331666624997913j))\n"
     ]
    }
   ],
   "source": [
    "import cmath\n",
    "\n",
    "def quadratic_roots(a, b, c):\n",
    "    discriminant = cmath.sqrt(b**2 - 4*a*c)\n",
    "    root1 = (-b + discriminant) / (2*a)\n",
    "    root2 = (-b - discriminant) / (2*a)\n",
    "    return root1, root2\n",
    "\n",
    "def main():\n",
    "    try:\n",
    "        a = float(input(\"Enter the coefficient a: \"))\n",
    "        b = float(input(\"Enter the coefficient b: \"))\n",
    "        c = float(input(\"Enter the coefficient c: \"))\n",
    "        roots = quadratic_roots(a, b, c)\n",
    "        print(f\"The roots of the quadratic equation are: {roots}\")\n",
    "    except ValueError:\n",
    "        print(\"Invalid input! Please enter valid numeric coefficients.\")\n",
    "\n",
    "if __name__ == \"__main__\":\n",
    "    main()\n"
   ]
  },
  {
   "cell_type": "markdown",
   "id": "64213032-4eaf-4d9d-9e55-6b5f1bb86069",
   "metadata": {},
   "source": [
    "12. Create a program that determines the day of the week based on the day number (1-7)."
   ]
  },
  {
   "cell_type": "code",
   "execution_count": 20,
   "id": "f0447494-51c0-47d3-8387-08fbc7f5c920",
   "metadata": {},
   "outputs": [
    {
     "name": "stdin",
     "output_type": "stream",
     "text": [
      "Enter the day number (1-7):  6\n"
     ]
    },
    {
     "name": "stdout",
     "output_type": "stream",
     "text": [
      "The day of the week for day number 6 is: Saturday\n"
     ]
    }
   ],
   "source": [
    "def determine_day_of_week(day_number):\n",
    "    days = ['Monday', 'Tuesday', 'Wednesday', 'Thursday', 'Friday', 'Saturday', 'Sunday']\n",
    "    if 1 <= day_number <= 7:\n",
    "        return days[day_number - 1]\n",
    "    else:\n",
    "        return \"Invalid day number\"\n",
    "\n",
    "def main():\n",
    "    try:\n",
    "        day_number = int(input(\"Enter the day number (1-7): \"))\n",
    "        result = determine_day_of_week(day_number)\n",
    "        print(f\"The day of the week for day number {day_number} is: {result}\")\n",
    "    except ValueError:\n",
    "        print(\"Invalid input! Please enter a valid numeric day number.\")\n",
    "\n",
    "if __name__ == \"__main__\":\n",
    "    main()\n"
   ]
  },
  {
   "cell_type": "markdown",
   "id": "13182967-9268-4e06-8600-c344c6fbb622",
   "metadata": {},
   "source": [
    "13. Develop a program that calculates the factorial of a given number using recursion."
   ]
  },
  {
   "cell_type": "code",
   "execution_count": 21,
   "id": "abee5b67-69a8-424f-85c9-f53dea1ca4e8",
   "metadata": {},
   "outputs": [
    {
     "name": "stdin",
     "output_type": "stream",
     "text": [
      "Enter a number to calculate its factorial:  6\n"
     ]
    },
    {
     "name": "stdout",
     "output_type": "stream",
     "text": [
      "The factorial of 6 is: 720\n"
     ]
    }
   ],
   "source": [
    "def calculate_factorial(n):\n",
    "    if n == 0 or n == 1:\n",
    "        return 1\n",
    "    else:\n",
    "        return n * calculate_factorial(n-1)\n",
    "\n",
    "def main():\n",
    "    try:\n",
    "        number = int(input(\"Enter a number to calculate its factorial: \"))\n",
    "        if number >= 0:\n",
    "            result = calculate_factorial(number)\n",
    "            print(f\"The factorial of {number} is: {result}\")\n",
    "        else:\n",
    "            print(\"Invalid input! Please enter a non-negative integer.\")\n",
    "    except ValueError:\n",
    "        print(\"Invalid input! Please enter a valid numeric value.\")\n",
    "\n",
    "if __name__ == \"__main__\":\n",
    "    main()\n"
   ]
  },
  {
   "cell_type": "markdown",
   "id": "e15aaa8b-5439-491d-ba09-e3f787999f81",
   "metadata": {},
   "source": [
    "14. Write a program to find the largest among three numbers without using the max() function."
   ]
  },
  {
   "cell_type": "code",
   "execution_count": 22,
   "id": "4c77e246-a2a6-44ee-b5b3-49e8e12cf335",
   "metadata": {},
   "outputs": [
    {
     "name": "stdin",
     "output_type": "stream",
     "text": [
      "Enter the first number:  5\n",
      "Enter the second number:  32\n",
      "Enter the third number:  89\n"
     ]
    },
    {
     "name": "stdout",
     "output_type": "stream",
     "text": [
      "The largest number is: 89.0\n"
     ]
    }
   ],
   "source": [
    "def find_largest(num1, num2, num3):\n",
    "    if num1 > num2 and num1 > num3:\n",
    "        return num1\n",
    "    elif num2 > num1 and num2 > num3:\n",
    "        return num2\n",
    "    else:\n",
    "        return num3\n",
    "\n",
    "def main():\n",
    "    try:\n",
    "        num1 = float(input(\"Enter the first number: \"))\n",
    "        num2 = float(input(\"Enter the second number: \"))\n",
    "        num3 = float(input(\"Enter the third number: \"))\n",
    "        result = find_largest(num1, num2, num3)\n",
    "        print(f\"The largest number is: {result}\")\n",
    "    except ValueError:\n",
    "        print(\"Invalid input! Please enter valid numeric values.\")\n",
    "\n",
    "if __name__ == \"__main__\":\n",
    "    main()\n"
   ]
  },
  {
   "cell_type": "markdown",
   "id": "729c45eb-1354-4607-b893-bfbea3b6bdf4",
   "metadata": {},
   "source": [
    "15. Create a program that simulates a basic ATM transaction menu."
   ]
  },
  {
   "cell_type": "code",
   "execution_count": null,
   "id": "e23a007b-32b3-4dbd-ac09-c380970c4b8f",
   "metadata": {},
   "outputs": [
    {
     "name": "stdin",
     "output_type": "stream",
     "text": [
      "Enter your initial balance:  500\n"
     ]
    },
    {
     "name": "stdout",
     "output_type": "stream",
     "text": [
      "\n",
      "ATM Menu:\n",
      "1. Check Balance\n",
      "2. Deposit\n",
      "3. Withdraw\n",
      "4. Exit\n"
     ]
    },
    {
     "name": "stdin",
     "output_type": "stream",
     "text": [
      "Enter your choice (1-4):  1\n"
     ]
    },
    {
     "name": "stdout",
     "output_type": "stream",
     "text": [
      "Your current balance is: $500.00\n",
      "\n",
      "ATM Menu:\n",
      "1. Check Balance\n",
      "2. Deposit\n",
      "3. Withdraw\n",
      "4. Exit\n"
     ]
    },
    {
     "name": "stdin",
     "output_type": "stream",
     "text": [
      "Enter your choice (1-4):  2\n",
      "Enter the deposit amount:  560\n"
     ]
    },
    {
     "name": "stdout",
     "output_type": "stream",
     "text": [
      "Deposit successful! Your new balance is: $1060.00\n",
      "\n",
      "ATM Menu:\n",
      "1. Check Balance\n",
      "2. Deposit\n",
      "3. Withdraw\n",
      "4. Exit\n"
     ]
    },
    {
     "name": "stdin",
     "output_type": "stream",
     "text": [
      "Enter your choice (1-4):  3\n"
     ]
    }
   ],
   "source": [
    "def atm_transaction(balance):\n",
    "    while True:\n",
    "        print(\"\\nATM Menu:\")\n",
    "        print(\"1. Check Balance\")\n",
    "        print(\"2. Deposit\")\n",
    "        print(\"3. Withdraw\")\n",
    "        print(\"4. Exit\")\n",
    "        \n",
    "        choice = input(\"Enter your choice (1-4): \")\n",
    "        \n",
    "        if choice == '1':\n",
    "            print(f\"Your current balance is: ${balance:.2f}\")\n",
    "        elif choice == '2':\n",
    "            amount = float(input(\"Enter the deposit amount: \"))\n",
    "            balance += amount\n",
    "            print(f\"Deposit successful! Your new balance is: ${balance:.2f}\")\n",
    "        elif choice == '3':\n",
    "            amount = float(input(\"Enter the withdrawal amount: \"))\n",
    "            if amount <= balance:\n",
    "                balance -= amount\n",
    "                print(f\"Withdrawal successful! Your new balance is: ${balance:.2f}\")\n",
    "            else:\n",
    "                print(\"Insufficient funds!\")\n",
    "        elif choice == '4':\n",
    "            print(\"Exiting ATM. Thank you!\")\n",
    "            break\n",
    "        else:\n",
    "            print(\"Invalid choice! Please enter a valid option.\")\n",
    "\n",
    "def main():\n",
    "    try:\n",
    "        initial_balance = float(input(\"Enter your initial balance: \"))\n",
    "        atm_transaction(initial_balance)\n",
    "    except ValueError:\n",
    "        print(\"Invalid input! Please enter a valid numeric balance.\")\n",
    "\n",
    "if __name__ == \"__main__\":\n",
    "    main()\n",
    "            "
   ]
  },
  {
   "cell_type": "markdown",
   "id": "f22129f9-efea-4c23-ab80-01989423c238",
   "metadata": {},
   "source": [
    "16. Build a program that checks if a given string is a palindrome or not."
   ]
  },
  {
   "cell_type": "code",
   "execution_count": 1,
   "id": "641713f8-aaa0-4090-a881-2a7222f85108",
   "metadata": {},
   "outputs": [
    {
     "name": "stdin",
     "output_type": "stream",
     "text": [
      "Enter a string to check for palindrome:  NooN\n"
     ]
    },
    {
     "name": "stdout",
     "output_type": "stream",
     "text": [
      "The string is a palindrome.\n"
     ]
    }
   ],
   "source": [
    "def is_palindrome(string):\n",
    "    cleaned_string = ''.join(char.lower() for char in string if char.isalnum())\n",
    "    return cleaned_string == cleaned_string[::-1]\n",
    "\n",
    "def main():\n",
    "    try:\n",
    "        input_string = input(\"Enter a string to check for palindrome: \")\n",
    "        result = is_palindrome(input_string)\n",
    "        if result:\n",
    "            print(\"The string is a palindrome.\")\n",
    "        else:\n",
    "            print(\"The string is not a palindrome.\")\n",
    "    except ValueError:\n",
    "        print(\"Invalid input! Please enter a valid string.\")\n",
    "\n",
    "if __name__ == \"__main__\":\n",
    "    main()\n"
   ]
  },
  {
   "cell_type": "markdown",
   "id": "0aeca8c0-7532-4bdf-90dc-19b409172aa3",
   "metadata": {},
   "source": [
    "17. Write a program that calculates the average of a list of numbers, excluding the smallest and largest values."
   ]
  },
  {
   "cell_type": "code",
   "execution_count": 3,
   "id": "e4572cbc-eb70-465a-affb-1b9540963a88",
   "metadata": {},
   "outputs": [
    {
     "name": "stdin",
     "output_type": "stream",
     "text": [
      "Enter a list of numbers separated by space:  8 9 6 2 5 3\n"
     ]
    },
    {
     "name": "stdout",
     "output_type": "stream",
     "text": [
      "The average (excluding smallest and largest) is: 5.50\n"
     ]
    }
   ],
   "source": [
    "def calculate_average(numbers):\n",
    "    if len(numbers) < 3:\n",
    "        return \"Not enough numbers to calculate average.\"\n",
    "    else:\n",
    "        numbers.sort()\n",
    "        numbers = numbers[1:-1]  # Exclude the smallest and largest values\n",
    "        return sum(numbers) / len(numbers)\n",
    "\n",
    "def main():\n",
    "    try:\n",
    "        numbers = [float(x) for x in input(\"Enter a list of numbers separated by space: \").split()]\n",
    "        result = calculate_average(numbers)\n",
    "        print(f\"The average (excluding smallest and largest) is: {result:.2f}\")\n",
    "    except ValueError:\n",
    "        print(\"Invalid input! Please enter valid numeric values.\")\n",
    "\n",
    "if __name__ == \"__main__\":\n",
    "    main()\n"
   ]
  },
  {
   "cell_type": "markdown",
   "id": "42133daf-9325-4769-a65c-fef0858acecf",
   "metadata": {},
   "source": [
    "18. Develop a program that converts a given temperature from Celsius to Fahrenheit."
   ]
  },
  {
   "cell_type": "code",
   "execution_count": 4,
   "id": "e80ecebc-16cc-4c36-a782-596f710ac282",
   "metadata": {},
   "outputs": [
    {
     "name": "stdin",
     "output_type": "stream",
     "text": [
      "Enter temperature in Celsius:  100\n"
     ]
    },
    {
     "name": "stdout",
     "output_type": "stream",
     "text": [
      "The temperature in Fahrenheit is: 212.00 °F\n"
     ]
    }
   ],
   "source": [
    "def celsius_to_fahrenheit(celsius):\n",
    "    return (celsius * 9/5) + 32\n",
    "\n",
    "def main():\n",
    "    try:\n",
    "        celsius_temperature = float(input(\"Enter temperature in Celsius: \"))\n",
    "        fahrenheit_temperature = celsius_to_fahrenheit(celsius_temperature)\n",
    "        print(f\"The temperature in Fahrenheit is: {fahrenheit_temperature:.2f} °F\")\n",
    "    except ValueError:\n",
    "        print(\"Invalid input! Please enter a valid numeric temperature.\")\n",
    "\n",
    "if __name__ == \"__main__\":\n",
    "    main()\n"
   ]
  },
  {
   "cell_type": "markdown",
   "id": "42686f64-52ad-45ea-a0c0-61e85612b47e",
   "metadata": {},
   "source": [
    "19. Create a program that simulates a basic calculator for addition, subtraction, multiplication, and division.\n",
    "\n"
   ]
  },
  {
   "cell_type": "code",
   "execution_count": 5,
   "id": "f652d1de-dfe8-4da3-b4ad-264450bde394",
   "metadata": {},
   "outputs": [
    {
     "name": "stdin",
     "output_type": "stream",
     "text": [
      "Enter the first number:  56\n",
      "Enter the second number:  23\n"
     ]
    },
    {
     "name": "stdout",
     "output_type": "stream",
     "text": [
      "Operations:\n",
      "1. Addition\n",
      "2. Subtraction\n",
      "3. Multiplication\n",
      "4. Division\n"
     ]
    },
    {
     "name": "stdin",
     "output_type": "stream",
     "text": [
      "Enter the operation (1-4):  3\n"
     ]
    },
    {
     "name": "stdout",
     "output_type": "stream",
     "text": [
      "The result of the operation is: 1288.0\n"
     ]
    }
   ],
   "source": [
    "def basic_calculator(num1, num2, operation):\n",
    "    if operation == '1':\n",
    "        return num1 + num2\n",
    "    elif operation == '2':\n",
    "        return num1 - num2\n",
    "    elif operation == '3':\n",
    "        return num1 * num2\n",
    "    elif operation == '4':\n",
    "        if num2 != 0:\n",
    "            return num1 / num2\n",
    "        else:\n",
    "            return \"Cannot divide by zero\"\n",
    "    else:\n",
    "        return \"Invalid operation\"\n",
    "\n",
    "def main():\n",
    "    try:\n",
    "        num1 = float(input(\"Enter the first number: \"))\n",
    "        num2 = float(input(\"Enter the second number: \"))\n",
    "        print(\"Operations:\")\n",
    "        print(\"1. Addition\")\n",
    "        print(\"2. Subtraction\")\n",
    "        print(\"3. Multiplication\")\n",
    "        print(\"4. Division\")\n",
    "        operation = input(\"Enter the operation (1-4): \")\n",
    "        result = basic_calculator(num1, num2, operation)\n",
    "        print(f\"The result of the operation is: {result}\")\n",
    "    except ValueError:\n",
    "        print(\"Invalid input! Please enter valid numeric values.\")\n",
    "\n",
    "if __name__ == \"__main__\":\n",
    "    main()\n"
   ]
  },
  {
   "cell_type": "markdown",
   "id": "87a61c33-5c7d-421e-af5d-314b9462f094",
   "metadata": {},
   "source": [
    "20. Write a program that determines the roots of a cubic equation using the Cardano formula."
   ]
  },
  {
   "cell_type": "code",
   "execution_count": 10,
   "id": "a95687d6-8aba-4952-8e00-e6d66f39823f",
   "metadata": {},
   "outputs": [
    {
     "name": "stdin",
     "output_type": "stream",
     "text": [
      "Enter the coefficient a:  2\n",
      "Enter the coefficient b:  3\n",
      "Enter the coefficient c:  5\n",
      "Enter the coefficient d:  6\n"
     ]
    },
    {
     "name": "stdout",
     "output_type": "stream",
     "text": [
      "The roots of the cubic equation are: -1.32361007978549\n"
     ]
    }
   ],
   "source": [
    "import cmath\n",
    "\n",
    "def cubic_roots(a, b, c, d):\n",
    "    delta0 = b**2 - 3*a*c\n",
    "    delta1 = 2*b**3 - 9*a*b*c + 27*a**2*d\n",
    "    C = ((delta1 + (delta1**2 - 4*delta0**3)**0.5) / 2) ** (1/3)\n",
    "    \n",
    "    if delta1**2 - 4*delta0**3 == 0:\n",
    "        root1 = (-1 / (3*a)) * (b + C + delta0/C)\n",
    "        root2 = (-1 / (3*a)) * (b - C - delta0/C)\n",
    "        return root1, root2\n",
    "    else:\n",
    "        root1 = (-1 / (3*a)) * (b + C + delta0/C)\n",
    "        return root1\n",
    "\n",
    "def main():\n",
    "    try:\n",
    "        a = float(input(\"Enter the coefficient a: \"))\n",
    "        b = float(input(\"Enter the coefficient b: \"))\n",
    "        c = float(input(\"Enter the coefficient c: \"))\n",
    "        d = float(input(\"Enter the coefficient d: \"))\n",
    "        roots = cubic_roots(a, b, c, d)\n",
    "        \n",
    "        print(f\"The roots of the cubic equation are: {roots}\")\n",
    "    except ValueError:\n",
    "        print(\"Invalid input! Please enter valid numeric coefficients.\")\n",
    "\n",
    "if __name__ == \"__main__\":\n",
    "    main()\n",
    "\n"
   ]
  },
  {
   "cell_type": "markdown",
   "id": "1c5ffc15-189e-4565-9fe3-a9e5b6a51c9f",
   "metadata": {},
   "source": [
    "Advanced Level:"
   ]
  },
  {
   "cell_type": "markdown",
   "id": "8cf38f11-2bfc-4cde-970c-a2aa416bf89f",
   "metadata": {},
   "source": [
    "21. Create a program that calculates the income tax based on the user's income and tax brackets."
   ]
  },
  {
   "cell_type": "code",
   "execution_count": 11,
   "id": "6afdea03-9fbd-4321-94e4-9e9545b13c7d",
   "metadata": {},
   "outputs": [
    {
     "name": "stdin",
     "output_type": "stream",
     "text": [
      "Enter your income:  35000\n"
     ]
    },
    {
     "name": "stdout",
     "output_type": "stream",
     "text": [
      "Your income tax is: $6000.00\n"
     ]
    }
   ],
   "source": [
    "def calculate_income_tax(income):\n",
    "    if income<= 10000:\n",
    "        tax = 0.1*income\n",
    "    elif income <= 50000:\n",
    "        tax = 0.2 * (income-10000) + 0.1 * 10000\n",
    "    else:\n",
    "        tax = 0.3 * (income - 50000) + 0.2* (5000-10000) + 0.1*1000\n",
    "    return tax\n",
    "\n",
    "def main():\n",
    "    try:\n",
    "        income = float(input(\"Enter your income: \"))\n",
    "        if income >= 0:\n",
    "            tax = calculate_income_tax(income)\n",
    "            print(f\"Your income tax is: ${tax:.2f}\")\n",
    "        else:\n",
    "            print(\"Invalid input! Income must be a non-negative number.\")\n",
    "    except ValueError:\n",
    "        print(\"Invalid input! Please enter a valid numeric income.\")\n",
    "\n",
    "if __name__ == \"__main__\":\n",
    "    main()"
   ]
  },
  {
   "cell_type": "markdown",
   "id": "3d1e4a42-f4b0-45ff-8825-0d7aaa48b7fe",
   "metadata": {},
   "source": [
    "22. Write a program that simulates a rock-paper-scissors game against the computer."
   ]
  },
  {
   "cell_type": "code",
   "execution_count": 12,
   "id": "74f78465-2ef2-4193-9701-fed9e2f4f1e7",
   "metadata": {},
   "outputs": [
    {
     "name": "stdin",
     "output_type": "stream",
     "text": [
      "Enter your choice (rock/paper/scissors):  rock\n"
     ]
    },
    {
     "name": "stdout",
     "output_type": "stream",
     "text": [
      "Computer chose: scissors\n",
      "You win!\n"
     ]
    }
   ],
   "source": [
    "import random\n",
    "\n",
    "def play_game(user_choice):\n",
    "    choices = [\"rock\", \"paper\", \"scissors\"]\n",
    "    computer_choice = random.choice(choices)\n",
    "\n",
    "    print(f\"Computer chose: {computer_choice}\")\n",
    "\n",
    "    if user_choice == computer_choice:\n",
    "        return \"It's a tie!\"\n",
    "    elif (user_choice == \"rock\" and computer_choice == \"scissors\") or \\\n",
    "         (user_choice == \"paper\" and computer_choice == \"rock\") or \\\n",
    "         (user_choice == \"scissors\" and computer_choice == \"paper\"):\n",
    "        return \"You win!\"\n",
    "    else:\n",
    "        return \"Computer wins!\"\n",
    "\n",
    "def main():\n",
    "    user_choice = input(\"Enter your choice (rock/paper/scissors): \").lower()\n",
    "    if user_choice in [\"rock\", \"paper\", \"scissors\"]:\n",
    "        result = play_game(user_choice)\n",
    "        print(result)\n",
    "    else:\n",
    "        print(\"Invalid input! Please enter rock, paper, or scissors.\")\n",
    "\n",
    "if __name__ == \"__main__\":\n",
    "    main()\n"
   ]
  },
  {
   "cell_type": "markdown",
   "id": "e1ec09f2-5a8b-451c-93a9-a9bf465f1056",
   "metadata": {},
   "source": [
    "23. Develop a program that generates a random password based on user preferences (length, complexity)."
   ]
  },
  {
   "cell_type": "code",
   "execution_count": 2,
   "id": "ed97c93f-958c-4e40-9a0e-8b7412ddcb6b",
   "metadata": {},
   "outputs": [
    {
     "name": "stdin",
     "output_type": "stream",
     "text": [
      "Enter the length of the password:  5\n",
      "Enter the complexity (simple/medium/strong):  medium\n"
     ]
    },
    {
     "name": "stdout",
     "output_type": "stream",
     "text": [
      "Generated Password: OE\\b*\n"
     ]
    }
   ],
   "source": [
    "import random\n",
    "import string\n",
    "\n",
    "def generate_password(length, complexity):\n",
    "    if complexity == \"simple\":\n",
    "        characters = string.ascii_letters + string.digits\n",
    "    elif complexity == \"medium\":\n",
    "        characters = string.ascii_letters + string.digits + string.punctuation\n",
    "    elif complexity == \"strong\":\n",
    "        characters = string.ascii_letters + string.digits + string.punctuation + string.ascii_letters.upper() + string.punctuation\n",
    "    else:\n",
    "        return \"Invalid complexity! Choose from simple, medium, or strong.\"\n",
    "\n",
    "    password = ''.join(random.choice(characters) for _ in range(length))\n",
    "    return password\n",
    "\n",
    "def main():\n",
    "    try:\n",
    "        length = int(input(\"Enter the length of the password: \"))\n",
    "        complexity = input(\"Enter the complexity (simple/medium/strong): \").lower()\n",
    "        password = generate_password(length, complexity)\n",
    "        print(f\"Generated Password: {password}\")\n",
    "    except ValueError:\n",
    "        print(\"Invalid input! Please enter a valid numeric length.\")\n",
    "\n",
    "if __name__ == \"__main__\":\n",
    "    main()\n"
   ]
  },
  {
   "cell_type": "markdown",
   "id": "27e29d36-bb91-4a09-8def-6e481e7521fb",
   "metadata": {},
   "source": [
    "## "
   ]
  },
  {
   "cell_type": "markdown",
   "id": "e2de7047-c140-4b9c-b663-51ccdc04465d",
   "metadata": {},
   "source": [
    "24. Create a program that implements a simple text-based adventure game with branching scenarios."
   ]
  },
  {
   "cell_type": "code",
   "execution_count": 3,
   "id": "4fbf9a2a-218a-498b-b90c-f9497fb8bd86",
   "metadata": {},
   "outputs": [
    {
     "name": "stdout",
     "output_type": "stream",
     "text": [
      "Welcome to the Adventure Game!\n",
      "You find yourself in a dark forest. Choose your path.\n"
     ]
    },
    {
     "name": "stdin",
     "output_type": "stream",
     "text": [
      "Do you want to go 'left' or 'right'?  left\n"
     ]
    },
    {
     "name": "stdout",
     "output_type": "stream",
     "text": [
      "You encounter a magical creature. It gives you a key.\n"
     ]
    },
    {
     "name": "stdin",
     "output_type": "stream",
     "text": [
      "Do you want to 'open the door' or 'keep exploring'?  open the door\n"
     ]
    },
    {
     "name": "stdout",
     "output_type": "stream",
     "text": [
      "Congratulations! You opened the door and found a treasure.\n"
     ]
    }
   ],
   "source": [
    "def adventure_game():\n",
    "    print(\"Welcome to the Adventure Game!\")\n",
    "    print(\"You find yourself in a dark forest. Choose your path.\")\n",
    "\n",
    "    choice = input(\"Do you want to go 'left' or 'right'? \").lower()\n",
    "\n",
    "    if choice == \"left\":\n",
    "        print(\"You encounter a magical creature. It gives you a key.\")\n",
    "        second_choice = input(\"Do you want to 'open the door' or 'keep exploring'? \").lower()\n",
    "        \n",
    "        if second_choice == \"open the door\":\n",
    "            print(\"Congratulations! You opened the door and found a treasure.\")\n",
    "        elif second_choice == \"keep exploring\":\n",
    "            print(\"You find a hidden passage and discover a secret room.\")\n",
    "        else:\n",
    "            print(\"Invalid choice!\")\n",
    "\n",
    "    elif choice == \"right\":\n",
    "        print(\"You come across a river. What do you want to do?\")\n",
    "        second_choice = input(\"Do you want to 'swim across' or 'look for a bridge'? \").lower()\n",
    "\n",
    "        if second_choice == \"swim across\":\n",
    "            print(\"You bravely swim across and reach the other side.\")\n",
    "        elif second_choice == \"look for a bridge\":\n",
    "            print(\"You find a sturdy bridge and cross safely.\")\n",
    "        else:\n",
    "            print(\"Invalid choice!\")\n",
    "\n",
    "    else:\n",
    "        print(\"Invalid choice! The adventure ends.\")\n",
    "\n",
    "def main():\n",
    "    adventure_game()\n",
    "\n",
    "if __name__ == \"__main__\":\n",
    "    main()\n"
   ]
  },
  {
   "cell_type": "markdown",
   "id": "289f45eb-99fc-4bc9-b85c-4dac89b9c20f",
   "metadata": {},
   "source": [
    "25. Build a program that solves a linear equation for x, considering different cases."
   ]
  },
  {
   "cell_type": "code",
   "execution_count": 4,
   "id": "a32e26b8-d9b2-40df-895c-792f28706aa3",
   "metadata": {},
   "outputs": [
    {
     "name": "stdin",
     "output_type": "stream",
     "text": [
      "Enter the coefficient a:  6\n",
      "Enter the coefficient b:  9\n"
     ]
    },
    {
     "name": "stdout",
     "output_type": "stream",
     "text": [
      "The solution to the equation 6.0x + 9.0 = 0 is x = -1.5\n"
     ]
    }
   ],
   "source": [
    "def solve_linear_equation(a,b):\n",
    "    if a == 0:\n",
    "        if b == 0:\n",
    "            return \"Infinite solutions (all real numbers)\"\n",
    "        else:\n",
    "            return \"No solution\"\n",
    "    else:\n",
    "        x = -b / a\n",
    "        return f\"The solution to the equation {a}x + {b} = 0 is x = {x}\"\n",
    "\n",
    "def main():\n",
    "    try:\n",
    "        a = float(input(\"Enter the coefficient a: \"))\n",
    "        b = float(input(\"Enter the coefficient b: \"))\n",
    "        result = solve_linear_equation(a, b)\n",
    "        print(result)\n",
    "    except ValueError:\n",
    "        print(\"Invalid input! Please enter valid numeric coefficients.\")\n",
    "\n",
    "if __name__ == \"__main__\":\n",
    "    main()"
   ]
  },
  {
   "cell_type": "markdown",
   "id": "c7010abf-6019-42a0-af1f-3ab5100a2221",
   "metadata": {},
   "source": [
    "26. Write a program that simulates a basic quiz game with multiple-choice questions and scoring."
   ]
  },
  {
   "cell_type": "code",
   "execution_count": 6,
   "id": "d9b9f98c-2606-4420-9c47-47410c7a5c78",
   "metadata": {},
   "outputs": [
    {
     "name": "stdout",
     "output_type": "stream",
     "text": [
      "What is the capital of France?\n",
      "1. Paris\n",
      "2. Berlin\n",
      "3. London\n",
      "4. Madrid\n"
     ]
    },
    {
     "name": "stdin",
     "output_type": "stream",
     "text": [
      "Enter your choice (1-4):  1\n"
     ]
    },
    {
     "name": "stdout",
     "output_type": "stream",
     "text": [
      "Correct!\n",
      "Which planet is known as the Red Planet?\n",
      "1. Mars\n",
      "2. Venus\n",
      "3. Jupiter\n",
      "4. Saturn\n"
     ]
    },
    {
     "name": "stdin",
     "output_type": "stream",
     "text": [
      "Enter your choice (1-4):  2\n"
     ]
    },
    {
     "name": "stdout",
     "output_type": "stream",
     "text": [
      "Wrong! The correct answer is Mars\n",
      "You scored 1 out of 2.\n"
     ]
    }
   ],
   "source": [
    "def quiz_game(questions):\n",
    "    score = 0\n",
    "    for question, options, correct_answer in questions:\n",
    "        print(question)\n",
    "        for i, option in enumerate(options, start=1):\n",
    "            print(f\"{i}. {option}\")\n",
    "        user_answer = input(\"Enter your choice (1-4): \")\n",
    "        if user_answer.isdigit() and 1 <= int(user_answer) <= 4:\n",
    "            user_answer_index = int(user_answer) - 1\n",
    "            if options[user_answer_index] == correct_answer:\n",
    "                print(\"Correct!\")\n",
    "                score += 1\n",
    "            else:\n",
    "                print(f\"Wrong! The correct answer is {correct_answer}\")\n",
    "        else:\n",
    "            print(\"Invalid choice! Skipping this question.\")\n",
    "    print(f\"You scored {score} out of {len(questions)}.\")\n",
    "\n",
    "def main():\n",
    "    quiz_questions = [\n",
    "        (\"What is the capital of France?\", [\"Paris\", \"Berlin\", \"London\", \"Madrid\"], \"Paris\"),\n",
    "        (\"Which planet is known as the Red Planet?\", [\"Mars\", \"Venus\", \"Jupiter\", \"Saturn\"], \"Mars\"),\n",
    "        # Add more questions as needed\n",
    "    ]\n",
    "    quiz_game(quiz_questions)\n",
    "\n",
    "if __name__ == \"__main__\":\n",
    "    main()\n"
   ]
  },
  {
   "cell_type": "markdown",
   "id": "d7afdba1-0cec-41d9-92ba-1d4b3966c4d1",
   "metadata": {},
   "source": [
    "27. Develop a program that determines whether a given year is a prime number or not."
   ]
  },
  {
   "cell_type": "code",
   "execution_count": 7,
   "id": "011f1b4a-36dc-4c1e-8b5e-d0a5ff1d17eb",
   "metadata": {},
   "outputs": [
    {
     "name": "stdin",
     "output_type": "stream",
     "text": [
      "Enter the year:  2026\n"
     ]
    },
    {
     "name": "stdout",
     "output_type": "stream",
     "text": [
      "2026 is not a prime year.\n"
     ]
    }
   ],
   "source": [
    "def is_prime_year(year):\n",
    "    if year>1:\n",
    "        for i in range(2, int(year**0.5) + 1):\n",
    "            if year % i == 0:\n",
    "                return False\n",
    "        return True\n",
    "    else:\n",
    "        return False\n",
    "    \n",
    "def main():\n",
    "    try:\n",
    "        year = int(input(\"Enter the year: \"))\n",
    "        result = is_prime_year(year)\n",
    "        if result:\n",
    "            print(f\"{year} is a prime year.\")\n",
    "        else:\n",
    "            print(f\"{year} is not a prime year.\")\n",
    "    except ValueError:\n",
    "        print(\"Invalid input! Please enter a valid numeric year.\")\n",
    "\n",
    "if __name__ == \"__main__\":\n",
    "    main()\n"
   ]
  },
  {
   "cell_type": "markdown",
   "id": "287c3a87-8ef2-45e0-a5c5-a068b690b133",
   "metadata": {},
   "source": [
    "28. Create a program that sorts three numbers in ascending order using conditional statements."
   ]
  },
  {
   "cell_type": "code",
   "execution_count": 8,
   "id": "9d7a7d5a-4538-4501-8ae8-210137eebfcc",
   "metadata": {},
   "outputs": [
    {
     "name": "stdin",
     "output_type": "stream",
     "text": [
      "Enter the first number:  26\n",
      "Enter the second number:  95\n",
      "Enter the third number:  64\n"
     ]
    },
    {
     "name": "stdout",
     "output_type": "stream",
     "text": [
      "The sorted order is: (26.0, 64.0, 95.0)\n"
     ]
    }
   ],
   "source": [
    "def sort_three_numbers(num1, num2, num3):\n",
    "    if num1 <= num2 <= num3:\n",
    "        return num1, num2, num3\n",
    "    elif num1 <= num3 <= num2:\n",
    "        return num1, num3, num2\n",
    "    elif num2 <= num1 <= num3:\n",
    "        return num2, num1, num3\n",
    "    elif num2 <= num3 <= num1:\n",
    "        return num2, num3, num1\n",
    "    elif num3 <= num1 <= num2:\n",
    "        return num3, num1, num2\n",
    "    else:\n",
    "        return num3, num2, num1\n",
    "\n",
    "def main():\n",
    "    try:\n",
    "        num1 = float(input(\"Enter the first number: \"))\n",
    "        num2 = float(input(\"Enter the second number: \"))\n",
    "        num3 = float(input(\"Enter the third number: \"))\n",
    "        result = sort_three_numbers(num1, num2, num3)\n",
    "        print(f\"The sorted order is: {result}\")\n",
    "    except ValueError:\n",
    "        print(\"Invalid input! Please enter valid numeric values.\")\n",
    "\n",
    "if __name__ == \"__main__\":\n",
    "    main()\n"
   ]
  },
  {
   "cell_type": "markdown",
   "id": "f69b54c2-04e8-4eb0-9279-fe2f4ad7deb4",
   "metadata": {},
   "source": [
    "29. Build a program that determines the roots of a quartic equation using numerical methods."
   ]
  },
  {
   "cell_type": "code",
   "execution_count": 9,
   "id": "5d195cc3-00f9-4237-ab8b-33dabeb93538",
   "metadata": {},
   "outputs": [
    {
     "name": "stdin",
     "output_type": "stream",
     "text": [
      "Enter the coefficient a:  5\n",
      "Enter the coefficient b:  6\n",
      "Enter the coefficient c:  2\n",
      "Enter the coefficient d:  7\n",
      "Enter the coefficient e:  1\n"
     ]
    },
    {
     "name": "stdout",
     "output_type": "stream",
     "text": [
      "The roots of the quartic equation are: [-0.14662799 -0.14662799 -0.14662799 -1.49758665]\n"
     ]
    }
   ],
   "source": [
    "import numpy as np\n",
    "from scipy.optimize import fsolve\n",
    "\n",
    "def quartic_equation(x, a, b, c, d, e):\n",
    "    return a * x**4 + b * x**3 + c * x**2 + d * x + e\n",
    "\n",
    "def find_roots(a, b, c, d, e):\n",
    "    initial_guesses = [1, -1, 2, -2]  # Initial guesses for roots\n",
    "    roots = fsolve(quartic_equation, initial_guesses, args=(a, b, c, d, e))\n",
    "    return roots\n",
    "\n",
    "def main():\n",
    "    try:\n",
    "        a = float(input(\"Enter the coefficient a: \"))\n",
    "        b = float(input(\"Enter the coefficient b: \"))\n",
    "        c = float(input(\"Enter the coefficient c: \"))\n",
    "        d = float(input(\"Enter the coefficient d: \"))\n",
    "        e = float(input(\"Enter the coefficient e: \"))\n",
    "        roots = find_roots(a, b, c, d, e)\n",
    "        print(f\"The roots of the quartic equation are: {roots}\")\n",
    "    except ValueError:\n",
    "        print(\"Invalid input! Please enter valid numeric coefficients.\")\n",
    "\n",
    "if __name__ == \"__main__\":\n",
    "    main()\n"
   ]
  },
  {
   "cell_type": "markdown",
   "id": "aa001660-cdee-48e8-a7de-19a6790d5456",
   "metadata": {},
   "source": [
    "30. Write a program that calculates the BMI (Body Mass Index) and provides health recommendations based\n",
    "on the user's input."
   ]
  },
  {
   "cell_type": "code",
   "execution_count": 10,
   "id": "0127989a-e032-4f1e-bf45-2a5a69ecbe8b",
   "metadata": {},
   "outputs": [
    {
     "name": "stdin",
     "output_type": "stream",
     "text": [
      "Enter your weight in kilograms:  73.25\n",
      "Enter your height in meters:  1.74\n"
     ]
    },
    {
     "name": "stdout",
     "output_type": "stream",
     "text": [
      "Your BMI is: 24.19\n",
      "Health Recommendations: Normal weight: Maintain a healthy lifestyle.\n"
     ]
    }
   ],
   "source": [
    "def calculate_bmi(weight, height):\n",
    "    bmi = weight / (height ** 2)\n",
    "    return bmi\n",
    "\n",
    "def health_recommendations(bmi):\n",
    "    if bmi < 18.5:\n",
    "        return \"Underweight: Consider gaining weight.\"\n",
    "    elif 18.5 <= bmi < 25:\n",
    "        return \"Normal weight: Maintain a healthy lifestyle.\"\n",
    "    elif 25 <= bmi < 30:\n",
    "        return \"Overweight: Consider losing weight.\"\n",
    "    else:\n",
    "        return \"Obese: Consult with a healthcare professional.\"\n",
    "\n",
    "def main():\n",
    "    try:\n",
    "        weight = float(input(\"Enter your weight in kilograms: \"))\n",
    "        height = float(input(\"Enter your height in meters: \"))\n",
    "        bmi = calculate_bmi(weight, height)\n",
    "        print(f\"Your BMI is: {bmi:.2f}\")\n",
    "        recommendations = health_recommendations(bmi)\n",
    "        print(\"Health Recommendations:\", recommendations)\n",
    "    except ValueError:\n",
    "        print(\"Invalid input! Please enter valid numeric values.\")\n",
    "\n",
    "if __name__ == \"__main__\":\n",
    "    main()\n"
   ]
  },
  {
   "cell_type": "markdown",
   "id": "b09cee2a-52d1-40e7-a5f9-5ab5d889b8c4",
   "metadata": {},
   "source": [
    "Challenge Level:"
   ]
  },
  {
   "cell_type": "markdown",
   "id": "c67db25a-a6ee-49e6-9bcd-becd11669814",
   "metadata": {},
   "source": [
    "31. Create a program that validates a password based on complexity rules (length, characters, etc.)."
   ]
  },
  {
   "cell_type": "code",
   "execution_count": 13,
   "id": "1669668b-b840-44a0-87d1-8cf9a2c4cc53",
   "metadata": {},
   "outputs": [
    {
     "name": "stdin",
     "output_type": "stream",
     "text": [
      "Enter your password:  Aashu@23\n"
     ]
    },
    {
     "name": "stdout",
     "output_type": "stream",
     "text": [
      "Password is valid!\n"
     ]
    }
   ],
   "source": [
    "import re\n",
    "def validate_password(password):\n",
    "    if len(password) >= 8 and re.search(r\"[a-z]\", password) and re.search(r\"[A-Z]\", password) and re.search(r\"\\d\", password):\n",
    "        return True\n",
    "    else:\n",
    "        return False\n",
    "    \n",
    "def main():\n",
    "    password = input(\"Enter your password: \")\n",
    "    if validate_password(password):\n",
    "        print(\"Password is valid!\")\n",
    "    else:\n",
    "        print(\"Invalid Password!! Please follow the complexity rules.\")\n",
    "        \n",
    "if __name__ == \"__main__\":\n",
    "    main()"
   ]
  },
  {
   "cell_type": "markdown",
   "id": "d406c7fa-7e31-4218-b512-ef35f3853a06",
   "metadata": {},
   "source": [
    "32. Develop a program that performs matrix addition and subtraction based on user input."
   ]
  },
  {
   "cell_type": "code",
   "execution_count": 14,
   "id": "2a3c1bf7-6161-459c-aad6-1c055c65543b",
   "metadata": {},
   "outputs": [
    {
     "name": "stdin",
     "output_type": "stream",
     "text": [
      "Enter the number of rows:  3\n",
      "Enter the number of columns:  3\n",
      "Enter element at position (1,1) for matrix 1:  1\n",
      "Enter element at position (1,2) for matrix 1:  2\n",
      "Enter element at position (1,3) for matrix 1:  3\n",
      "Enter element at position (2,1) for matrix 1:  4\n",
      "Enter element at position (2,2) for matrix 1:  5\n",
      "Enter element at position (2,3) for matrix 1:  6\n",
      "Enter element at position (3,1) for matrix 1:  7\n",
      "Enter element at position (3,2) for matrix 1:  8\n",
      "Enter element at position (3,3) for matrix 1:  9\n",
      "Enter element at position (1,1) for matrix 2:  5\n",
      "Enter element at position (1,2) for matrix 2:  6\n",
      "Enter element at position (1,3) for matrix 2:  3\n",
      "Enter element at position (2,1) for matrix 2:  5\n",
      "Enter element at position (2,2) for matrix 2:  5\n",
      "Enter element at position (2,3) for matrix 2:  1\n",
      "Enter element at position (3,1) for matrix 2:  9\n",
      "Enter element at position (3,2) for matrix 2:  7\n",
      "Enter element at position (3,3) for matrix 2:  4\n"
     ]
    },
    {
     "name": "stdout",
     "output_type": "stream",
     "text": [
      "Matrix Addition Result:\n",
      "[6.0, 8.0, 6.0]\n",
      "[9.0, 10.0, 7.0]\n",
      "[16.0, 15.0, 13.0]\n",
      "Matrix Subtraction Result:\n",
      "[-4.0, -4.0, 0.0]\n",
      "[-1.0, 0.0, 5.0]\n",
      "[-2.0, 1.0, 5.0]\n"
     ]
    }
   ],
   "source": [
    "def matrix_addition(matrix1, matrix2):\n",
    "    result = [[matrix1[i][j] + matrix2[i][j] for j in range(len(matrix1[0]))] for i in range(len(matrix1))]\n",
    "    return result\n",
    "\n",
    "def matrix_subtraction(matrix1, matrix2):\n",
    "    result = [[matrix1[i][j] - matrix2[i][j] for j in range(len(matrix1[0]))] for i in range(len(matrix1))]\n",
    "    return result\n",
    "\n",
    "def main():\n",
    "    try:\n",
    "        rows = int(input(\"Enter the number of rows: \"))\n",
    "        cols = int(input(\"Enter the number of columns: \"))\n",
    "\n",
    "        matrix1 = [[float(input(f\"Enter element at position ({i+1},{j+1}) for matrix 1: \")) for j in range(cols)] for i in range(rows)]\n",
    "        matrix2 = [[float(input(f\"Enter element at position ({i+1},{j+1}) for matrix 2: \")) for j in range(cols)] for i in range(rows)]\n",
    "\n",
    "        addition_result = matrix_addition(matrix1, matrix2)\n",
    "        subtraction_result = matrix_subtraction(matrix1, matrix2)\n",
    "\n",
    "        print(\"Matrix Addition Result:\")\n",
    "        for row in addition_result:\n",
    "            print(row)\n",
    "\n",
    "        print(\"Matrix Subtraction Result:\")\n",
    "        for row in subtraction_result:\n",
    "            print(row)\n",
    "    except ValueError:\n",
    "        print(\"Invalid input! Please enter valid numeric values.\")\n",
    "\n",
    "if __name__ == \"__main__\":\n",
    "    main()\n"
   ]
  },
  {
   "cell_type": "markdown",
   "id": "c82c737e-7219-40d2-9d13-cdbd5ee84650",
   "metadata": {},
   "source": [
    "33. Write a program that calculates the greatest common divisor (GCD) of two numbers using the Euclidean\n",
    "algorithm."
   ]
  },
  {
   "cell_type": "code",
   "execution_count": 15,
   "id": "78c7fe36-0f6c-4522-9b14-fef601166a4d",
   "metadata": {},
   "outputs": [
    {
     "name": "stdin",
     "output_type": "stream",
     "text": [
      "Enter the first number:  6\n",
      "Enter the second number:  9\n"
     ]
    },
    {
     "name": "stdout",
     "output_type": "stream",
     "text": [
      "The GCD of 6 and 9 is: 3\n"
     ]
    }
   ],
   "source": [
    "def gcd_euclidean(a,b):\n",
    "    while b:\n",
    "        a,b = b, a%b\n",
    "    return a\n",
    "def main():\n",
    "    try:\n",
    "        num1 = int(input(\"Enter the first number: \"))\n",
    "        num2 = int(input(\"Enter the second number: \"))\n",
    "        result = gcd_euclidean(num1, num2)\n",
    "        print(f\"The GCD of {num1} and {num2} is: {result}\")\n",
    "    except ValueError:\n",
    "        print(\"Invalid input! Please enter valid numeric values.\")\n",
    "\n",
    "if __name__ == \"__main__\":\n",
    "    main()"
   ]
  },
  {
   "cell_type": "markdown",
   "id": "3170b2af-0b67-4c57-86ac-8f0a40258439",
   "metadata": {},
   "source": [
    "34. Build a program that performs matrix multiplication using nested loops and conditional statements."
   ]
  },
  {
   "cell_type": "code",
   "execution_count": 16,
   "id": "ac801eb4-ce73-47ef-8a2e-56e0feb4e63f",
   "metadata": {},
   "outputs": [
    {
     "name": "stdin",
     "output_type": "stream",
     "text": [
      "Enter the number of rows for matrix 1:  2\n",
      "Enter the number of columns for matrix 1:  2\n",
      "Enter the number of rows for matrix 2:  2\n",
      "Enter the number of columns for matrix 2:  2\n",
      "Enter element at position (1,1) for matrix 1:  1\n",
      "Enter element at position (1,2) for matrix 1:  2\n",
      "Enter element at position (2,1) for matrix 1:  3\n",
      "Enter element at position (2,2) for matrix 1:  4\n",
      "Enter element at position (1,1) for matrix 2:  5\n",
      "Enter element at position (1,2) for matrix 2:  6\n",
      "Enter element at position (2,1) for matrix 2:  7\n",
      "Enter element at position (2,2) for matrix 2:  8\n"
     ]
    },
    {
     "name": "stdout",
     "output_type": "stream",
     "text": [
      "Matrix Multiplication Result:\n",
      "[19.0, 22.0]\n",
      "[43.0, 50.0]\n"
     ]
    }
   ],
   "source": [
    "def matrix_multiplication(matrix1, matrix2):\n",
    "    result = [[sum(matrix1[i][k] * matrix2[k][j] for k in range(len(matrix2))) for j in range(len(matrix2[0]))] for i in range(len(matrix1))]\n",
    "    return result\n",
    "\n",
    "def main():\n",
    "    try:\n",
    "        rows1 = int(input(\"Enter the number of rows for matrix 1: \"))\n",
    "        cols1 = int(input(\"Enter the number of columns for matrix 1: \"))\n",
    "        rows2 = int(input(\"Enter the number of rows for matrix 2: \"))\n",
    "        cols2 = int(input(\"Enter the number of columns for matrix 2: \"))\n",
    "\n",
    "        if cols1 != rows2:\n",
    "            print(\"Matrix multiplication not possible. Number of columns in matrix 1 should be equal to the number of rows in matrix 2.\")\n",
    "            return\n",
    "\n",
    "        matrix1 = [[float(input(f\"Enter element at position ({i+1},{j+1}) for matrix 1: \")) for j in range(cols1)] for i in range(rows1)]\n",
    "        matrix2 = [[float(input(f\"Enter element at position ({i+1},{j+1}) for matrix 2: \")) for j in range(cols2)] for i in range(rows2)]\n",
    "\n",
    "        multiplication_result = matrix_multiplication(matrix1, matrix2)\n",
    "\n",
    "        print(\"Matrix Multiplication Result:\")\n",
    "        for row in multiplication_result:\n",
    "            print(row)\n",
    "    except ValueError:\n",
    "        print(\"Invalid input! Please enter valid numeric values.\")\n",
    "\n",
    "if __name__ == \"__main__\":\n",
    "    main()\n"
   ]
  },
  {
   "cell_type": "markdown",
   "id": "89a703d5-6c07-4dd5-b208-e054730c812f",
   "metadata": {},
   "source": [
    "35. Create a program that simulates a basic text-based tic-tac-toe game against the computer."
   ]
  },
  {
   "cell_type": "code",
   "execution_count": null,
   "id": "a238b3b5-7c70-4b3b-ae9e-63a79909e3db",
   "metadata": {},
   "outputs": [],
   "source": [
    "import random\n",
    "\n",
    "def print_board(board):\n",
    "    for row in board:\n",
    "        print(\" \".join(row))\n",
    "\n",
    "def check_winner(board, player):\n",
    "    for row in board:\n",
    "        if all(cell == player for cell in row):\n",
    "            return True\n",
    "\n",
    "    for col in range(3):\n",
    "        if all(board[row][col] == player for row in range(3)):\n",
    "            return True\n",
    "\n",
    "    if all(board[i][i] == player for i in range(3)) or all(board[i][2 - i] == player for i in range(3)):\n",
    "        return True\n",
    "\n",
    "    return False\n",
    "\n",
    "def is_board_full(board):\n",
    "    return all(all(cell != ' ' for cell in row) for row in board)\n",
    "\n",
    "def player_turn(board, player):\n",
    "    move = input(\"Enter your move (row,column) or type 'exit' to end the game: \")\n",
    "    if move.lower() == 'exit':\n",
    "        print(\"Game ended.\")\n",
    "        exit()\n",
    "\n",
    "    try:\n",
    "        row, col = map(int, move.split(','))\n",
    "        if 0 <= row - 1 < 3 and 0 <= col - 1 < 3 and board[row - 1][col - 1] == ' ':\n",
    "            board[row - 1][col - 1] = player\n",
    "        else:\n",
    "            print(\"Invalid move! Try again.\")\n",
    "            player_turn(board, player)\n",
    "    except ValueError:\n",
    "        print(\"Invalid input! Please enter a valid move or 'exit'.\")\n",
    "        player_turn(board, player)\n",
    "\n",
    "def computer_turn(board, player):\n",
    "    while True:\n",
    "        row = random.randint(0, 2)\n",
    "        col = random.randint(0, 2)\n",
    "\n",
    "        if board[row][col] == ' ':\n",
    "            board[row][col] = player\n",
    "            break\n",
    "\n",
    "def play_tic_tac_toe():\n",
    "    board = [[' ' for _ in range(3)] for _ in range(3)]\n",
    "    players = ['X', 'O']\n",
    "    current_player = random.choice(players)\n",
    "\n",
    "    print_board(board)\n",
    "\n",
    "    for _ in range(9):\n",
    "        if current_player == 'X':\n",
    "            player_turn(board, current_player)\n",
    "        else:\n",
    "            computer_turn(board, current_player)\n",
    "\n",
    "        print_board(board)\n",
    "\n",
    "        if check_winner(board, current_player):\n",
    "            print(f\"{current_player} wins!\")\n",
    "            break\n",
    "\n",
    "        if is_board_full(board):\n",
    "            print(\"It's a draw!\")\n",
    "            break\n",
    "\n",
    "        current_player = 'O' if current_player == 'X' else 'X'\n",
    "\n",
    "if __name__ == \"__main__\":\n",
    "    play_tic_tac_toe()\n",
    "\n"
   ]
  },
  {
   "cell_type": "markdown",
   "id": "c3bd6e15-9166-4394-b033-2c9d8db0abee",
   "metadata": {},
   "source": [
    "36. Write a program that generates Fibonacci numbers up to a specified term using iterative methods."
   ]
  },
  {
   "cell_type": "code",
   "execution_count": null,
   "id": "b91d16b6-e9d7-49e3-9990-a2ce5f7be274",
   "metadata": {},
   "outputs": [],
   "source": [
    "def generate_fibonacci_iterative(n):\n",
    "    fibonacci_sequence = [0, 1]\n",
    "    for _ in range(2, n):\n",
    "        fibonacci_sequence.append(fibonacci_sequence[-1] + fibonacci_sequence[-2])\n",
    "    return fibonacci_sequence\n",
    "\n",
    "def main():\n",
    "    try:\n",
    "        n = int(input(\"Enter the number of terms for Fibonacci sequence: \"))\n",
    "        result = generate_fibonacci_iterative(n)\n",
    "        print(\"Fibonacci Sequence:\", result)\n",
    "    except ValueError:\n",
    "        print(\"Invalid input! Please enter a valid numeric value.\")\n",
    "\n",
    "if __name__ == \"__main__\":\n",
    "    main()\n"
   ]
  },
  {
   "cell_type": "markdown",
   "id": "6703b4a8-c6c1-4e06-8ab6-c8d0b524e30d",
   "metadata": {},
   "source": [
    "37. Develop a program that calculates the nth term of the Fibonacci sequence using memoization."
   ]
  },
  {
   "cell_type": "code",
   "execution_count": 1,
   "id": "823f8a87-bebf-41d3-86ef-e6e008e2d48f",
   "metadata": {},
   "outputs": [
    {
     "name": "stdin",
     "output_type": "stream",
     "text": [
      "Enter the term number for Fibonacci sequence:  5\n"
     ]
    },
    {
     "name": "stdout",
     "output_type": "stream",
     "text": [
      "The 5-th term of the Fibonacci sequence is: 5\n"
     ]
    }
   ],
   "source": [
    "def generate_fibonacci_recursive_memoization(n, memo={}):\n",
    "    if n <= 1:\n",
    "        return n\n",
    "\n",
    "    if n not in memo:\n",
    "        memo[n] = generate_fibonacci_recursive_memoization(n - 1, memo) + generate_fibonacci_recursive_memoization(n - 2, memo)\n",
    "\n",
    "    return memo[n]\n",
    "\n",
    "def main():\n",
    "    try:\n",
    "        n = int(input(\"Enter the term number for Fibonacci sequence: \"))\n",
    "        result = generate_fibonacci_recursive_memoization(n)\n",
    "        print(f\"The {n}-th term of the Fibonacci sequence is: {result}\")\n",
    "    except ValueError:\n",
    "        print(\"Invalid input! Please enter a valid numeric value.\")\n",
    "\n",
    "if __name__ == \"__main__\":\n",
    "    main()\n"
   ]
  },
  {
   "cell_type": "markdown",
   "id": "10920f9c-bb0c-494e-bb43-7a3a8f9aa1ef",
   "metadata": {},
   "source": [
    "38. Create a program that generates a calendar for a given month and year using conditional statements."
   ]
  },
  {
   "cell_type": "code",
   "execution_count": 2,
   "id": "1847f499-708a-4998-a164-2921307e97b8",
   "metadata": {},
   "outputs": [
    {
     "name": "stdin",
     "output_type": "stream",
     "text": [
      "Enter the year:  2024\n",
      "Enter the month (1-12):  1\n"
     ]
    },
    {
     "name": "stdout",
     "output_type": "stream",
     "text": [
      "January 2024\n",
      "Mo Tu We Th Fr Sa Su\n",
      "1 2 3 4 5 6 7\n",
      "8 9 10 11 12 13 14\n",
      "15 16 17 18 19 20 21\n",
      "22 23 24 25 26 27 28\n",
      "29 30 31        \n"
     ]
    }
   ],
   "source": [
    "import calendar\n",
    "\n",
    "def generate_calendar(year, month):\n",
    "    cal = calendar.monthcalendar(year, month)\n",
    "    return cal\n",
    "\n",
    "def main():\n",
    "    try:\n",
    "        year = int(input(\"Enter the year: \"))\n",
    "        month = int(input(\"Enter the month (1-12): \"))\n",
    "        \n",
    "        if 1 <= month <= 12:\n",
    "            cal = generate_calendar(year, month)\n",
    "            print(calendar.month_name[month], year)\n",
    "            print(\"Mo Tu We Th Fr Sa Su\")\n",
    "            for week in cal:\n",
    "                print(\" \".join(str(day) if day != 0 else ' ' for day in week))\n",
    "        else:\n",
    "            print(\"Invalid month! Please enter a number between 1 and 12.\")\n",
    "    except ValueError:\n",
    "        print(\"Invalid input! Please enter valid numeric values.\")\n",
    "\n",
    "if __name__ == \"__main__\":\n",
    "    main()\n"
   ]
  },
  {
   "cell_type": "markdown",
   "id": "7129c3cf-3a94-42bf-99ef-ea2fa0c73315",
   "metadata": {},
   "source": [
    "39. Build a program that simulates a basic text-based blackjack game against the computer."
   ]
  },
  {
   "cell_type": "code",
   "execution_count": 3,
   "id": "2cf33a83-25b1-4416-aac6-f3b3312e3752",
   "metadata": {},
   "outputs": [
    {
     "name": "stdout",
     "output_type": "stream",
     "text": [
      "Your cards: [10, 3], current score: 13\n",
      "Computer's first card: 3\n"
     ]
    },
    {
     "name": "stdin",
     "output_type": "stream",
     "text": [
      "Type 'y' to get another card, 'n' to pass:  y\n"
     ]
    },
    {
     "name": "stdout",
     "output_type": "stream",
     "text": [
      "Your cards: [10, 3, 7], current score: 20\n",
      "Computer's first card: 3\n"
     ]
    },
    {
     "name": "stdin",
     "output_type": "stream",
     "text": [
      "Type 'y' to get another card, 'n' to pass:  n\n"
     ]
    },
    {
     "name": "stdout",
     "output_type": "stream",
     "text": [
      "Your final hand: [10, 3, 7], final score: 20\n",
      "Computer's final hand: [3, 10, 8], final score: 21\n",
      "You lose!\n"
     ]
    }
   ],
   "source": [
    "import random\n",
    "\n",
    "def deal_card():\n",
    "    cards = [2, 3, 4, 5, 6, 7, 8, 9, 10, 10, 10, 10, 11]\n",
    "    return random.choice(cards)\n",
    "\n",
    "def calculate_score(cards):\n",
    "    if sum(cards) == 21 and len(cards) == 2:\n",
    "        return 0\n",
    "    if 11 in cards and sum(cards) > 21:\n",
    "        cards.remove(11)\n",
    "        cards.append(1)\n",
    "    return sum(cards)\n",
    "\n",
    "def compare(user_score, computer_score):\n",
    "    if user_score > 21 and computer_score > 21:\n",
    "        return \"You went over. You lose!\"\n",
    "    if user_score == computer_score:\n",
    "        return \"It's a draw!\"\n",
    "    elif computer_score == 0:\n",
    "        return \"Computer has Blackjack. You lose!\"\n",
    "    elif user_score == 0:\n",
    "        return \"You have Blackjack. You win!\"\n",
    "    elif user_score > 21:\n",
    "        return \"You went over. You lose!\"\n",
    "    elif computer_score > 21:\n",
    "        return \"Computer went over. You win!\"\n",
    "    elif user_score > computer_score:\n",
    "        return \"You win!\"\n",
    "    else:\n",
    "        return \"You lose!\"\n",
    "\n",
    "def play_blackjack():\n",
    "    user_cards = []\n",
    "    computer_cards = []\n",
    "    is_game_over = False\n",
    "\n",
    "    for _ in range(2):\n",
    "        user_cards.append(deal_card())\n",
    "        computer_cards.append(deal_card())\n",
    "\n",
    "    while not is_game_over:\n",
    "        user_score = calculate_score(user_cards)\n",
    "        computer_score = calculate_score(computer_cards)\n",
    "\n",
    "        print(f\"Your cards: {user_cards}, current score: {user_score}\")\n",
    "        print(f\"Computer's first card: {computer_cards[0]}\")\n",
    "\n",
    "        if user_score == 0 or computer_score == 0 or user_score > 21:\n",
    "            is_game_over = True\n",
    "        else:\n",
    "            should_continue = input(\"Type 'y' to get another card, 'n' to pass: \").lower()\n",
    "            if should_continue == 'y':\n",
    "                user_cards.append(deal_card())\n",
    "            else:\n",
    "                is_game_over = True\n",
    "\n",
    "    while computer_score != 0 and computer_score < 17:\n",
    "        computer_cards.append(deal_card())\n",
    "        computer_score = calculate_score(computer_cards)\n",
    "\n",
    "    print(f\"Your final hand: {user_cards}, final score: {user_score}\")\n",
    "    print(f\"Computer's final hand: {computer_cards}, final score: {computer_score}\")\n",
    "    print(compare(user_score, computer_score))\n",
    "\n",
    "if __name__ == \"__main__\":\n",
    "    play_blackjack()\n"
   ]
  },
  {
   "cell_type": "markdown",
   "id": "18f95a7d-732e-4472-b6b2-3fb50805820a",
   "metadata": {},
   "source": [
    "40. Write a program that generates the prime factors of a given number using trial division."
   ]
  },
  {
   "cell_type": "code",
   "execution_count": 4,
   "id": "5e94daee-a9b5-4068-9f27-70494f5ca334",
   "metadata": {},
   "outputs": [
    {
     "name": "stdin",
     "output_type": "stream",
     "text": [
      "Enter a number:  11\n"
     ]
    },
    {
     "name": "stdout",
     "output_type": "stream",
     "text": [
      "The prime factors of 11 are: [11]\n"
     ]
    }
   ],
   "source": [
    "def prime_factors_trial_division(n):\n",
    "    factors = []\n",
    "    divisor = 2\n",
    "\n",
    "    while n > 1:\n",
    "        while n % divisor == 0:\n",
    "            factors.append(divisor)\n",
    "            n //= divisor\n",
    "        divisor += 1\n",
    "\n",
    "    return factors\n",
    "\n",
    "def main():\n",
    "    try:\n",
    "        num = int(input(\"Enter a number: \"))\n",
    "        result = prime_factors_trial_division(num)\n",
    "        print(f\"The prime factors of {num} are: {result}\")\n",
    "    except ValueError:\n",
    "        print(\"Invalid input! Please enter a valid numeric value.\")\n",
    "\n",
    "if __name__ == \"__main__\":\n",
    "    main()\n"
   ]
  },
  {
   "cell_type": "code",
   "execution_count": null,
   "id": "9b851144-9c5a-4bed-8bc7-0d868f13852a",
   "metadata": {},
   "outputs": [],
   "source": []
  }
 ],
 "metadata": {
  "kernelspec": {
   "display_name": "Python 3 (ipykernel)",
   "language": "python",
   "name": "python3"
  },
  "language_info": {
   "codemirror_mode": {
    "name": "ipython",
    "version": 3
   },
   "file_extension": ".py",
   "mimetype": "text/x-python",
   "name": "python",
   "nbconvert_exporter": "python",
   "pygments_lexer": "ipython3",
   "version": "3.10.8"
  }
 },
 "nbformat": 4,
 "nbformat_minor": 5
}
