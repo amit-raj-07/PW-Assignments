{
 "cells": [
  {
   "cell_type": "markdown",
   "id": "20e09b11-78c4-4dd8-b397-089d335ebb56",
   "metadata": {},
   "source": [
    "# Inheritance:"
   ]
  },
  {
   "cell_type": "markdown",
   "id": "392143c9-a60e-4a95-9c1b-8e4f29cb771d",
   "metadata": {},
   "source": [
    "1. What is inheritance in Python? Explain its significance in object-oriented programming."
   ]
  },
  {
   "cell_type": "markdown",
   "id": "f55bf078-005e-4309-9756-f5ba34f958f3",
   "metadata": {},
   "source": [
    "Inheritance is a fundamental concept in object-oriented programming (OOP) that allows a class to inherit attributes and methods from another class.\n",
    "The class that inherits is known as the subclass or derived class, and the class from which it inherits is called the superclass or base class.\n",
    "\n",
    "Significance of Inheritance in OOP:\n",
    "\n",
    "1. Code Reusability:\n",
    "   - Inheritance promotes code reuse by allowing a subclass to inherit attributes and methods from a superclass. This reduces redundancy and leads to more modular\n",
    "     and maintainable code.\n",
    "\n",
    "2. Extensibility:\n",
    "   - Subclasses can extend the functionality of the superclass by adding new methods or modifying existing ones. This enables the creation of specialized classes\n",
    "     while still benefiting from the common functionality provided by the superclass.\n",
    "\n",
    "3. Hierarchy and Organization:\n",
    "   - Inheritance helps organize classes into a hierarchical structure, reflecting real-world relationships. This hierarchy enhances the understanding of the \n",
    "     relationships between different objects in a system.\n",
    "\n",
    "4. Polymorphism:\n",
    "   - Inheritance contributes to polymorphism, a concept where objects of different classes can be treated as objects of a common base class. This enables more \n",
    "     generic and flexible coding.\n",
    "\n",
    "5. Overriding Methods:\n",
    "   - Subclasses can override methods inherited from the superclass to provide their own implementation. This allows customization of behavior based on the specific\n",
    "     needs of the subclass.\n",
    "\n",
    "6. Easier Maintenance:\n",
    "   - Changes made to the superclass automatically affect all its subclasses. This ensures consistency and makes maintenance more straightforward. If a bug is fixed\n",
    "    or a feature is added to the superclass, all subclasses benefit.\n",
    "\n",
    "7. Code Organization and Readability:\n",
    "   - Inheritance contributes to a well-organized code structure. It improves readability by creating a clear and logical relationship between classes, making it \n",
    "     easier for developers to understand the overall architecture.\n",
    "\n",
    "Example:\n",
    "\n",
    "class Animal:\n",
    "    def __init__(self, name):\n",
    "        self.name = name\n",
    "\n",
    "    def make_sound(self):\n",
    "        pass\n",
    "\n",
    "class Dog(Animal):\n",
    "    def make_sound(self):\n",
    "        return \"Woof!\"\n",
    "\n",
    "class Cat(Animal):\n",
    "    def make_sound(self):\n",
    "        return \"Meow!\"\n",
    "\n",
    "dog = Dog(\"Buddy\")\n",
    "cat = Cat(\"Whiskers\")\n",
    "\n",
    "print(dog.make_sound())  \n",
    "print(cat.make_sound()) \n",
    "\n",
    "In this example, `Dog` and `Cat` inherit from the `Animal` class, sharing the common attribute `name` and overriding the `make_sound` method with their specific implementations."
   ]
  },
  {
   "cell_type": "markdown",
   "id": "dac36a5c-4573-4d57-aa71-323005ca2fbe",
   "metadata": {},
   "source": [
    "2. Differentiate between single inheritance and multiple inheritance in Python. Provide examples for each."
   ]
  },
  {
   "cell_type": "markdown",
   "id": "698f1029-81c6-47cc-b2e9-1750db53d97a",
   "metadata": {},
   "source": [
    "- Single Inheritance:-\n",
    "  \n",
    "  Single Inheritance occurs when a class inherits from only one superclass.\n",
    "  The derived class inherits attributes and methods from a single base class.\n",
    "    \n",
    "\n",
    "class Animal:\n",
    "    def speak(self):\n",
    "        return \"Animal Speaks\"\n",
    "class Dog(Animal):\n",
    "    def bark(self):\n",
    "        return \"Dog Barks\"\n",
    "    \n",
    "#Instance Creation\n",
    "dog_instance = Dog()\n",
    "\n",
    "#Accessing Methods\n",
    "print(dog_instance.speak())\n",
    "print(dog_instance.bark())\n",
    "\n",
    "\n",
    "- Multiple Inheritance:\n",
    "    Multiple Inheritance occurs when a class inherits from more than \n",
    "    one superclass. The derived class inherits attributes and methods from\n",
    "    multiple base class\n",
    " \n",
    "#Example:-\n",
    "\n",
    "class Animal:\n",
    "    def speak(self):\n",
    "        return \"Animal Speaks\"\n",
    "    \n",
    "class Bird:\n",
    "    def chirp(self):\n",
    "        return \"Bird Chirps\"\n",
    "    \n",
    "class Parrot(Animal, Bird):\n",
    "    def mimic(self):\n",
    "        return \"Parrot Mimics\"\n",
    "    \n",
    "parrot_instance = Parrot()\n",
    "\n",
    "#Access Methods:-\n",
    "print(parrot_instance.speak())\n",
    "print(parrot_instance.chirp())\n",
    "print(parrot_instance.mimic())\n",
    "\n",
    "- Single Inheritance: Inherits from one base class.\n",
    "- Multiple Inheritance: Inherits from more than one base class."
   ]
  },
  {
   "cell_type": "markdown",
   "id": "77c7e34a-6f09-4147-9645-bed43261f66a",
   "metadata": {},
   "source": [
    "3. Create a Python class called `Vehicle` with attributes `color` and `speed`. Then, create a child class called\n",
    "`Car` that inherits from `Vehicle` and adds a `brand` attribute. Provide an example of creating a `Car` object."
   ]
  },
  {
   "cell_type": "code",
   "execution_count": 2,
   "id": "35067b70-b185-44dd-851f-e63864aebb40",
   "metadata": {},
   "outputs": [
    {
     "name": "stdout",
     "output_type": "stream",
     "text": [
      "Color:  Blue\n",
      "Speed:  60\n",
      "Brand:  Toyoto\n"
     ]
    }
   ],
   "source": [
    "class Vehicle:\n",
    "    def __init__(self, color, speed):\n",
    "        self.color = color\n",
    "        self.speed = speed\n",
    "        \n",
    "class Car(Vehicle):\n",
    "    def __init__(self, color, speed, brand):\n",
    "        super().__init__(color, speed)\n",
    "        #Vehicle.__init__(self, color, speed)\n",
    "        self.brand = brand\n",
    "        \n",
    "car_instance = Car(color=\"Blue\", speed=60, brand=\"Toyoto\")\n",
    "\n",
    "print(\"Color: \", car_instance.color)\n",
    "print(\"Speed: \",car_instance.speed)\n",
    "print(\"Brand: \", car_instance.brand)\n",
    "    "
   ]
  },
  {
   "cell_type": "markdown",
   "id": "6f30c789-c75a-40ef-8f1c-fab5ca7826c1",
   "metadata": {},
   "source": [
    "4. Explain the concept of method overriding in inheritance. Provide a practical example."
   ]
  },
  {
   "cell_type": "code",
   "execution_count": 3,
   "id": "87207a43-3202-4e15-8161-2fcc7b85d88b",
   "metadata": {},
   "outputs": [
    {
     "name": "stdout",
     "output_type": "stream",
     "text": [
      "Generic animal sound\n",
      "Bark\n",
      "Meow\n"
     ]
    }
   ],
   "source": [
    " # Method overriding is a concept in object-oriented programming where a subclass provides a specific implementation for a method that is already defined\n",
    " #  in its superclass. The overridden method in the subclass should have the same signature (name and parameters) as the method in the superclass.\n",
    "\n",
    "\n",
    "class Animal:\n",
    "    def make_sound(self):\n",
    "        print(\"Generic animal sound\")\n",
    "class Dog(Animal):\n",
    "    def make_sound(self):\n",
    "        print(\"Bark\")\n",
    "class Cat(Animal):\n",
    "    def make_sound(self):\n",
    "        print(\"Meow\")\n",
    "        \n",
    "generic_animal = Animal()\n",
    "dog = Dog()\n",
    "cat = Cat()\n",
    "\n",
    "generic_animal.make_sound()\n",
    "dog.make_sound()\n",
    "cat.make_sound()"
   ]
  },
  {
   "cell_type": "markdown",
   "id": "390e30d9-7fbd-4ce6-9eed-35976901aff3",
   "metadata": {},
   "source": [
    "5. How can you access the methods and attributes of a parent class from a child class in Python? Give an example."
   ]
  },
  {
   "cell_type": "code",
   "execution_count": 5,
   "id": "305f7766-1e55-49b0-8cd9-3cf9e5b6f161",
   "metadata": {},
   "outputs": [
    {
     "name": "stdout",
     "output_type": "stream",
     "text": [
      "Child's name: Junior\n",
      "Parent's name: John\n"
     ]
    }
   ],
   "source": [
    "class Parent:\n",
    "    def __init__(self, name):\n",
    "        self.name = name\n",
    "        \n",
    "    def display_name(self):\n",
    "        print(f\"Parent's name: {self.name}\")\n",
    "        \n",
    "class Child(Parent):\n",
    "    def __init__(self, name, child_name):\n",
    "        super().__init__(name)\n",
    "        self.child_name = child_name\n",
    "        \n",
    "    def display_child_name(self):\n",
    "        print(f\"Child's name: {self.child_name}\")\n",
    "        \n",
    "    def display_parent_name(self):\n",
    "        ##Accessing the method of the parent class  using super()\n",
    "        super().display_name()\n",
    "        \n",
    "child_instance = Child(\"John\", \"Junior\")\n",
    "\n",
    "child_instance.display_child_name()\n",
    "child_instance.display_parent_name()"
   ]
  },
  {
   "cell_type": "markdown",
   "id": "b7bd373b-945c-463a-916c-384b2218c780",
   "metadata": {},
   "source": [
    "6. Discuss the use of the `super()` function in Python inheritance. When and why is it used? Provide an example."
   ]
  },
  {
   "cell_type": "code",
   "execution_count": 8,
   "id": "a795c9de-c0d0-474d-b55c-a9432dbf469b",
   "metadata": {},
   "outputs": [
    {
     "name": "stdout",
     "output_type": "stream",
     "text": [
      "Generoc Animal makes a generic animal sound.\n",
      "Buddy makes a generic animal sound.\n",
      "Buddy barks loudly. Woof!!\n"
     ]
    }
   ],
   "source": [
    "# The super() function in Python is used in the context of inheritance to refer to the parent class. It allows you to call methods or access attributes from\n",
    "# the parent class within the child class. This is particularly useful when you override methods in the child class and still want to utilize the functionality\n",
    "# of the overridden method in the parent class.\n",
    "\n",
    "class Animal:\n",
    "    def __init__(self,name):\n",
    "        self.name = name\n",
    "        \n",
    "    def speak(self):\n",
    "        print(f\"{self.name} makes a generic animal sound.\")\n",
    "        \n",
    "class Dog(Animal):\n",
    "    def __init__(self, name, breed):\n",
    "        super().__init__(name)\n",
    "        self.breed = breed\n",
    "    \n",
    "    def speak(self):\n",
    "        super().speak() ##calling speak method of parent class\n",
    "        print(f\"{self.name} barks loudly. Woof!!\")\n",
    "        \n",
    "animal_instance = Animal(\"Generoc Animal\")\n",
    "dog_instance = Dog(\"Buddy\", \"Labrador\")\n",
    "\n",
    "\n",
    "animal_instance.speak()\n",
    "dog_instance.speak()"
   ]
  },
  {
   "cell_type": "markdown",
   "id": "c71ab1f5-e1e3-4d78-afac-4305c6a2be8e",
   "metadata": {},
   "source": [
    "7. What is the significance of the `self` parameter in Python constructors? Explain with an example."
   ]
  },
  {
   "cell_type": "code",
   "execution_count": 2,
   "id": "8af88783-72d2-4378-87ef-65656a14d901",
   "metadata": {},
   "outputs": [
    {
     "name": "stdout",
     "output_type": "stream",
     "text": [
      "Name: Amit, Age: 23\n",
      "Name: Abhishek, Age: 55\n"
     ]
    }
   ],
   "source": [
    "#In Python, the self parameter in constructors (and other instance methods) refers to the instance of the class itself. It is a convention in Python to use self\n",
    "#as the first parameter in instance methods, including constructors, although you can technically name it differently. When you create an instance of a class, \n",
    "#Python automatically passes the instance itself as the first argument to the constructor.\n",
    "\n",
    "\n",
    "class Person:\n",
    "    def __init__(self, name, age):\n",
    "        self.name = name\n",
    "        self.age = age\n",
    "        \n",
    "    def display(self):\n",
    "        print(f\"Name: {self.name}, Age: {self.age}\")\n",
    "        \n",
    "person1 = Person(\"Amit\", 23)\n",
    "person2 = Person(\"Abhishek\", 55)\n",
    "\n",
    "person1.display()\n",
    "person2.display()"
   ]
  },
  {
   "cell_type": "markdown",
   "id": "acc6cc96-8de0-4b28-a6bc-c5fb7d434a97",
   "metadata": {},
   "source": [
    "8. Discuss the concept of default constructors in Python. When are they used?"
   ]
  },
  {
   "cell_type": "code",
   "execution_count": 3,
   "id": "d2262bb0-1335-4a64-b970-68baf9cda638",
   "metadata": {},
   "outputs": [
    {
     "name": "stdout",
     "output_type": "stream",
     "text": [
      "Hello, I am Human!!\n"
     ]
    }
   ],
   "source": [
    "# - In Python, a constructor is a special method used for initializing new objects. If a class does not define a constructor, Python provides a default constructor for it. \n",
    "#-  The default constructor is a method named __init__ that takes no arguments (except for the mandatory self parameter) and does nothing.\n",
    "\n",
    "# - Default constructors are used in situations where the class does not require any specific initialization logic beyond what is provided by Python's default behavior. \n",
    "# - They are particularly common when you define simple data classes that primarily hold data without requiring additional setup or validation.\n",
    "\n",
    "\n",
    "class Person:\n",
    "    def __init__(self):\n",
    "        pass\n",
    "    \n",
    "    def display(self):\n",
    "        print(\"Hello, I am Human!!\")\n",
    "        \n",
    "person = Person()\n",
    "person.display()"
   ]
  },
  {
   "cell_type": "markdown",
   "id": "e70f1871-2b4e-4dc7-8879-edbded2cb48e",
   "metadata": {},
   "source": [
    "9. Create a Python class called `Rectangle` with a constructor that initializes the `width` and `height`\n",
    "attributes. Provide a method to calculate the area of the rectangle."
   ]
  },
  {
   "cell_type": "code",
   "execution_count": 8,
   "id": "4fde4b8c-69a2-45d2-9ae4-f59f96e451fc",
   "metadata": {},
   "outputs": [
    {
     "name": "stdout",
     "output_type": "stream",
     "text": [
      "Area of Rectangle is:  50\n"
     ]
    }
   ],
   "source": [
    "class Rectangle:\n",
    "    def __init__(self, width, height):\n",
    "        self.width = width\n",
    "        self.height = height\n",
    "        \n",
    "    def area_of_rectangle(self):\n",
    "        return self.width*self.height\n",
    "    \n",
    "rectangle = Rectangle(5,10)\n",
    "\n",
    "print(\"Area of Rectangle is: \", rectangle.area_of_rectangle())\n",
    "        "
   ]
  },
  {
   "cell_type": "markdown",
   "id": "491e3351-18b3-44a5-b8cf-515278838d3b",
   "metadata": {},
   "source": [
    "10. How can you have multiple constructors in a Python class? Explain with an example."
   ]
  },
  {
   "cell_type": "code",
   "execution_count": 9,
   "id": "4534a03e-009c-4890-a08d-ee9f5b3b7a26",
   "metadata": {},
   "outputs": [
    {
     "name": "stdout",
     "output_type": "stream",
     "text": [
      "50\n",
      "49\n",
      "0\n"
     ]
    }
   ],
   "source": [
    "# In Python, you can't have multiple constructors like in some other programming languages such as Java. However, you can achieve similar functionality by using\n",
    "# default parameter values and optional arguments.\n",
    "\n",
    "class Rectangle:\n",
    "    def __init__(self, width=None, height=None):\n",
    "        if width is not None and height is not None:\n",
    "            self.width = width\n",
    "            self.height = height\n",
    "        elif width is not None:\n",
    "            self.width = width\n",
    "            self.height = width\n",
    "        else:\n",
    "            self.width=0\n",
    "            self.height=0\n",
    "            \n",
    "    def area(self):\n",
    "        return self.width*self.height\n",
    "    \n",
    "rect1 = Rectangle(5,10)\n",
    "print(rect1.area())\n",
    "\n",
    "rect2 = Rectangle(7)\n",
    "print(rect2.area())\n",
    "\n",
    "rect3 = Rectangle()\n",
    "print(rect3.area())"
   ]
  },
  {
   "cell_type": "markdown",
   "id": "848d780d-aafc-4a8b-97fb-56f40e64b8e1",
   "metadata": {},
   "source": [
    "11. What is method overloading, and how is it related to constructors in Python?"
   ]
  },
  {
   "cell_type": "code",
   "execution_count": 10,
   "id": "30c7fe9a-4a5c-4ed7-a9df-b3d5f172fbdc",
   "metadata": {},
   "outputs": [
    {
     "name": "stdout",
     "output_type": "stream",
     "text": [
      "0 0\n",
      "5 0\n",
      "2 3\n"
     ]
    }
   ],
   "source": [
    "# In Python, method overloading refers to the ability to define multiple methods with the same name but with different parameters or different types of \n",
    "# parameters within the same class. This allows a single method name to behave differently based on the number or types of arguments passed to it.\n",
    "\n",
    "# In the context of constructors (i.e., __init__ methods) in Python, method overloading can be simulated using default parameter values, optional arguments, \n",
    "# or variable-length argument lists (*args and kwargs). By defining a single constructor method that accepts different combinations of arguments, you can \n",
    "# achieve similar functionality to method overloading.\n",
    "\n",
    "\n",
    "class MyClass:\n",
    "    def __init__(self, x=None, y=None):\n",
    "        if x is not None and y is not None:\n",
    "            self.x = x\n",
    "            self.y = y\n",
    "            \n",
    "        elif x is not None:\n",
    "            self.x = x\n",
    "            self.y = 0\n",
    "        \n",
    "        else:\n",
    "            self.x = 0\n",
    "            self.y = 0\n",
    "            \n",
    "obj1 = MyClass()\n",
    "obj2 = MyClass(5)\n",
    "obj3 = MyClass(2,3)\n",
    "\n",
    "print(obj1.x, obj1.y)\n",
    "print(obj2.x, obj2.y)\n",
    "print(obj3.x, obj3.y)"
   ]
  },
  {
   "cell_type": "markdown",
   "id": "741be2b4-c3fa-4395-958f-bd351791df07",
   "metadata": {},
   "source": [
    "12. Explain the use of the `super()` function in Python constructors. Provide an example."
   ]
  },
  {
   "cell_type": "code",
   "execution_count": 12,
   "id": "93cb43e0-58b8-4565-9d37-d8c233eae56f",
   "metadata": {},
   "outputs": [
    {
     "name": "stdout",
     "output_type": "stream",
     "text": [
      "Parent class constructor called\n",
      "Child class constructor called\n",
      "Parent attribute: Parent attribute value\n",
      "Child attribute: Child attribute value\n"
     ]
    }
   ],
   "source": [
    "# In Python, the super() function is used to call methods and access attributes from the parent class within a child class. When working with inheritance,\n",
    "# super() allows you to invoke the methods of the parent class, enabling you to extend or override their behavior in the child class.\n",
    "\n",
    "# The super() function is commonly used in constructors (__init__ methods) to initialize attributes inherited from the parent class\n",
    "# before adding new attributes specific to the child class. This ensures that the initialization logic defined in the parent class is\n",
    "# executed before the child class's initialization logic.\n",
    "\n",
    "\n",
    "\n",
    "class Parent:\n",
    "    def __init__(self,parent_attribute):\n",
    "        self.parent_attribute = parent_attribute\n",
    "        print(\"Parent class constructor called\")\n",
    "        \n",
    "class Child(Parent):\n",
    "    def __init__(self, parent_attribute, child_attribute):\n",
    "        super().__init__(parent_attribute)\n",
    "        self.child_attribute = child_attribute\n",
    "        print(\"Child class constructor called\")\n",
    "        \n",
    "child_obj = Child(\"Parent attribute value\", \"Child attribute value\")\n",
    "\n",
    "print(\"Parent attribute:\", child_obj.parent_attribute)\n",
    "print(\"Child attribute:\", child_obj.child_attribute)"
   ]
  },
  {
   "cell_type": "markdown",
   "id": "8236aa04-fc89-43aa-8d51-a28da225ad12",
   "metadata": {},
   "source": [
    "13. Create a class called `Book` with a constructor that initializes the `title`, `author`, and `published_year`\n",
    "attributes. Provide a method to display book details."
   ]
  },
  {
   "cell_type": "code",
   "execution_count": 16,
   "id": "56adbb6c-5b7e-48f8-a826-d56e996628d4",
   "metadata": {},
   "outputs": [
    {
     "name": "stdout",
     "output_type": "stream",
     "text": [
      "The Book details are: \n",
      "Title:  Half Girl_Friend\n",
      "Author Name:  Chetan Bhagat\n",
      "Published_Year:  2016\n"
     ]
    }
   ],
   "source": [
    "class Book:\n",
    "    def __init__(self, title, author, published_year):\n",
    "        self.title = title\n",
    "        self.author = author\n",
    "        self.published_year = published_year\n",
    "        \n",
    "    def display_book_details(self):\n",
    "        print(\"Title: \", self.title)\n",
    "        print(\"Author Name: \", self.author)\n",
    "        print(\"Published_Year: \",self.published_year)\n",
    "        \n",
    "book = Book(\"Half Girl_Friend\", \"Chetan Bhagat\", 2016)\n",
    "\n",
    "print(\"The Book details are: \")\n",
    "book.display_book_details()"
   ]
  },
  {
   "cell_type": "markdown",
   "id": "2553371a-bd17-4088-bb65-ec88b88b7cd5",
   "metadata": {},
   "source": [
    "14. Discuss the differences between constructors and regular methods in Python classes."
   ]
  },
  {
   "cell_type": "markdown",
   "id": "57e9d59f-0051-46a2-8772-da09c3f4222c",
   "metadata": {},
   "source": [
    "Constructors and regular methods serve different purposes in Python classes:\n",
    "\n",
    "1. Constructors:\n",
    "   - Constructors are special methods that are automatically called when a new instance of a class is created.\n",
    "   - In Python, the constructor method is named `__init__()`.\n",
    "   - The primary purpose of a constructor is to initialize the attributes of the object to specific values.\n",
    "   - Constructors are typically used to set up the initial state of an object.\n",
    "   - Constructors do not return any value explicitly; their main task is initialization.\n",
    "\n",
    "2. Regular methods:\n",
    "   - Regular methods are functions defined within a class and can be called on instances of the class.\n",
    "   - These methods take the instance itself (often referred to as `self`) as the first parameter.\n",
    "   - Regular methods can perform various tasks and manipulate the object's state.\n",
    "   - They can access and modify object attributes and perform any necessary computations.\n",
    "   - Regular methods can return values, perform calculations, or modify the object's state based on the given parameters.\n",
    "\n",
    "In summary, constructors are specifically used for initializing object attributes when instances of a class are created, while \n",
    "regular methods can perform various tasks and operations on objects after they have been initialized."
   ]
  },
  {
   "cell_type": "markdown",
   "id": "28deaf12-a15f-42d8-849e-bfd7fdbc781e",
   "metadata": {},
   "source": [
    "15. Explain the role of the `self` parameter in instance variable initialization within a constructor."
   ]
  },
  {
   "cell_type": "markdown",
   "id": "6c8308f8-dc63-4165-b455-513d5a7666a5",
   "metadata": {},
   "source": [
    "In Python, the `self` parameter in a constructor plays a crucial role in initializing instance variables within a class. Here's how it works:\n",
    "\n",
    "1. Reference to the Instance:\n",
    "   - In Python, when a method is called on an instance of a class, the instance itself is automatically passed as the first parameter to the method. \n",
    "     By convention, this parameter is named `self`.\n",
    "   - Within the constructor (`__init__()` method), `self` refers to the instance being created. It represents the instance of the class and allows \n",
    "     access to its attributes and methods.\n",
    "\n",
    "2. Accessing Instance Variables:\n",
    "   - Inside the constructor, `self` is used to access and initialize instance variables.\n",
    "   - When you want to create or modify an instance variable within the constructor, you use `self.variable_name = initial_value`. This assigns the \n",
    "     specified value to the instance variable for the current object.\n",
    "\n",
    "3. Instance Scope:\n",
    "   - By using `self` to initialize instance variables, you ensure that they are associated with the instance itself and not just with the constructor's local scope.\n",
    "   - Instance variables initialized with `self` are accessible throughout the object's lifetime, allowing them to be used in other methods of the class.\n",
    "\n",
    "4. Instance-specific Data:\n",
    "   - Each instance of a class can have its own set of instance variables. By using `self` in the constructor, you can assign unique initial values to these variables\n",
    "     for each object created from the class.\n",
    "\n",
    "In summary, the `self` parameter in the constructor allows you to initialize instance variables within a class, ensuring that they are associated with individual \n",
    "instances and can be accessed and manipulated throughout the object's lifetime."
   ]
  },
  {
   "cell_type": "markdown",
   "id": "3ddba82d-fe3b-453a-9219-06fab3428000",
   "metadata": {},
   "source": [
    "16. How do you prevent a class from having multiple instances by using constructors in Python? Provide an example."
   ]
  },
  {
   "cell_type": "code",
   "execution_count": 23,
   "id": "5e67967c-3b8c-46d0-bc92-ecdcaca6d077",
   "metadata": {},
   "outputs": [
    {
     "name": "stdout",
     "output_type": "stream",
     "text": [
      "10\n",
      "10\n",
      "True\n"
     ]
    }
   ],
   "source": [
    "# To prevent a class from having multiple instances in Python, you can implement the Singleton design pattern. The Singleton pattern ensures that a \n",
    "#class has only one instance and provides a global point of access to that instance.\n",
    "\n",
    "class Singleton:\n",
    "    _instance = None\n",
    "\n",
    "    def __new__(cls, *args, kwargs):\n",
    "        if not cls._instance:\n",
    "            cls._instance = super().__new__(cls)\n",
    "        return cls._instance\n",
    "\n",
    "    def __init__(self, value):\n",
    "\n",
    "        if not hasattr(self, 'initialized'):\n",
    "            self.value = value\n",
    "            self.initialized = True\n",
    "\n",
    "\n",
    "singleton1 = Singleton(10)\n",
    "singleton2 = Singleton(20)\n",
    "\n",
    "\n",
    "print(singleton1.value)  \n",
    "print(singleton2.value)  \n",
    "print(singleton1 is singleton2)  \n",
    "\n"
   ]
  },
  {
   "cell_type": "markdown",
   "id": "c9ee8e61-8b10-40ef-8782-9e93bc0d71f9",
   "metadata": {},
   "source": [
    "17. Create a Python class called `Student` with a constructor that takes a list of subjects as a parameter and\n",
    "initializes the `subjects` attribute."
   ]
  },
  {
   "cell_type": "code",
   "execution_count": 25,
   "id": "8928ccf5-8126-4a81-bfdf-2cc3966bdce6",
   "metadata": {},
   "outputs": [
    {
     "name": "stdout",
     "output_type": "stream",
     "text": [
      "['Math', 'Science', 'History']\n"
     ]
    }
   ],
   "source": [
    "class Student:\n",
    "    def __init__(self, subjects):\n",
    "        self.subjects = subjects\n",
    "        \n",
    "student = Student([\"Math\", \"Science\", \"History\"])\n",
    "print(student.subjects)"
   ]
  },
  {
   "cell_type": "markdown",
   "id": "b1cf67cb-0978-4d3e-ac92-ae117de143a0",
   "metadata": {},
   "source": [
    "18. What is the purpose of the `__del__` method in Python classes, and how does it relate to constructors?"
   ]
  },
  {
   "cell_type": "markdown",
   "id": "07dacf24-1809-4e06-a38f-d4ac8807a354",
   "metadata": {},
   "source": [
    "The `__del__` method in Python classes serves as a destructor, and it is called when an object is about to be destroyed or \n",
    "garbage collected. Its purpose is to perform any cleanup or resource releasing operations before the object is removed from memory.\n",
    "\n",
    "The `__del__` method is related to constructors (`__init__` method) in that they both deal with the lifecycle of objects, but in opposite directions:\n",
    "- The constructor (`__init__`) is called when an object is being created and initialized.\n",
    "- The destructor (`__del__`) is called when an object is being destroyed or deleted.\n",
    "\n",
    "Here's a simple example to illustrate the use of the `__del__` method:\n",
    "\n",
    "```python\n",
    "class MyClass:\n",
    "    def __init__(self, name):\n",
    "        self.name = name\n",
    "        print(f\"Object {self.name} created.\")\n",
    "\n",
    "    def __del__(self):\n",
    "        print(f\"Object {self.name} destroyed.\")\n",
    "\n",
    "# Create an object\n",
    "obj1 = MyClass(\"obj1\")\n",
    "\n",
    "# Delete the object explicitly\n",
    "del obj1\n",
    "\n",
    "# Output:\n",
    "# Object obj1 created.\n",
    "# Object obj1 destroyed.\n",
    "```\n",
    "\n",
    "In this example:\n",
    "- When the `obj1` object is created, the `__init__` method is called, printing \"Object obj1 created.\"\n",
    "- When the `obj1` object is explicitly deleted using `del obj1`, the `__del__` method is called, printing \"Object obj1 destroyed.\""
   ]
  },
  {
   "cell_type": "markdown",
   "id": "7f1b3ff0-b780-4413-aa3c-1b5a2031287e",
   "metadata": {},
   "source": [
    "19. Explain the use of constructor chaining in Python. Provide a practical example."
   ]
  },
  {
   "cell_type": "code",
   "execution_count": 26,
   "id": "9a8d5e88-5b60-486a-918d-6eaccd81f5d1",
   "metadata": {},
   "outputs": [
    {
     "name": "stdout",
     "output_type": "stream",
     "text": [
      "Parent constructor called with name: Akki\n",
      "Child constructor called with age: 10\n"
     ]
    }
   ],
   "source": [
    "# Constructor chaining in Python refers to the process of calling one constructor from another constructor within the same class or between parent \n",
    "# and child classes. This allows for code reuse and helps in initializing attributes efficiently.\n",
    "\n",
    "\n",
    "class Parent:\n",
    "    def __init__(self, name):\n",
    "        self.name = name\n",
    "        print(f\"Parent constructor called with name: {self.name}\")\n",
    "        \n",
    "class Child(Parent):\n",
    "    def __init__(self, name, age):\n",
    "        super().__init__(name) \n",
    "        self.age = age\n",
    "        print(f\"Child constructor called with age: {self.age}\")\n",
    "        \n",
    "child = Child(\"Akki\", 10)\n",
    "\n",
    "\n",
    "#Constructor chaining helps avoid code duplication and ensures that all necessary initialization steps are performed when creating objects of child classes.\n"
   ]
  },
  {
   "cell_type": "markdown",
   "id": "32b0469e-dd07-44eb-8dad-0acaba8e6cd8",
   "metadata": {},
   "source": [
    "20. Create a Python class called `Car` with a default constructor that initializes the `make` and `model`\n",
    "attributes. Provide a method to display car information."
   ]
  },
  {
   "cell_type": "code",
   "execution_count": 1,
   "id": "b47804e7-dc17-4d7b-94a2-edb008b1a62e",
   "metadata": {},
   "outputs": [
    {
     "name": "stdout",
     "output_type": "stream",
     "text": [
      "Car Make: Toyota\n",
      "Car Model: Corolla\n"
     ]
    }
   ],
   "source": [
    "class Car:\n",
    "    def __init__(self, make, model):\n",
    "        self.make = make\n",
    "        self.model = model\n",
    "        \n",
    "    def display_car_info(self):\n",
    "        print(f\"Car Make: {self.make}\")\n",
    "        print(f\"Car Model: {self.model}\")\n",
    "\n",
    "car = Car(\"Toyota\", \"Corolla\")\n",
    "\n",
    "car.display_car_info()\n"
   ]
  },
  {
   "cell_type": "markdown",
   "id": "5cd76ec1-1199-438e-8004-9fd939a2992c",
   "metadata": {},
   "source": [
    "# Inheritance:"
   ]
  },
  {
   "cell_type": "markdown",
   "id": "e97b61c9-cde1-40a9-9876-f3641d7c511e",
   "metadata": {},
   "source": [
    "1. What is inheritance in Python? Explain its significance in object-oriented programming."
   ]
  },
  {
   "cell_type": "markdown",
   "id": "62b307c5-80a9-4839-aeaa-b0c6d993742d",
   "metadata": {},
   "source": [
    "Inheritance is a fundamental concept in object-oriented programming (OOP) where a new class (subclass or derived class) is created based on an existing\n",
    "class (superclass or base class). The new class inherits attributes and methods from the existing class and can also have its own additional attributes and methods.\n",
    "\n",
    "The significance of inheritance in Python and OOP, in general, includes:\n",
    "\n",
    "1. Code Reusability: Inheritance allows us to reuse code by defining common attributes and methods in a base class, which can then be inherited by multiple subclasses.\n",
    "    This reduces code duplication and promotes a modular and organized codebase.\n",
    "\n",
    "2. Hierarchical Structure: Inheritance supports creating a hierarchical structure of classes, where subclasses inherit from superclasses, forming a parent-child \n",
    "     relationship. This helps in organizing and managing related classes in a logical manner.\n",
    "\n",
    "3. Polymorphism: Inheritance enables polymorphism, which allows objects of different classes to be treated uniformly based on their common superclass.\n",
    "     This promotes flexibility and allows for more generic and reusable code.\n",
    "\n",
    "4. Extensibility: Subclasses can extend the functionality of their parent classes by adding new attributes and methods or by overriding existing methods. \n",
    "     This facilitates the modification and extension of the behavior of existing classes without modifying their implementation directly.\n",
    "\n",
    "Overall, inheritance enhances code organization, promotes code reuse, and supports the principles of OOP such as encapsulation, abstraction, and polymorphism."
   ]
  },
  {
   "cell_type": "markdown",
   "id": "36857bf0-3da8-487b-a41d-ff2b89979380",
   "metadata": {},
   "source": [
    "2. Differentiate between single inheritance and multiple inheritance in Python. Provide examples for each."
   ]
  },
  {
   "cell_type": "markdown",
   "id": "22ed1174-eeb5-4b6d-944d-9ade0c96d1f7",
   "metadata": {},
   "source": [
    "- Single Inheritance:\n",
    "    Single inheritance refers to the scenario where a subclass inherits from only one superclass. This is the most common form of inheritance. \n",
    "    In single inheritance, the subclass inherits the attributes and methods of a single parent class.\n",
    "    \n",
    "    \n",
    "    Example\n",
    "class Animal:\n",
    "    def speak(self):\n",
    "        print(\"Animal Speaks\")\n",
    "            \n",
    "class Dog(Animal):\n",
    "    def bark(self):\n",
    "        print(\"Dog Barks\")\n",
    "    \n",
    "dog = Dog()\n",
    "dog.speak()\n",
    "dog.bark()\n",
    "\n",
    "- Multiple inheritance occurs when a subclass inherits from more than one\n",
    "  superclass. This allows the subclass to inherit attributes and methods\n",
    "    from multiple parent classes. While powerful, multiple inheritance can\n",
    "    lead to complexities and potential issues like the diamond problem.\n",
    "    \n",
    "    #Example\n",
    "    \n",
    "class Animal:\n",
    "    def speak(self):\n",
    "        print(\"Animal Speaks\")\n",
    "class Bird:\n",
    "    def chirp(self):\n",
    "        print(\"Bird Chirps\")\n",
    "            \n",
    "class Parrot(Animal, Bird):\n",
    "    def fly(self):\n",
    "        print(\"Parrot Flies\")\n",
    "            \n",
    "parrot = Parrot()\n",
    "parrot.speak()\n",
    "parrot.chirp()\n",
    "parrot.fly()\n"
   ]
  },
  {
   "cell_type": "markdown",
   "id": "96e869cb-7cf4-483a-9a09-d2fc2e9e2378",
   "metadata": {},
   "source": [
    "3. Create a Python class called `Vehicle` with attributes `color` and `speed`. Then, create a child class called\n",
    "`Car` that inherits from `Vehicle` and adds a `brand` attribute. Provide an example of creating a `Car` object."
   ]
  },
  {
   "cell_type": "code",
   "execution_count": 10,
   "id": "c39ca454-6e2a-425a-a7e3-0103e84971e8",
   "metadata": {},
   "outputs": [
    {
     "name": "stdout",
     "output_type": "stream",
     "text": [
      "Color:  Blue\n",
      "Speed:  120\n",
      "Brand:  Swift\n"
     ]
    }
   ],
   "source": [
    "class Vehicle:\n",
    "    def __init__(self, color, speed):\n",
    "        self.color = color\n",
    "        self.speed = speed\n",
    "    \n",
    "class Car(Vehicle):\n",
    "    def __init__(self,color, speed, brand):\n",
    "        super().__init__(color, speed)\n",
    "        self.brand = brand\n",
    "        \n",
    "car = Car(\"Blue\", 120, \"Swift\")\n",
    "\n",
    "print(f\"Color: \", car.color)\n",
    "print(f\"Speed: \",car.speed)\n",
    "print(f\"Brand: \",car.brand)"
   ]
  },
  {
   "cell_type": "markdown",
   "id": "68ad75b2-7a2b-4857-8ade-34cdca7a178f",
   "metadata": {},
   "source": [
    "4. Explain the concept of method overriding in inheritance. Provide a practical example."
   ]
  },
  {
   "cell_type": "code",
   "execution_count": 11,
   "id": "587f969e-801f-4aa1-a290-5e25decfd88b",
   "metadata": {},
   "outputs": [
    {
     "name": "stdout",
     "output_type": "stream",
     "text": [
      "WOlf!!\n",
      "Meow!!\n"
     ]
    }
   ],
   "source": [
    "# Method overriding is a concept in object-oriented programming where a subclass provides a specific implementation of a method that is already defined in its superclass. \n",
    "# This allows the subclass to customize the behavior of the method according to its own requirements while maintaining the same method signature as the superclass.\n",
    "\n",
    "\n",
    "class Animal:\n",
    "    def make_sound(self):\n",
    "        print(\"Generic Animal Sound\")\n",
    "        \n",
    "class Dog(Animal):\n",
    "    def make_sound(self):\n",
    "        print(\"WOlf!!\")\n",
    "\n",
    "class Cat(Animal):\n",
    "    def make_sound(self):\n",
    "        print(\"Meow!!\")\n",
    "        \n",
    "dog = Dog()\n",
    "cat = Cat()\n",
    "\n",
    "dog.make_sound()\n",
    "cat.make_sound()\n"
   ]
  },
  {
   "cell_type": "markdown",
   "id": "305de7b1-13c8-44dc-b4e9-5d70c8b1472e",
   "metadata": {},
   "source": [
    "5. How can you access the methods and attributes of a parent class from a child class in Python? Give an example."
   ]
  },
  {
   "cell_type": "code",
   "execution_count": 13,
   "id": "63d7d2ef-7ca7-4cdc-a963-9f4ca7493807",
   "metadata": {},
   "outputs": [
    {
     "name": "stdout",
     "output_type": "stream",
     "text": [
      "Hello, I'm Amit\n",
      "I am 15 years old\n"
     ]
    }
   ],
   "source": [
    "# - We can access the methods and attributes of a parent class from a child class using the super() function. \n",
    "#   The super() function returns a proxy object that allows you to call methods and access attributes defined in the parent class.\n",
    "    \n",
    "\n",
    "class Parent:\n",
    "    def __init__(self, name):\n",
    "        self.name = name\n",
    "        \n",
    "    def greet(self):\n",
    "        print(f\"Hello, I'm {self.name}\")\n",
    "        \n",
    "class Child(Parent):\n",
    "    def __init__(self, name, age):\n",
    "        super().__init__(name)\n",
    "        self.age = age\n",
    "        \n",
    "    def greet_and_age(self):\n",
    "        super().greet()\n",
    "        print(f\"I am {self.age} years old\")\n",
    "        \n",
    "child = Child(\"Amit\", 15)\n",
    "child.greet_and_age()"
   ]
  },
  {
   "cell_type": "markdown",
   "id": "1827baed-5eca-4d2f-aa2c-79197ef538ac",
   "metadata": {},
   "source": [
    "6. Discuss the use of the `super()` function in Python inheritance. When and why is it used? Provide an example."
   ]
  },
  {
   "cell_type": "code",
   "execution_count": 14,
   "id": "298ae055-0bc3-4d88-b66e-9960743260f6",
   "metadata": {},
   "outputs": [
    {
     "name": "stdout",
     "output_type": "stream",
     "text": [
      "Hello, I'm Alice\n",
      "I am 10 years old\n"
     ]
    }
   ],
   "source": [
    "# The super() function in Python is used to access methods and attributes from the parent class within the child class. It allows child classes to invoke methods \n",
    "# of the parent class and provides a way to delegate calls to the parent class constructor or methods.\n",
    "\n",
    "# One common use case of super() is to call the constructor of the parent class from the child class's constructor. This ensures that initialization code defined\n",
    "# in the parent class is executed properly before any additional initialization in the child class.\n",
    "\n",
    "\n",
    "\n",
    "class Parent:\n",
    "    def __init__(self, name):\n",
    "        self.name = name\n",
    "    \n",
    "    def greet(self):\n",
    "        print(f\"Hello, I'm {self.name}\")\n",
    "\n",
    "class Child(Parent):\n",
    "    def __init__(self, name, age):\n",
    "        super().__init__(name)  \n",
    "        self.age = age\n",
    "    \n",
    "    def greet_and_age(self):\n",
    "        super().greet()  \n",
    "        print(f\"I am {self.age} years old\")\n",
    "\n",
    "child = Child(\"Alice\", 10)\n",
    "\n",
    "\n",
    "child.greet_and_age()  \n"
   ]
  },
  {
   "cell_type": "markdown",
   "id": "171d3edf-d007-45f1-9c1d-5aad0cf5a5d6",
   "metadata": {},
   "source": [
    "7. Create a Python class called `Animal` with a method `speak()`. Then, create child classes `Dog` and `Cat` that inherit from `Animal` and override the `speak()` method. Provide an example of using these classes."
   ]
  },
  {
   "cell_type": "code",
   "execution_count": 15,
   "id": "cc18a765-15ba-4637-b2f7-9823866300f1",
   "metadata": {},
   "outputs": [
    {
     "name": "stdout",
     "output_type": "stream",
     "text": [
      "Woof!\n",
      "Meow!\n"
     ]
    }
   ],
   "source": [
    "class Animal:\n",
    "    def speak(self):\n",
    "        pass \n",
    "\n",
    "class Dog(Animal):\n",
    "    def speak(self):\n",
    "        return \"Woof!\"\n",
    "\n",
    "class Cat(Animal):\n",
    "    def speak(self):\n",
    "        return \"Meow!\"\n",
    "\n",
    "dog = Dog()\n",
    "print(dog.speak())  \n",
    "\n",
    "cat = Cat()\n",
    "print(cat.speak())  \n"
   ]
  },
  {
   "cell_type": "markdown",
   "id": "780f791e-9016-4411-bbb3-5863ee803f38",
   "metadata": {},
   "source": [
    "8. Explain the role of the `isinstance()` function in Python and how it relates to inheritance."
   ]
  },
  {
   "cell_type": "code",
   "execution_count": 17,
   "id": "eacdb16a-b12d-4947-8c5c-b8499bb16468",
   "metadata": {},
   "outputs": [
    {
     "name": "stdout",
     "output_type": "stream",
     "text": [
      "True\n",
      "True\n"
     ]
    }
   ],
   "source": [
    "# The isinstance() function in Python is used to determine if an object is an instance of a particular class or its subclass. It takes two arguments:\n",
    "# the object to be checked and the class or tuple of classes to be checked against. It returns True if the object is an instance of the specified class\n",
    "# or its subclass, otherwise, it returns False. isinstance() is often used to perform type-checking and polymorphic behavior in Python programs.\n",
    "\n",
    "class Animal:\n",
    "    pass\n",
    "\n",
    "class Dog(Animal):\n",
    "    pass\n",
    "\n",
    "dog = Dog()\n",
    "print(isinstance(dog, Dog))\n",
    "print(isinstance(dog, Animal))"
   ]
  },
  {
   "cell_type": "markdown",
   "id": "d35da1b3-69e8-41c8-9047-fcdee810fff0",
   "metadata": {},
   "source": [
    "9. What is the purpose of the `issubclass()` function in Python? Provide an example."
   ]
  },
  {
   "cell_type": "code",
   "execution_count": 18,
   "id": "e8ef236c-1ac1-4740-a2dd-0b31764e2801",
   "metadata": {},
   "outputs": [
    {
     "name": "stdout",
     "output_type": "stream",
     "text": [
      "True\n",
      "True\n"
     ]
    }
   ],
   "source": [
    "# The issubclass() function in Python is used to determine if a class is a subclass of another class. It takes two arguments: the class to be checked\n",
    "# and the class or tuple of classes to be checked against. It returns True if the first class is a subclass of any of the specified classes, otherwise,\n",
    "# it returns False.\n",
    "\n",
    "class Animal:\n",
    "    pass\n",
    "\n",
    "class Dog(Animal):\n",
    "    pass\n",
    "\n",
    "print(issubclass(Dog, Animal))  # Output: True\n",
    "print(issubclass(Dog, object))  # Output: True\n"
   ]
  },
  {
   "cell_type": "markdown",
   "id": "d12beb8a-a533-4666-a434-9a5964c4673e",
   "metadata": {},
   "source": [
    "10. Discuss the concept of constructor inheritance in Python. How are constructors inherited in child classes?"
   ]
  },
  {
   "cell_type": "code",
   "execution_count": 19,
   "id": "08188ccd-bc7b-48bc-804e-41ebae1f033c",
   "metadata": {},
   "outputs": [
    {
     "name": "stdout",
     "output_type": "stream",
     "text": [
      "10\n"
     ]
    }
   ],
   "source": [
    "# Constructor inheritance in Python occurs automatically when a subclass does not define its own constructor. In such cases, the constructor of the parent\n",
    "# class is automatically inherited by the child class. If the child class defines its own constructor, it can call the constructor of the parent class\n",
    "# explicitly using the super() function.\n",
    "\n",
    "class Parent:\n",
    "    def __init__(self, x):\n",
    "        self.x = x\n",
    "\n",
    "class Child(Parent):\n",
    "    pass\n",
    "\n",
    "child = Child(10)\n",
    "print(child.x)  # Output: 10\n"
   ]
  },
  {
   "cell_type": "markdown",
   "id": "085bd6fd-4de8-459e-9dcf-32b38b9ec644",
   "metadata": {},
   "source": [
    "11. Create a Python class called `Shape` with a method `area()` that calculates the area of a shape. Then, create child classes `Circle` and `Rectangle` that inherit from `Shape` and implement the `area()` method\n",
    "accordingly. Provide an example."
   ]
  },
  {
   "cell_type": "code",
   "execution_count": 20,
   "id": "c35f2351-50ad-4f79-b69b-d68dfa2cbc24",
   "metadata": {},
   "outputs": [
    {
     "name": "stdout",
     "output_type": "stream",
     "text": [
      "78.5\n",
      "20\n"
     ]
    }
   ],
   "source": [
    "class Shape:\n",
    "    def area(self):\n",
    "        pass\n",
    "    \n",
    "class Circle(Shape):\n",
    "    def __init__(self, radius):\n",
    "        self.radius = radius\n",
    "        \n",
    "    def area(self):\n",
    "        return 3.14 * self.radius * self.radius\n",
    "    \n",
    "class Rectangle(Shape):\n",
    "    def __init__(self, width, height):\n",
    "        self.width = width\n",
    "        self.height = height\n",
    "        \n",
    "    def area(self):\n",
    "        return self.width * self.height\n",
    "    \n",
    "circle = Circle(5)\n",
    "print(circle.area())\n",
    "\n",
    "rectangle = Rectangle(4,5)\n",
    "print(rectangle.area())"
   ]
  },
  {
   "cell_type": "markdown",
   "id": "1795838e-c9bf-4f02-812e-2566ca7b6822",
   "metadata": {},
   "source": [
    "12. Explain the use of abstract base classes (ABCs) in Python and how they relate to inheritance. Provide an\n",
    "example using the `abc` module."
   ]
  },
  {
   "cell_type": "code",
   "execution_count": 22,
   "id": "bda05164-145c-4a22-962d-89515a159ca1",
   "metadata": {},
   "outputs": [
    {
     "data": {
      "text/plain": [
       "'\\nfrom abc import ABC, abstractmethod\\nclass Shape(ABC):\\n    @abstractmethod\\n    def area(self):\\n        pass\\n    \\nclass Circle(Shape):\\n    def __init__(self, radius):\\n        self.radius = radius\\n        \\n    def area(self):\\n        return 3.14 * self.radius * self,radius\\n    \\nshape = Shape()\\n'"
      ]
     },
     "execution_count": 22,
     "metadata": {},
     "output_type": "execute_result"
    }
   ],
   "source": [
    "#Abstract base classes (ABCs) in Python are used to define abstract methods that must be implemented by concrete subclasses. \n",
    "# They provide a way to define a common interface for a group of related classes without implementing the methods themselves.\n",
    "# ABCs ensure that subclasses provide implementations for specific methods, enforcing a contract between them.\n",
    "\n",
    "#Example\n",
    "# from abc import ABC, abstractmethod\n",
    "# class Shape(ABC):\n",
    "#     @abstractmethod\n",
    "#     def area(self):\n",
    "#         pass\n",
    "    \n",
    "# class Circle(Shape):\n",
    "#     def __init__(self, radius):\n",
    "#         self.radius = radius\n",
    "        \n",
    "#     def area(self):\n",
    "#         return 3.14 * self.radius * self,radius\n",
    "    \n",
    "# shape = Shape()\n",
    "\n",
    "# In this example, Shape is an abstract base class with an abstract method area(). The Circle class inherits from Shape and provides an implementation for\n",
    "# the area() method, making it concrete."
   ]
  },
  {
   "cell_type": "markdown",
   "id": "c71696c9-d42e-4a76-8df1-baea9c7d827c",
   "metadata": {},
   "source": [
    "13. How can you prevent a child class from modifying certain attributes or methods inherited from a parent\n",
    "class in Python?"
   ]
  },
  {
   "cell_type": "code",
   "execution_count": 27,
   "id": "d2170b3a-7442-4023-9a83-13c01c0d22d0",
   "metadata": {},
   "outputs": [
    {
     "name": "stdout",
     "output_type": "stream",
     "text": [
      "I'm protected\n",
      "This is a protected method\n"
     ]
    }
   ],
   "source": [
    "# you can prevent a child class from modifying certain attributes or methods inherited from a parent class by using name mangling or by marking those attributes \n",
    "# or methods as private (with a leading underscore). Name mangling ensures that the attribute or method name is prefixed with _ClassName in the bytecode, making \n",
    "# it less accessible to subclasses and external code.\n",
    "\n",
    "\n",
    "class Parent:\n",
    "    def __init__(self):\n",
    "        self._protected_attribute = \"I'm protected\"\n",
    "        self.__private_attribute = \"I'm private\"\n",
    "\n",
    "    def _protected_method(self):\n",
    "        print(\"This is a protected method\")\n",
    "\n",
    "    def __private_method(self):\n",
    "        print(\"This is a private method\")\n",
    "\n",
    "class Child(Parent):\n",
    "    def display_attributes(self):\n",
    "        print(self._protected_attribute)\n",
    "        # Attempting to access the private attribute will raise an AttributeError\n",
    "        # print(self.__private_attribute)\n",
    "\n",
    "    def call_methods(self):\n",
    "        self._protected_method()\n",
    "        # Attempting to call the private method will raise an AttributeError\n",
    "        # self.__private_method()\n",
    "\n",
    "child = Child()\n",
    "child.display_attributes()  # Output: I'm protected\n",
    "child.call_methods()  # Output: This is a protected method\n",
    "\n",
    "\n",
    "#In this example, the _protected_attribute and _protected_method() are marked as protected and can be accessed by the child class. The __private_attribute and __private_method() are marked as private and cannot be accessed or modified by the child class directly. Attempting to access or modify them will result\n",
    "#in an AttributeError."
   ]
  },
  {
   "cell_type": "markdown",
   "id": "90809383-928b-4de5-a726-3059da298722",
   "metadata": {},
   "source": [
    "14. Create a Python class called `Employee` with attributes `name` and `salary`. Then, create a child class\n",
    "`Manager` that inherits from `Employee` and adds an attribute `department`. Provide an example."
   ]
  },
  {
   "cell_type": "code",
   "execution_count": 30,
   "id": "405c48c4-6e14-4807-a3cb-0b0d67f99920",
   "metadata": {},
   "outputs": [
    {
     "name": "stdout",
     "output_type": "stream",
     "text": [
      "Aaashu\n",
      "500000\n",
      "Engineer\n"
     ]
    }
   ],
   "source": [
    "class Employee:\n",
    "    def __init__(self, name, salary):\n",
    "        self.name = name\n",
    "        self.salary = salary\n",
    "        \n",
    "class Manager(Employee):\n",
    "    def __init__(self, name, salary, department):\n",
    "        super().__init__(name,salary)\n",
    "        self.department = department\n",
    "        \n",
    "manager = Manager(\"Aaashu\", 500000, \"Engineer\")\n",
    "print(manager.name)\n",
    "print(manager.salary)\n",
    "print(manager.department)"
   ]
  },
  {
   "cell_type": "markdown",
   "id": "80afeb4a-5bbd-4943-aa15-112e0df50e7a",
   "metadata": {},
   "source": [
    "15. Discuss the concept of method overloading in Python inheritance. How does it differ from method\n",
    "overriding?"
   ]
  },
  {
   "cell_type": "markdown",
   "id": "319f62c2-48ff-46aa-89ef-2f3f121641b2",
   "metadata": {},
   "source": [
    "Method overloading in Python inheritance refers to the ability to define multiple methods with the same name but different parameters in a class hierarchy. This allows different methods to be called depending on the number or type of arguments passed to them. Python does not support method overloading in the traditional sense as seen in languages like Java or C++. However, you can achieve method overloading by using default parameter values or variable-length argument lists.\n",
    "Method overriding, on the other hand, occurs when a subclass provides a specific implementation of a method that is already defined in its superclass. The subclass method overrides the behavior of the superclass method with its own implementation. Method overriding is a way to provide a specialized implementation of a method in a subclass while maintaining the same method signature as the superclass."
   ]
  },
  {
   "cell_type": "markdown",
   "id": "9edbc201-ba3b-46da-96de-369724c2bdec",
   "metadata": {},
   "source": [
    "16. Explain the purpose of the `__init__()` method in Python inheritance and how it is utilized in child classes."
   ]
  },
  {
   "cell_type": "markdown",
   "id": "8692d848-9f4b-4937-ad23-eb70899a3915",
   "metadata": {},
   "source": [
    "The __init__() method in Python inheritance is a special method called the constructor. It is used to initialize the object's state and is automatically invoked when an object is created. In child classes, the __init__() method is utilized to extend or customize the initialization behavior defined in the parent class. This is typically done by calling the parent class's __init__() method using super() and then adding any additional initialization logic specific to the child class.\n",
    "In the example provided above, the Manager class's __init__() method calls the parent class's __init__() method using super() to initialize the name and salary attributes inherited from the Employee class. It then adds an additional attribute department to customize the initialization for Manager objects."
   ]
  },
  {
   "cell_type": "markdown",
   "id": "8f15d99c-ee61-46aa-8937-c18588d8e5ba",
   "metadata": {},
   "source": [
    "17. Create a Python class called `Bird` with a method `fly()`. Then, create child classes `Eagle` and `Sparrow` that inherit from `Bird` and implement the `fly()` method differently. Provide an example of using these\n",
    "classes."
   ]
  },
  {
   "cell_type": "code",
   "execution_count": 31,
   "id": "7388efe0-bb95-4c26-856c-cc7ef8f1af48",
   "metadata": {},
   "outputs": [
    {
     "name": "stdout",
     "output_type": "stream",
     "text": [
      "Eagle is flying high\n",
      "Sparrow is flying low\n"
     ]
    }
   ],
   "source": [
    "class Bird:\n",
    "    def fly(self):\n",
    "        pass\n",
    "class Eagle(Bird):\n",
    "    def fly(self):\n",
    "        return \"Eagle is flying high\"\n",
    "    \n",
    "class Sparrow(Bird):\n",
    "    def fly(self):\n",
    "        return \"Sparrow is flying low\"\n",
    "    \n",
    "eagle = Eagle()\n",
    "print(eagle.fly())\n",
    "\n",
    "sparrow = Sparrow()\n",
    "print(sparrow.fly())"
   ]
  },
  {
   "cell_type": "markdown",
   "id": "31d68cc6-294c-4f41-a93a-2c0d041a480c",
   "metadata": {},
   "source": [
    "18. What is the \"diamond problem\" in multiple inheritance, and how does Python address it?"
   ]
  },
  {
   "cell_type": "markdown",
   "id": "0389daef-cd1a-4a85-a682-790a6f22b770",
   "metadata": {},
   "source": [
    "The \"diamond problem\" arises in multiple inheritance when a subclass inherits from two or more classes that have a common ancestor. This can lead to ambiguity in method resolution, especially if the common ancestor class's methods are overridden in the subclasses.\n",
    "Python addresses the diamond problem by using a method resolution order (MRO) algorithm, known as C3 linearization. This algorithm ensures that methods are resolved in a consistent and predictable order, following the class hierarchy from left to right and preserving the order of inheritance specified in the class definition."
   ]
  },
  {
   "cell_type": "markdown",
   "id": "9d654eed-f319-481a-acd0-9c6c6eadde62",
   "metadata": {},
   "source": [
    "19. Discuss the concept of \"is-a\" and \"has-a\" relationships in inheritance, and provide examples of each."
   ]
  },
  {
   "cell_type": "markdown",
   "id": "741e92b1-18ae-471c-9c95-6c577501416d",
   "metadata": {},
   "source": [
    "Inheritance in object-oriented programming often models relationships between classes based on real-world concepts. \"Is-a\" relationships represent inheritance relationships where a subclass is a specialized version of its superclass. For example, a Sparrow is-a Bird.\n",
    "On the other hand, \"has-a\" relationships represent composition relationships where one class contains an instance of another class as a member variable. For example, a Car has-a Engine."
   ]
  },
  {
   "cell_type": "markdown",
   "id": "53691d51-ff5c-4f2b-ac1a-0d19ef3e4887",
   "metadata": {},
   "source": [
    "20. Create a Python class hierarchy for a university system. Start with a base class `Person` and create child\n",
    "classes `Student` and `Professor`, each with their own attributes and methods. Provide an example of using\n",
    "these classes in a university context."
   ]
  },
  {
   "cell_type": "code",
   "execution_count": 34,
   "id": "f09784b1-b1c4-43b0-a81e-aeba2035eca2",
   "metadata": {},
   "outputs": [
    {
     "name": "stdout",
     "output_type": "stream",
     "text": [
      "Alice is studying\n",
      "Dr. Smith is teaching\n"
     ]
    }
   ],
   "source": [
    "class Person:\n",
    "    def __init__(self, name, age):\n",
    "        self.name = name\n",
    "        self.age = age\n",
    "\n",
    "class Student(Person):\n",
    "    def __init__(self, name, age, student_id):\n",
    "        super().__init__(name, age)\n",
    "        self.student_id = student_id\n",
    "\n",
    "    def study(self):\n",
    "        return f\"{self.name} is studying\"\n",
    "\n",
    "class Professor(Person):\n",
    "    def __init__(self, name, age, department):\n",
    "        super().__init__(name, age)\n",
    "        self.department = department\n",
    "\n",
    "    def teach(self):\n",
    "        return f\"{self.name} is teaching\"\n",
    "\n",
    "student = Student(\"Alice\", 20, \"S12345\")\n",
    "print(student.study())  \n",
    "\n",
    "professor = Professor(\"Dr. Smith\", 45, \"Computer Science\")\n",
    "print(professor.teach())  \n"
   ]
  },
  {
   "cell_type": "markdown",
   "id": "a821a381-2403-4322-824b-2942a4228f13",
   "metadata": {},
   "source": [
    "# Encapsulation:"
   ]
  },
  {
   "cell_type": "markdown",
   "id": "0a0a29e4-bc16-4e65-be34-8ca41ea5b0a0",
   "metadata": {},
   "source": [
    "1. Explain the concept of encapsulation in Python. What is its role in object-oriented programming?"
   ]
  },
  {
   "cell_type": "markdown",
   "id": "efc90aa8-c75b-42f3-9df6-c3a9369d0c22",
   "metadata": {},
   "source": [
    "Encapsulation is one of the fundamental concepts of object-oriented programming (OOP) that allows bundling the data (attributes) and methods (functions) \n",
    "that operate on the data into a single unit called a class. The data is typically hidden from the outside world, and access to it is restricted to methods\n",
    "of the class. This helps in controlling the way data is accessed and modified, providing better control over the system and protecting the integrity of the data.\n",
    "\n",
    "In Python, encapsulation is implemented using access modifiers such as public, private, and protected attributes and methods:\n",
    "\n",
    "1. Public attributes and methods: These are accessible from outside the class.\n",
    "2. Private attributes and methods: These are only accessible within the class itself, and their names are prefixed with double underscores (`__`).\n",
    "3. Protected attributes and methods: These are accessible within the class itself and its subclasses, and their names are prefixed with a single underscore (`_`), \n",
    "although they can still be accessed from outside the class.\n",
    "\n",
    "Encapsulation in Python provides several benefits, including:\n",
    "\n",
    "- Data hiding: By hiding the internal state of objects, encapsulation prevents direct access to data, reducing the risk of accidental modification and improving \n",
    "    data integrity.\n",
    "- Modularity: Encapsulation allows breaking down complex systems into smaller, manageable units (classes), making the code more modular, reusable, and easier to maintain.\n",
    "- Abstraction: Encapsulation enables the abstraction of complex implementation details, exposing only essential features through well-defined interfaces (methods), \n",
    "    which simplifies the usage of objects and promotes code readability.\n",
    "- Security: By restricting direct access to data, encapsulation helps in protecting sensitive information and preventing unauthorized access or modification.\n",
    "\n",
    "Overall, encapsulation promotes the principle of information hiding and provides a mechanism for implementing data abstraction, modularity, and security \n",
    "in object-oriented programming."
   ]
  },
  {
   "cell_type": "markdown",
   "id": "ac1d78ac-a856-4017-8806-432c821686c9",
   "metadata": {},
   "source": [
    "2. Describe the key principles of encapsulation, including access control and data hiding."
   ]
  },
  {
   "cell_type": "markdown",
   "id": "91e8f219-3d45-4c05-aa70-dc1bcaf80f24",
   "metadata": {},
   "source": [
    "Encapsulation is a fundamental principle in object-oriented programming that bundles data and methods that operate on that data into a single unit,\n",
    "called an object. The key principles of encapsulation include:\n",
    "\n",
    "1. Data Encapsulation: This refers to the bundling of data with the methods that operate on that data within a single unit, the object. It ensures that \n",
    "     the data is not directly accessible from outside the object and can only be accessed through the methods provided by the object.\n",
    "\n",
    "2. Access Control: Access control mechanisms determine how and from where the members (attributes and methods) of an object can be accessed. Access modifiers\n",
    "     such as public, private, and protected are used to specify the accessibility of members.\n",
    "   - Public: Public members are accessible from anywhere, both inside and outside the class.\n",
    "   - Private: Private members are accessible only within the same class. They cannot be accessed from outside the class.\n",
    "   - Protected: Protected members are accessible within the same class and its subclasses (derived classes).\n",
    "\n",
    "3. Data Hiding: Data hiding is a specific aspect of encapsulation that involves restricting direct access to certain data members of an object. By declaring\n",
    "     data members as private, they cannot be accessed directly from outside the class, ensuring that the integrity of the data is maintained and preventing \n",
    "     unauthorized access or modification.\n",
    "\n",
    "Encapsulation promotes modularity and information hiding, leading to more maintainable and robust code. It allows for better control over access to data and behavior,\n",
    "reducing the chances of unintended interactions and dependencies between different parts of the program."
   ]
  },
  {
   "cell_type": "markdown",
   "id": "5bb277de-bbcc-4000-9198-c1eae92b09c6",
   "metadata": {},
   "source": [
    "3. How can you achieve encapsulation in Python classes? Provide an example."
   ]
  },
  {
   "cell_type": "code",
   "execution_count": 1,
   "id": "a1f1da61-7700-46c1-a242-46681efc7332",
   "metadata": {},
   "outputs": [
    {
     "name": "stdout",
     "output_type": "stream",
     "text": [
      "10\n",
      "20\n",
      "30\n"
     ]
    }
   ],
   "source": [
    "# Encapsulation can be achieved by using access modifiers such as public, private, and protected, although Python does not enforce them in\n",
    "# the same strict way as some other languages like Java or C++. Conventionally, attributes and methods prefixed with a single underscore (_) \n",
    "# are considered protected, and those prefixed with double underscores (__) are considered private.\n",
    "\n",
    "\n",
    "class MyClass:\n",
    "    def __init__(self):\n",
    "        self._protected_var = 10\n",
    "        self.__private_var = 20\n",
    "        \n",
    "    def get_private_var(self):\n",
    "        return self.__private_var\n",
    "    \n",
    "    def set_private_var(self, value):\n",
    "        self.__private_var = value\n",
    "        \n",
    "obj = MyClass()\n",
    "print(obj._protected_var)  # Accessing protected variable\n",
    "# print(obj.__private_var)  # This will raise an AttributeError\n",
    "print(obj.get_private_var())  # Accessing private variable using getter method\n",
    "obj.set_private_var(30)  # Modifying private variable using setter method\n",
    "print(obj.get_private_var())  # Accessing modified private variable using getter method\n"
   ]
  },
  {
   "cell_type": "markdown",
   "id": "fde756e8-880a-4f93-926a-9aae31d78813",
   "metadata": {},
   "source": [
    "4. Discuss the difference between public, private, and protected access modifiers in Python."
   ]
  },
  {
   "cell_type": "markdown",
   "id": "df672e79-85e3-453c-bb97-b2ceda4de70a",
   "metadata": {},
   "source": [
    "In Python, access modifiers have the following meanings:\n",
    "\n",
    "- Public: Members are accessible from anywhere, both inside and outside the class.\n",
    "- Private: Members are accessible only within the class itself. Python implements name mangling to make it difficult but not impossible to access private members from outside the class.\n",
    "- Protected: Members are accessible within the class itself and its subclasses. However, it's more of a convention, and Python doesn't enforce strict access control like some other languages."
   ]
  },
  {
   "cell_type": "markdown",
   "id": "c0309a1a-2b40-4e20-ae09-af56cb0855e7",
   "metadata": {},
   "source": [
    "5. Create a Python class called `Person` with a private attribute `__name`. Provide methods to get and set the\n",
    "name attribute.\n",
    "\n"
   ]
  },
  {
   "cell_type": "code",
   "execution_count": 7,
   "id": "9391bb6d-82fc-463b-b8df-fd209797f071",
   "metadata": {},
   "outputs": [
    {
     "name": "stdout",
     "output_type": "stream",
     "text": [
      "John\n",
      "Alice\n"
     ]
    }
   ],
   "source": [
    "class Person:\n",
    "    def __init__(self, name):\n",
    "        self.__name = name\n",
    "        \n",
    "    def get_name(self):\n",
    "        return self.__name\n",
    "    \n",
    "    def set_name(self, name):\n",
    "        self.__name = name\n",
    "        \n",
    "person = Person(\"John\")\n",
    "print(person.get_name())  \n",
    "person.set_name(\"Alice\")\n",
    "print(person.get_name())\n",
    "#print(person.__name)"
   ]
  },
  {
   "cell_type": "markdown",
   "id": "8e35ebdf-11e6-49f6-98fb-05d9d53a6987",
   "metadata": {},
   "source": [
    "6. Explain the purpose of getter and setter methods in encapsulation. Provide examples."
   ]
  },
  {
   "cell_type": "markdown",
   "id": "6514539c-1ff9-4391-9560-f7b809000f3d",
   "metadata": {},
   "source": [
    " Getter and setter methods serve the purpose of encapsulating access to class attributes, providing controlled read and write access to private or\n",
    " protected attributes. Here's why they are used:\n",
    "\n",
    " Getter Methods: Getter methods are used to access the value of a private or protected attribute from outside the class. They allow controlled acces\n",
    " s to the attribute, enabling validation or manipulation of the data before it's returned.\n",
    "\n",
    " Setter Methods: Setter methods are used to modify the value of a private or protected attribute from outside the class. They allow controlled \n",
    " modification of the attribute, enabling validation of the new value or triggering additional actions when the attribute is set.\n",
    "\n",
    "\n",
    "class Person:\n",
    "    def __init__(self, name):\n",
    "        self.__name = name\n",
    "\n",
    "    def get_name(self):\n",
    "        return self.__name\n",
    "\n",
    "    def set_name(self, name):\n",
    "        if isinstance(name, str):\n",
    "            self.__name = name\n",
    "        else:\n",
    "            print(\"Invalid name format!\")\n",
    "\n",
    "person = Person(\"John\")\n",
    "print(person.get_name())  \n",
    "person.set_name(\"Alice\")\n",
    "print(person.get_name())  "
   ]
  },
  {
   "cell_type": "markdown",
   "id": "3d50547b-9974-4d23-ab9c-f52ceb4abe25",
   "metadata": {},
   "source": [
    "7. What is name mangling in Python, and how does it affect encapsulation?"
   ]
  },
  {
   "cell_type": "markdown",
   "id": "c6020c4b-8772-4e68-aabe-46ac1ee50f50",
   "metadata": {},
   "source": [
    "Name mangling in Python is a mechanism that adds a prefix of double underscores (__) to attribute names in a class definition. \n",
    "It is primarily used to avoid naming conflicts in subclasses that might inadvertently override attributes of the superclass. \n",
    "Python internally renames these attributes to include the class name, preventing accidental modification or access from outside \n",
    "the class. While it's not a strict form of encapsulation, it provides a level of data hiding.\n",
    "\n",
    "\n",
    "class MyClass:\n",
    "    def __init__(self):\n",
    "        self.__private_var = 10\n",
    "\n",
    "obj = MyClass()\n",
    "print(obj._MyClass__private_var) \n"
   ]
  },
  {
   "cell_type": "markdown",
   "id": "2183169f-d405-4d2f-b681-858972871a1a",
   "metadata": {},
   "source": [
    "8. Create a Python class called `BankAccount` with private attributes for the account balance (`__balance`) and account number (`__account_number`). \n",
    "Provide methods for depositing and withdrawing money."
   ]
  },
  {
   "cell_type": "code",
   "execution_count": 2,
   "id": "2727b26a-0730-4bcd-a559-017038708ca1",
   "metadata": {},
   "outputs": [
    {
     "name": "stdout",
     "output_type": "stream",
     "text": [
      "Account Number: 12345\n",
      "Initial Balance: 1000\n",
      "Deposited 500 successfully. New balance: 1500\n",
      "Withdrawn 200 successfully. New balance: 1300\n",
      "Insufficient funds or invalid amount.\n"
     ]
    }
   ],
   "source": [
    "class BankAccount:\n",
    "    def __init__(self, account_number, initial_balance=0):\n",
    "        self.__account_number = account_number\n",
    "        self.__balance = initial_balance\n",
    "        \n",
    "    def deposit(self, amount):\n",
    "        if amount > 0:\n",
    "            self.__balance += amount\n",
    "            print(f\"Deposited {amount} successfully. New balance: {self.__balance}\")\n",
    "        else:\n",
    "            print(\"Invalid deposit amount.\")\n",
    "            \n",
    "    def withdraw(self, amount):\n",
    "        if 0< amount <= self.__balance:\n",
    "            self.__balance -= amount\n",
    "            print(f\"Withdrawn {amount} successfully. New balance: {self.__balance}\")\n",
    "        else:\n",
    "            print(\"Insufficient funds or invalid amount.\")\n",
    "            \n",
    "    def get_balance(self):\n",
    "        return self.__balance\n",
    "    \n",
    "    def get_account_number(self):\n",
    "        return self.__account_number\n",
    "    \n",
    "account = BankAccount(\"12345\", 1000)\n",
    "print(\"Account Number:\", account.get_account_number())\n",
    "print(\"Initial Balance:\", account.get_balance())\n",
    "account.deposit(500)\n",
    "account.withdraw(200)\n",
    "account.withdraw(1500)"
   ]
  },
  {
   "cell_type": "markdown",
   "id": "ac98cc12-3a75-4560-a752-fcdb58ab57a2",
   "metadata": {},
   "source": [
    "9. Discuss the advantages of encapsulation in terms of code maintainability and security."
   ]
  },
  {
   "cell_type": "markdown",
   "id": "d01459f0-0671-4162-a37b-7a0b20ac5f18",
   "metadata": {},
   "source": [
    "- Encapsulation offers several advantages in terms of code maintainability and security:\n",
    "\n",
    "- Code Maintainability: Encapsulation promotes modularity by bundling data and methods that operate on that data into a single unit (object). This modular approach makes the code easier to understand, maintain, and modify. Changes to the internal implementation of an object can be made without affecting the code that uses the object, as long as the external interface remains the same.\n",
    "\n",
    "- Security: By hiding the internal state of an object and providing controlled access through methods, encapsulation prevents direct manipulation of data from outside the object. This helps protect sensitive data and ensures that the object's state remains consistent and valid. Access to sensitive data can be restricted, and validation logic can be enforced within the class, reducing the risk of unintended errors or security vulnerabilities."
   ]
  },
  {
   "cell_type": "markdown",
   "id": "c49fa806-61c6-495e-9285-898f0bb87ef5",
   "metadata": {},
   "source": [
    "10. How can you access private attributes in Python? Provide an example demonstrating the use of name\n",
    "mangling."
   ]
  },
  {
   "cell_type": "code",
   "execution_count": 4,
   "id": "8d1f84b1-8a65-40e0-bab3-31fb85af9d3f",
   "metadata": {},
   "outputs": [
    {
     "name": "stdout",
     "output_type": "stream",
     "text": [
      "10\n"
     ]
    }
   ],
   "source": [
    "#- Private attributes in Python can be accessed using name mangling,\n",
    "# which involves prefixing the attribute name with a double\n",
    "# underscore (__). While this is not recommended for regular usage,\n",
    "# it can be useful in certain situations.\n",
    "\n",
    "class MyClass:\n",
    "    def __init__(self):\n",
    "        self.__private_var = 10\n",
    "        \n",
    "obj = MyClass()\n",
    "print(obj._MyClass__private_var)"
   ]
  },
  {
   "cell_type": "markdown",
   "id": "1fd2f8de-49ba-4db3-8167-9ce2ec1f25d6",
   "metadata": {},
   "source": [
    "11. Create a Python class hierarchy for a school system, including classes for students, teachers, and courses,\n",
    "and implement encapsulation principles to protect sensitive information."
   ]
  },
  {
   "cell_type": "markdown",
   "id": "bceda07c-9d9a-4752-bf3d-af9f0a4a7b50",
   "metadata": {},
   "source": [
    "class Student:\n",
    "    def __init__(self, student_id, name, grade):\n",
    "        self.student_id = student_id\n",
    "        self.__name = name\n",
    "        self.__grade = grade\n",
    "        \n",
    "    def get_student_id(self):\n",
    "        return self.__student_id\n",
    "    \n",
    "    def get_name(self):\n",
    "        def get_grade(self):\n",
    "            return self.__grade\n",
    "        \n",
    "class Teacher:\n",
    "    def __init__(self, teacher_id, name, subject):\n",
    "        self.__teacher_id = teacher_id\n",
    "        self.__name = name\n",
    "        self.__subject = subject\n",
    "\n",
    "    def get_teacher_id(self):\n",
    "        return self.__teacher_id\n",
    "\n",
    "    def get_name(self):\n",
    "        return self.__name\n",
    "\n",
    "    def get_subject(self):\n",
    "        return self.__subject\n",
    "\n",
    "\n",
    "class Course:\n",
    "    def __init__(self, course_id, name, teacher, students):\n",
    "        self.__course_id = course_id\n",
    "        self.__name = name\n",
    "        self.__teacher = teacher\n",
    "        self.__students = students\n",
    "\n",
    "    def get_course_id(self):\n",
    "        return self.__course_id\n",
    "\n",
    "    def get_name(self):\n",
    "        return self.__name\n",
    "\n",
    "    def get_teacher(self):\n",
    "        return self.__teacher\n",
    "\n",
    "    def get_students(self):\n",
    "        return self.__students\n",
    "    \n",
    "- In this example, private attributes such as __student_id, __teacher_id, __name, etc., are used to protect sensitive information about students, teachers, and courses."
   ]
  },
  {
   "cell_type": "markdown",
   "id": "701fcd14-1d7c-450e-80a8-cf7f01e9c2a3",
   "metadata": {},
   "source": [
    "12. Explain the concept of property decorators in Python and how they relate to encapsulation."
   ]
  },
  {
   "cell_type": "markdown",
   "id": "dbac027c-8839-4b69-a881-abf5f3da0a21",
   "metadata": {},
   "source": [
    "- Property decorators in Python are a way to define properties on a class that behave like attributes but have custom getter, setter, and deleter methods. Property decorators are often used to encapsulate attributes and provide controlled access to them. They help enforce encapsulation principles by allowing the implementation of custom logic when getting, setting, or deleting attribute values.\n",
    "\n",
    "class MyClass:\n",
    "    def __init__(self):\n",
    "        self.__x = 0\n",
    "\n",
    "    @property\n",
    "    def x(self):\n",
    "        return self.__x\n",
    "\n",
    "    @x.setter\n",
    "    def x(self, value):\n",
    "        if value >= 0:\n",
    "            self.__x = value\n",
    "        else:\n",
    "            print(\"Invalid value for x\")\n",
    "\n",
    "obj = MyClass()\n",
    "print(obj.x)  # Output: 0\n",
    "obj.x = 10\n",
    "print(obj.x)  # Output: 10\n",
    "obj.x = -5  # This will print \"Invalid value for x\"\n"
   ]
  },
  {
   "cell_type": "markdown",
   "id": "186ae975-6f8e-4950-8a97-de3c77660b64",
   "metadata": {},
   "source": [
    "13. What is data hiding, and why is it important in encapsulation? Provide examples."
   ]
  },
  {
   "cell_type": "markdown",
   "id": "dcb6a8d1-a73f-4f32-9784-9663eca07bd2",
   "metadata": {},
   "source": [
    "Data hiding is the concept of restricting access to certain attributes or methods of an object, typically by making them private or protected. It is important in encapsulation because it helps ensure the integrity of the object's state and behavior. By hiding implementation details and providing controlled access through well-defined interfaces, data hiding reduces the risk of unintended modifications or dependencies between different parts of the code.\n",
    "\n",
    "class BankAccount:\n",
    "    def __init__(self, initial_balance):\n",
    "        self.__balance = initial_balance\n",
    "\n",
    "    def deposit(self, amount):\n",
    "        if amount > 0:\n",
    "            self.__balance += amount\n",
    "\n",
    "    def withdraw(self, amount):\n",
    "        if 0 < amount <= self.__balance:\n",
    "            self.__balance -= amount\n",
    "\n",
    "    def get_balance(self):\n",
    "        return self.__balance\n"
   ]
  },
  {
   "cell_type": "markdown",
   "id": "4c39b1df-e083-4842-a992-cbca53d053f3",
   "metadata": {},
   "source": [
    "14. Create a Python class called `Employee` with private attributes for salary (`__salary`) and employee ID (`__employee_id`). Provide a method to calculate yearly bonuses."
   ]
  },
  {
   "cell_type": "code",
   "execution_count": 6,
   "id": "3f32b847-9b06-4133-83ad-74f8cfe0dbea",
   "metadata": {},
   "outputs": [
    {
     "name": "stdout",
     "output_type": "stream",
     "text": [
      "5000.0\n"
     ]
    }
   ],
   "source": [
    "class Employee:\n",
    "    def __init__(self, employee_id, salary):\n",
    "        self.__employee_id = employee_id\n",
    "        self.__salary = salary\n",
    "        \n",
    "    def calculate_yearly_bonus(self, bonus_percentage):\n",
    "        return self.__salary * bonus_percentage/100\n",
    "    \n",
    "emp = Employee(\"E123\", 50000)\n",
    "print(emp.calculate_yearly_bonus(10))"
   ]
  },
  {
   "cell_type": "markdown",
   "id": "425ed7ff-5a2a-4826-bbd3-da1b47722dc9",
   "metadata": {},
   "source": [
    "15. Discuss the use of accessors and mutators in encapsulation. How do they help maintain control over\n",
    "attribute access?"
   ]
  },
  {
   "cell_type": "markdown",
   "id": "f27b5934-eda7-4895-89d2-d2207af8c165",
   "metadata": {},
   "source": [
    "- Accessors and mutators are methods used for accessing (getters) and modifying (setters) the values of private attributes of a class. They help maintain control over attribute access by encapsulating the internal state of the object. \n",
    "- Accessors provide controlled read access to the attributes, allowing validation or additional logic before returning the attribute value. Mutators, on the other hand, provide controlled write access to the attributes, enabling validation of the new value or triggering actions upon modification."
   ]
  },
  {
   "cell_type": "markdown",
   "id": "16838fce-0c64-4eca-aa72-f73caa9b4446",
   "metadata": {},
   "source": [
    "16. What are the potential drawbacks or disadvantages of using encapsulation in Python?"
   ]
  },
  {
   "cell_type": "markdown",
   "id": "56b00e2c-acd6-4fad-9e62-844fc70ff652",
   "metadata": {},
   "source": [
    "- Potential drawbacks or disadvantages of using encapsulation in Python include:\n",
    "\n",
    "- Increased complexity: Encapsulation can sometimes lead to increased complexity, especially when dealing with large and deeply nested class hierarchies.\n",
    "- Performance overhead: Accessing attributes through accessor and mutator methods may introduce a performance overhead compared to direct attribute access.\n",
    "- Overuse: Overuse of encapsulation can lead to overly verbose code and reduced readability, especially in cases where encapsulation is unnecessary or adds little value."
   ]
  },
  {
   "cell_type": "markdown",
   "id": "23fb09a5-61c3-4721-9a60-5f1e38edf890",
   "metadata": {},
   "source": [
    "17. Create a Python class for a library system that encapsulates book information, including titles, authors,\n",
    "and availability status."
   ]
  },
  {
   "cell_type": "code",
   "execution_count": 7,
   "id": "c559bc17-b21b-46cb-85c3-9a510e48289c",
   "metadata": {},
   "outputs": [
    {
     "name": "stdout",
     "output_type": "stream",
     "text": [
      "Python Programming\n",
      "True\n",
      "Book borrowed successfully.\n",
      "False\n",
      "Book returned successfully.\n",
      "True\n"
     ]
    }
   ],
   "source": [
    "class Book:\n",
    "    def __init__(self, title, author):\n",
    "        self.__title = title\n",
    "        self.__author = author\n",
    "        self.__available = True\n",
    "        \n",
    "    def get_title(self):\n",
    "        return self.__title\n",
    "    \n",
    "    def get_author(self):\n",
    "        return self.__author\n",
    "    \n",
    "    def is_available(self):\n",
    "        return self.__available\n",
    "    \n",
    "    def borrow_book(self):\n",
    "        if self.__available:\n",
    "            self.__available = False\n",
    "            print(\"Book borrowed successfully.\")\n",
    "        else:\n",
    "            print(\"Book is not available.\")\n",
    "\n",
    "    def return_book(self):\n",
    "        self.__available = True\n",
    "        print(\"Book returned successfully.\")\n",
    "\n",
    "\n",
    "book = Book(\"Python Programming\", \"John Doe\")\n",
    "print(book.get_title()) \n",
    "print(book.is_available())  \n",
    "book.borrow_book()\n",
    "print(book.is_available())  \n",
    "book.return_book()\n",
    "print(book.is_available()) "
   ]
  },
  {
   "cell_type": "markdown",
   "id": "dcf6382a-8a3a-41ff-bc37-6ed68bbaa3ee",
   "metadata": {},
   "source": [
    "18. Explain how encapsulation enhances code reusability and modularity in Python programs."
   ]
  },
  {
   "cell_type": "markdown",
   "id": "be9a6a54-7f9a-4db8-89d3-8a2e0cdddab5",
   "metadata": {},
   "source": [
    "- Encapsulation enhances code reusability and modularity in Python programs by promoting a modular design approach. It allows the creation of self-contained objects with well-defined interfaces, making it easier to reuse and extend existing code. Encapsulation helps hide implementation details and reduces the dependencies between different parts of the code, enabling easier maintenance and modification of the codebase."
   ]
  },
  {
   "cell_type": "markdown",
   "id": "31129254-93a9-48fd-bbb1-bcd90512fdb6",
   "metadata": {},
   "source": [
    "19. Describe the concept of information hiding in encapsulation. Why is it essential in software development?"
   ]
  },
  {
   "cell_type": "markdown",
   "id": "e62f7fb1-cfa2-4f37-a25a-95535d27efc6",
   "metadata": {},
   "source": [
    "- Information hiding in encapsulation refers to the practice of hiding the internal details of an object and exposing only the necessary interfaces for interacting with the object. It is essential in software development because it helps manage complexity, reduces coupling between different components, and enhances security by preventing unauthorized access to sensitive data. By hiding implementation details, information hiding enables better abstraction and modularity, making the code easier to understand, maintain, and extend."
   ]
  },
  {
   "cell_type": "markdown",
   "id": "9e9f458c-dade-4e22-85e5-479cbca4fc60",
   "metadata": {},
   "source": [
    "20. Create a Python class called `Customer` with private attributes for customer details like name, address,\n",
    "and contact information. Implement encapsulation to ensure data integrity and security."
   ]
  },
  {
   "cell_type": "code",
   "execution_count": 9,
   "id": "b3ca7c68-543b-4100-a580-76cc3238017f",
   "metadata": {},
   "outputs": [
    {
     "name": "stdout",
     "output_type": "stream",
     "text": [
      "John Doe\n",
      "123 Main St\n",
      "john@example.com\n",
      "johndoe@example.com\n"
     ]
    }
   ],
   "source": [
    "class Customer:\n",
    "    def __init__(self, name, address, contact):\n",
    "        self.__name = name\n",
    "        self.__address = address\n",
    "        self.__contact = contact\n",
    "        \n",
    "    def get_name(self):\n",
    "        return self.__name\n",
    "    \n",
    "    def get_address(self):\n",
    "        return self.__address\n",
    "    \n",
    "    def get_contact(self):\n",
    "        return self.__contact\n",
    "    \n",
    "    def update_contact(self, new_contact):\n",
    "        self.__contact = new_contact\n",
    "        \n",
    "customer = Customer(\"John Doe\", \"123 Main St\", \"john@example.com\")\n",
    "print(customer.get_name())  \n",
    "print(customer.get_address())  \n",
    "print(customer.get_contact())  \n",
    "customer.update_contact(\"johndoe@example.com\")\n",
    "print(customer.get_contact())  "
   ]
  },
  {
   "cell_type": "markdown",
   "id": "4de43819-a619-4be9-ac19-7a2117bdb0af",
   "metadata": {},
   "source": [
    "# Polymorphism:"
   ]
  },
  {
   "cell_type": "markdown",
   "id": "bc08bc99-516a-4af2-b2cc-9e188a387632",
   "metadata": {},
   "source": [
    "1. What is polymorphism in Python? Explain how it is related to object-oriented programming."
   ]
  },
  {
   "cell_type": "markdown",
   "id": "e77332ac-4329-4395-a982-1714b458060a",
   "metadata": {},
   "source": [
    "- Polymorphism in Python refers to the ability of different objects to respond to the same message or method invocation in different ways. It allows objects of different classes to be treated as objects of a common superclass or interface. This concept is closely related to object-oriented programming (OOP), where polymorphism is one of the core principles.\n",
    "\n",
    "- In OOP, polymorphism enables code to work with objects of different types through a uniform interface, without needing to know the specific type of each object. This promotes code reuse, flexibility, and extensibility by allowing new classes to be added without modifying existing code.\n",
    "\n",
    "-- Types of polymorphism:-\n",
    "\n",
    "- Compile-time Polymorphism: Also known as static polymorphism, it refers to polymorphic behavior that is resolved at compile time. In Python, this is typically achieved through method overloading, where multiple methods with the same name but different parameters are defined within a class. However, Python does not support method overloading in the same way as statically typed languages like Java or C++.\n",
    "\n",
    "- Run-time Polymorphism: Also known as dynamic polymorphism, it refers to polymorphic behavior that is resolved at runtime. In Python, run-time polymorphism is commonly achieved through method overriding, where a subclass provides a specific implementation of a method that is already defined in its superclass. When the method is called on an object of the subclass, the overridden implementation is executed."
   ]
  },
  {
   "cell_type": "markdown",
   "id": "93d85bc8-caa8-4016-940d-bdb1acdde1fb",
   "metadata": {},
   "source": [
    "2. Describe the difference between compile-time polymorphism and runtime polymorphism in Python."
   ]
  },
  {
   "cell_type": "markdown",
   "id": "872e53cf-9f85-48c3-8732-d61040e0a37f",
   "metadata": {},
   "source": [
    "- Compile-time polymorphism: Also known as static polymorphism, it refers to polymorphic behavior that is resolved at compile time. In statically typed languages like Java or C++, compile-time polymorphism is often achieved through method overloading, where multiple methods with the same name but different parameters are defined within a class. However, Python does not support method overloading based on the number or type of arguments.\n",
    "\n",
    "- Runtime polymorphism: Also known as dynamic polymorphism, it refers to polymorphic behavior that is resolved at runtime. In Python, runtime polymorphism is commonly achieved through method overriding, where a subclass provides a specific implementation of a method that is already defined in its superclass. When the method is called on an object of the subclass, the overridden implementation is executed."
   ]
  },
  {
   "cell_type": "markdown",
   "id": "14948d00-2e49-4a78-94fc-b59f0b071e3a",
   "metadata": {},
   "source": [
    "3. Create a Python class hierarchy for shapes (e.g., circle, square, triangle) and demonstrate polymorphism\n",
    "through a common method, such as `calculate_area()`."
   ]
  },
  {
   "cell_type": "code",
   "execution_count": 11,
   "id": "6f83807f-1d80-414c-a7bc-68f81604242f",
   "metadata": {},
   "outputs": [
    {
     "name": "stdout",
     "output_type": "stream",
     "text": [
      "Circle Area: 78.53981633974483\n",
      "Square Area: 16\n",
      "Triangle Area: 9.0\n"
     ]
    }
   ],
   "source": [
    "import math\n",
    "\n",
    "class Shape:\n",
    "    def calculate_area(self):\n",
    "        pass\n",
    "    \n",
    "class Circle(Shape):\n",
    "    def __init__(self, radius):\n",
    "        self.radius = radius\n",
    "        \n",
    "    def calculate_area(self):\n",
    "        return math.pi*self.radius**2\n",
    "    \n",
    "class Square(Shape):\n",
    "    def __init__(self,side):\n",
    "        self.side = side\n",
    "        \n",
    "    def calculate_area(self):\n",
    "        return self.side ** 2\n",
    "    \n",
    "class Triangle(Shape):\n",
    "    def __init__(self, base, height):\n",
    "        self.base = base\n",
    "        self.height = height\n",
    "        \n",
    "    def calculate_area(self):\n",
    "        return 0.5 * self.base * self.height\n",
    "    \n",
    "circle = Circle(5)\n",
    "print(\"Circle Area:\", circle.calculate_area())  \n",
    "\n",
    "square = Square(4)\n",
    "print(\"Square Area:\", square.calculate_area())  \n",
    "\n",
    "triangle = Triangle(3, 6)\n",
    "print(\"Triangle Area:\", triangle.calculate_area())  "
   ]
  },
  {
   "cell_type": "markdown",
   "id": "afb8cb03-6e02-45bf-86ba-b8e191457c6a",
   "metadata": {},
   "source": [
    "4. Explain the concept of method overriding in polymorphism. Provide an example."
   ]
  },
  {
   "cell_type": "code",
   "execution_count": 15,
   "id": "076c8530-1935-4f9e-a13c-aea8fe4e96e8",
   "metadata": {},
   "outputs": [
    {
     "name": "stdout",
     "output_type": "stream",
     "text": [
      "Animal make a generic sound\n",
      "Dog Barks\n"
     ]
    }
   ],
   "source": [
    "#- Method overriding in polymorphism: Method overriding occurs when a subclass provides a specific implementation of a method that is already defined in its superclass. The subclass method has the same name, parameters, and return type as the superclass method, but it provides a different implementation.\n",
    "\n",
    "class Animal:\n",
    "    def make_sound(self):\n",
    "        print(\"Animal make a generic sound\")\n",
    "        \n",
    "class Dog(Animal):\n",
    "    def make_sound(self):\n",
    "        print(\"Dog Barks\")\n",
    "        \n",
    "animal = Animal()\n",
    "animal.make_sound()\n",
    "\n",
    "dog = Dog()\n",
    "dog.make_sound()"
   ]
  },
  {
   "cell_type": "markdown",
   "id": "cde465ac-0192-4e11-afe5-bebcf8f80d44",
   "metadata": {},
   "source": [
    "5. How is polymorphism different from method overloading in Python? Provide examples for both."
   ]
  },
  {
   "cell_type": "code",
   "execution_count": 17,
   "id": "b3ddf736-f371-44da-8322-a0719c638923",
   "metadata": {},
   "outputs": [],
   "source": [
    "# class MyClass:\n",
    "#     def my_method(self, x):\n",
    "#         print(\"Method with one argument\")\n",
    "\n",
    "#     def my_method(self, x, y):\n",
    "#         print(\"Method with two arguments\")\n",
    "\n",
    "# obj = MyClass()\n",
    "# obj.my_method(1)  # This will raise an error because method overloading is not supported in Python\n"
   ]
  },
  {
   "cell_type": "markdown",
   "id": "65b49814-f7ed-4120-b2f1-07c7b5e509db",
   "metadata": {},
   "source": [
    "6. Create a Python class called `Animal` with a method `speak()`. Then, create child classes like `Dog`, `Cat`, and `Bird`, each with their own `speak()` method. Demonstrate polymorphism by calling the `speak()` method\n",
    "on objects of different subclasses."
   ]
  },
  {
   "cell_type": "code",
   "execution_count": 18,
   "id": "9d19c2b1-400a-4796-8900-861908f49536",
   "metadata": {},
   "outputs": [
    {
     "name": "stdout",
     "output_type": "stream",
     "text": [
      "Woof!\n",
      "Meow!\n",
      "Chirp!\n"
     ]
    }
   ],
   "source": [
    "class Animal:\n",
    "    def speak(self):\n",
    "        pass\n",
    "\n",
    "class Dog(Animal):\n",
    "    def speak(self):\n",
    "        return \"Woof!\"\n",
    "\n",
    "class Cat(Animal):\n",
    "    def speak(self):\n",
    "        return \"Meow!\"\n",
    "\n",
    "class Bird(Animal):\n",
    "    def speak(self):\n",
    "        return \"Chirp!\"\n",
    "\n",
    "dog = Dog()\n",
    "print(dog.speak())  \n",
    "\n",
    "cat = Cat()\n",
    "print(cat.speak())  \n",
    "\n",
    "bird = Bird()\n",
    "print(bird.speak())  "
   ]
  },
  {
   "cell_type": "markdown",
   "id": "dc924d42-1637-4142-b5c8-17285378292b",
   "metadata": {},
   "source": [
    "7. Discuss the use of abstract methods and classes in achieving polymorphism in Python. Provide an example\n",
    "using the `abc` module."
   ]
  },
  {
   "cell_type": "code",
   "execution_count": 19,
   "id": "f1bc8eb3-4d1e-423c-839b-22ec7d94357b",
   "metadata": {},
   "outputs": [
    {
     "name": "stdout",
     "output_type": "stream",
     "text": [
      "Woof!\n",
      "Meow!\n",
      "Chirp!\n"
     ]
    }
   ],
   "source": [
    "# - Abstract methods and classes are used to define common interfaces and enforce polymorphic behavior in Python. The abc module provides support for abstract base classes (ABCs) and abstract methods.\n",
    "\n",
    "from abc import ABC, abstractmethod\n",
    "\n",
    "class Animal(ABC):\n",
    "    @abstractmethod\n",
    "    def speak(self):\n",
    "        pass\n",
    "\n",
    "class Dog(Animal):\n",
    "    def speak(self):\n",
    "        return \"Woof!\"\n",
    "\n",
    "class Cat(Animal):\n",
    "    def speak(self):\n",
    "        return \"Meow!\"\n",
    "\n",
    "class Bird(Animal):\n",
    "    def speak(self):\n",
    "        return \"Chirp!\"\n",
    "\n",
    "dog = Dog()\n",
    "print(dog.speak())  \n",
    "\n",
    "cat = Cat()\n",
    "print(cat.speak())  \n",
    "\n",
    "bird = Bird()\n",
    "print(bird.speak())  \n"
   ]
  },
  {
   "cell_type": "markdown",
   "id": "6205c208-65c4-4424-85d8-b540e091f92c",
   "metadata": {},
   "source": [
    "8. Create a Python class hierarchy for a vehicle system (e.g., car, bicycle, boat) and implement a polymorphic `start()` method that prints a message specific to each vehicle type."
   ]
  },
  {
   "cell_type": "code",
   "execution_count": 20,
   "id": "176296c2-74e7-43d3-9467-130084250421",
   "metadata": {},
   "outputs": [
    {
     "name": "stdout",
     "output_type": "stream",
     "text": [
      "Car started. Vroom!\n",
      "Bicycle started. Pedal!\n",
      "Boat started. Row!\n"
     ]
    }
   ],
   "source": [
    "class Vehicle:\n",
    "    def start(self):\n",
    "        pass\n",
    "\n",
    "class Car(Vehicle):\n",
    "    def start(self):\n",
    "        return \"Car started. Vroom!\"\n",
    "\n",
    "class Bicycle(Vehicle):\n",
    "    def start(self):\n",
    "        return \"Bicycle started. Pedal!\"\n",
    "\n",
    "class Boat(Vehicle):\n",
    "    def start(self):\n",
    "        return \"Boat started. Row!\"\n",
    "\n",
    "\n",
    "car = Car()\n",
    "print(car.start())  \n",
    "\n",
    "bicycle = Bicycle()\n",
    "print(bicycle.start()) \n",
    "boat = Boat()\n",
    "print(boat.start()) \n"
   ]
  },
  {
   "cell_type": "markdown",
   "id": "c79eeb06-297d-4f87-aa4f-777ca0f14a56",
   "metadata": {},
   "source": [
    "9. Explain the significance of the `isinstance()` and `issubclass()` functions in Python polymorphism."
   ]
  },
  {
   "cell_type": "markdown",
   "id": "18a47e1a-ffd1-4dfc-89d9-b990727c902b",
   "metadata": {},
   "source": [
    "- The isinstance() and issubclass() functions in Python are used to check the type and class hierarchy relationships, respectively, which are essential for polymorphism:\n",
    "\n",
    "- isinstance(object, class_or_tuple): Returns True if the object is an instance of the specified class or any of its subclasses.\n",
    "- issubclass(class, class_or_tuple): Returns True if the class is a subclass of the specified class or any of its subclasses.\n",
    "These functions help ensure that objects can be treated polymorphically, allowing code to work with objects of different types and classes through a common interface.\n",
    "\n",
    "- The @abstractmethod decorator in Python is used to define abstract methods within abstract base classes (ABCs). Abstract methods are methods without a concrete implementation and must be overridden by subclasses to provide a specific implementation. By defining abstract methods, the @abstractmethod decorator ensures that subclasses provide their own implementations, enforcing polymorphic behavior."
   ]
  },
  {
   "cell_type": "markdown",
   "id": "ed7055a0-42fd-48fb-85d5-8503923b588f",
   "metadata": {},
   "source": [
    "10. What is the role of the `@abstractmethod` decorator in achieving polymorphism in Python? Provide an\n",
    "example."
   ]
  },
  {
   "cell_type": "code",
   "execution_count": 21,
   "id": "e2ff2f4c-4643-4ad3-b91a-314fe282b2f0",
   "metadata": {},
   "outputs": [
    {
     "name": "stdout",
     "output_type": "stream",
     "text": [
      "Circle Area: 78.5\n",
      "Rectangle Area: 24\n"
     ]
    }
   ],
   "source": [
    "from abc import ABC, abstractmethod\n",
    "\n",
    "class Shape(ABC):\n",
    "    @abstractmethod\n",
    "    def calculate_area(self):\n",
    "        pass\n",
    "\n",
    "class Circle(Shape):\n",
    "    def __init__(self, radius):\n",
    "        self.radius = radius\n",
    "\n",
    "    def calculate_area(self):\n",
    "        return 3.14 * self.radius ** 2\n",
    "\n",
    "class Rectangle(Shape):\n",
    "    def __init__(self, length, width):\n",
    "        self.length = length\n",
    "        self.width = width\n",
    "\n",
    "    def calculate_area(self):\n",
    "        return self.length * self.width\n",
    "\n",
    "circle = Circle(5)\n",
    "print(\"Circle Area:\", circle.calculate_area())  \n",
    "rectangle = Rectangle(4, 6)\n",
    "print(\"Rectangle Area:\", rectangle.calculate_area()) \n"
   ]
  },
  {
   "cell_type": "markdown",
   "id": "fc98416c-bb47-4a22-b4b3-1a988afc25bc",
   "metadata": {},
   "source": [
    "11. Create a Python class called `Shape` with a polymorphic method `area()` that calculates the area of different shapes (e.g., circle, rectangle, triangle)."
   ]
  },
  {
   "cell_type": "code",
   "execution_count": 22,
   "id": "b5edb4b8-7ba7-420e-a9f0-0058dd64ea46",
   "metadata": {},
   "outputs": [
    {
     "name": "stdout",
     "output_type": "stream",
     "text": [
      "Circle Area: 78.53981633974483\n",
      "Rectangle Area: 24\n",
      "Triangle Area: 9.0\n"
     ]
    }
   ],
   "source": [
    "import math\n",
    "\n",
    "class Shape:\n",
    "    def area(self):\n",
    "        pass\n",
    "\n",
    "class Circle(Shape):\n",
    "    def __init__(self, radius):\n",
    "        self.radius = radius\n",
    "\n",
    "    def area(self):\n",
    "        return math.pi * self.radius ** 2\n",
    "\n",
    "class Rectangle(Shape):\n",
    "    def __init__(self, length, width):\n",
    "        self.length = length\n",
    "        self.width = width\n",
    "\n",
    "    def area(self):\n",
    "        return self.length * self.width\n",
    "\n",
    "class Triangle(Shape):\n",
    "    def __init__(self, base, height):\n",
    "        self.base = base\n",
    "        self.height = height\n",
    "\n",
    "    def area(self):\n",
    "        return 0.5 * self.base * self.height\n",
    "\n",
    "circle = Circle(5)\n",
    "print(\"Circle Area:\", circle.area())  \n",
    "rectangle = Rectangle(4, 6)\n",
    "print(\"Rectangle Area:\", rectangle.area())  \n",
    "\n",
    "triangle = Triangle(3, 6)\n",
    "print(\"Triangle Area:\", triangle.area())  \n"
   ]
  },
  {
   "cell_type": "markdown",
   "id": "6621c3e0-d776-4ab8-9813-f8a32e44260b",
   "metadata": {},
   "source": [
    "12. Discuss the benefits of polymorphism in terms of code reusability and flexibility in Python programs."
   ]
  },
  {
   "cell_type": "markdown",
   "id": "e0a5dd36-89e9-4672-a33f-ead9cc485ccb",
   "metadata": {},
   "source": [
    "- Benefits of polymorphism in Python:\n",
    "\n",
    "- Code Reusability: Polymorphism promotes code reuse by allowing different objects to be treated uniformly through a common interface. This reduces redundancy and promotes modular design, making it easier to maintain and extend the codebase.\n",
    "\n",
    "- Flexibility: Polymorphism enhances code flexibility by allowing new subclasses to be added without modifying existing code. This promotes scalability and adaptability to changing requirements, making the code more robust and future-proof."
   ]
  },
  {
   "cell_type": "markdown",
   "id": "bcc98145-b7b8-4d8e-84dd-ee417fd70f21",
   "metadata": {},
   "source": [
    "13. Explain the use of the `super()` function in Python polymorphism. How does it help call methods of parent\n",
    "classes?"
   ]
  },
  {
   "cell_type": "markdown",
   "id": "63009b37-159f-43b5-953f-817784c2faff",
   "metadata": {},
   "source": [
    "- The super() function in Python is used to call methods of the parent class within a subclass. In the context of polymorphism, super() can be used to invoke overridden methods of the parent class, enabling method chaining and ensuring that all necessary functionality of the parent class is preserved in the subclass."
   ]
  },
  {
   "cell_type": "markdown",
   "id": "4a1acaf9-5773-4d48-bb81-4924ac0ea8b4",
   "metadata": {},
   "source": [
    "14. Create a Python class hierarchy for a banking system with various account types (e.g., savings, checking, credit card) and demonstrate polymorphism by implementing a common `withdraw()` method."
   ]
  },
  {
   "cell_type": "code",
   "execution_count": 23,
   "id": "46db7870-0f28-4de9-b660-c5dcd43836e0",
   "metadata": {},
   "outputs": [
    {
     "name": "stdout",
     "output_type": "stream",
     "text": [
      "Withdrawing 100 from savings account\n",
      "Withdrawing 100 from checking account\n",
      "Withdrawing 100 from credit card account\n"
     ]
    }
   ],
   "source": [
    "class Account:\n",
    "    def withdraw(self, amount):\n",
    "        pass\n",
    "\n",
    "class SavingsAccount(Account):\n",
    "    def withdraw(self, amount):\n",
    "        print(f\"Withdrawing {amount} from savings account\")\n",
    "\n",
    "class CheckingAccount(Account):\n",
    "    def withdraw(self, amount):\n",
    "        print(f\"Withdrawing {amount} from checking account\")\n",
    "\n",
    "class CreditCardAccount(Account):\n",
    "    def withdraw(self, amount):\n",
    "        print(f\"Withdrawing {amount} from credit card account\")\n",
    "\n",
    "# Example usage\n",
    "savings_account = SavingsAccount()\n",
    "savings_account.withdraw(100)  \n",
    "\n",
    "checking_account = CheckingAccount()\n",
    "checking_account.withdraw(100)  \n",
    "credit_card_account = CreditCardAccount()\n",
    "credit_card_account.withdraw(100)  \n"
   ]
  },
  {
   "cell_type": "markdown",
   "id": "b212f3b6-f130-48a2-8a93-aaaa8c6c2b0d",
   "metadata": {},
   "source": [
    "15. Describe the concept of operator overloading in Python and how it relates to polymorphism. Provide\n",
    "examples using operators like `+` and `*`."
   ]
  },
  {
   "cell_type": "code",
   "execution_count": 24,
   "id": "4ba6495e-a252-49f8-a68b-755c9711a579",
   "metadata": {},
   "outputs": [
    {
     "name": "stdout",
     "output_type": "stream",
     "text": [
      "Sum Point: 4 6\n",
      "Scaled Point: 2 4\n"
     ]
    }
   ],
   "source": [
    "# - Operator overloading in Python refers to the ability to define custom behavior for built-in operators (+, -, *, /, etc.) when applied to objects of user-defined classes. This allows objects to behave like built-in types and enables polymorphic behavior for operators.\n",
    "\n",
    "class Point:\n",
    "    def __init__(self, x, y):\n",
    "        self.x = x\n",
    "        self.y = y\n",
    "\n",
    "    def __add__(self, other):\n",
    "        return Point(self.x + other.x, self.y + other.y)\n",
    "\n",
    "    def __mul__(self, scalar):\n",
    "        return Point(self.x * scalar, self.y * scalar)\n",
    "\n",
    "\n",
    "point1 = Point(1, 2)\n",
    "point2 = Point(3, 4)\n",
    "\n",
    "sum_point = point1 + point2\n",
    "print(\"Sum Point:\", sum_point.x, sum_point.y)  \n",
    "\n",
    "scaled_point = point1 * 2\n",
    "print(\"Scaled Point:\", scaled_point.x, scaled_point.y)  \n"
   ]
  },
  {
   "cell_type": "markdown",
   "id": "4f4674c5-abe0-4102-aebb-0713fa081e87",
   "metadata": {},
   "source": [
    "16. What is dynamic polymorphism, and how is it achieved in Python?"
   ]
  },
  {
   "cell_type": "markdown",
   "id": "a7d4c17c-70c4-4258-92d2-b1f1c7107b15",
   "metadata": {},
   "source": [
    "- Dynamic polymorphism refers to the ability of different objects to respond to the same message or method invocation in different ways at runtime. It allows objects of different types to be treated uniformly through a common interface, with the specific implementation of a method determined dynamically based on the actual type of the object."
   ]
  },
  {
   "cell_type": "markdown",
   "id": "dcea7fa3-6835-4478-be4a-64d4bbfc99ac",
   "metadata": {},
   "source": [
    "17. Create a Python class hierarchy for employees in a company (e.g., manager, developer, designer) and implement polymorphism through a common `calculate_salary()` method."
   ]
  },
  {
   "cell_type": "code",
   "execution_count": 25,
   "id": "9854941a-96ee-47a1-a71a-14dfd155a5cc",
   "metadata": {},
   "outputs": [
    {
     "name": "stdout",
     "output_type": "stream",
     "text": [
      "Manager Salary: 100000\n",
      "Developer Salary: 80000\n",
      "Designer Salary: 70000\n"
     ]
    }
   ],
   "source": [
    "class Employee:\n",
    "    def calculate_salary(self):\n",
    "        pass\n",
    "\n",
    "class Manager(Employee):\n",
    "    def calculate_salary(self):\n",
    "        return 100000  \n",
    "class Developer(Employee):\n",
    "    def calculate_salary(self):\n",
    "        return 80000  \n",
    "\n",
    "class Designer(Employee):\n",
    "    def calculate_salary(self):\n",
    "        return 70000  \n",
    "\n",
    "manager = Manager()\n",
    "print(\"Manager Salary:\", manager.calculate_salary())  \n",
    "\n",
    "developer = Developer()\n",
    "print(\"Developer Salary:\", developer.calculate_salary())  \n",
    "\n",
    "designer = Designer()\n",
    "print(\"Designer Salary:\", designer.calculate_salary())  "
   ]
  },
  {
   "cell_type": "markdown",
   "id": "a5aa7d0a-c36c-4f1b-8c05-799e72dd84b0",
   "metadata": {},
   "source": [
    "18. Discuss the concept of function pointers and how they can be used to achieve polymorphism in Python."
   ]
  },
  {
   "cell_type": "code",
   "execution_count": 26,
   "id": "3b4bf30c-46aa-4c8e-a1ec-31eb5a0b2399",
   "metadata": {},
   "outputs": [
    {
     "name": "stdout",
     "output_type": "stream",
     "text": [
      "Result 1: 8\n",
      "Result 2: 2\n"
     ]
    }
   ],
   "source": [
    "# - Function pointers are not a direct concept in Python like in languages such as C or C++. However, the concept of first-class functions in Python allows for similar functionality. In Python, functions are first-class citizens, meaning they can be passed around as arguments to other functions, returned from functions, and assigned to variables. This flexibility enables polymorphism through functions, where different functions can be passed as arguments or stored in data structures and called dynamically based on the context.\n",
    "\n",
    "def add(x,y):\n",
    "    return x+y\n",
    "\n",
    "def subtract(x,y):\n",
    "    return x-y\n",
    "\n",
    "def calculate(operation, x, y):\n",
    "    return operation(x,y)\n",
    "\n",
    "result1 = calculate(add, 5,3)\n",
    "\n",
    "print(\"Result 1:\", result1) \n",
    "\n",
    "result2 = calculate(subtract, 5, 3)\n",
    "print(\"Result 2:\", result2)  "
   ]
  },
  {
   "cell_type": "markdown",
   "id": "280091f4-8c74-4155-a701-e000ff149ce7",
   "metadata": {},
   "source": [
    "19. Explain the role of interfaces and abstract classes in polymorphism, drawing comparisons between them."
   ]
  },
  {
   "cell_type": "markdown",
   "id": "5beff982-e2f2-4a58-b95e-a4f26f6d1178",
   "metadata": {},
   "source": [
    "- Interfaces: In Python, interfaces are typically represented using abstract base classes (ABCs) from the abc module. An interface defines a set of methods that must be implemented by any class that conforms to the interface. While Python does not have explicit support for interfaces like some other languages, interfaces can be created using ABCs and enforced through inheritance. Interfaces promote polymorphism by providing a common interface that allows objects of different classes to be treated uniformly.\n",
    "\n",
    "- Abstract classes: Abstract classes are classes that cannot be instantiated directly and contain one or more abstract methods (methods without a concrete implementation). Abstract classes serve as templates for concrete subclasses, defining a common interface and behavior that subclasses must implement. Abstract classes promote polymorphism by enforcing a common interface and allowing subclasses to provide specific implementations of abstract methods, enabling polymorphic behavior through method overriding.\n",
    "\n",
    "- Interfaces focus on defining a set of methods that must be implemented by conforming classes, promoting polymorphism by providing a common interface.\n",
    "- Abstract classes can define both abstract methods and concrete methods, serving as templates for concrete subclasses and enforcing a common interface through method overriding."
   ]
  },
  {
   "cell_type": "markdown",
   "id": "7f78d9af-962b-41c4-9991-56cfe7f34f41",
   "metadata": {},
   "source": [
    "20. Create a Python class for a zoo simulation, demonstrating polymorphism with different animal types (e.g., mammals, birds, reptiles) and their behavior (e.g., eating, sleeping, making sounds).\n",
    "\n"
   ]
  },
  {
   "cell_type": "code",
   "execution_count": 27,
   "id": "b3d0864b-942b-4179-a0e5-31ab9a5698aa",
   "metadata": {},
   "outputs": [
    {
     "name": "stdout",
     "output_type": "stream",
     "text": [
      "Mammal:\n",
      " - Speak: Mammal makes a sound\n",
      " - Eat: Mammal eats food\n",
      " - Sleep: Mammal sleeps\n",
      "\n",
      "Bird:\n",
      " - Speak: Bird chirps\n",
      " - Eat: Bird pecks at food\n",
      " - Sleep: Bird perches and sleeps\n",
      "\n",
      "Reptile:\n",
      " - Speak: Reptile hisses\n",
      " - Eat: Reptile eats insects\n",
      " - Sleep: Reptile basks in the sun and sleeps\n"
     ]
    }
   ],
   "source": [
    "class Animal:\n",
    "    def speak(self):\n",
    "        pass\n",
    "\n",
    "    def eat(self):\n",
    "        pass\n",
    "\n",
    "    def sleep(self):\n",
    "        pass\n",
    "\n",
    "class Mammal(Animal):\n",
    "    def speak(self):\n",
    "        return \"Mammal makes a sound\"\n",
    "\n",
    "    def eat(self):\n",
    "        return \"Mammal eats food\"\n",
    "\n",
    "    def sleep(self):\n",
    "        return \"Mammal sleeps\"\n",
    "\n",
    "class Bird(Animal):\n",
    "    def speak(self):\n",
    "        return \"Bird chirps\"\n",
    "\n",
    "    def eat(self):\n",
    "        return \"Bird pecks at food\"\n",
    "\n",
    "    def sleep(self):\n",
    "        return \"Bird perches and sleeps\"\n",
    "\n",
    "class Reptile(Animal):\n",
    "    def speak(self):\n",
    "        return \"Reptile hisses\"\n",
    "\n",
    "    def eat(self):\n",
    "        return \"Reptile eats insects\"\n",
    "\n",
    "    def sleep(self):\n",
    "        return \"Reptile basks in the sun and sleeps\"\n",
    "\n",
    "# Example usage\n",
    "mammal = Mammal()\n",
    "print(\"Mammal:\")\n",
    "print(\" - Speak:\", mammal.speak())  \n",
    "print(\" - Eat:\", mammal.eat())  \n",
    "print(\" - Sleep:\", mammal.sleep()) \n",
    "\n",
    "bird = Bird()\n",
    "print(\"\\nBird:\")\n",
    "print(\" - Speak:\", bird.speak()) \n",
    "print(\" - Eat:\", bird.eat())  \n",
    "print(\" - Sleep:\", bird.sleep())  \n",
    "reptile = Reptile()\n",
    "print(\"\\nReptile:\")\n",
    "print(\" - Speak:\", reptile.speak())  \n",
    "print(\" - Eat:\", reptile.eat()) \n",
    "print(\" - Sleep:\", reptile.sleep())  "
   ]
  },
  {
   "cell_type": "markdown",
   "id": "e0eebfff-a794-4cbe-ba85-4c9d1d5d700c",
   "metadata": {},
   "source": [
    "# Abstraction:"
   ]
  },
  {
   "cell_type": "markdown",
   "id": "c4dd2bd9-400d-456a-b400-4f3b9bd715bd",
   "metadata": {},
   "source": [
    "1. What is abstraction in Python, and how does it relate to object-oriented programming?"
   ]
  },
  {
   "cell_type": "markdown",
   "id": "590bf598-44ec-421f-be42-17d6bbc2f242",
   "metadata": {},
   "source": [
    "Abstraction in Python is a fundamental concept in object-oriented programming (OOP) that involves hiding the complex implementation details of a system while exposing only the essential features or functionalities. It allows programmers to focus on what an object does rather than how it does it. Abstraction is achieved through the use of abstract classes, interfaces, and encapsulation.\n",
    "\n",
    "In Python, abstraction is closely related to object-oriented programming because it enables the creation of classes and objects that represent real-world entities with well-defined behaviors and properties. By abstracting away implementation details, programmers can design more modular, reusable, and maintainable code."
   ]
  },
  {
   "cell_type": "markdown",
   "id": "4149f5dd-9a24-46bb-8601-30b2b68a7267",
   "metadata": {},
   "source": [
    "2. Describe the benefits of abstraction in terms of code organization and complexity reduction."
   ]
  },
  {
   "cell_type": "markdown",
   "id": "d061eb77-44ef-4941-847b-fee6f5e1ae5f",
   "metadata": {},
   "source": [
    "- Benefits of abstraction in terms of code organization and complexity reduction include:\n",
    "\n",
    "- Modularity: Abstraction promotes modularity by breaking down a system into smaller, more manageable components with clearly defined interfaces. Each component encapsulates its own functionality, allowing for easier maintenance and testing.\n",
    "\n",
    "- Encapsulation: Abstraction facilitates encapsulation by hiding the internal implementation details of an object behind a well-defined interface. This prevents direct access to the object's internal state and ensures data integrity and security.\n",
    "\n",
    "- Code Reusability: Abstraction promotes code reusability by allowing programmers to define abstract classes and interfaces that can be implemented by multiple concrete subclasses. This reduces redundancy and promotes the reuse of common functionality across different parts of the codebase.\n",
    "\n",
    "- Complexity Reduction: Abstraction helps reduce complexity by providing a high-level view of the system's architecture and functionality. By focusing on the essential features and hiding unnecessary details, abstraction simplifies the understanding and maintenance of the code.\n",
    "\n",
    "- Flexibility and Extensibility: Abstraction enables flexibility and extensibility by allowing the system to evolve over time without affecting its external interface. New functionality can be added by extending existing abstract classes or interfaces, without modifying the existing code.\n",
    "\n",
    "Overall, abstraction enhances code organization, promotes code reuse, reduces complexity, and improves maintainability, making it an essential concept in modern software development.\n",
    "\n",
    "\n",
    "\n",
    "\n"
   ]
  },
  {
   "cell_type": "markdown",
   "id": "2ede69ef-054f-418d-bce8-0be5e3aa03ee",
   "metadata": {},
   "source": [
    "3. Create a Python class called `Shape` with an abstract method `calculate_area()`. Then, create child classes (e.g., `Circle`, `Rectangle`) that implement the `calculate_area()` method. Provide an example of\n",
    "using these classes."
   ]
  },
  {
   "cell_type": "code",
   "execution_count": 28,
   "id": "f710c436-289c-4cd4-a487-4f3050566492",
   "metadata": {},
   "outputs": [
    {
     "name": "stdout",
     "output_type": "stream",
     "text": [
      "Circle Area: 78.53981633974483\n",
      "Rectangle Area: 24\n"
     ]
    }
   ],
   "source": [
    "from abc import ABC, abstractmethod\n",
    "import math\n",
    "\n",
    "class Shape(ABC):\n",
    "    @abstractmethod\n",
    "    def calculate_area(self):\n",
    "        pass\n",
    "\n",
    "class Circle(Shape):\n",
    "    def __init__(self, radius):\n",
    "        self.radius = radius\n",
    "\n",
    "    def calculate_area(self):\n",
    "        return math.pi * self.radius ** 2\n",
    "\n",
    "class Rectangle(Shape):\n",
    "    def __init__(self, length, width):\n",
    "        self.length = length\n",
    "        self.width = width\n",
    "\n",
    "    def calculate_area(self):\n",
    "        return self.length * self.width\n",
    "\n",
    "# Example usag\n",
    "circle = Circle(5)\n",
    "print(\"Circle Area:\", circle.calculate_area())  \n",
    "rectangle = Rectangle(4, 6)\n",
    "print(\"Rectangle Area:\", rectangle.calculate_area())  \n"
   ]
  },
  {
   "cell_type": "markdown",
   "id": "f41188c0-c5ae-4c94-97ee-9283df8e0ede",
   "metadata": {},
   "source": [
    "4. Explain the concept of abstract classes in Python and how they are defined using the `abc` module. Provide\n",
    "an example."
   ]
  },
  {
   "cell_type": "code",
   "execution_count": 29,
   "id": "825a15f4-2825-4cac-b072-d9704314841e",
   "metadata": {},
   "outputs": [
    {
     "name": "stdout",
     "output_type": "stream",
     "text": [
      "Woof!\n",
      "Meow!\n"
     ]
    }
   ],
   "source": [
    "# Abstract classes in Python are classes that cannot be instantiated directly and may contain one or more abstract methods, which are methods without a concrete implementation. Abstract classes serve as templates for concrete subclasses, defining a common interface and behavior that subclasses must implement.\n",
    "\n",
    "# Abstract classes are defined using the abc module in Python. The ABC class from the abc module is used as a base class for abstract classes, and the @abstractmethod decorator is used to define abstract methods within abstract classes.\n",
    "\n",
    "\n",
    "from abc import ABC, abstractmethod\n",
    "\n",
    "class Animal(ABC):\n",
    "    @abstractmethod\n",
    "    def speak(self):\n",
    "        pass\n",
    "\n",
    "class Dog(Animal):\n",
    "    def speak(self):\n",
    "        return \"Woof!\"\n",
    "\n",
    "class Cat(Animal):\n",
    "    def speak(self):\n",
    "        return \"Meow!\"\n",
    "\n",
    "dog = Dog()\n",
    "print(dog.speak())  \n",
    "\n",
    "cat = Cat()\n",
    "print(cat.speak()) \n"
   ]
  },
  {
   "cell_type": "markdown",
   "id": "b31473a1-0dbf-4f10-9f1a-4b54fa6a567f",
   "metadata": {},
   "source": [
    "5. How do abstract classes differ from regular classes in Python? Discuss their use cases."
   ]
  },
  {
   "cell_type": "markdown",
   "id": "e3120544-40ca-440a-8b9f-6baec525542c",
   "metadata": {},
   "source": [
    "- Differences between abstract classes and regular classes in Python:\n",
    "\n",
    "- Instantiation: Abstract classes cannot be instantiated directly, while regular classes can be instantiated to create objects.\n",
    "\n",
    "- Abstract Methods: Abstract classes may contain one or more abstract methods, which are methods without a concrete implementation. Regular classes may have all methods with concrete implementations.\n",
    "\n",
    "- Purpose: Abstract classes serve as templates for concrete subclasses, defining a common interface and behavior that subclasses must implement. Regular classes are used to create objects and encapsulate data and behavior.\n",
    "\n",
    "- Use Cases:\n",
    "\n",
    "- Abstract Classes: Use abstract classes when you want to define a common interface and behavior for a group of related classes, but the specific implementation may vary across subclasses. Abstract classes are useful for promoting polymorphism and enforcing a contract between subclasses.\n",
    "\n",
    "- Regular Classes: Use regular classes when you want to create objects with specific attributes and methods, and there is no need for a common interface or behavior shared among multiple classes. Regular classes are used to encapsulate data and behavior specific to a particular object or entity."
   ]
  },
  {
   "cell_type": "markdown",
   "id": "c3fbd8b8-d9f6-4697-86b2-925644ea6a06",
   "metadata": {},
   "source": [
    "6. Create a Python class for a bank account and demonstrate abstraction by hiding the account balance and\n",
    "providing methods to deposit and withdraw funds."
   ]
  },
  {
   "cell_type": "code",
   "execution_count": 2,
   "id": "675e1677-8729-4af5-8362-1dee39368379",
   "metadata": {},
   "outputs": [
    {
     "name": "stdout",
     "output_type": "stream",
     "text": [
      "Deposited 100 units. New Balance: 100\n",
      "Withdrew 50 units. New balance: 50\n",
      "Insufficient Funds.\n"
     ]
    }
   ],
   "source": [
    "class BankAccount:\n",
    "    def __init__(self):\n",
    "        self._balance = 0\n",
    "        \n",
    "    def deposit(self, amount):\n",
    "        self._balance += amount\n",
    "        print(f\"Deposited {amount} units. New Balance: {self._balance}\")\n",
    "        \n",
    "    def withdraw(self, amount):\n",
    "        if self._balance >= amount:\n",
    "            self._balance -= amount\n",
    "            print(f\"Withdrew {amount} units. New balance: {self._balance}\")\n",
    "            \n",
    "        else:\n",
    "            print(\"Insufficient Funds.\")\n",
    "            \n",
    "account = BankAccount()\n",
    "account.deposit(100)  \n",
    "account.withdraw(50)  \n",
    "account.withdraw(70)      "
   ]
  },
  {
   "cell_type": "markdown",
   "id": "6cad8279-0a74-4c47-b849-c9871795a6bd",
   "metadata": {},
   "source": [
    "7. Discuss the concept of interface classes in Python and their role in achieving abstraction."
   ]
  },
  {
   "cell_type": "markdown",
   "id": "b329dc81-6ae5-4a85-84d2-7d6586ea7ed5",
   "metadata": {},
   "source": [
    "- Interface classes in Python are classes that define a set of methods without providing implementations for those methods. They serve as blueprints for other classes, defining a contract that subclasses must adhere to by implementing all the methods defined in the interface.\n",
    "\n",
    "Interface classes play a crucial role in achieving abstraction by providing a common interface that hides the internal details of how methods are implemented in concrete subclasses. They promote polymorphism by allowing objects of different classes to be treated uniformly through a common interface.\n",
    "\n",
    "In Python, interface classes are typically implemented using abstract base classes (ABCs) from the abc module, where abstract methods are defined using the @abstractmethod decorator."
   ]
  },
  {
   "cell_type": "markdown",
   "id": "e14a7651-2405-45f0-aaca-b96c4cb96cfe",
   "metadata": {},
   "source": [
    "8. Create a Python class hierarchy for animals and implement abstraction by defining common methods (e.g., `eat()`, `sleep()`) in an abstract base class."
   ]
  },
  {
   "cell_type": "code",
   "execution_count": 3,
   "id": "28ec45b8-7234-4e22-abd6-407f997e8a72",
   "metadata": {},
   "outputs": [
    {
     "name": "stdout",
     "output_type": "stream",
     "text": [
      "Dog:\n",
      " - Dog eats bones\n",
      " - Dog sleeps in its bed\n",
      "\n",
      "Cat:\n",
      " - Cat eats fish\n",
      " - Cats sleeps on the couch\n"
     ]
    }
   ],
   "source": [
    "from abc import ABC, abstractmethod\n",
    "\n",
    "class Animal(ABC):\n",
    "    @abstractmethod\n",
    "    def eat(self):\n",
    "        pass\n",
    "    \n",
    "    @abstractmethod\n",
    "    def sleep(self):\n",
    "        pass\n",
    "    \n",
    "class Dog(Animal):\n",
    "    def eat(self):\n",
    "        return \"Dog eats bones\"\n",
    "    \n",
    "    def sleep(self):\n",
    "        return \"Dog sleeps in its bed\"\n",
    "    \n",
    "class Cat(Animal):\n",
    "    def eat(self):\n",
    "        return \"Cat eats fish\"\n",
    "    \n",
    "    def sleep(self):\n",
    "        return \"Cats sleeps on the couch\"\n",
    "    \n",
    "dog = Dog()\n",
    "print(\"Dog:\")\n",
    "print(\" -\", dog.eat())  \n",
    "print(\" -\", dog.sleep())  \n",
    "cat = Cat()\n",
    "print(\"\\nCat:\")\n",
    "print(\" -\", cat.eat())  \n",
    "print(\" -\", cat.sleep())"
   ]
  },
  {
   "cell_type": "markdown",
   "id": "f463ad01-af01-431e-aff6-c6bd6eaad362",
   "metadata": {},
   "source": [
    "9. Explain the significance of encapsulation in achieving abstraction. Provide examples."
   ]
  },
  {
   "cell_type": "code",
   "execution_count": 6,
   "id": "c3075330-bdda-49e1-b2a4-4116451c3f28",
   "metadata": {},
   "outputs": [
    {
     "name": "stdout",
     "output_type": "stream",
     "text": [
      "Current speed: 50\n"
     ]
    }
   ],
   "source": [
    "# - Encapsulation plays a significant role in achieving abstraction by hiding the internal state and implementation details of a class from the outside world. It allows for the separation of concerns, where the internal workings of a class are encapsulated and accessed only through well-defined interfaces.\n",
    "\n",
    "# Encapsulation ensures that the internal state of an object is protected and can only be modified through controlled methods, preventing direct manipulation and ensuring data integrity and security. By encapsulating implementation details, abstraction is achieved as users interact with the class through its public interface, abstracting away the internal complexities.\n",
    "\n",
    "class Car:\n",
    "    def __init__(self):\n",
    "        self._speed = 0\n",
    "        \n",
    "    def accelerate(self, amount):\n",
    "        self._speed += amount\n",
    "        \n",
    "    def get_speed(self):\n",
    "        return self._speed\n",
    "    \n",
    "car = Car()\n",
    "car.accelerate(50)\n",
    "print(\"Current speed:\", car.get_speed())"
   ]
  },
  {
   "cell_type": "markdown",
   "id": "7dd4dd34-c484-4190-b6e2-f99d16717974",
   "metadata": {},
   "source": [
    "10. What is the purpose of abstract methods, and how do they enforce abstraction in Python classes?"
   ]
  },
  {
   "cell_type": "code",
   "execution_count": 7,
   "id": "e650f7fa-c4fd-4bee-b185-de52aeb8aaff",
   "metadata": {},
   "outputs": [
    {
     "name": "stdout",
     "output_type": "stream",
     "text": [
      "Woof!\n",
      "Meow!\n"
     ]
    }
   ],
   "source": [
    "# - Abstract methods in Python are methods defined in abstract base classes (ABCs) that do not have a concrete implementation. They serve as placeholders for methods that must be implemented by concrete subclasses, enforcing a contract that subclasses must adhere to.\n",
    "\n",
    "# The purpose of abstract methods is to define a common interface and behavior that subclasses must implement, promoting polymorphism and ensuring that subclasses provide their own implementations of essential methods.\n",
    "\n",
    "# Abstract methods enforce abstraction in Python classes by providing a blueprint for the methods that must be implemented by concrete subclasses. This ensures consistency and interoperability across different subclasses, allowing objects of different classes to be treated uniformly through a common interface.\n",
    "\n",
    "\n",
    "from abc import ABC, abstractmethod\n",
    "\n",
    "class Animal(ABC):\n",
    "    @abstractmethod\n",
    "    def speak(self):\n",
    "        pass\n",
    "\n",
    "class Dog(Animal):\n",
    "    def speak(self):\n",
    "        return \"Woof!\"\n",
    "\n",
    "class Cat(Animal):\n",
    "    def speak(self):\n",
    "        return \"Meow!\"\n",
    "\n",
    "dog = Dog()\n",
    "print(dog.speak())  \n",
    "\n",
    "cat = Cat()\n",
    "print(cat.speak())  \n"
   ]
  },
  {
   "cell_type": "markdown",
   "id": "662d4ee0-c39a-48af-8bbd-ae8818172d44",
   "metadata": {},
   "source": [
    "11. Create a Python class for a vehicle system and demonstrate abstraction by defining common methods (e.g., `start()`, `stop()`) in an abstract base class."
   ]
  },
  {
   "cell_type": "code",
   "execution_count": 8,
   "id": "ffd7c9f5-1f43-4cc1-ba7e-bf0abfd9017f",
   "metadata": {},
   "outputs": [
    {
     "name": "stdout",
     "output_type": "stream",
     "text": [
      "Car:\n",
      " - Car started\n",
      " - Car stopped\n",
      "\n",
      "Motorcycle:\n",
      " - Motorcycle started\n",
      " - Motorcycle stopped\n"
     ]
    }
   ],
   "source": [
    "from abc import ABC, abstractmethod\n",
    "\n",
    "class Vehicle(ABC):\n",
    "    @abstractmethod\n",
    "    def start(self):\n",
    "        pass\n",
    "\n",
    "    @abstractmethod\n",
    "    def stop(self):\n",
    "        pass\n",
    "\n",
    "class Car(Vehicle):\n",
    "    def start(self):\n",
    "        return \"Car started\"\n",
    "\n",
    "    def stop(self):\n",
    "        return \"Car stopped\"\n",
    "\n",
    "class Motorcycle(Vehicle):\n",
    "    def start(self):\n",
    "        return \"Motorcycle started\"\n",
    "\n",
    "    def stop(self):\n",
    "        return \"Motorcycle stopped\"\n",
    "\n",
    "car = Car()\n",
    "print(\"Car:\")\n",
    "print(\" -\", car.start())  \n",
    "print(\" -\", car.stop())   \n",
    "\n",
    "motorcycle = Motorcycle()\n",
    "print(\"\\nMotorcycle:\")\n",
    "print(\" -\", motorcycle.start())  \n",
    "print(\" -\", motorcycle.stop())   \n"
   ]
  },
  {
   "cell_type": "markdown",
   "id": "0de42e02-ab98-4a3e-9e28-7b32c6d96ecb",
   "metadata": {},
   "source": [
    "12. Describe the use of abstract properties in Python and how they can be employed in abstract classes."
   ]
  },
  {
   "cell_type": "code",
   "execution_count": 9,
   "id": "61eaf657-eb6b-44a2-a7bc-0a9b2f8dfb24",
   "metadata": {},
   "outputs": [
    {
     "name": "stdout",
     "output_type": "stream",
     "text": [
      "Rectangle Area: 20\n",
      "Circle Area: 28.26\n"
     ]
    }
   ],
   "source": [
    "# Abstract properties in Python are properties defined in abstract base classes (ABCs) that do not have a concrete implementation. They serve as placeholders for properties that must be implemented by concrete subclasses.\n",
    "\n",
    "# Abstract properties can be employed in abstract classes to define a common interface for accessing attributes that must be implemented by subclasses. This ensures consistency and interoperability across different subclasses.\n",
    "\n",
    "\n",
    "from abc import ABC, abstractmethod\n",
    "\n",
    "class Shape(ABC):\n",
    "    @property\n",
    "    @abstractmethod\n",
    "    def area(self):\n",
    "        pass\n",
    "\n",
    "class Rectangle(Shape):\n",
    "    def __init__(self, length, width):\n",
    "        self.length = length\n",
    "        self.width = width\n",
    "\n",
    "    @property\n",
    "    def area(self):\n",
    "        return self.length * self.width\n",
    "\n",
    "class Circle(Shape):\n",
    "    def __init__(self, radius):\n",
    "        self.radius = radius\n",
    "\n",
    "    @property\n",
    "    def area(self):\n",
    "        return 3.14 * self.radius ** 2\n",
    "\n",
    "\n",
    "rectangle = Rectangle(4, 5)\n",
    "print(\"Rectangle Area:\", rectangle.area)  \n",
    "\n",
    "circle = Circle(3)\n",
    "print(\"Circle Area:\", circle.area)  \n"
   ]
  },
  {
   "cell_type": "markdown",
   "id": "caaa1930-31ee-4864-a28f-ef55af56583a",
   "metadata": {},
   "source": [
    "13. Create a Python class hierarchy for employees in a company (e.g., manager, developer, designer) and implement abstraction by defining a common `get_salary()` method."
   ]
  },
  {
   "cell_type": "code",
   "execution_count": 10,
   "id": "5ee26dc9-a2f7-4437-9b08-bd44f75f0528",
   "metadata": {},
   "outputs": [
    {
     "name": "stdout",
     "output_type": "stream",
     "text": [
      "Manager Salary: 100000\n",
      "Developer Salary: 80000\n",
      "Designer Salary: 70000\n"
     ]
    }
   ],
   "source": [
    "from abc import ABC, abstractmethod\n",
    "\n",
    "class Employee(ABC):\n",
    "    @abstractmethod\n",
    "    def get_salary(self):\n",
    "        pass\n",
    "\n",
    "class Manager(Employee):\n",
    "    def get_salary(self):\n",
    "        return 100000\n",
    "\n",
    "class Developer(Employee):\n",
    "    def get_salary(self):\n",
    "        return 80000\n",
    "\n",
    "class Designer(Employee):\n",
    "    def get_salary(self):\n",
    "        return 70000\n",
    "\n",
    "manager = Manager()\n",
    "print(\"Manager Salary:\", manager.get_salary())  \n",
    "developer = Developer()\n",
    "print(\"Developer Salary:\", developer.get_salary())  \n",
    "designer = Designer()\n",
    "print(\"Designer Salary:\", designer.get_salary())\n"
   ]
  },
  {
   "cell_type": "markdown",
   "id": "5e81dfd3-821a-41d8-beab-b8435c3ff3f1",
   "metadata": {},
   "source": [
    "14. Discuss the differences between abstract classes and concrete classes in Python, including their\n",
    "instantiation."
   ]
  },
  {
   "cell_type": "markdown",
   "id": "c96ae8ff-3f20-4381-bec6-21ad64c807b4",
   "metadata": {},
   "source": [
    "- Differences between abstract classes and concrete classes:\n",
    "\n",
    "- Instantiation: Abstract classes cannot be instantiated directly, while concrete classes can be instantiated to create objects.\n",
    "\n",
    "- Abstract Methods/Properties: Abstract classes may contain one or more abstract methods or properties, which must be implemented by concrete subclasses. Concrete classes do not contain abstract methods or properties.\n",
    "\n",
    "- Purpose: Abstract classes serve as templates for concrete subclasses, defining a common interface and behavior that subclasses must implement. Concrete classes provide specific implementations of methods and properties.\n",
    "\n",
    "- Use Cases:\n",
    "\n",
    "- Abstract Classes: Use abstract classes when you want to define a common interface and behavior for a group of related classes, but the specific implementation may vary across subclasses.\n",
    "\n",
    "- Concrete Classes: Use concrete classes when you want to create objects with specific attributes and methods, and there is no need for a common interface or behavior shared among multiple classes.\n"
   ]
  },
  {
   "cell_type": "markdown",
   "id": "fb53421a-347c-4df1-a6c8-5858f3363313",
   "metadata": {},
   "source": [
    "15. Explain the concept of abstract data types (ADTs) and their role in achieving abstraction in Python."
   ]
  },
  {
   "cell_type": "markdown",
   "id": "b44eb3a1-ad4b-44a1-9746-1eb9f6c10a7d",
   "metadata": {},
   "source": [
    "- Abstract data types (ADTs) in Python are data types that provide a high-level description of a set of values and the operations that can be performed on those values, without specifying the implementation details. ADTs allow programmers to work with data structures and algorithms at a higher level of abstraction, focusing on what operations can be performed rather than how they are implemented.\n",
    "\n",
    "- Abstract data types play a crucial role in achieving abstraction in Python by providing a common interface for interacting with data structures and algorithms, abstracting away the internal details of how data is stored and manipulated. This promotes code reuse, modularity, and maintainability by encapsulating implementation details and providing a clear separation between interface and implementation."
   ]
  },
  {
   "cell_type": "markdown",
   "id": "cc949450-0526-45b8-bb94-680012efd3e9",
   "metadata": {},
   "source": [
    "16. Create a Python class for a computer system, demonstrating abstraction by defining common methods (e.g., `power_on()`, `shutdown()`) in an abstract base class."
   ]
  },
  {
   "cell_type": "code",
   "execution_count": 11,
   "id": "49cce881-72e6-4ef9-9952-1f7fcf407b18",
   "metadata": {},
   "outputs": [
    {
     "name": "stdout",
     "output_type": "stream",
     "text": [
      "Desktop computer powered on\n",
      "Desktop computer shut down\n",
      "Laptop computer powered on\n",
      "Laptop computer shut down\n"
     ]
    }
   ],
   "source": [
    "from abc import ABC, abstractmethod\n",
    "\n",
    "class Computer(ABC):\n",
    "    @abstractmethod\n",
    "    def power_on(self):\n",
    "        pass\n",
    "\n",
    "    @abstractmethod\n",
    "    def shutdown(self):\n",
    "        pass\n",
    "\n",
    "class DesktopComputer(Computer):\n",
    "    def power_on(self):\n",
    "        return \"Desktop computer powered on\"\n",
    "\n",
    "    def shutdown(self):\n",
    "        return \"Desktop computer shut down\"\n",
    "\n",
    "class LaptopComputer(Computer):\n",
    "    def power_on(self):\n",
    "        return \"Laptop computer powered on\"\n",
    "\n",
    "    def shutdown(self):\n",
    "        return \"Laptop computer shut down\"\n",
    "\n",
    "desktop = DesktopComputer()\n",
    "print(desktop.power_on())  \n",
    "print(desktop.shutdown())  \n",
    "laptop = LaptopComputer()\n",
    "print(laptop.power_on())  \n",
    "print(laptop.shutdown())  \n"
   ]
  },
  {
   "cell_type": "markdown",
   "id": "14006e9b-5173-4856-8dc9-5b02c2580461",
   "metadata": {},
   "source": [
    "17. Discuss the benefits of using abstraction in large-scale software development projects."
   ]
  },
  {
   "cell_type": "markdown",
   "id": "d64dbc3d-1c5a-40f7-be04-5c5f7273fa6e",
   "metadata": {},
   "source": [
    "- Benefits of using abstraction in large-scale software development projects:\n",
    "\n",
    "- Modularity: Abstraction allows for the separation of concerns, breaking down complex systems into smaller, more manageable components with well-defined interfaces. This promotes modularity and allows for easier maintenance, testing, and debugging.\n",
    "\n",
    "- Code Reusability: Abstraction promotes code reusability by defining common interfaces and behaviors that can be implemented by multiple classes or modules. This reduces redundancy and promotes the reuse of existing code across different parts of the project.\n",
    "\n",
    "- Encapsulation: Abstraction helps encapsulate implementation details, hiding the complexity of the underlying system and providing a simplified view for users. This enhances security and data integrity by restricting direct access to internal components.\n",
    "\n",
    "- Scalability: Abstraction facilitates scalability by providing a flexible architecture that can adapt to changing requirements and accommodate future enhancements. New functionality can be added or existing functionality modified without affecting the overall system architecture.\n",
    "\n",
    "- Team Collaboration: Abstraction promotes collaboration among team members by providing clear interfaces and specifications for implementing various components. This allows team members to work independently on different parts of the project while ensuring interoperability and consistency."
   ]
  },
  {
   "cell_type": "markdown",
   "id": "2f90730f-80f0-4d56-ba71-576075c7b6f1",
   "metadata": {},
   "source": [
    "18. Explain how abstraction enhances code reusability and modularity in Python programs."
   ]
  },
  {
   "cell_type": "markdown",
   "id": "dda6fe99-6558-4ea0-98a6-d207cad7f33f",
   "metadata": {},
   "source": [
    "- Code Reusability: Abstraction allows for the creation of abstract classes and interfaces that define common behaviors and functionalities. These can be implemented by multiple concrete subclasses, promoting code reuse and reducing redundancy across the codebase.\n",
    "\n",
    "- Modularity: Abstraction promotes modularity by breaking down a system into smaller, more manageable components with well-defined interfaces. Each component encapsulates its own functionality, making it easier to understand, test, and maintain. Additionally, abstraction allows for easier integration of third-party libraries or modules, further enhancing modularity.\n",
    "\n",
    "- Separation of Concerns: Abstraction separates concerns by providing clear boundaries between different components of a system. This allows developers to focus on one aspect of the system at a time, leading to cleaner and more maintainable code.\n",
    "\n",
    "- Flexibility and Extensibility: Abstraction provides a flexible architecture that can adapt to changing requirements and accommodate future enhancements. New functionality can be added by extending existing abstract classes or interfaces, without modifying the existing codebase.\n",
    "\n",
    "- Standardization: Abstraction promotes standardization by defining common interfaces and behaviors that must be adhered to by all subclasses. This ensures consistency and interoperability across different parts of the codebase, making it easier to understand and maintain."
   ]
  },
  {
   "cell_type": "markdown",
   "id": "4b0c2990-679f-48a6-95fc-f0654a36a7ea",
   "metadata": {},
   "source": [
    "19. Create a Python class for a library system, implementing abstraction by defining common methods (e.g., `add_book()`, `borrow_book()`) in an abstract base class."
   ]
  },
  {
   "cell_type": "code",
   "execution_count": 12,
   "id": "63c9d2b9-26b4-474a-ae0b-3ac387f94b6d",
   "metadata": {},
   "outputs": [
    {
     "name": "stdout",
     "output_type": "stream",
     "text": [
      "Added book: Python Programming\n",
      "Borrowed book: Python Programming\n",
      "Data Structures and Algorithms is not available in the library\n"
     ]
    }
   ],
   "source": [
    "from abc import ABC, abstractmethod\n",
    "\n",
    "class Library(ABC):\n",
    "    @abstractmethod\n",
    "    def add_book(self, book):\n",
    "        pass\n",
    "\n",
    "    @abstractmethod\n",
    "    def borrow_book(self, book):\n",
    "        pass\n",
    "\n",
    "class PublicLibrary(Library):\n",
    "    def __init__(self):\n",
    "        self.books = []\n",
    "\n",
    "    def add_book(self, book):\n",
    "        self.books.append(book)\n",
    "        print(f\"Added book: {book}\")\n",
    "\n",
    "    def borrow_book(self, book):\n",
    "        if book in self.books:\n",
    "            self.books.remove(book)\n",
    "            print(f\"Borrowed book: {book}\")\n",
    "        else:\n",
    "            print(f\"{book} is not available in the library\")\n",
    "\n",
    "\n",
    "public_library = PublicLibrary()\n",
    "public_library.add_book(\"Python Programming\")\n",
    "public_library.borrow_book(\"Python Programming\")\n",
    "public_library.borrow_book(\"Data Structures and Algorithms\")\n"
   ]
  },
  {
   "cell_type": "markdown",
   "id": "eaaf16ee-471c-4e25-8a68-08c33d8eb03e",
   "metadata": {},
   "source": [
    "20. Describe the concept of method abstraction in Python and how it relates to polymorphism."
   ]
  },
  {
   "cell_type": "code",
   "execution_count": 13,
   "id": "57b915e1-e46e-4600-a1b8-8b667679dbce",
   "metadata": {},
   "outputs": [
    {
     "name": "stdout",
     "output_type": "stream",
     "text": [
      "Circle Area: 78.5\n",
      "Rectangle Area: 24\n"
     ]
    }
   ],
   "source": [
    "# - Method abstraction in Python refers to the process of defining methods in abstract base classes (ABCs) without providing concrete implementations. These abstract methods serve as placeholders for methods that must be implemented by concrete subclasses, enforcing a contract that subclasses must adhere to.\n",
    "\n",
    "# Method abstraction relates to polymorphism in Python by defining a common interface for interacting with objects of different classes. By defining abstract methods in ABCs, method abstraction allows objects of different subclasses to be treated uniformly through a common interface, promoting polymorphic behavior.\n",
    "\n",
    "\n",
    "from abc import ABC, abstractmethod\n",
    "\n",
    "class Shape(ABC):\n",
    "    @abstractmethod\n",
    "    def calculate_area(self):\n",
    "        pass\n",
    "\n",
    "class Circle(Shape):\n",
    "    def __init__(self, radius):\n",
    "        self.radius = radius\n",
    "\n",
    "    def calculate_area(self):\n",
    "        return 3.14 * self.radius ** 2\n",
    "\n",
    "class Rectangle(Shape):\n",
    "    def __init__(self, length, width):\n",
    "        self.length = length\n",
    "        self.width = width\n",
    "\n",
    "    def calculate_area(self):\n",
    "        return self.length * self.width\n",
    "\n",
    "\n",
    "circle = Circle(5)\n",
    "print(\"Circle Area:\", circle.calculate_area())  \n",
    "\n",
    "rectangle = Rectangle(4, 6)\n",
    "print(\"Rectangle Area:\", rectangle.calculate_area()) "
   ]
  },
  {
   "cell_type": "markdown",
   "id": "bd043799-e5ed-4fca-9e2b-0c6ea09d4027",
   "metadata": {},
   "source": [
    "# Composition:"
   ]
  },
  {
   "cell_type": "markdown",
   "id": "c21d17ac-461f-41ea-bcd4-3ae741bb4124",
   "metadata": {},
   "source": [
    "1. Explain the concept of composition in Python and how it is used to build complex objects from simpler ones."
   ]
  },
  {
   "cell_type": "markdown",
   "id": "20a43c85-c104-4ede-8c0d-39bb729e6048",
   "metadata": {},
   "source": [
    "- Composition in Python refers to the design technique where a class contains objects of other classes as attributes. It allows for building complex objects from simpler ones by combining multiple objects to achieve a desired functionality or behavior.\n",
    "\n",
    "- Composition enables the creation of objects that are composed of smaller, reusable components, promoting code reuse and modularity. It provides flexibility in designing complex systems by allowing the components to be easily replaced or extended without affecting the entire system."
   ]
  },
  {
   "cell_type": "markdown",
   "id": "bb45fe04-9674-4843-a8ef-24195c635a54",
   "metadata": {},
   "source": [
    "2. Describe the difference between composition and inheritance in object-oriented programming."
   ]
  },
  {
   "cell_type": "markdown",
   "id": "4b6c2b3f-f49e-42f3-b55d-887049532f1b",
   "metadata": {},
   "source": [
    "- Composition: In composition, objects of one class are contained within another class as attributes. It allows for building complex objects by combining simpler ones, promoting code reuse and modularity. Composition is typically used to represent \"has-a\" relationships between objects.\n",
    "\n",
    "- Inheritance: Inheritance involves creating a new class (subclass) based on an existing class (superclass), inheriting its attributes and methods. It allows for extending and modifying the behavior of existing classes, promoting code reuse and polymorphism. Inheritance is typically used to represent \"is-a\" relationships between classes."
   ]
  },
  {
   "cell_type": "markdown",
   "id": "734c600f-43d7-4214-b1f0-d730db8e30f5",
   "metadata": {},
   "source": [
    "3. Create a Python class called `Author` with attributes for name and birthdate. Then, create a `Book` class\n",
    "that contains an instance of `Author` as a composition. Provide an example of creating a `Book` object."
   ]
  },
  {
   "cell_type": "code",
   "execution_count": 14,
   "id": "0e36d854-d845-4558-a9c2-fa06a57afc75",
   "metadata": {},
   "outputs": [
    {
     "name": "stdout",
     "output_type": "stream",
     "text": [
      "Book Title: Harry Potter\n",
      "Author: J.K. Rowling\n",
      "Author Birthdate: July 31, 1965\n"
     ]
    }
   ],
   "source": [
    "class Author:\n",
    "    def __init__(self, name, birthdate):\n",
    "        self.name = name\n",
    "        self.birthdate = birthdate\n",
    "\n",
    "class Book:\n",
    "    def __init__(self, title, author_name, author_birthdate):\n",
    "        self.title = title\n",
    "        self.author = Author(author_name, author_birthdate)\n",
    "\n",
    "author = Author(\"J.K. Rowling\", \"July 31, 1965\")\n",
    "book = Book(\"Harry Potter\", author.name, author.birthdate)\n",
    "print(\"Book Title:\", book.title)\n",
    "print(\"Author:\", book.author.name)\n",
    "print(\"Author Birthdate:\", book.author.birthdate)\n"
   ]
  },
  {
   "cell_type": "markdown",
   "id": "8b489b57-f782-4f6f-8e07-958d46eadd0c",
   "metadata": {},
   "source": [
    "4. Discuss the benefits of using composition over inheritance in Python, especially in terms of code flexibility\n",
    "and reusability."
   ]
  },
  {
   "cell_type": "markdown",
   "id": "9a037896-0994-432e-877e-c035e3064eed",
   "metadata": {},
   "source": [
    "- Flexibility: Composition allows for greater flexibility in designing complex systems by enabling objects to be composed of smaller, interchangeable components. This makes it easier to modify or extend the behavior of individual components without affecting the entire system.\n",
    "\n",
    "- Code Reusability: Composition promotes code reuse by encapsulating reusable components as separate objects. These components can be reused in multiple contexts, leading to cleaner and more modular code.\n",
    "\n",
    "- Reduced Coupling: Composition reduces coupling between classes by promoting loose coupling between objects. Each component is encapsulated within its own class, making it easier to understand and maintain the codebase.\n",
    "\n",
    "- Modularity: Composition enhances modularity by breaking down complex systems into smaller, more manageable components. Each component can be developed, tested, and maintained independently, leading to better code organization and maintenance.\n",
    "\n",
    "- Dynamic Composition: Composition allows for dynamic composition of objects at runtime, enabling flexible and dynamic behavior in the system."
   ]
  },
  {
   "cell_type": "markdown",
   "id": "08978b8b-a310-426e-819f-d6e851b8a611",
   "metadata": {},
   "source": [
    "5. How can you implement composition in Python classes? Provide examples of using composition to create\n",
    "complex objects."
   ]
  },
  {
   "cell_type": "code",
   "execution_count": 15,
   "id": "bd9ab792-79bd-48f6-abe8-666a45caa0a3",
   "metadata": {},
   "outputs": [
    {
     "name": "stdout",
     "output_type": "stream",
     "text": [
      "Engine started\n",
      "Engine stopped\n"
     ]
    }
   ],
   "source": [
    "# Composition can be implemented in Python classes by including instances of other classes as attributes within a class. These attributes represent the components or parts of the class and are used to achieve the desired functionality or behavior.\n",
    "\n",
    "class Engine:\n",
    "    def start(self):\n",
    "        return \"Engine started\"\n",
    "\n",
    "    def stop(self):\n",
    "        return \"Engine stopped\"\n",
    "\n",
    "class Car:\n",
    "    def __init__(self):\n",
    "        self.engine = Engine()\n",
    "\n",
    "car = Car()\n",
    "print(car.engine.start())  \n",
    "print(car.engine.stop())   \n"
   ]
  },
  {
   "cell_type": "markdown",
   "id": "b9a40992-d1bd-4427-b5e7-001ba30d6842",
   "metadata": {},
   "source": [
    "6. Create a Python class hierarchy for a music player system, using composition to represent playlists and\n",
    "songs."
   ]
  },
  {
   "cell_type": "code",
   "execution_count": 16,
   "id": "907726b9-883b-491d-add7-61bc06ce5aed",
   "metadata": {},
   "outputs": [
    {
     "name": "stdout",
     "output_type": "stream",
     "text": [
      "Playlist Name: My Playlist\n",
      "Songs in Playlist:\n",
      "- Title: Shape of You | Artist: Ed Sheeran\n",
      "- Title: Havana | Artist: Camila Cabello\n"
     ]
    }
   ],
   "source": [
    "class Song:\n",
    "    def __init__(self, title, artist):\n",
    "        self.title = title\n",
    "        self.artist = artist\n",
    "\n",
    "class Playlist:\n",
    "    def __init__(self, name):\n",
    "        self.name = name\n",
    "        self.songs = []\n",
    "\n",
    "    def add_song(self, song):\n",
    "        self.songs.append(song)\n",
    "\n",
    "song1 = Song(\"Shape of You\", \"Ed Sheeran\")\n",
    "song2 = Song(\"Havana\", \"Camila Cabello\")\n",
    "\n",
    "playlist = Playlist(\"My Playlist\")\n",
    "playlist.add_song(song1)\n",
    "playlist.add_song(song2)\n",
    "\n",
    "print(\"Playlist Name:\", playlist.name)\n",
    "print(\"Songs in Playlist:\")\n",
    "for song in playlist.songs:\n",
    "    print(\"- Title:\", song.title, \"| Artist:\", song.artist)\n"
   ]
  },
  {
   "cell_type": "markdown",
   "id": "8b93ec11-64c2-49e0-a656-9f5543c7bcd1",
   "metadata": {},
   "source": [
    "7. Explain the concept of \"has-a\" relationships in composition and how it helps design software systems."
   ]
  },
  {
   "cell_type": "markdown",
   "id": "c4a10375-6cf7-4e47-9cd1-51c2e67e731c",
   "metadata": {},
   "source": [
    "- \"Has-a\" relationships in composition refer to the relationship between a containing object (e.g., a class) and its components (e.g., objects of other classes). It signifies that an object has another object as part of its state.\n",
    "\n",
    "- \"Has-a\" relationships help design software systems by allowing objects to be composed of smaller, reusable components. This promotes code reuse, modularity, and flexibility in designing complex systems. It enables objects to delegate responsibilities to their components, leading to cleaner and more maintainable code."
   ]
  },
  {
   "cell_type": "markdown",
   "id": "39bb881d-6090-4454-8e1a-86c9b119b0a6",
   "metadata": {},
   "source": [
    "8. Create a Python class for a computer system, using composition to represent components like CPU, RAM,\n",
    "and storage devices."
   ]
  },
  {
   "cell_type": "code",
   "execution_count": 17,
   "id": "2e3bb0b9-4f04-460f-8019-6a2afb0d156c",
   "metadata": {},
   "outputs": [
    {
     "name": "stdout",
     "output_type": "stream",
     "text": [
      "CPU executing\n",
      "RAM loading data\n",
      "Storage reading data\n"
     ]
    }
   ],
   "source": [
    "class CPU:\n",
    "    def execute(self):\n",
    "        return \"CPU executing\"\n",
    "\n",
    "class RAM:\n",
    "    def load(self):\n",
    "        return \"RAM loading data\"\n",
    "\n",
    "class Storage:\n",
    "    def read(self):\n",
    "        return \"Storage reading data\"\n",
    "\n",
    "class Computer:\n",
    "    def __init__(self):\n",
    "        self.cpu = CPU()\n",
    "        self.ram = RAM()\n",
    "        self.storage = Storage()\n",
    "\n",
    "\n",
    "computer = Computer()\n",
    "print(computer.cpu.execute())       \n",
    "print(computer.ram.load())          \n",
    "print(computer.storage.read())      \n"
   ]
  },
  {
   "cell_type": "markdown",
   "id": "6e3d44cf-6968-42cf-9e08-35cbf1855e57",
   "metadata": {},
   "source": [
    "9. Describe the concept of \"delegation\" in composition and how it simplifies the design of complex systems."
   ]
  },
  {
   "cell_type": "markdown",
   "id": "2fd4e791-c87c-49f5-8440-6b464ac061b4",
   "metadata": {},
   "source": [
    "- Delegation in composition refers to the process of allowing an object to delegate certain responsibilities or behaviors to its component objects. Instead of implementing all functionalities directly, an object delegates some tasks to its components, leveraging their specialized capabilities.\n",
    "\n",
    "- Delegation simplifies the design of complex systems by promoting code reuse and modularity. It allows objects to focus on their core responsibilities while delegating auxiliary tasks to other objects. This leads to cleaner, more maintainable code and promotes separation of concerns."
   ]
  },
  {
   "cell_type": "markdown",
   "id": "c38d67a3-d596-450c-a729-321178ad359c",
   "metadata": {},
   "source": [
    "10. Create a Python class for a car, using composition to represent components like the engine, wheels, and\n",
    "transmission."
   ]
  },
  {
   "cell_type": "code",
   "execution_count": 18,
   "id": "8f36f1a5-1bf9-4b8a-85f5-871f96c4f637",
   "metadata": {},
   "outputs": [
    {
     "name": "stdout",
     "output_type": "stream",
     "text": [
      "Engine started\n",
      "Wheel rotating\n",
      "Transmission shifting gear\n"
     ]
    }
   ],
   "source": [
    "class Engine:\n",
    "    def start(self):\n",
    "        return \"Engine started\"\n",
    "\n",
    "    def stop(self):\n",
    "        return \"Engine stopped\"\n",
    "\n",
    "class Wheel:\n",
    "    def rotate(self):\n",
    "        return \"Wheel rotating\"\n",
    "\n",
    "class Transmission:\n",
    "    def shift_gear(self):\n",
    "        return \"Transmission shifting gear\"\n",
    "\n",
    "class Car:\n",
    "    def __init__(self):\n",
    "        self.engine = Engine()\n",
    "        self.wheels = [Wheel() for _ in range(4)]\n",
    "        self.transmission = Transmission()\n",
    "\n",
    "car = Car()\n",
    "print(car.engine.start())               \n",
    "print(car.wheels[0].rotate())           \n",
    "print(car.transmission.shift_gear())    \n"
   ]
  },
  {
   "cell_type": "markdown",
   "id": "cc2b42e0-2c19-4d06-baac-b329eeaa5166",
   "metadata": {},
   "source": [
    "11. How can you encapsulate and hide the details of composed objects in Python classes to maintain\n",
    "abstraction?"
   ]
  },
  {
   "cell_type": "markdown",
   "id": "4210618d-ccf6-4cf6-98a9-23020e03d4ed",
   "metadata": {},
   "source": [
    "- Encapsulating and hiding the details of composed objects in Python classes involves restricting direct access to the internal components of an object and providing controlled access through methods or interfaces. This helps maintain abstraction by hiding the implementation details and exposing only the necessary functionalities to the external world.\n",
    "Encapsulation techniques such as information hiding and access control can be applied to composed objects by:\n",
    "\n",
    "Defining private attributes or methods within the class to store and manipulate the composed objects.\n",
    "Providing getter and setter methods to access and modify the composed objects' state, allowing controlled access to their properties.\n",
    "Implementing appropriate access modifiers (e.g., private, protected) to restrict direct access to the composed objects from external code.\n",
    "By encapsulating and hiding the details of composed objects, Python classes can maintain abstraction and provide a clean interface for interacting with the composed objects while hiding their internal complexities."
   ]
  },
  {
   "cell_type": "markdown",
   "id": "609b2591-57e3-42f1-bd56-16fa1326d6da",
   "metadata": {},
   "source": [
    "12. Create a Python class for a university course, using composition to represent students, instructors, and\n",
    "course materials."
   ]
  },
  {
   "cell_type": "markdown",
   "id": "7f59872e-3a25-4b6c-b218-bafaebcf7af4",
   "metadata": {},
   "source": [
    "class Student:\n",
    "    def __init__(self, name, student_id):\n",
    "        self.name = name\n",
    "        self.student_id = student_id\n",
    "\n",
    "class Instructor:\n",
    "    def __init__(self, name, instructor_id):\n",
    "        self.name = name\n",
    "        self.instructor_id = instructor_id\n",
    "\n",
    "class Course:\n",
    "    def __init__(self, course_name):\n",
    "        self.course_name = course_name\n",
    "        self.students = []\n",
    "        self.instructors = []\n",
    "\n",
    "    def add_student(self, student):\n",
    "        self.students.append(student)\n",
    "\n",
    "    def add_instructor(self, instructor):\n",
    "        self.instructors.append(instructor)\n",
    "\n",
    "\n",
    "student1 = Student(\"Alice\", \"S001\")\n",
    "student2 = Student(\"Bob\", \"S002\")\n",
    "\n",
    "instructor = Instructor(\"Dr. Smith\", \"I001\")\n",
    "\n",
    "course = Course(\"Introduction to Python\")\n",
    "course.add_student(student1)\n",
    "course.add_student(student2)\n",
    "course.add_instructor(instructor)\n",
    "\n",
    "print(\"Course:\", course.course_name)\n",
    "print(\"Students:\")\n",
    "for student in course.students:\n",
    "    print(\"- Name:\", student.name, \"| ID:\", student.student_id)\n",
    "print(\"Instructor:\")\n",
    "print(\"- Name:\", instructor.name, \"| ID:\", instructor.instructor_id)\n"
   ]
  },
  {
   "cell_type": "markdown",
   "id": "dcf19a79-b16d-4485-a61f-cad11a803218",
   "metadata": {},
   "source": [
    "13. Discuss the challenges and drawbacks of composition, such as increased complexity and potential for\n",
    "tight coupling between objects."
   ]
  },
  {
   "cell_type": "markdown",
   "id": "57da33f6-88e9-44e1-91c6-eced495a06c0",
   "metadata": {},
   "source": [
    "- Challenges and drawbacks of composition:\n",
    "\n",
    "- Increased Complexity: Composition can lead to increased complexity in the codebase, especially when dealing with multiple layers of nested objects. Managing the relationships and interactions between composed objects can become challenging, making the code harder to understand and maintain.\n",
    "\n",
    "- Potential for Tight Coupling: Composition can introduce tight coupling between objects, especially if the components are tightly integrated with each other. Changes in one component may require modifications in multiple places, leading to code fragility and reduced flexibility.\n",
    "\n",
    "- Dependency Management: Composition requires careful management of dependencies between objects. Changes in one component may affect the behavior of other components, requiring thorough testing and validation to ensure the system behaves as expected.\n",
    "\n",
    "- Overhead: Composition may introduce overhead in terms of memory and performance, especially when creating and managing multiple objects. Instantiating and maintaining composed objects can incur additional overhead, impacting the overall performance of the system."
   ]
  },
  {
   "cell_type": "markdown",
   "id": "a16fed07-ed5b-4297-85ba-fd96e3dbe924",
   "metadata": {},
   "source": [
    "14. Create a Python class hierarchy for a restaurant system, using composition to represent menus, dishes,\n",
    "and ingredients."
   ]
  },
  {
   "cell_type": "code",
   "execution_count": 19,
   "id": "fd33c374-48c5-405d-801d-8947374e153b",
   "metadata": {},
   "outputs": [
    {
     "name": "stdout",
     "output_type": "stream",
     "text": [
      "Menu: Main Menu\n",
      "Dishes:\n",
      "- Name: Margherita Pizza\n",
      "  Ingredients: Tomato, Cheese, Bread\n",
      "- Name: Caesar Salad\n",
      "  Ingredients: Tomato, Cheese\n"
     ]
    }
   ],
   "source": [
    "class Ingredient:\n",
    "    def __init__(self, name):\n",
    "        self.name = name\n",
    "\n",
    "class Dish:\n",
    "    def __init__(self, name, ingredients):\n",
    "        self.name = name\n",
    "        self.ingredients = ingredients\n",
    "\n",
    "class Menu:\n",
    "    def __init__(self, name, dishes):\n",
    "        self.name = name\n",
    "        self.dishes = dishes\n",
    "\n",
    "\n",
    "ingredient1 = Ingredient(\"Tomato\")\n",
    "ingredient2 = Ingredient(\"Cheese\")\n",
    "ingredient3 = Ingredient(\"Bread\")\n",
    "\n",
    "dish1 = Dish(\"Margherita Pizza\", [ingredient1, ingredient2, ingredient3])\n",
    "dish2 = Dish(\"Caesar Salad\", [ingredient1, ingredient2])\n",
    "\n",
    "menu = Menu(\"Main Menu\", [dish1, dish2])\n",
    "\n",
    "print(\"Menu:\", menu.name)\n",
    "print(\"Dishes:\")\n",
    "for dish in menu.dishes:\n",
    "    print(\"- Name:\", dish.name)\n",
    "    print(\"  Ingredients:\", \", \".join(ingredient.name for ingredient in dish.ingredients))\n"
   ]
  },
  {
   "cell_type": "markdown",
   "id": "7ab4e4b1-2a65-46a5-bb31-10d3a26d53a0",
   "metadata": {},
   "source": [
    "15. Explain how composition enhances code maintainability and modularity in Python programs."
   ]
  },
  {
   "cell_type": "markdown",
   "id": "2b5e1e0a-8a66-4ca2-b66a-e74c49beac0b",
   "metadata": {},
   "source": [
    "- Modularity: Composition promotes modularity by allowing complex systems to be broken down into smaller, reusable components. Each component can be developed, tested, and maintained independently, leading to better code organization and easier troubleshooting.\n",
    "\n",
    "- Code Reusability: Composition encourages code reuse by encapsulating reusable components as separate objects. These components can be reused across different parts of the system, reducing redundancy and promoting consistency.\n",
    "\n",
    "- Abstraction: Composition helps maintain abstraction by hiding the internal details of composed objects and exposing only the necessary interfaces to the external world. This allows users to interact with the objects at a higher level without needing to understand their internal complexities.\n",
    "\n",
    "- Flexibility: Composition provides flexibility in designing and extending software systems by allowing objects to be composed of smaller, interchangeable components. This makes it easier to modify or extend the behavior of individual components without affecting the entire system, promoting agility and adaptability."
   ]
  },
  {
   "cell_type": "markdown",
   "id": "e897ee6a-2c4d-4eee-a2c4-5c1f226e3857",
   "metadata": {},
   "source": [
    "16. Create a Python class for a computer game character, using composition to represent attributes like\n",
    "weapons, armor, and inventory."
   ]
  },
  {
   "cell_type": "code",
   "execution_count": 20,
   "id": "746d10d2-dd79-4ec7-b214-59e0903cb02a",
   "metadata": {},
   "outputs": [
    {
     "name": "stdout",
     "output_type": "stream",
     "text": [
      "Character's Weapon: Sword\n",
      "Character's Armor: Chainmail\n",
      "Character's Inventory: ['Health Potion']\n"
     ]
    }
   ],
   "source": [
    "class Weapon:\n",
    "    def __init__(self, name, damage):\n",
    "        self.name = name\n",
    "        self.damage = damage\n",
    "\n",
    "class Armor:\n",
    "    def __init__(self, name, defense):\n",
    "        self.name = name\n",
    "        self.defense = defense\n",
    "\n",
    "class Inventory:\n",
    "    def __init__(self):\n",
    "        self.items = []\n",
    "\n",
    "    def add_item(self, item):\n",
    "        self.items.append(item)\n",
    "\n",
    "class Character:\n",
    "    def __init__(self):\n",
    "        self.weapon = Weapon(\"Sword\", 10)\n",
    "        self.armor = Armor(\"Chainmail\", 5)\n",
    "        self.inventory = Inventory()\n",
    "\n",
    "\n",
    "character = Character()\n",
    "character.inventory.add_item(\"Health Potion\")\n",
    "\n",
    "print(\"Character's Weapon:\", character.weapon.name)\n",
    "print(\"Character's Armor:\", character.armor.name)\n",
    "print(\"Character's Inventory:\", character.inventory.items)\n"
   ]
  },
  {
   "cell_type": "markdown",
   "id": "e226eb52-4689-4024-8e7a-2ff81d29613e",
   "metadata": {},
   "source": [
    "17. Describe the concept of \"aggregation\" in composition and how it differs from simple composition."
   ]
  },
  {
   "cell_type": "markdown",
   "id": "2151a5d8-f190-41fe-9fef-029a42e44562",
   "metadata": {},
   "source": [
    "- Aggregation in composition refers to a type of composition where the composed objects have a weaker relationship with the containing object. In aggregation, the composed objects can exist independently of the containing object and may be shared among multiple objects.\n",
    "\n",
    "- Difference from simple composition:\n",
    "\n",
    "- Ownership: In simple composition, the containing object owns the composed objects, and their lifecycles are tightly coupled. In aggregation, the containing object merely references the composed objects, and their lifecycles are independent.\n",
    "\n",
    "- Multiplicity: In simple composition, there is usually a one-to-one relationship between the containing object and the composed objects. In aggregation, the composed objects may have a one-to-many or many-to-many relationship with the containing object.\n",
    "\n",
    "- Responsibility: In simple composition, the containing object is responsible for creating and managing the composed objects. In aggregation, the composed objects may be created and managed externally and shared among multiple containing objects."
   ]
  },
  {
   "cell_type": "markdown",
   "id": "ec37f0dd-1cf1-43f8-856a-ead099de1489",
   "metadata": {},
   "source": [
    "18. Create a Python class for a house, using composition to represent rooms, furniture, and appliances."
   ]
  },
  {
   "cell_type": "code",
   "execution_count": 21,
   "id": "b9c8c235-9440-40f6-8728-648adad0c026",
   "metadata": {},
   "outputs": [
    {
     "name": "stdout",
     "output_type": "stream",
     "text": [
      "House Rooms:\n",
      "- Name: Living Room\n",
      "  Furniture: Sofa\n",
      "  Appliances: TV\n",
      "- Name: Kitchen\n",
      "  Furniture: Dining Table\n",
      "  Appliances: Refrigerator\n"
     ]
    }
   ],
   "source": [
    "class Furniture:\n",
    "    def __init__(self, name):\n",
    "        self.name = name\n",
    "\n",
    "class Appliance:\n",
    "    def __init__(self, name):\n",
    "        self.name = name\n",
    "\n",
    "class Room:\n",
    "    def __init__(self, name):\n",
    "        self.name = name\n",
    "        self.furniture = []\n",
    "        self.appliances = []\n",
    "\n",
    "    def add_furniture(self, furniture):\n",
    "        self.furniture.append(furniture)\n",
    "\n",
    "    def add_appliance(self, appliance):\n",
    "        self.appliances.append(appliance)\n",
    "\n",
    "class House:\n",
    "    def __init__(self):\n",
    "        self.rooms = []\n",
    "\n",
    "    def add_room(self, room):\n",
    "        self.rooms.append(room)\n",
    "\n",
    "\n",
    "living_room = Room(\"Living Room\")\n",
    "living_room.add_furniture(Furniture(\"Sofa\"))\n",
    "living_room.add_appliance(Appliance(\"TV\"))\n",
    "\n",
    "kitchen = Room(\"Kitchen\")\n",
    "kitchen.add_furniture(Furniture(\"Dining Table\"))\n",
    "kitchen.add_appliance(Appliance(\"Refrigerator\"))\n",
    "\n",
    "house = House()\n",
    "house.add_room(living_room)\n",
    "house.add_room(kitchen)\n",
    "\n",
    "print(\"House Rooms:\")\n",
    "for room in house.rooms:\n",
    "    print(\"- Name:\", room.name)\n",
    "    print(\"  Furniture:\", \", \".join(furniture.name for furniture in room.furniture))\n",
    "    print(\"  Appliances:\", \", \".join(appliance.name for appliance in room.appliances))\n"
   ]
  },
  {
   "cell_type": "markdown",
   "id": "14721615-afa2-4ce5-9b1d-0c373e189d2e",
   "metadata": {},
   "source": [
    "19. How can you achieve flexibility in composed objects by allowing them to be replaced or modified\n",
    "dynamically at runtime?"
   ]
  },
  {
   "cell_type": "code",
   "execution_count": 22,
   "id": "56b596ee-deea-4016-92bb-3a722ee5aae0",
   "metadata": {},
   "outputs": [
    {
     "name": "stdout",
     "output_type": "stream",
     "text": [
      "Current Weapon: Sword\n",
      "New Weapon: Bow\n"
     ]
    }
   ],
   "source": [
    "# - Achieving flexibility in composed objects by allowing them to be replaced or modified dynamically at runtime can be done by providing methods to update or swap out the composed objects. These methods should handle the replacement or modification of the composed objects while ensuring that the overall functionality of the containing object remains intact.\n",
    "\n",
    "class Character:\n",
    "    def __init__(self, weapon):\n",
    "        self.weapon = weapon\n",
    "\n",
    "    def change_weapon(self, new_weapon):\n",
    "        self.weapon = new_weapon\n",
    "\n",
    "# Example usage\n",
    "character = Character(Weapon(\"Sword\", 10))\n",
    "print(\"Current Weapon:\", character.weapon.name)  # Output: Sword\n",
    "\n",
    "character.change_weapon(Weapon(\"Bow\", 8))\n",
    "print(\"New Weapon:\", character.weapon.name)  # Output: Bow\n"
   ]
  },
  {
   "cell_type": "markdown",
   "id": "e4520676-e5f5-4159-9b67-923366d6d023",
   "metadata": {},
   "source": [
    "20. Create a Python class for a social media application, using composition to represent users, posts, and\n",
    "comments."
   ]
  },
  {
   "cell_type": "code",
   "execution_count": 23,
   "id": "c68d0f63-96c0-4611-a884-7f6fab8f8e15",
   "metadata": {},
   "outputs": [
    {
     "name": "stdout",
     "output_type": "stream",
     "text": [
      "Posts by Alice:\n",
      "- Content: Hello, World!\n",
      "  Comments:\n",
      "  - Great post! by Bob\n"
     ]
    }
   ],
   "source": [
    "class Comment:\n",
    "    def __init__(self, text, author):\n",
    "        self.text = text\n",
    "        self.author = author\n",
    "\n",
    "class Post:\n",
    "    def __init__(self, content, author):\n",
    "        self.content = content\n",
    "        self.author = author\n",
    "        self.comments = []\n",
    "\n",
    "    def add_comment(self, comment):\n",
    "        self.comments.append(comment)\n",
    "\n",
    "class User:\n",
    "    def __init__(self, username):\n",
    "        self.username = username\n",
    "        self.posts = []\n",
    "\n",
    "    def create_post(self, content):\n",
    "        post = Post(content, self)\n",
    "        self.posts.append(post)\n",
    "        return post\n",
    "\n",
    "\n",
    "user1 = User(\"Alice\")\n",
    "user2 = User(\"Bob\")\n",
    "\n",
    "post1 = user1.create_post(\"Hello, World!\")\n",
    "post2 = user2.create_post(\"Nice weather today!\")\n",
    "\n",
    "comment1 = Comment(\"Great post!\", user2)\n",
    "post1.add_comment(comment1)\n",
    "\n",
    "print(\"Posts by Alice:\")\n",
    "for post in user1.posts:\n",
    "    print(\"- Content:\", post.content)\n",
    "    print(\"  Comments:\")\n",
    "    for comment in post.comments:\n",
    "        print(\"  -\", comment.text, \"by\", comment.author.username)\n"
   ]
  },
  {
   "cell_type": "code",
   "execution_count": null,
   "id": "2bd291a1-3df4-459b-a017-6a17abd78e88",
   "metadata": {},
   "outputs": [],
   "source": []
  },
  {
   "cell_type": "code",
   "execution_count": null,
   "id": "8528bc59-6c8b-4740-9a08-299e7bb9a6b6",
   "metadata": {},
   "outputs": [],
   "source": []
  },
  {
   "cell_type": "code",
   "execution_count": null,
   "id": "ce5233e6-66e3-45af-9d0e-1989ea497ee1",
   "metadata": {},
   "outputs": [],
   "source": []
  },
  {
   "cell_type": "code",
   "execution_count": 24,
   "id": "75d87ca4-fe47-492b-9638-2c818c18c315",
   "metadata": {},
   "outputs": [],
   "source": [
    "#Hii"
   ]
  },
  {
   "cell_type": "code",
   "execution_count": 25,
   "id": "05a42c71-9dfa-4a39-8978-a435d1c600c5",
   "metadata": {},
   "outputs": [],
   "source": [
    "#How r u"
   ]
  },
  {
   "cell_type": "code",
   "execution_count": null,
   "id": "9993493d-80f7-486f-a806-66bbaf7877f5",
   "metadata": {},
   "outputs": [],
   "source": []
  }
 ],
 "metadata": {
  "kernelspec": {
   "display_name": "Python 3 (ipykernel)",
   "language": "python",
   "name": "python3"
  },
  "language_info": {
   "codemirror_mode": {
    "name": "ipython",
    "version": 3
   },
   "file_extension": ".py",
   "mimetype": "text/x-python",
   "name": "python",
   "nbconvert_exporter": "python",
   "pygments_lexer": "ipython3",
   "version": "3.10.8"
  }
 },
 "nbformat": 4,
 "nbformat_minor": 5
}
