{
 "cells": [
  {
   "cell_type": "markdown",
   "id": "cc15b2a1-ef11-4496-ae30-b93ddd448fcd",
   "metadata": {},
   "source": [
    "Basic Level:\n",
    "    \n",
    "Question 1. Write a Python program to print the numbers from 1 to 10 using a `for` loop."
   ]
  },
  {
   "cell_type": "code",
   "execution_count": 1,
   "id": "0ef192a0-c7fb-4d27-9676-5379ba1dfd75",
   "metadata": {},
   "outputs": [
    {
     "name": "stdout",
     "output_type": "stream",
     "text": [
      "1 2 3 4 5 6 7 8 9 10 "
     ]
    }
   ],
   "source": [
    "for i in range(1,11):\n",
    "    print(i, end=\" \")"
   ]
  },
  {
   "cell_type": "markdown",
   "id": "07b63c3a-190f-4a1d-9ec8-bb7ae07fe45b",
   "metadata": {},
   "source": [
    "Question 2. Create a program that calculates the sum of all numbers in a list using a `for` loop."
   ]
  },
  {
   "cell_type": "code",
   "execution_count": 2,
   "id": "41123d98-e451-4934-a564-b267ef44d1a6",
   "metadata": {},
   "outputs": [
    {
     "name": "stdout",
     "output_type": "stream",
     "text": [
      "Total Sum of list :  80\n"
     ]
    }
   ],
   "source": [
    "li = [2,3,4,5,6,7,8,9,32,4]\n",
    "sum1=0\n",
    "for i in li:\n",
    "    sum1 += i\n",
    "print(\"Total Sum of list : \", sum1)"
   ]
  },
  {
   "cell_type": "markdown",
   "id": "aaa44cb4-935a-4885-af00-c9bc3ed9085f",
   "metadata": {},
   "source": [
    "Question 3. Write a program to print the characters of a string in reverse order using a `for` loop."
   ]
  },
  {
   "cell_type": "code",
   "execution_count": 3,
   "id": "3234418c-9420-4407-9550-69224a3f52a5",
   "metadata": {},
   "outputs": [
    {
     "name": "stdout",
     "output_type": "stream",
     "text": [
      " jaR timA\n"
     ]
    }
   ],
   "source": [
    "str1 = \"Amit Raj\"\n",
    "reversed_str = \" \"\n",
    "for i in reversed(str1):\n",
    "    reversed_str += i\n",
    "    \n",
    "print(reversed_str)"
   ]
  },
  {
   "cell_type": "markdown",
   "id": "fb438a05-de8a-4b4a-afaf-8dbb73c7c002",
   "metadata": {},
   "source": [
    "Question 4. Develop a program that finds the factorial of a given number using a `for` loop."
   ]
  },
  {
   "cell_type": "code",
   "execution_count": 8,
   "id": "30513307-6245-4990-8f7c-e8988a9ffa7a",
   "metadata": {},
   "outputs": [
    {
     "name": "stdin",
     "output_type": "stream",
     "text": [
      "Enter a number :  6\n"
     ]
    },
    {
     "name": "stdout",
     "output_type": "stream",
     "text": [
      "720\n"
     ]
    }
   ],
   "source": [
    "a = int(input(\"Enter a number : \"))\n",
    "fact = 1\n",
    "for i in range(1,a+1):\n",
    "    fact = fact*i\n",
    "    \n",
    "print(fact)\n",
    "    "
   ]
  },
  {
   "cell_type": "markdown",
   "id": "186a7950-6745-471d-be1f-74ddd8bf9090",
   "metadata": {},
   "source": [
    "Question 5. Create a program to print the multiplication table of a given number using a `for` loop."
   ]
  },
  {
   "cell_type": "code",
   "execution_count": 13,
   "id": "10fa7741-a9b5-4f28-b5c5-7fe68f778bb1",
   "metadata": {},
   "outputs": [
    {
     "name": "stdin",
     "output_type": "stream",
     "text": [
      "Enter a number :  3\n"
     ]
    },
    {
     "name": "stdout",
     "output_type": "stream",
     "text": [
      "3 * 1 = 3\n",
      "\n",
      "3 * 2 = 6\n",
      "\n",
      "3 * 3 = 9\n",
      "\n",
      "3 * 4 = 12\n",
      "\n",
      "3 * 5 = 15\n",
      "\n",
      "3 * 6 = 18\n",
      "\n",
      "3 * 7 = 21\n",
      "\n",
      "3 * 8 = 24\n",
      "\n",
      "3 * 9 = 27\n",
      "\n",
      "3 * 10 = 30\n",
      "\n"
     ]
    }
   ],
   "source": [
    "a = int(input(\"Enter a number : \"))\n",
    "\n",
    "for i in range(1,11):\n",
    "    result = a*i\n",
    "    print(f\"{a} * {i} = {result}\")\n",
    "    print()"
   ]
  },
  {
   "cell_type": "markdown",
   "id": "c71f1e92-b2ae-4717-99e2-a203e08d74fd",
   "metadata": {},
   "source": [
    "Question 6. Write a program that counts the number of even and odd numbers in a list using a `for` loop."
   ]
  },
  {
   "cell_type": "code",
   "execution_count": 15,
   "id": "4b39573f-c8e6-4986-9c56-15ff0253a7cc",
   "metadata": {},
   "outputs": [
    {
     "name": "stdout",
     "output_type": "stream",
     "text": [
      "Total number of Even number in list 6\n",
      "Total number of odd number in list 7\n"
     ]
    }
   ],
   "source": [
    "even_num = 0\n",
    "odd_num = 0\n",
    "\n",
    "li = [2,3,4,5,6,7,8,9,87,11,22,33,44]\n",
    "\n",
    "for i in li:\n",
    "    if i%2==0:\n",
    "        even_num += 1\n",
    "        \n",
    "    else:\n",
    "        odd_num += 1\n",
    "        \n",
    "print(\"Total number of Even number in list\", even_num)\n",
    "print(\"Total number of odd number in list\", odd_num)"
   ]
  },
  {
   "cell_type": "markdown",
   "id": "d6034b8f-cf39-4c48-9a1f-45ec2ce2d032",
   "metadata": {},
   "source": [
    "Question 7. Develop a program that prints the squares of numbers from 1 to 5 using a `for` loop."
   ]
  },
  {
   "cell_type": "code",
   "execution_count": 16,
   "id": "404a91a1-f3d0-4e5f-b76a-9030501d9ff5",
   "metadata": {},
   "outputs": [
    {
     "name": "stdout",
     "output_type": "stream",
     "text": [
      "1\n",
      "4\n",
      "9\n",
      "16\n",
      "25\n"
     ]
    }
   ],
   "source": [
    "for i in range(1,6):\n",
    "    print(i*i)"
   ]
  },
  {
   "cell_type": "markdown",
   "id": "dac8d2fb-5d03-465d-855b-b6823f01e30f",
   "metadata": {},
   "source": [
    "Question 8. Create a program to find the length of a string without using the `len()` function."
   ]
  },
  {
   "cell_type": "code",
   "execution_count": 1,
   "id": "f48b325d-f37c-47f6-91b0-49c8afc9a1fd",
   "metadata": {},
   "outputs": [
    {
     "name": "stdin",
     "output_type": "stream",
     "text": [
      "Enter a string:  Amit Raj\n"
     ]
    },
    {
     "name": "stdout",
     "output_type": "stream",
     "text": [
      "The length of the string is: 8\n"
     ]
    }
   ],
   "source": [
    "def find_string_length(input_string):\n",
    "    length = 0\n",
    "    for char in input_string:\n",
    "        length += 1\n",
    "    return length\n",
    "\n",
    "user_input = input(\"Enter a string: \")\n",
    "result = find_string_length(user_input)\n",
    "print(f\"The length of the string is: {result}\")\n"
   ]
  },
  {
   "cell_type": "markdown",
   "id": "52a55808-ec06-43b6-8ea0-97707e1330ea",
   "metadata": {},
   "source": [
    "QUestion 9. Write a program that calculates the average of a list of numbers using a `for` loop."
   ]
  },
  {
   "cell_type": "code",
   "execution_count": 5,
   "id": "b76287a9-697d-410c-a292-e90e29fefa7d",
   "metadata": {},
   "outputs": [
    {
     "name": "stdout",
     "output_type": "stream",
     "text": [
      "Average of the list is: 5.5\n"
     ]
    }
   ],
   "source": [
    "def averages(lst):\n",
    "    if not lst:\n",
    "        return 0 \n",
    "\n",
    "    count = 0\n",
    "    total = 0\n",
    "    for i in lst:\n",
    "        count += 1\n",
    "        total += i\n",
    "\n",
    "    return total / count\n",
    "\n",
    "my_list = [2, 3, 4, 5, 6, 7, 8, 9]\n",
    "result = averages(my_list)\n",
    "print(\"Average of the list is:\", result)\n"
   ]
  },
  {
   "cell_type": "markdown",
   "id": "e00b46db-a468-4dfb-9b36-8a468d6d2297",
   "metadata": {},
   "source": [
    "Question 10. Develop a program that prints the first `n` Fibonacci numbers using a `for` loop."
   ]
  },
  {
   "cell_type": "code",
   "execution_count": 12,
   "id": "2e3c831b-922a-4a0c-81d5-134c106a6fe8",
   "metadata": {},
   "outputs": [
    {
     "name": "stdin",
     "output_type": "stream",
     "text": [
      "Enter the number to get the Fibonacci number:  5\n"
     ]
    },
    {
     "name": "stdout",
     "output_type": "stream",
     "text": [
      "The Fibonacci number at position 5 is: 5\n"
     ]
    }
   ],
   "source": [
    "def fib(n):\n",
    "    a = 0\n",
    "    b = 1\n",
    "    for i in range(0, n):\n",
    "        c = a + b\n",
    "        a = b\n",
    "        b = c\n",
    "\n",
    "    return a\n",
    "\n",
    "n = int(input(\"Enter the number to get the Fibonacci number: \"))\n",
    "print(f\"The Fibonacci number at position {n} is:\", fib(n))\n"
   ]
  },
  {
   "cell_type": "raw",
   "id": "6907620f-6fc0-444a-8303-2491dbc8b887",
   "metadata": {},
   "source": [
    "Intermediate Level:"
   ]
  },
  {
   "cell_type": "markdown",
   "id": "e58da70a-8716-498f-b63a-8642ca5c7ed4",
   "metadata": {},
   "source": [
    "Question 11. Write a program to check if a given list contains any duplicates using a `for` loop."
   ]
  },
  {
   "cell_type": "code",
   "execution_count": 18,
   "id": "50b8d590-c29c-4248-b48b-3aa6f4ef6ddf",
   "metadata": {},
   "outputs": [
    {
     "name": "stdout",
     "output_type": "stream",
     "text": [
      "Checked for duplicates in the given list: 4\n"
     ]
    }
   ],
   "source": [
    "def check_duplicates(lst):\n",
    "    seen = set()\n",
    "    for num in lst:\n",
    "        if num in seen:\n",
    "            return num\n",
    "        seen.add(num)\n",
    "    return None\n",
    "\n",
    "\n",
    "my_list = [2, 3, 4, 5, 6, 4]\n",
    "result = check_duplicates(my_list)\n",
    "print(\"Checked for duplicates in the given list:\", result)\n",
    "\n",
    "\n",
    "\n",
    "#def check_duplicates(lists):\n",
    "#    for num in lists:\n",
    "#        for i in lists:\n",
    "#            if i in lists:\n",
    "#                return  lists[i]\n",
    "#    return None\n",
    "    \n",
    "# lists = [2,3,4,5,6,4]\n",
    "# result = check_duplicates(lists)\n",
    "# print(\"Cheched for duplicates in the given lists : \",result)"
   ]
  },
  {
   "cell_type": "markdown",
   "id": "7106f797-84a6-46de-bea5-362a1416372d",
   "metadata": {},
   "source": [
    "Question 12. Create a program that prints the prime numbers in a given range using a `for` loop."
   ]
  },
  {
   "cell_type": "code",
   "execution_count": 2,
   "id": "11292d21-e7ef-4df2-b053-411cfb9561c6",
   "metadata": {},
   "outputs": [
    {
     "name": "stdin",
     "output_type": "stream",
     "text": [
      "Enter the start of the range:  2\n",
      "Enter the end of the range:  6\n"
     ]
    },
    {
     "name": "stdout",
     "output_type": "stream",
     "text": [
      "Prime numbers in the range 2 to 6:\n",
      "2 3 5 "
     ]
    }
   ],
   "source": [
    "def is_prime(num):\n",
    "    if num<2:\n",
    "        return False\n",
    "    for i in range(2, int(num**0.5)+1):\n",
    "        if num%i == 0:\n",
    "            return False\n",
    "    return True\n",
    "\n",
    "def print_prime_number(start,end):\n",
    "    print(f\"Prime numbers in the range {start} to {end}:\")\n",
    "    for number in range(start, end+1):\n",
    "        if is_prime(number):\n",
    "            print(number, end = \" \")\n",
    "\n",
    "start_range = int(input(\"Enter the start of the range: \"))\n",
    "end_range = int(input(\"Enter the end of the range: \"))\n",
    "\n",
    "print_prime_number(start_range, end_range)\n",
    "\n",
    "          "
   ]
  },
  {
   "cell_type": "markdown",
   "id": "ec38f7bd-f1b7-4c5e-9381-766487bc36b5",
   "metadata": {},
   "source": [
    "Question 13. Develop a program that counts the number of vowels in a string using a `for` loop."
   ]
  },
  {
   "cell_type": "code",
   "execution_count": 5,
   "id": "29e99efb-8008-40b7-b015-214601bf658a",
   "metadata": {},
   "outputs": [
    {
     "name": "stdout",
     "output_type": "stream",
     "text": [
      "Number of vowels in the string is: 2\n"
     ]
    }
   ],
   "source": [
    "def count_vowels(st):\n",
    "    count = 0\n",
    "    for char in st:\n",
    "        if char.lower() in ['a', 'e', 'i', 'o', 'u']:\n",
    "            count += 1\n",
    "    return count\n",
    "\n",
    "st = \"asjhksdrwe\"\n",
    "result = count_vowels(st)\n",
    "print(\"Number of vowels in the string is:\", result)\n"
   ]
  },
  {
   "cell_type": "markdown",
   "id": "316e51b9-7e25-404a-84f0-fbe593f84920",
   "metadata": {},
   "source": [
    "Question 14. Write a program to find the maximum element in a 2D list using a nested `for` loop."
   ]
  },
  {
   "cell_type": "code",
   "execution_count": 11,
   "id": "7842c2ab-46a0-49eb-8d32-6c38c3063b2c",
   "metadata": {},
   "outputs": [
    {
     "name": "stdout",
     "output_type": "stream",
     "text": [
      "Maximum element in the 2D list is: 9\n"
     ]
    }
   ],
   "source": [
    "def max_element(lst):\n",
    "    maxi = float('-inf')\n",
    "    for sublist in lst:\n",
    "        for element in sublist:\n",
    "            if element > maxi:\n",
    "                maxi = element\n",
    "    return maxi\n",
    "\n",
    "lst = [[2, 3, 4, 5, 6, 7],\n",
    "       [6, 7, 8, 9, 1, 2]]\n",
    "result = max_element(lst)\n",
    "print(\"Maximum element in the 2D list is:\", result)\n"
   ]
  },
  {
   "cell_type": "markdown",
   "id": "45f9a1e1-98da-464d-9f51-6d713a7acfb2",
   "metadata": {},
   "source": [
    "Question 15. Create a program that removes all occurrences of a specific element from a list using a `for` loop."
   ]
  },
  {
   "cell_type": "code",
   "execution_count": 12,
   "id": "2b4db458-1e8e-4ce4-b64c-5a7215be5292",
   "metadata": {},
   "outputs": [
    {
     "name": "stdout",
     "output_type": "stream",
     "text": [
      "Original List: [1, 2, 3, 4, 2, 5, 2, 6]\n",
      "List after removing 2: [1, 3, 4, 5, 6]\n"
     ]
    }
   ],
   "source": [
    "def remove_elment(lst,target):\n",
    "    new_list = []\n",
    "    for element in lst:\n",
    "        if element != target:\n",
    "            new_list.append(element)\n",
    "    return new_list\n",
    "\n",
    "original_list = [1,2,3,4,2,5,2,6]\n",
    "element_to_remove = 2\n",
    "\n",
    "modified_list = remove_elment(original_list, element_to_remove)\n",
    "\n",
    "print(f\"Original List: {original_list}\")\n",
    "print(f\"List after removing {element_to_remove}: {modified_list}\")\n"
   ]
  },
  {
   "cell_type": "markdown",
   "id": "45e566c0-633c-446c-8f28-d73f272da0dc",
   "metadata": {},
   "source": [
    "Question 16. Develop a program that generates a multiplication table for numbers from 1 to 5 using a nested `for` loop."
   ]
  },
  {
   "cell_type": "code",
   "execution_count": 13,
   "id": "0c51863b-2029-4f87-8875-956e9735b0cc",
   "metadata": {},
   "outputs": [
    {
     "name": "stdout",
     "output_type": "stream",
     "text": [
      "Multiplication Table: \n",
      "\n",
      "Multiplication table for 1: \n",
      "1 * 1 = 1\n",
      "1 * 2 = 2\n",
      "1 * 3 = 3\n",
      "1 * 4 = 4\n",
      "1 * 5 = 5\n",
      "1 * 6 = 6\n",
      "1 * 7 = 7\n",
      "1 * 8 = 8\n",
      "1 * 9 = 9\n",
      "1 * 10 = 10\n",
      "\n",
      "Multiplication table for 2: \n",
      "2 * 1 = 2\n",
      "2 * 2 = 4\n",
      "2 * 3 = 6\n",
      "2 * 4 = 8\n",
      "2 * 5 = 10\n",
      "2 * 6 = 12\n",
      "2 * 7 = 14\n",
      "2 * 8 = 16\n",
      "2 * 9 = 18\n",
      "2 * 10 = 20\n",
      "\n",
      "Multiplication table for 3: \n",
      "3 * 1 = 3\n",
      "3 * 2 = 6\n",
      "3 * 3 = 9\n",
      "3 * 4 = 12\n",
      "3 * 5 = 15\n",
      "3 * 6 = 18\n",
      "3 * 7 = 21\n",
      "3 * 8 = 24\n",
      "3 * 9 = 27\n",
      "3 * 10 = 30\n",
      "\n",
      "Multiplication table for 4: \n",
      "4 * 1 = 4\n",
      "4 * 2 = 8\n",
      "4 * 3 = 12\n",
      "4 * 4 = 16\n",
      "4 * 5 = 20\n",
      "4 * 6 = 24\n",
      "4 * 7 = 28\n",
      "4 * 8 = 32\n",
      "4 * 9 = 36\n",
      "4 * 10 = 40\n",
      "\n",
      "Multiplication table for 5: \n",
      "5 * 1 = 5\n",
      "5 * 2 = 10\n",
      "5 * 3 = 15\n",
      "5 * 4 = 20\n",
      "5 * 5 = 25\n",
      "5 * 6 = 30\n",
      "5 * 7 = 35\n",
      "5 * 8 = 40\n",
      "5 * 9 = 45\n",
      "5 * 10 = 50\n"
     ]
    }
   ],
   "source": [
    "start_range = 1\n",
    "end_range = 5\n",
    "\n",
    "print(\"Multiplication Table: \")\n",
    "\n",
    "for i in range(start_range, end_range+1):\n",
    "    print(f\"\\nMultiplication table for {i}: \")\n",
    "    for j in range(1,11):\n",
    "        result = i*j\n",
    "        print(f\"{i} * {j} = {result}\")"
   ]
  },
  {
   "cell_type": "markdown",
   "id": "50ca1654-286e-452f-b5e2-d124ad2b225b",
   "metadata": {},
   "source": [
    "Question 17. Write a program that converts a list of Fahrenheit temperatures to Celsius using a `for` loop."
   ]
  },
  {
   "cell_type": "code",
   "execution_count": 21,
   "id": "0900049d-c0a2-4447-8808-2befa4761425",
   "metadata": {},
   "outputs": [
    {
     "name": "stdout",
     "output_type": "stream",
     "text": [
      "Fahrenheit temperatures: [32, 68, 104, 212]\n",
      "Celsius temperatures:\n",
      "32°F is 0.00°C\n",
      "68°F is 20.00°C\n",
      "104°F is 40.00°C\n",
      "212°F is 100.00°C\n"
     ]
    }
   ],
   "source": [
    "def fahrenheit_to_celsius(fahrenheit):\n",
    "    return (fahrenheit - 32) * 5 / 9\n",
    "\n",
    "fahrenheit_temperatures = [32, 68, 104, 212]\n",
    "\n",
    "print(\"Fahrenheit temperatures:\", fahrenheit_temperatures)\n",
    "print(\"Celsius temperatures:\")\n",
    "\n",
    "for fahrenheit in fahrenheit_temperatures:\n",
    "    celsius = fahrenheit_to_celsius(fahrenheit)\n",
    "    print(f\"{fahrenheit}°F is {celsius:.2f}°C\")\n"
   ]
  },
  {
   "cell_type": "markdown",
   "id": "b661adbb-8c04-4d9c-8ef4-a693faa62cd0",
   "metadata": {},
   "source": [
    "Question 18. Create a program to print the common elements from two lists using a `for` loop."
   ]
  },
  {
   "cell_type": "code",
   "execution_count": 23,
   "id": "871ce304-cfce-499b-9e6b-c4ab519d9909",
   "metadata": {},
   "outputs": [
    {
     "name": "stdout",
     "output_type": "stream",
     "text": [
      "Common elements: [2, 3, 4]\n"
     ]
    }
   ],
   "source": [
    "def common_elements(lst1, lst2):\n",
    "    common = []\n",
    "    for num1 in lst1:\n",
    "        if num1 in lst2:\n",
    "            common.append(num1)\n",
    "    return common\n",
    "\n",
    "lst1 = [2, 3, 4, 5, 6]\n",
    "lst2 = [7, 8, 9, 4, 3, 2, 1]\n",
    "result = common_elements(lst1, lst2)\n",
    "print(\"Common elements:\", result)\n"
   ]
  },
  {
   "cell_type": "markdown",
   "id": "8a415644-c4a2-4462-926f-fe613c00f7cf",
   "metadata": {},
   "source": [
    "Question 19. Develop a program that prints the pattern of right-angled triangles using a `for` loop. Use ‘*’ to draw the pattern."
   ]
  },
  {
   "cell_type": "code",
   "execution_count": 24,
   "id": "ab62f059-c190-4a71-bd9d-1f7a611a7880",
   "metadata": {},
   "outputs": [
    {
     "name": "stdin",
     "output_type": "stream",
     "text": [
      "Enter the number of rows for the right-angled triangles pattern:  6\n"
     ]
    },
    {
     "name": "stdout",
     "output_type": "stream",
     "text": [
      "* \n",
      "* * \n",
      "* * * \n",
      "* * * * \n",
      "* * * * * \n",
      "* * * * * * \n"
     ]
    }
   ],
   "source": [
    "def print_right_triangle_pattern(n):\n",
    "    for i in range(1, n + 1):\n",
    "        for j in range(i):\n",
    "            print('*', end=' ')\n",
    "        print()\n",
    "\n",
    "rows = int(input(\"Enter the number of rows for the right-angled triangles pattern: \"))\n",
    "print_right_triangle_pattern(rows)"
   ]
  },
  {
   "cell_type": "markdown",
   "id": "13dca5fa-49a7-4002-ad5f-64780b5c0a33",
   "metadata": {},
   "source": [
    "Question 20. Write a program to find the greatest common divisor (GCD) of two numbers using a `for` loop."
   ]
  },
  {
   "cell_type": "code",
   "execution_count": 27,
   "id": "5d27835a-4855-4637-9e78-17c6edae3716",
   "metadata": {},
   "outputs": [
    {
     "name": "stdin",
     "output_type": "stream",
     "text": [
      "Enter the first number:  5\n",
      "Enter the second number:  60\n"
     ]
    },
    {
     "name": "stdout",
     "output_type": "stream",
     "text": [
      "The Greatest Common Divisor (GCD) of 5 and 60 is: 5\n"
     ]
    }
   ],
   "source": [
    "def calculate_gcd(a, b):\n",
    "    smaller = min(a, b)\n",
    "\n",
    "    for i in range(smaller, 0, -1):\n",
    "        if a % i == 0 and b % i == 0:\n",
    "            return i\n",
    "\n",
    "num1 = int(input(\"Enter the first number: \"))\n",
    "num2 = int(input(\"Enter the second number: \"))\n",
    "\n",
    "gcd_result = calculate_gcd(num1, num2)\n",
    "print(f\"The Greatest Common Divisor (GCD) of {num1} and {num2} is: {gcd_result}\")\n"
   ]
  },
  {
   "cell_type": "markdown",
   "id": "591d703d-e010-4537-9bc8-5d0638ec571c",
   "metadata": {},
   "source": [
    "Advanced Level:"
   ]
  },
  {
   "cell_type": "markdown",
   "id": "7c0e629b-32fd-40a3-982f-514cf7b3fcb3",
   "metadata": {},
   "source": [
    "Question 21. Create a program that calculates the sum of the digits of numbers in a list using a list comprehension."
   ]
  },
  {
   "cell_type": "code",
   "execution_count": 1,
   "id": "2a794104-7a33-487d-a796-1e0c03257784",
   "metadata": {},
   "outputs": [
    {
     "name": "stdout",
     "output_type": "stream",
     "text": [
      "Number: 123, Sum of digits: 6\n",
      "Number: 456, Sum of digits: 15\n",
      "Number: 789, Sum of digits: 24\n",
      "Number: 101, Sum of digits: 2\n"
     ]
    }
   ],
   "source": [
    "def sum_of_digits(num):\n",
    "    return sum(int(digit) for digit in str(num) if digit.isdigit())\n",
    "\n",
    "def main():\n",
    "    numbers = [123, 456, 789, 101]\n",
    "\n",
    "    digit_sums = [sum_of_digits(num) for num in numbers]\n",
    "\n",
    "    for i in range(len(numbers)):\n",
    "        print(f\"Number: {numbers[i]}, Sum of digits: {digit_sums[i]}\")\n",
    "\n",
    "if __name__ == \"__main__\":\n",
    "    main()"
   ]
  },
  {
   "cell_type": "markdown",
   "id": "74e41e41-0817-4b2b-88e4-67d169c78f30",
   "metadata": {},
   "source": [
    "Question 22. Write a program to find the prime factors of a given number using a `for` loop and list comprehension."
   ]
  },
  {
   "cell_type": "code",
   "execution_count": 1,
   "id": "6264f92f-d73d-4f52-94c1-97ee1eb87ce7",
   "metadata": {},
   "outputs": [
    {
     "name": "stdin",
     "output_type": "stream",
     "text": [
      "Enter a number:  6\n"
     ]
    },
    {
     "name": "stdout",
     "output_type": "stream",
     "text": [
      "Prime factors of 6: [2, 3]\n"
     ]
    }
   ],
   "source": [
    "def is_prime(n):\n",
    "    if n < 2:\n",
    "        return False\n",
    "    for i in range(2, int(n**0.5) + 1):\n",
    "        if n % i == 0:\n",
    "            return False\n",
    "    return True\n",
    "\n",
    "def prime_factors(num):\n",
    "    return [i for i in range(2, num + 1) if num % i == 0 and is_prime(i)]\n",
    "\n",
    "def main():\n",
    "    num = int(input(\"Enter a number: \"))\n",
    "\n",
    "    factors = prime_factors(num)\n",
    "\n",
    "    print(f\"Prime factors of {num}: {factors}\")\n",
    "\n",
    "if __name__ == \"__main__\":\n",
    "    main()\n"
   ]
  },
  {
   "cell_type": "markdown",
   "id": "2eaf3beb-5178-4d8e-83be-59eb7bd02667",
   "metadata": {},
   "source": [
    "Question 23. Develop a program that extracts unique elements from a list and stores them in a new list using a list\n",
    "comprehension."
   ]
  },
  {
   "cell_type": "code",
   "execution_count": 4,
   "id": "b5d3efac-bd65-4a66-9c35-8ecc457c6ad0",
   "metadata": {},
   "outputs": [
    {
     "name": "stdout",
     "output_type": "stream",
     "text": [
      "Original Lists:  [1, 2, 3, 2, 3, 5, 6, 7, 7, 8, 9, 1]\n",
      "Unique Elements:  [1, 2, 3, 5, 6, 7, 8, 9]\n"
     ]
    }
   ],
   "source": [
    "def extract_unique_elements(input_list):\n",
    "    return list(set(element for element in input_list))\n",
    "\n",
    "def main():\n",
    "    original_list = [1,2,3,2,3,5,6,7,7,8,9,1]\n",
    "    \n",
    "    unique_elements = extract_unique_elements(original_list)\n",
    "    \n",
    "    print(\"Original Lists: \", original_list)\n",
    "    print(\"Unique Elements: \", unique_elements)\n",
    "    \n",
    "if __name__ == \"__main__\":\n",
    "    main()\n"
   ]
  },
  {
   "cell_type": "markdown",
   "id": "f7a6cf9b-b7c4-4e9e-a66c-9f314dc19cea",
   "metadata": {},
   "source": [
    "Question 24. Create a program that generates a list of all palindromic numbers up to a specified limit using a list\n",
    "comprehension."
   ]
  },
  {
   "cell_type": "code",
   "execution_count": 7,
   "id": "8968e397-b24f-4d63-912e-828572cead47",
   "metadata": {},
   "outputs": [
    {
     "name": "stdin",
     "output_type": "stream",
     "text": [
      "Enter the limit of palindromic numbers:  9\n"
     ]
    },
    {
     "name": "stdout",
     "output_type": "stream",
     "text": [
      "Palindrimic numbers up to 9: [0, 1, 2, 3, 4, 5, 6, 7, 8, 9]\n"
     ]
    }
   ],
   "source": [
    "def is_palindrome(num):\n",
    "    return str(num) == str(num)[::-1]\n",
    "    \n",
    "def generate_palindromic_numbers(limit):\n",
    "    return [num for num in range(limit+1) if is_palindrome(num)]\n",
    "\n",
    "def main():\n",
    "    limit = int(input(\"Enter the limit of palindromic numbers: \"))\n",
    "    \n",
    "    palindromic_numbers = generate_palindromic_numbers(limit)\n",
    "    \n",
    "    print(f\"Palindrimic numbers up to {limit}: {palindromic_numbers}\")\n",
    "    \n",
    "if __name__ == \"__main__\":\n",
    "    main()"
   ]
  },
  {
   "cell_type": "markdown",
   "id": "456f05a1-e40d-4742-a26a-eebe3c7774a6",
   "metadata": {},
   "source": [
    "Question 25. Write a program to flatten a nested list using list comprehension."
   ]
  },
  {
   "cell_type": "code",
   "execution_count": 8,
   "id": "8dc08670-73e8-48a3-809b-aff76d41e8e3",
   "metadata": {},
   "outputs": [
    {
     "name": "stdout",
     "output_type": "stream",
     "text": [
      "Original Nested List: [1, [2, [3, 4], 5], 6, [7, 8, [9, 10]]]\n",
      "Flattened List: [1, 2, 3, 4, 5, 6, 7, 8, 9, 10]\n"
     ]
    }
   ],
   "source": [
    "def flatten_nested_list(nested_list):\n",
    "    return [item for sublist in nested_list for item in (flatten_nested_list(sublist) if isinstance(sublist, list) else [sublist])]\n",
    "\n",
    "def main():\n",
    "    \n",
    "    nested_list = [1, [2, [3, 4], 5], 6, [7, 8, [9, 10]]]\n",
    "    \n",
    "    flattened_list = flatten_nested_list(nested_list)\n",
    "\n",
    "    print(\"Original Nested List:\", nested_list)\n",
    "    print(\"Flattened List:\", flattened_list)\n",
    "\n",
    "if __name__ == \"__main__\":\n",
    "    main()\n"
   ]
  },
  {
   "cell_type": "markdown",
   "id": "232a7618-f09d-48f7-a583-d3c247fdc57b",
   "metadata": {},
   "source": [
    "Question 26. Develop a program that computes the sum of even and odd numbers in a list separately using list\n",
    "comprehension."
   ]
  },
  {
   "cell_type": "code",
   "execution_count": 9,
   "id": "0b44adf7-3551-4e5d-9b4b-2e8ef70fd26c",
   "metadata": {},
   "outputs": [
    {
     "name": "stdout",
     "output_type": "stream",
     "text": [
      "Original List:  [1, 2, 3, 4, 5, 6, 7, 8, 9, 10]\n",
      "Sum of Even Numbers:  30\n",
      "Sum of Odd Numbers:  25\n"
     ]
    }
   ],
   "source": [
    "def sum_even_odd(numbers):\n",
    "    even_sum = sum(num for num in numbers if num % 2 == 0)\n",
    "    odd_sum = sum(num for num in numbers if num % 2!= 0)\n",
    "    return even_sum, odd_sum\n",
    "\n",
    "def main():\n",
    "    numbers = [1,2,3,4,5,6,7,8,9,10]\n",
    "    even_sum, odd_sum = sum_even_odd(numbers)\n",
    "    \n",
    "    print(\"Original List: \", numbers)\n",
    "    print(\"Sum of Even Numbers: \", even_sum)\n",
    "    print(\"Sum of Odd Numbers: \", odd_sum)\n",
    "    \n",
    "if  __name__ == \"__main__\":\n",
    "    main()"
   ]
  },
  {
   "cell_type": "markdown",
   "id": "23e0cb68-a189-4182-a5a7-aa32cf3c08a1",
   "metadata": {},
   "source": [
    "Question 27. Create a program that generates a list of squares of odd numbers between 1 and 10 using list\n",
    "comprehension."
   ]
  },
  {
   "cell_type": "code",
   "execution_count": 10,
   "id": "42d0c032-5219-47ea-a06b-a1d57b4908ba",
   "metadata": {},
   "outputs": [
    {
     "name": "stdout",
     "output_type": "stream",
     "text": [
      "Squares of Odd Numbers between 1 and 10: [1, 9, 25, 49, 81]\n"
     ]
    }
   ],
   "source": [
    "# Generate a list of squares of odd numbers between 1 and 10\n",
    "squares_of_odd_numbers = [num ** 2 for num in range(1, 11) if num % 2 != 0]\n",
    "\n",
    "# Display the result\n",
    "print(\"Squares of Odd Numbers between 1 and 10:\", squares_of_odd_numbers)\n"
   ]
  },
  {
   "cell_type": "markdown",
   "id": "27c912ba-5d3b-467b-a978-6f1d1ea3487c",
   "metadata": {},
   "source": [
    "Question 28. Write a program that combines two lists into a dictionary using list comprehension."
   ]
  },
  {
   "cell_type": "code",
   "execution_count": 11,
   "id": "7ea2f222-3bb8-427b-9a55-96834dec4043",
   "metadata": {},
   "outputs": [
    {
     "name": "stdout",
     "output_type": "stream",
     "text": [
      "Combined Dictionary: {'name': 'John', 'age': 25, 'city': 'New York'}\n"
     ]
    }
   ],
   "source": [
    "keys = ['name', 'age', 'city']\n",
    "values = ['John', 25, 'New York']\n",
    "\n",
    "combined_dict = {keys[i]: values[i] for i in range(min(len(keys), len(values)))}\n",
    "\n",
    "print(\"Combined Dictionary:\", combined_dict)\n"
   ]
  },
  {
   "cell_type": "markdown",
   "id": "4f1d7e80-378b-4a4c-8714-fe0af3b78178",
   "metadata": {},
   "source": [
    "Question 29. Develop a program that extracts the vowels from a string and stores them in a list using list comprehension."
   ]
  },
  {
   "cell_type": "code",
   "execution_count": 12,
   "id": "ad7abdaf-b38b-4fa3-b16a-0db5af36e174",
   "metadata": {},
   "outputs": [
    {
     "name": "stdout",
     "output_type": "stream",
     "text": [
      "Input String: Hello, World!\n",
      "Vowels List: ['e', 'o', 'o']\n"
     ]
    }
   ],
   "source": [
    "def extract_vowels(input_string):\n",
    "    vowels = ['a', 'e', 'i', 'o', 'u']\n",
    "    return [char.lower() for char in input_string if char.lower() in vowels]\n",
    "\n",
    "def main():\n",
    "    input_string = \"Hello, World!\"\n",
    "    vowels_list = extract_vowels(input_string)\n",
    "\n",
    "    print(\"Input String:\", input_string)\n",
    "    print(\"Vowels List:\", vowels_list)\n",
    "\n",
    "if __name__ == \"__main__\":\n",
    "    main()\n"
   ]
  },
  {
   "cell_type": "markdown",
   "id": "ae484f09-125e-4ac4-9760-090729b4deb3",
   "metadata": {},
   "source": [
    "Question 30. Create a program that removes all non-numeric characters from a list of strings using list comprehension."
   ]
  },
  {
   "cell_type": "code",
   "execution_count": 13,
   "id": "8c2f95c6-c971-4af9-bd68-6ed08d1561b8",
   "metadata": {},
   "outputs": [
    {
     "name": "stdout",
     "output_type": "stream",
     "text": [
      "Original List: ['abc123', '456xyz', '789_!@#']\n",
      "Numeric Strings List: ['123', '456', '789']\n"
     ]
    }
   ],
   "source": [
    "def remove_non_numeric(strings_list):\n",
    "    return [''.join(char for char in s if char.isdigit()) for s in strings_list]\n",
    "\n",
    "def main():\n",
    "    strings_list = ['abc123', '456xyz', '789_!@#']\n",
    "\n",
    "    numeric_strings = remove_non_numeric(strings_list)\n",
    "\n",
    "    print(\"Original List:\", strings_list)\n",
    "    print(\"Numeric Strings List:\", numeric_strings)\n",
    "\n",
    "if __name__ == \"__main__\":\n",
    "    main()\n"
   ]
  },
  {
   "cell_type": "markdown",
   "id": "8db40335-c322-41e6-b194-0a8ff1064006",
   "metadata": {},
   "source": [
    "Challenge Level:"
   ]
  },
  {
   "cell_type": "markdown",
   "id": "34fe4bf7-a213-4f21-8393-651bc763a16e",
   "metadata": {},
   "source": [
    "Question 31. Write a program to generate a list of prime numbers using the Sieve of Eratosthenes algorithm and list\n",
    "comprehension."
   ]
  },
  {
   "cell_type": "code",
   "execution_count": 14,
   "id": "7b0f9df3-6200-47a2-8168-7eaf4e41575a",
   "metadata": {},
   "outputs": [
    {
     "name": "stdin",
     "output_type": "stream",
     "text": [
      "Enter the limit for prime numbers:  5\n"
     ]
    },
    {
     "name": "stdout",
     "output_type": "stream",
     "text": [
      "Prime numbers up to 5: [2, 3, 5]\n"
     ]
    }
   ],
   "source": [
    "def sieve_of_eratosthenes(limit):\n",
    "    primes = [True] * (limit + 1)\n",
    "    primes[0] = primes[1] = False\n",
    "    \n",
    "    for i in range(2, int(limit**0.5) + 1):\n",
    "        if primes[i]:\n",
    "            primes[i*i : limit+1 : i] = [False] * len(range(i*i, limit+1, i))\n",
    "    \n",
    "    return [num for num in range(2, limit + 1) if primes[num]]\n",
    "\n",
    "def main():\n",
    "\n",
    "    limit = int(input(\"Enter the limit for prime numbers: \"))\n",
    "\n",
    "    \n",
    "    prime_numbers = sieve_of_eratosthenes(limit)\n",
    "\n",
    "    print(f\"Prime numbers up to {limit}: {prime_numbers}\")\n",
    "\n",
    "if __name__ == \"__main__\":\n",
    "    main()\n"
   ]
  },
  {
   "cell_type": "markdown",
   "id": "15792fef-d92d-43ba-8465-7248de13f684",
   "metadata": {},
   "source": [
    "Question 32. Create a program that generates a list of all Pythagorean triplets up to a specified limit using list\n",
    "comprehension."
   ]
  },
  {
   "cell_type": "code",
   "execution_count": 15,
   "id": "3175f71e-cac7-4f1e-bd54-c15a5a805426",
   "metadata": {},
   "outputs": [
    {
     "name": "stdin",
     "output_type": "stream",
     "text": [
      "Enter the limit for Pythagorean triplets:  6\n"
     ]
    },
    {
     "name": "stdout",
     "output_type": "stream",
     "text": [
      "Pythagorean triplets up to 6: [(3, 4, 5)]\n"
     ]
    }
   ],
   "source": [
    "def generate_pythagorean_triplets(limit):\n",
    "    triplets = [(a, b, c) for a in range(1, limit + 1)\n",
    "                            for b in range(a, limit + 1)\n",
    "                            for c in range(b, limit + 1)\n",
    "                            if a**2 + b**2 == c**2]\n",
    "    return triplets\n",
    "\n",
    "def main():\n",
    "    \n",
    "    limit = int(input(\"Enter the limit for Pythagorean triplets: \"))\n",
    "\n",
    "    pythagorean_triplets = generate_pythagorean_triplets(limit)\n",
    "\n",
    "    print(f\"Pythagorean triplets up to {limit}: {pythagorean_triplets}\")\n",
    "\n",
    "if __name__ == \"__main__\":\n",
    "    main()\n"
   ]
  },
  {
   "cell_type": "markdown",
   "id": "ed36db65-545b-4cbd-a9a2-86c864232dfa",
   "metadata": {},
   "source": [
    "Question 33. Develop a program that generates a list of all possible combinations of two lists using list comprehension."
   ]
  },
  {
   "cell_type": "code",
   "execution_count": 16,
   "id": "d0f58e7d-9ac8-4a4d-8375-8db96ab134f0",
   "metadata": {},
   "outputs": [
    {
     "name": "stdout",
     "output_type": "stream",
     "text": [
      "List 1: ['a', 'b', 'c']\n",
      "List 2: [1, 2, 3]\n",
      "Combinations: [('a', 1), ('a', 2), ('a', 3), ('b', 1), ('b', 2), ('b', 3), ('c', 1), ('c', 2), ('c', 3)]\n"
     ]
    }
   ],
   "source": [
    "def generate_combinations(list1, list2):\n",
    "    return [(item1, item2) for item1 in list1 for item2 in list2]\n",
    "\n",
    "def main():\n",
    "    \n",
    "    list1 = ['a', 'b', 'c']\n",
    "    list2 = [1, 2, 3]\n",
    "\n",
    "    combinations = generate_combinations(list1, list2)\n",
    "\n",
    "    print(\"List 1:\", list1)\n",
    "    print(\"List 2:\", list2)\n",
    "    print(\"Combinations:\", combinations)\n",
    "\n",
    "if __name__ == \"__main__\":\n",
    "    main()\n"
   ]
  },
  {
   "cell_type": "markdown",
   "id": "b80fca4e-d5d7-40f0-9897-9a471ea69796",
   "metadata": {},
   "source": [
    "Question 34. Write a program that calculates the mean, median, and mode of a list of numbers using list\n",
    "comprehension."
   ]
  },
  {
   "cell_type": "code",
   "execution_count": 17,
   "id": "6e42b0aa-7cc1-4712-9816-ab75d8f7c101",
   "metadata": {},
   "outputs": [
    {
     "name": "stdout",
     "output_type": "stream",
     "text": [
      "List of Numbers: [2, 4, 4, 4, 5, 5, 7, 9]\n",
      "Mean: 5\n",
      "Median: 4.5\n",
      "Mode: 4\n"
     ]
    }
   ],
   "source": [
    "from statistics import mean, median, mode\n",
    "\n",
    "def calculate_statistics(numbers):\n",
    "    return mean(numbers), median(numbers), mode(numbers)\n",
    "\n",
    "def main():\n",
    "    numbers = [2, 4, 4, 4, 5, 5, 7, 9]\n",
    "\n",
    "    mean_val, median_val, mode_val = calculate_statistics(numbers)\n",
    "\n",
    "    print(\"List of Numbers:\", numbers)\n",
    "    print(\"Mean:\", mean_val)\n",
    "    print(\"Median:\", median_val)\n",
    "    print(\"Mode:\", mode_val)\n",
    "\n",
    "if __name__ == \"__main__\":\n",
    "    main()\n"
   ]
  },
  {
   "cell_type": "markdown",
   "id": "c1f6eb82-64f5-4870-a389-5c1628fd6851",
   "metadata": {},
   "source": [
    "Question 35. Create a program that generates Pascal's triangle up to a specified number of rows using list\n",
    "comprehension."
   ]
  },
  {
   "cell_type": "code",
   "execution_count": 31,
   "id": "68e22718-de9f-4aa7-ac6b-aa2f5495dd99",
   "metadata": {},
   "outputs": [
    {
     "name": "stdin",
     "output_type": "stream",
     "text": [
      "Enter the number of rows for Pascal's triangle:  5\n"
     ]
    },
    {
     "name": "stdout",
     "output_type": "stream",
     "text": [
      "Pascal's Triangle up to 5 rows:\n",
      "[1]\n",
      "[1, 1]\n",
      "[1, 2, 1]\n",
      "[1, 3, 3, 1]\n",
      "[1, 4, 6, 4, 1]\n"
     ]
    }
   ],
   "source": [
    "def generate_pascals_triangle(num_rows):\n",
    "    triangle = [[1]]\n",
    "    for row in range(1, num_rows):\n",
    "        previous_row = triangle[-1]\n",
    "        new_row = [1] + [previous_row[i - 1] + previous_row[i] for i in range(1, len(previous_row))] + [1]\n",
    "        triangle.append(new_row)\n",
    "    return triangle\n",
    "\n",
    "def display_pascals_triangle(triangle):\n",
    "    for row in triangle:\n",
    "        print(row)\n",
    "\n",
    "def main():\n",
    "    # Specify the number of rows for Pascal's triangle\n",
    "    num_rows = int(input(\"Enter the number of rows for Pascal's triangle: \"))\n",
    "\n",
    "    # Generate Pascal's triangle using a loop (not list comprehension)\n",
    "    pascals_triangle = generate_pascals_triangle(num_rows)\n",
    "\n",
    "    # Display the result\n",
    "    print(f\"Pascal's Triangle up to {num_rows} rows:\")\n",
    "    display_pascals_triangle(pascals_triangle)\n",
    "\n",
    "if __name__ == \"__main__\":\n",
    "    main()\n"
   ]
  },
  {
   "cell_type": "markdown",
   "id": "c6d4c09e-218a-4d09-a872-9338802dad98",
   "metadata": {},
   "source": [
    "Question 36. Develop a program that calculates the sum of the digits of a factorial of numbers from 1 to 5 using list\n",
    "comprehension."
   ]
  },
  {
   "cell_type": "code",
   "execution_count": 24,
   "id": "683dcfff-78b2-4f7a-a23c-aeccf0a7867e",
   "metadata": {},
   "outputs": [
    {
     "name": "stdout",
     "output_type": "stream",
     "text": [
      "Factorial of 1: 1 Sum of digits: 1\n",
      "Factorial of 2: 2 Sum of digits: 2\n",
      "Factorial of 3: 6 Sum of digits: 6\n",
      "Factorial of 4: 24 Sum of digits: 6\n",
      "Factorial of 5: 120 Sum of digits: 3\n"
     ]
    }
   ],
   "source": [
    "def factorial(n):\n",
    "    return 1 if n == 0 else n * factorial(n-1)\n",
    "\n",
    "def sum_of_digits(number):\n",
    "    return sum(int(digit) for digit in str(number))\n",
    "\n",
    "def main():\n",
    "    # Calculate the sum of digits of factorials for numbers from 1 to 5 using list comprehension\n",
    "    factorial_sums = [sum_of_digits(factorial(num)) for num in range(1, 6)]\n",
    "\n",
    "    # Display the results\n",
    "    for num, factorial_sum in zip(range(1, 6), factorial_sums):\n",
    "        print(f\"Factorial of {num}:\", factorial(num), \"Sum of digits:\", factorial_sum)\n",
    "\n",
    "if __name__ == \"__main__\":\n",
    "    main()\n"
   ]
  },
  {
   "cell_type": "markdown",
   "id": "f750bb42-3040-46c5-a82f-3acd8259c19f",
   "metadata": {},
   "source": [
    "Question 37. Write a program that finds the longest word in a sentence using list comprehension."
   ]
  },
  {
   "cell_type": "code",
   "execution_count": 25,
   "id": "82a3fc87-466e-46be-82d8-ec252d636673",
   "metadata": {},
   "outputs": [
    {
     "name": "stdout",
     "output_type": "stream",
     "text": [
      "Sentence: The quick brown fox jumps over the lazy dog\n",
      "Longest Word: quick\n"
     ]
    }
   ],
   "source": [
    "def find_longest_word(sentence):\n",
    "    words = sentence.split()\n",
    "    longest_word = max(words, key=len)\n",
    "    return longest_word\n",
    "\n",
    "def main():\n",
    "    \n",
    "    sentence = \"The quick brown fox jumps over the lazy dog\"\n",
    "    longest_word = find_longest_word(sentence)\n",
    "\n",
    "    print(\"Sentence:\", sentence)\n",
    "    print(\"Longest Word:\", longest_word)\n",
    "\n",
    "if __name__ == \"__main__\":\n",
    "    main()\n"
   ]
  },
  {
   "cell_type": "markdown",
   "id": "e45aa66d-cd0b-4969-bfce-a85eb73263eb",
   "metadata": {},
   "source": [
    "Queestion 38. Create a program that filters a list of strings to include only those with more than three vowels using list\n",
    "comprehension."
   ]
  },
  {
   "cell_type": "code",
   "execution_count": 26,
   "id": "8a51633a-b895-4658-904f-f654d8918404",
   "metadata": {},
   "outputs": [
    {
     "name": "stdout",
     "output_type": "stream",
     "text": [
      "Original List of Strings: ['hello', 'world', 'python', 'programming', 'example']\n",
      "Filtered Strings (more than three vowels): []\n"
     ]
    }
   ],
   "source": [
    "def count_vowels(word):\n",
    "    vowels = set(\"aeiouAEIOU\")\n",
    "    return sum(1 for char in word if char in vowels)\n",
    "\n",
    "def filter_strings_by_vowels(string_list, min_vowels=3):\n",
    "    return [s for s in string_list if count_vowels(s) > min_vowels]\n",
    "\n",
    "def main():\n",
    "    string_list = [\"hello\", \"world\", \"python\", \"programming\", \"example\"]\n",
    "\n",
    "    filtered_strings = filter_strings_by_vowels(string_list)\n",
    "\n",
    "    print(\"Original List of Strings:\", string_list)\n",
    "    print(\"Filtered Strings (more than three vowels):\", filtered_strings)\n",
    "\n",
    "if __name__ == \"__main__\":\n",
    "    main()\n"
   ]
  },
  {
   "cell_type": "markdown",
   "id": "6ab90a70-eb18-4481-9f9b-38da62835bc1",
   "metadata": {},
   "source": [
    "Question 39. Develop a program that calculates the sum of the digits of numbers from 1 to 1000 using list\n",
    "comprehension."
   ]
  },
  {
   "cell_type": "code",
   "execution_count": 28,
   "id": "40edc4c1-9a92-42d2-9f08-95e1d941ae93",
   "metadata": {},
   "outputs": [
    {
     "name": "stdout",
     "output_type": "stream",
     "text": [
      "Number: 1, Sum of Digits: 1\n",
      "Number: 2, Sum of Digits: 2\n",
      "Number: 3, Sum of Digits: 3\n",
      "Number: 4, Sum of Digits: 4\n",
      "Number: 5, Sum of Digits: 5\n",
      "Number: 6, Sum of Digits: 6\n",
      "Number: 7, Sum of Digits: 7\n",
      "Number: 8, Sum of Digits: 8\n",
      "Number: 9, Sum of Digits: 9\n",
      "Number: 10, Sum of Digits: 1\n",
      "Number: 11, Sum of Digits: 2\n",
      "Number: 12, Sum of Digits: 3\n",
      "Number: 13, Sum of Digits: 4\n",
      "Number: 14, Sum of Digits: 5\n",
      "Number: 15, Sum of Digits: 6\n",
      "Number: 16, Sum of Digits: 7\n",
      "Number: 17, Sum of Digits: 8\n",
      "Number: 18, Sum of Digits: 9\n",
      "Number: 19, Sum of Digits: 10\n",
      "Number: 20, Sum of Digits: 2\n",
      "Number: 21, Sum of Digits: 3\n",
      "Number: 22, Sum of Digits: 4\n",
      "Number: 23, Sum of Digits: 5\n",
      "Number: 24, Sum of Digits: 6\n",
      "Number: 25, Sum of Digits: 7\n",
      "Number: 26, Sum of Digits: 8\n",
      "Number: 27, Sum of Digits: 9\n",
      "Number: 28, Sum of Digits: 10\n",
      "Number: 29, Sum of Digits: 11\n",
      "Number: 30, Sum of Digits: 3\n",
      "Number: 31, Sum of Digits: 4\n",
      "Number: 32, Sum of Digits: 5\n",
      "Number: 33, Sum of Digits: 6\n",
      "Number: 34, Sum of Digits: 7\n",
      "Number: 35, Sum of Digits: 8\n",
      "Number: 36, Sum of Digits: 9\n",
      "Number: 37, Sum of Digits: 10\n",
      "Number: 38, Sum of Digits: 11\n",
      "Number: 39, Sum of Digits: 12\n",
      "Number: 40, Sum of Digits: 4\n",
      "Number: 41, Sum of Digits: 5\n",
      "Number: 42, Sum of Digits: 6\n",
      "Number: 43, Sum of Digits: 7\n",
      "Number: 44, Sum of Digits: 8\n",
      "Number: 45, Sum of Digits: 9\n",
      "Number: 46, Sum of Digits: 10\n",
      "Number: 47, Sum of Digits: 11\n",
      "Number: 48, Sum of Digits: 12\n",
      "Number: 49, Sum of Digits: 13\n",
      "Number: 50, Sum of Digits: 5\n",
      "Number: 51, Sum of Digits: 6\n",
      "Number: 52, Sum of Digits: 7\n",
      "Number: 53, Sum of Digits: 8\n",
      "Number: 54, Sum of Digits: 9\n",
      "Number: 55, Sum of Digits: 10\n",
      "Number: 56, Sum of Digits: 11\n",
      "Number: 57, Sum of Digits: 12\n",
      "Number: 58, Sum of Digits: 13\n",
      "Number: 59, Sum of Digits: 14\n",
      "Number: 60, Sum of Digits: 6\n",
      "Number: 61, Sum of Digits: 7\n",
      "Number: 62, Sum of Digits: 8\n",
      "Number: 63, Sum of Digits: 9\n",
      "Number: 64, Sum of Digits: 10\n",
      "Number: 65, Sum of Digits: 11\n",
      "Number: 66, Sum of Digits: 12\n",
      "Number: 67, Sum of Digits: 13\n",
      "Number: 68, Sum of Digits: 14\n",
      "Number: 69, Sum of Digits: 15\n",
      "Number: 70, Sum of Digits: 7\n",
      "Number: 71, Sum of Digits: 8\n",
      "Number: 72, Sum of Digits: 9\n",
      "Number: 73, Sum of Digits: 10\n",
      "Number: 74, Sum of Digits: 11\n",
      "Number: 75, Sum of Digits: 12\n",
      "Number: 76, Sum of Digits: 13\n",
      "Number: 77, Sum of Digits: 14\n",
      "Number: 78, Sum of Digits: 15\n",
      "Number: 79, Sum of Digits: 16\n",
      "Number: 80, Sum of Digits: 8\n",
      "Number: 81, Sum of Digits: 9\n",
      "Number: 82, Sum of Digits: 10\n",
      "Number: 83, Sum of Digits: 11\n",
      "Number: 84, Sum of Digits: 12\n",
      "Number: 85, Sum of Digits: 13\n",
      "Number: 86, Sum of Digits: 14\n",
      "Number: 87, Sum of Digits: 15\n",
      "Number: 88, Sum of Digits: 16\n",
      "Number: 89, Sum of Digits: 17\n",
      "Number: 90, Sum of Digits: 9\n",
      "Number: 91, Sum of Digits: 10\n",
      "Number: 92, Sum of Digits: 11\n",
      "Number: 93, Sum of Digits: 12\n",
      "Number: 94, Sum of Digits: 13\n",
      "Number: 95, Sum of Digits: 14\n",
      "Number: 96, Sum of Digits: 15\n",
      "Number: 97, Sum of Digits: 16\n",
      "Number: 98, Sum of Digits: 17\n",
      "Number: 99, Sum of Digits: 18\n",
      "Number: 100, Sum of Digits: 1\n",
      "Number: 101, Sum of Digits: 2\n",
      "Number: 102, Sum of Digits: 3\n",
      "Number: 103, Sum of Digits: 4\n",
      "Number: 104, Sum of Digits: 5\n",
      "Number: 105, Sum of Digits: 6\n",
      "Number: 106, Sum of Digits: 7\n",
      "Number: 107, Sum of Digits: 8\n",
      "Number: 108, Sum of Digits: 9\n",
      "Number: 109, Sum of Digits: 10\n",
      "Number: 110, Sum of Digits: 2\n",
      "Number: 111, Sum of Digits: 3\n",
      "Number: 112, Sum of Digits: 4\n",
      "Number: 113, Sum of Digits: 5\n",
      "Number: 114, Sum of Digits: 6\n",
      "Number: 115, Sum of Digits: 7\n",
      "Number: 116, Sum of Digits: 8\n",
      "Number: 117, Sum of Digits: 9\n",
      "Number: 118, Sum of Digits: 10\n",
      "Number: 119, Sum of Digits: 11\n",
      "Number: 120, Sum of Digits: 3\n",
      "Number: 121, Sum of Digits: 4\n",
      "Number: 122, Sum of Digits: 5\n",
      "Number: 123, Sum of Digits: 6\n",
      "Number: 124, Sum of Digits: 7\n",
      "Number: 125, Sum of Digits: 8\n",
      "Number: 126, Sum of Digits: 9\n",
      "Number: 127, Sum of Digits: 10\n",
      "Number: 128, Sum of Digits: 11\n",
      "Number: 129, Sum of Digits: 12\n",
      "Number: 130, Sum of Digits: 4\n",
      "Number: 131, Sum of Digits: 5\n",
      "Number: 132, Sum of Digits: 6\n",
      "Number: 133, Sum of Digits: 7\n",
      "Number: 134, Sum of Digits: 8\n",
      "Number: 135, Sum of Digits: 9\n",
      "Number: 136, Sum of Digits: 10\n",
      "Number: 137, Sum of Digits: 11\n",
      "Number: 138, Sum of Digits: 12\n",
      "Number: 139, Sum of Digits: 13\n",
      "Number: 140, Sum of Digits: 5\n",
      "Number: 141, Sum of Digits: 6\n",
      "Number: 142, Sum of Digits: 7\n",
      "Number: 143, Sum of Digits: 8\n",
      "Number: 144, Sum of Digits: 9\n",
      "Number: 145, Sum of Digits: 10\n",
      "Number: 146, Sum of Digits: 11\n",
      "Number: 147, Sum of Digits: 12\n",
      "Number: 148, Sum of Digits: 13\n",
      "Number: 149, Sum of Digits: 14\n",
      "Number: 150, Sum of Digits: 6\n",
      "Number: 151, Sum of Digits: 7\n",
      "Number: 152, Sum of Digits: 8\n",
      "Number: 153, Sum of Digits: 9\n",
      "Number: 154, Sum of Digits: 10\n",
      "Number: 155, Sum of Digits: 11\n",
      "Number: 156, Sum of Digits: 12\n",
      "Number: 157, Sum of Digits: 13\n",
      "Number: 158, Sum of Digits: 14\n",
      "Number: 159, Sum of Digits: 15\n",
      "Number: 160, Sum of Digits: 7\n",
      "Number: 161, Sum of Digits: 8\n",
      "Number: 162, Sum of Digits: 9\n",
      "Number: 163, Sum of Digits: 10\n",
      "Number: 164, Sum of Digits: 11\n",
      "Number: 165, Sum of Digits: 12\n",
      "Number: 166, Sum of Digits: 13\n",
      "Number: 167, Sum of Digits: 14\n",
      "Number: 168, Sum of Digits: 15\n",
      "Number: 169, Sum of Digits: 16\n",
      "Number: 170, Sum of Digits: 8\n",
      "Number: 171, Sum of Digits: 9\n",
      "Number: 172, Sum of Digits: 10\n",
      "Number: 173, Sum of Digits: 11\n",
      "Number: 174, Sum of Digits: 12\n",
      "Number: 175, Sum of Digits: 13\n",
      "Number: 176, Sum of Digits: 14\n",
      "Number: 177, Sum of Digits: 15\n",
      "Number: 178, Sum of Digits: 16\n",
      "Number: 179, Sum of Digits: 17\n",
      "Number: 180, Sum of Digits: 9\n",
      "Number: 181, Sum of Digits: 10\n",
      "Number: 182, Sum of Digits: 11\n",
      "Number: 183, Sum of Digits: 12\n",
      "Number: 184, Sum of Digits: 13\n",
      "Number: 185, Sum of Digits: 14\n",
      "Number: 186, Sum of Digits: 15\n",
      "Number: 187, Sum of Digits: 16\n",
      "Number: 188, Sum of Digits: 17\n",
      "Number: 189, Sum of Digits: 18\n",
      "Number: 190, Sum of Digits: 10\n",
      "Number: 191, Sum of Digits: 11\n",
      "Number: 192, Sum of Digits: 12\n",
      "Number: 193, Sum of Digits: 13\n",
      "Number: 194, Sum of Digits: 14\n",
      "Number: 195, Sum of Digits: 15\n",
      "Number: 196, Sum of Digits: 16\n",
      "Number: 197, Sum of Digits: 17\n",
      "Number: 198, Sum of Digits: 18\n",
      "Number: 199, Sum of Digits: 19\n",
      "Number: 200, Sum of Digits: 2\n",
      "Number: 201, Sum of Digits: 3\n",
      "Number: 202, Sum of Digits: 4\n",
      "Number: 203, Sum of Digits: 5\n",
      "Number: 204, Sum of Digits: 6\n",
      "Number: 205, Sum of Digits: 7\n",
      "Number: 206, Sum of Digits: 8\n",
      "Number: 207, Sum of Digits: 9\n",
      "Number: 208, Sum of Digits: 10\n",
      "Number: 209, Sum of Digits: 11\n",
      "Number: 210, Sum of Digits: 3\n",
      "Number: 211, Sum of Digits: 4\n",
      "Number: 212, Sum of Digits: 5\n",
      "Number: 213, Sum of Digits: 6\n",
      "Number: 214, Sum of Digits: 7\n",
      "Number: 215, Sum of Digits: 8\n",
      "Number: 216, Sum of Digits: 9\n",
      "Number: 217, Sum of Digits: 10\n",
      "Number: 218, Sum of Digits: 11\n",
      "Number: 219, Sum of Digits: 12\n",
      "Number: 220, Sum of Digits: 4\n",
      "Number: 221, Sum of Digits: 5\n",
      "Number: 222, Sum of Digits: 6\n",
      "Number: 223, Sum of Digits: 7\n",
      "Number: 224, Sum of Digits: 8\n",
      "Number: 225, Sum of Digits: 9\n",
      "Number: 226, Sum of Digits: 10\n",
      "Number: 227, Sum of Digits: 11\n",
      "Number: 228, Sum of Digits: 12\n",
      "Number: 229, Sum of Digits: 13\n",
      "Number: 230, Sum of Digits: 5\n",
      "Number: 231, Sum of Digits: 6\n",
      "Number: 232, Sum of Digits: 7\n",
      "Number: 233, Sum of Digits: 8\n",
      "Number: 234, Sum of Digits: 9\n",
      "Number: 235, Sum of Digits: 10\n",
      "Number: 236, Sum of Digits: 11\n",
      "Number: 237, Sum of Digits: 12\n",
      "Number: 238, Sum of Digits: 13\n",
      "Number: 239, Sum of Digits: 14\n",
      "Number: 240, Sum of Digits: 6\n",
      "Number: 241, Sum of Digits: 7\n",
      "Number: 242, Sum of Digits: 8\n",
      "Number: 243, Sum of Digits: 9\n",
      "Number: 244, Sum of Digits: 10\n",
      "Number: 245, Sum of Digits: 11\n",
      "Number: 246, Sum of Digits: 12\n",
      "Number: 247, Sum of Digits: 13\n",
      "Number: 248, Sum of Digits: 14\n",
      "Number: 249, Sum of Digits: 15\n",
      "Number: 250, Sum of Digits: 7\n",
      "Number: 251, Sum of Digits: 8\n",
      "Number: 252, Sum of Digits: 9\n",
      "Number: 253, Sum of Digits: 10\n",
      "Number: 254, Sum of Digits: 11\n",
      "Number: 255, Sum of Digits: 12\n",
      "Number: 256, Sum of Digits: 13\n",
      "Number: 257, Sum of Digits: 14\n",
      "Number: 258, Sum of Digits: 15\n",
      "Number: 259, Sum of Digits: 16\n",
      "Number: 260, Sum of Digits: 8\n",
      "Number: 261, Sum of Digits: 9\n",
      "Number: 262, Sum of Digits: 10\n",
      "Number: 263, Sum of Digits: 11\n",
      "Number: 264, Sum of Digits: 12\n",
      "Number: 265, Sum of Digits: 13\n",
      "Number: 266, Sum of Digits: 14\n",
      "Number: 267, Sum of Digits: 15\n",
      "Number: 268, Sum of Digits: 16\n",
      "Number: 269, Sum of Digits: 17\n",
      "Number: 270, Sum of Digits: 9\n",
      "Number: 271, Sum of Digits: 10\n",
      "Number: 272, Sum of Digits: 11\n",
      "Number: 273, Sum of Digits: 12\n",
      "Number: 274, Sum of Digits: 13\n",
      "Number: 275, Sum of Digits: 14\n",
      "Number: 276, Sum of Digits: 15\n",
      "Number: 277, Sum of Digits: 16\n",
      "Number: 278, Sum of Digits: 17\n",
      "Number: 279, Sum of Digits: 18\n",
      "Number: 280, Sum of Digits: 10\n",
      "Number: 281, Sum of Digits: 11\n",
      "Number: 282, Sum of Digits: 12\n",
      "Number: 283, Sum of Digits: 13\n",
      "Number: 284, Sum of Digits: 14\n",
      "Number: 285, Sum of Digits: 15\n",
      "Number: 286, Sum of Digits: 16\n",
      "Number: 287, Sum of Digits: 17\n",
      "Number: 288, Sum of Digits: 18\n",
      "Number: 289, Sum of Digits: 19\n",
      "Number: 290, Sum of Digits: 11\n",
      "Number: 291, Sum of Digits: 12\n",
      "Number: 292, Sum of Digits: 13\n",
      "Number: 293, Sum of Digits: 14\n",
      "Number: 294, Sum of Digits: 15\n",
      "Number: 295, Sum of Digits: 16\n",
      "Number: 296, Sum of Digits: 17\n",
      "Number: 297, Sum of Digits: 18\n",
      "Number: 298, Sum of Digits: 19\n",
      "Number: 299, Sum of Digits: 20\n",
      "Number: 300, Sum of Digits: 3\n",
      "Number: 301, Sum of Digits: 4\n",
      "Number: 302, Sum of Digits: 5\n",
      "Number: 303, Sum of Digits: 6\n",
      "Number: 304, Sum of Digits: 7\n",
      "Number: 305, Sum of Digits: 8\n",
      "Number: 306, Sum of Digits: 9\n",
      "Number: 307, Sum of Digits: 10\n",
      "Number: 308, Sum of Digits: 11\n",
      "Number: 309, Sum of Digits: 12\n",
      "Number: 310, Sum of Digits: 4\n",
      "Number: 311, Sum of Digits: 5\n",
      "Number: 312, Sum of Digits: 6\n",
      "Number: 313, Sum of Digits: 7\n",
      "Number: 314, Sum of Digits: 8\n",
      "Number: 315, Sum of Digits: 9\n",
      "Number: 316, Sum of Digits: 10\n",
      "Number: 317, Sum of Digits: 11\n",
      "Number: 318, Sum of Digits: 12\n",
      "Number: 319, Sum of Digits: 13\n",
      "Number: 320, Sum of Digits: 5\n",
      "Number: 321, Sum of Digits: 6\n",
      "Number: 322, Sum of Digits: 7\n",
      "Number: 323, Sum of Digits: 8\n",
      "Number: 324, Sum of Digits: 9\n",
      "Number: 325, Sum of Digits: 10\n",
      "Number: 326, Sum of Digits: 11\n",
      "Number: 327, Sum of Digits: 12\n",
      "Number: 328, Sum of Digits: 13\n",
      "Number: 329, Sum of Digits: 14\n",
      "Number: 330, Sum of Digits: 6\n",
      "Number: 331, Sum of Digits: 7\n",
      "Number: 332, Sum of Digits: 8\n",
      "Number: 333, Sum of Digits: 9\n",
      "Number: 334, Sum of Digits: 10\n",
      "Number: 335, Sum of Digits: 11\n",
      "Number: 336, Sum of Digits: 12\n",
      "Number: 337, Sum of Digits: 13\n",
      "Number: 338, Sum of Digits: 14\n",
      "Number: 339, Sum of Digits: 15\n",
      "Number: 340, Sum of Digits: 7\n",
      "Number: 341, Sum of Digits: 8\n",
      "Number: 342, Sum of Digits: 9\n",
      "Number: 343, Sum of Digits: 10\n",
      "Number: 344, Sum of Digits: 11\n",
      "Number: 345, Sum of Digits: 12\n",
      "Number: 346, Sum of Digits: 13\n",
      "Number: 347, Sum of Digits: 14\n",
      "Number: 348, Sum of Digits: 15\n",
      "Number: 349, Sum of Digits: 16\n",
      "Number: 350, Sum of Digits: 8\n",
      "Number: 351, Sum of Digits: 9\n",
      "Number: 352, Sum of Digits: 10\n",
      "Number: 353, Sum of Digits: 11\n",
      "Number: 354, Sum of Digits: 12\n",
      "Number: 355, Sum of Digits: 13\n",
      "Number: 356, Sum of Digits: 14\n",
      "Number: 357, Sum of Digits: 15\n",
      "Number: 358, Sum of Digits: 16\n",
      "Number: 359, Sum of Digits: 17\n",
      "Number: 360, Sum of Digits: 9\n",
      "Number: 361, Sum of Digits: 10\n",
      "Number: 362, Sum of Digits: 11\n",
      "Number: 363, Sum of Digits: 12\n",
      "Number: 364, Sum of Digits: 13\n",
      "Number: 365, Sum of Digits: 14\n",
      "Number: 366, Sum of Digits: 15\n",
      "Number: 367, Sum of Digits: 16\n",
      "Number: 368, Sum of Digits: 17\n",
      "Number: 369, Sum of Digits: 18\n",
      "Number: 370, Sum of Digits: 10\n",
      "Number: 371, Sum of Digits: 11\n",
      "Number: 372, Sum of Digits: 12\n",
      "Number: 373, Sum of Digits: 13\n",
      "Number: 374, Sum of Digits: 14\n",
      "Number: 375, Sum of Digits: 15\n",
      "Number: 376, Sum of Digits: 16\n",
      "Number: 377, Sum of Digits: 17\n",
      "Number: 378, Sum of Digits: 18\n",
      "Number: 379, Sum of Digits: 19\n",
      "Number: 380, Sum of Digits: 11\n",
      "Number: 381, Sum of Digits: 12\n",
      "Number: 382, Sum of Digits: 13\n",
      "Number: 383, Sum of Digits: 14\n",
      "Number: 384, Sum of Digits: 15\n",
      "Number: 385, Sum of Digits: 16\n",
      "Number: 386, Sum of Digits: 17\n",
      "Number: 387, Sum of Digits: 18\n",
      "Number: 388, Sum of Digits: 19\n",
      "Number: 389, Sum of Digits: 20\n",
      "Number: 390, Sum of Digits: 12\n",
      "Number: 391, Sum of Digits: 13\n",
      "Number: 392, Sum of Digits: 14\n",
      "Number: 393, Sum of Digits: 15\n",
      "Number: 394, Sum of Digits: 16\n",
      "Number: 395, Sum of Digits: 17\n",
      "Number: 396, Sum of Digits: 18\n",
      "Number: 397, Sum of Digits: 19\n",
      "Number: 398, Sum of Digits: 20\n",
      "Number: 399, Sum of Digits: 21\n",
      "Number: 400, Sum of Digits: 4\n",
      "Number: 401, Sum of Digits: 5\n",
      "Number: 402, Sum of Digits: 6\n",
      "Number: 403, Sum of Digits: 7\n",
      "Number: 404, Sum of Digits: 8\n",
      "Number: 405, Sum of Digits: 9\n",
      "Number: 406, Sum of Digits: 10\n",
      "Number: 407, Sum of Digits: 11\n",
      "Number: 408, Sum of Digits: 12\n",
      "Number: 409, Sum of Digits: 13\n",
      "Number: 410, Sum of Digits: 5\n",
      "Number: 411, Sum of Digits: 6\n",
      "Number: 412, Sum of Digits: 7\n",
      "Number: 413, Sum of Digits: 8\n",
      "Number: 414, Sum of Digits: 9\n",
      "Number: 415, Sum of Digits: 10\n",
      "Number: 416, Sum of Digits: 11\n",
      "Number: 417, Sum of Digits: 12\n",
      "Number: 418, Sum of Digits: 13\n",
      "Number: 419, Sum of Digits: 14\n",
      "Number: 420, Sum of Digits: 6\n",
      "Number: 421, Sum of Digits: 7\n",
      "Number: 422, Sum of Digits: 8\n",
      "Number: 423, Sum of Digits: 9\n",
      "Number: 424, Sum of Digits: 10\n",
      "Number: 425, Sum of Digits: 11\n",
      "Number: 426, Sum of Digits: 12\n",
      "Number: 427, Sum of Digits: 13\n",
      "Number: 428, Sum of Digits: 14\n",
      "Number: 429, Sum of Digits: 15\n",
      "Number: 430, Sum of Digits: 7\n",
      "Number: 431, Sum of Digits: 8\n",
      "Number: 432, Sum of Digits: 9\n",
      "Number: 433, Sum of Digits: 10\n",
      "Number: 434, Sum of Digits: 11\n",
      "Number: 435, Sum of Digits: 12\n",
      "Number: 436, Sum of Digits: 13\n",
      "Number: 437, Sum of Digits: 14\n",
      "Number: 438, Sum of Digits: 15\n",
      "Number: 439, Sum of Digits: 16\n",
      "Number: 440, Sum of Digits: 8\n",
      "Number: 441, Sum of Digits: 9\n",
      "Number: 442, Sum of Digits: 10\n",
      "Number: 443, Sum of Digits: 11\n",
      "Number: 444, Sum of Digits: 12\n",
      "Number: 445, Sum of Digits: 13\n",
      "Number: 446, Sum of Digits: 14\n",
      "Number: 447, Sum of Digits: 15\n",
      "Number: 448, Sum of Digits: 16\n",
      "Number: 449, Sum of Digits: 17\n",
      "Number: 450, Sum of Digits: 9\n",
      "Number: 451, Sum of Digits: 10\n",
      "Number: 452, Sum of Digits: 11\n",
      "Number: 453, Sum of Digits: 12\n",
      "Number: 454, Sum of Digits: 13\n",
      "Number: 455, Sum of Digits: 14\n",
      "Number: 456, Sum of Digits: 15\n",
      "Number: 457, Sum of Digits: 16\n",
      "Number: 458, Sum of Digits: 17\n",
      "Number: 459, Sum of Digits: 18\n",
      "Number: 460, Sum of Digits: 10\n",
      "Number: 461, Sum of Digits: 11\n",
      "Number: 462, Sum of Digits: 12\n",
      "Number: 463, Sum of Digits: 13\n",
      "Number: 464, Sum of Digits: 14\n",
      "Number: 465, Sum of Digits: 15\n",
      "Number: 466, Sum of Digits: 16\n",
      "Number: 467, Sum of Digits: 17\n",
      "Number: 468, Sum of Digits: 18\n",
      "Number: 469, Sum of Digits: 19\n",
      "Number: 470, Sum of Digits: 11\n",
      "Number: 471, Sum of Digits: 12\n",
      "Number: 472, Sum of Digits: 13\n",
      "Number: 473, Sum of Digits: 14\n",
      "Number: 474, Sum of Digits: 15\n",
      "Number: 475, Sum of Digits: 16\n",
      "Number: 476, Sum of Digits: 17\n",
      "Number: 477, Sum of Digits: 18\n",
      "Number: 478, Sum of Digits: 19\n",
      "Number: 479, Sum of Digits: 20\n",
      "Number: 480, Sum of Digits: 12\n",
      "Number: 481, Sum of Digits: 13\n",
      "Number: 482, Sum of Digits: 14\n",
      "Number: 483, Sum of Digits: 15\n",
      "Number: 484, Sum of Digits: 16\n",
      "Number: 485, Sum of Digits: 17\n",
      "Number: 486, Sum of Digits: 18\n",
      "Number: 487, Sum of Digits: 19\n",
      "Number: 488, Sum of Digits: 20\n",
      "Number: 489, Sum of Digits: 21\n",
      "Number: 490, Sum of Digits: 13\n",
      "Number: 491, Sum of Digits: 14\n",
      "Number: 492, Sum of Digits: 15\n",
      "Number: 493, Sum of Digits: 16\n",
      "Number: 494, Sum of Digits: 17\n",
      "Number: 495, Sum of Digits: 18\n",
      "Number: 496, Sum of Digits: 19\n",
      "Number: 497, Sum of Digits: 20\n",
      "Number: 498, Sum of Digits: 21\n",
      "Number: 499, Sum of Digits: 22\n",
      "Number: 500, Sum of Digits: 5\n",
      "Number: 501, Sum of Digits: 6\n",
      "Number: 502, Sum of Digits: 7\n",
      "Number: 503, Sum of Digits: 8\n",
      "Number: 504, Sum of Digits: 9\n",
      "Number: 505, Sum of Digits: 10\n",
      "Number: 506, Sum of Digits: 11\n",
      "Number: 507, Sum of Digits: 12\n",
      "Number: 508, Sum of Digits: 13\n",
      "Number: 509, Sum of Digits: 14\n",
      "Number: 510, Sum of Digits: 6\n",
      "Number: 511, Sum of Digits: 7\n",
      "Number: 512, Sum of Digits: 8\n",
      "Number: 513, Sum of Digits: 9\n",
      "Number: 514, Sum of Digits: 10\n",
      "Number: 515, Sum of Digits: 11\n",
      "Number: 516, Sum of Digits: 12\n",
      "Number: 517, Sum of Digits: 13\n",
      "Number: 518, Sum of Digits: 14\n",
      "Number: 519, Sum of Digits: 15\n",
      "Number: 520, Sum of Digits: 7\n",
      "Number: 521, Sum of Digits: 8\n",
      "Number: 522, Sum of Digits: 9\n",
      "Number: 523, Sum of Digits: 10\n",
      "Number: 524, Sum of Digits: 11\n",
      "Number: 525, Sum of Digits: 12\n",
      "Number: 526, Sum of Digits: 13\n",
      "Number: 527, Sum of Digits: 14\n",
      "Number: 528, Sum of Digits: 15\n",
      "Number: 529, Sum of Digits: 16\n",
      "Number: 530, Sum of Digits: 8\n",
      "Number: 531, Sum of Digits: 9\n",
      "Number: 532, Sum of Digits: 10\n",
      "Number: 533, Sum of Digits: 11\n",
      "Number: 534, Sum of Digits: 12\n",
      "Number: 535, Sum of Digits: 13\n",
      "Number: 536, Sum of Digits: 14\n",
      "Number: 537, Sum of Digits: 15\n",
      "Number: 538, Sum of Digits: 16\n",
      "Number: 539, Sum of Digits: 17\n",
      "Number: 540, Sum of Digits: 9\n",
      "Number: 541, Sum of Digits: 10\n",
      "Number: 542, Sum of Digits: 11\n",
      "Number: 543, Sum of Digits: 12\n",
      "Number: 544, Sum of Digits: 13\n",
      "Number: 545, Sum of Digits: 14\n",
      "Number: 546, Sum of Digits: 15\n",
      "Number: 547, Sum of Digits: 16\n",
      "Number: 548, Sum of Digits: 17\n",
      "Number: 549, Sum of Digits: 18\n",
      "Number: 550, Sum of Digits: 10\n",
      "Number: 551, Sum of Digits: 11\n",
      "Number: 552, Sum of Digits: 12\n",
      "Number: 553, Sum of Digits: 13\n",
      "Number: 554, Sum of Digits: 14\n",
      "Number: 555, Sum of Digits: 15\n",
      "Number: 556, Sum of Digits: 16\n",
      "Number: 557, Sum of Digits: 17\n",
      "Number: 558, Sum of Digits: 18\n",
      "Number: 559, Sum of Digits: 19\n",
      "Number: 560, Sum of Digits: 11\n",
      "Number: 561, Sum of Digits: 12\n",
      "Number: 562, Sum of Digits: 13\n",
      "Number: 563, Sum of Digits: 14\n",
      "Number: 564, Sum of Digits: 15\n",
      "Number: 565, Sum of Digits: 16\n",
      "Number: 566, Sum of Digits: 17\n",
      "Number: 567, Sum of Digits: 18\n",
      "Number: 568, Sum of Digits: 19\n",
      "Number: 569, Sum of Digits: 20\n",
      "Number: 570, Sum of Digits: 12\n",
      "Number: 571, Sum of Digits: 13\n",
      "Number: 572, Sum of Digits: 14\n",
      "Number: 573, Sum of Digits: 15\n",
      "Number: 574, Sum of Digits: 16\n",
      "Number: 575, Sum of Digits: 17\n",
      "Number: 576, Sum of Digits: 18\n",
      "Number: 577, Sum of Digits: 19\n",
      "Number: 578, Sum of Digits: 20\n",
      "Number: 579, Sum of Digits: 21\n",
      "Number: 580, Sum of Digits: 13\n",
      "Number: 581, Sum of Digits: 14\n",
      "Number: 582, Sum of Digits: 15\n",
      "Number: 583, Sum of Digits: 16\n",
      "Number: 584, Sum of Digits: 17\n",
      "Number: 585, Sum of Digits: 18\n",
      "Number: 586, Sum of Digits: 19\n",
      "Number: 587, Sum of Digits: 20\n",
      "Number: 588, Sum of Digits: 21\n",
      "Number: 589, Sum of Digits: 22\n",
      "Number: 590, Sum of Digits: 14\n",
      "Number: 591, Sum of Digits: 15\n",
      "Number: 592, Sum of Digits: 16\n",
      "Number: 593, Sum of Digits: 17\n",
      "Number: 594, Sum of Digits: 18\n",
      "Number: 595, Sum of Digits: 19\n",
      "Number: 596, Sum of Digits: 20\n",
      "Number: 597, Sum of Digits: 21\n",
      "Number: 598, Sum of Digits: 22\n",
      "Number: 599, Sum of Digits: 23\n",
      "Number: 600, Sum of Digits: 6\n",
      "Number: 601, Sum of Digits: 7\n",
      "Number: 602, Sum of Digits: 8\n",
      "Number: 603, Sum of Digits: 9\n",
      "Number: 604, Sum of Digits: 10\n",
      "Number: 605, Sum of Digits: 11\n",
      "Number: 606, Sum of Digits: 12\n",
      "Number: 607, Sum of Digits: 13\n",
      "Number: 608, Sum of Digits: 14\n",
      "Number: 609, Sum of Digits: 15\n",
      "Number: 610, Sum of Digits: 7\n",
      "Number: 611, Sum of Digits: 8\n",
      "Number: 612, Sum of Digits: 9\n",
      "Number: 613, Sum of Digits: 10\n",
      "Number: 614, Sum of Digits: 11\n",
      "Number: 615, Sum of Digits: 12\n",
      "Number: 616, Sum of Digits: 13\n",
      "Number: 617, Sum of Digits: 14\n",
      "Number: 618, Sum of Digits: 15\n",
      "Number: 619, Sum of Digits: 16\n",
      "Number: 620, Sum of Digits: 8\n",
      "Number: 621, Sum of Digits: 9\n",
      "Number: 622, Sum of Digits: 10\n",
      "Number: 623, Sum of Digits: 11\n",
      "Number: 624, Sum of Digits: 12\n",
      "Number: 625, Sum of Digits: 13\n",
      "Number: 626, Sum of Digits: 14\n",
      "Number: 627, Sum of Digits: 15\n",
      "Number: 628, Sum of Digits: 16\n",
      "Number: 629, Sum of Digits: 17\n",
      "Number: 630, Sum of Digits: 9\n",
      "Number: 631, Sum of Digits: 10\n",
      "Number: 632, Sum of Digits: 11\n",
      "Number: 633, Sum of Digits: 12\n",
      "Number: 634, Sum of Digits: 13\n",
      "Number: 635, Sum of Digits: 14\n",
      "Number: 636, Sum of Digits: 15\n",
      "Number: 637, Sum of Digits: 16\n",
      "Number: 638, Sum of Digits: 17\n",
      "Number: 639, Sum of Digits: 18\n",
      "Number: 640, Sum of Digits: 10\n",
      "Number: 641, Sum of Digits: 11\n",
      "Number: 642, Sum of Digits: 12\n",
      "Number: 643, Sum of Digits: 13\n",
      "Number: 644, Sum of Digits: 14\n",
      "Number: 645, Sum of Digits: 15\n",
      "Number: 646, Sum of Digits: 16\n",
      "Number: 647, Sum of Digits: 17\n",
      "Number: 648, Sum of Digits: 18\n",
      "Number: 649, Sum of Digits: 19\n",
      "Number: 650, Sum of Digits: 11\n",
      "Number: 651, Sum of Digits: 12\n",
      "Number: 652, Sum of Digits: 13\n",
      "Number: 653, Sum of Digits: 14\n",
      "Number: 654, Sum of Digits: 15\n",
      "Number: 655, Sum of Digits: 16\n",
      "Number: 656, Sum of Digits: 17\n",
      "Number: 657, Sum of Digits: 18\n",
      "Number: 658, Sum of Digits: 19\n",
      "Number: 659, Sum of Digits: 20\n",
      "Number: 660, Sum of Digits: 12\n",
      "Number: 661, Sum of Digits: 13\n",
      "Number: 662, Sum of Digits: 14\n",
      "Number: 663, Sum of Digits: 15\n",
      "Number: 664, Sum of Digits: 16\n",
      "Number: 665, Sum of Digits: 17\n",
      "Number: 666, Sum of Digits: 18\n",
      "Number: 667, Sum of Digits: 19\n",
      "Number: 668, Sum of Digits: 20\n",
      "Number: 669, Sum of Digits: 21\n",
      "Number: 670, Sum of Digits: 13\n",
      "Number: 671, Sum of Digits: 14\n",
      "Number: 672, Sum of Digits: 15\n",
      "Number: 673, Sum of Digits: 16\n",
      "Number: 674, Sum of Digits: 17\n",
      "Number: 675, Sum of Digits: 18\n",
      "Number: 676, Sum of Digits: 19\n",
      "Number: 677, Sum of Digits: 20\n",
      "Number: 678, Sum of Digits: 21\n",
      "Number: 679, Sum of Digits: 22\n",
      "Number: 680, Sum of Digits: 14\n",
      "Number: 681, Sum of Digits: 15\n",
      "Number: 682, Sum of Digits: 16\n",
      "Number: 683, Sum of Digits: 17\n",
      "Number: 684, Sum of Digits: 18\n",
      "Number: 685, Sum of Digits: 19\n",
      "Number: 686, Sum of Digits: 20\n",
      "Number: 687, Sum of Digits: 21\n",
      "Number: 688, Sum of Digits: 22\n",
      "Number: 689, Sum of Digits: 23\n",
      "Number: 690, Sum of Digits: 15\n",
      "Number: 691, Sum of Digits: 16\n",
      "Number: 692, Sum of Digits: 17\n",
      "Number: 693, Sum of Digits: 18\n",
      "Number: 694, Sum of Digits: 19\n",
      "Number: 695, Sum of Digits: 20\n",
      "Number: 696, Sum of Digits: 21\n",
      "Number: 697, Sum of Digits: 22\n",
      "Number: 698, Sum of Digits: 23\n",
      "Number: 699, Sum of Digits: 24\n",
      "Number: 700, Sum of Digits: 7\n",
      "Number: 701, Sum of Digits: 8\n",
      "Number: 702, Sum of Digits: 9\n",
      "Number: 703, Sum of Digits: 10\n",
      "Number: 704, Sum of Digits: 11\n",
      "Number: 705, Sum of Digits: 12\n",
      "Number: 706, Sum of Digits: 13\n",
      "Number: 707, Sum of Digits: 14\n",
      "Number: 708, Sum of Digits: 15\n",
      "Number: 709, Sum of Digits: 16\n",
      "Number: 710, Sum of Digits: 8\n",
      "Number: 711, Sum of Digits: 9\n",
      "Number: 712, Sum of Digits: 10\n",
      "Number: 713, Sum of Digits: 11\n",
      "Number: 714, Sum of Digits: 12\n",
      "Number: 715, Sum of Digits: 13\n",
      "Number: 716, Sum of Digits: 14\n",
      "Number: 717, Sum of Digits: 15\n",
      "Number: 718, Sum of Digits: 16\n",
      "Number: 719, Sum of Digits: 17\n",
      "Number: 720, Sum of Digits: 9\n",
      "Number: 721, Sum of Digits: 10\n",
      "Number: 722, Sum of Digits: 11\n",
      "Number: 723, Sum of Digits: 12\n",
      "Number: 724, Sum of Digits: 13\n",
      "Number: 725, Sum of Digits: 14\n",
      "Number: 726, Sum of Digits: 15\n",
      "Number: 727, Sum of Digits: 16\n",
      "Number: 728, Sum of Digits: 17\n",
      "Number: 729, Sum of Digits: 18\n",
      "Number: 730, Sum of Digits: 10\n",
      "Number: 731, Sum of Digits: 11\n",
      "Number: 732, Sum of Digits: 12\n",
      "Number: 733, Sum of Digits: 13\n",
      "Number: 734, Sum of Digits: 14\n",
      "Number: 735, Sum of Digits: 15\n",
      "Number: 736, Sum of Digits: 16\n",
      "Number: 737, Sum of Digits: 17\n",
      "Number: 738, Sum of Digits: 18\n",
      "Number: 739, Sum of Digits: 19\n",
      "Number: 740, Sum of Digits: 11\n",
      "Number: 741, Sum of Digits: 12\n",
      "Number: 742, Sum of Digits: 13\n",
      "Number: 743, Sum of Digits: 14\n",
      "Number: 744, Sum of Digits: 15\n",
      "Number: 745, Sum of Digits: 16\n",
      "Number: 746, Sum of Digits: 17\n",
      "Number: 747, Sum of Digits: 18\n",
      "Number: 748, Sum of Digits: 19\n",
      "Number: 749, Sum of Digits: 20\n",
      "Number: 750, Sum of Digits: 12\n",
      "Number: 751, Sum of Digits: 13\n",
      "Number: 752, Sum of Digits: 14\n",
      "Number: 753, Sum of Digits: 15\n",
      "Number: 754, Sum of Digits: 16\n",
      "Number: 755, Sum of Digits: 17\n",
      "Number: 756, Sum of Digits: 18\n",
      "Number: 757, Sum of Digits: 19\n",
      "Number: 758, Sum of Digits: 20\n",
      "Number: 759, Sum of Digits: 21\n",
      "Number: 760, Sum of Digits: 13\n",
      "Number: 761, Sum of Digits: 14\n",
      "Number: 762, Sum of Digits: 15\n",
      "Number: 763, Sum of Digits: 16\n",
      "Number: 764, Sum of Digits: 17\n",
      "Number: 765, Sum of Digits: 18\n",
      "Number: 766, Sum of Digits: 19\n",
      "Number: 767, Sum of Digits: 20\n",
      "Number: 768, Sum of Digits: 21\n",
      "Number: 769, Sum of Digits: 22\n",
      "Number: 770, Sum of Digits: 14\n",
      "Number: 771, Sum of Digits: 15\n",
      "Number: 772, Sum of Digits: 16\n",
      "Number: 773, Sum of Digits: 17\n",
      "Number: 774, Sum of Digits: 18\n",
      "Number: 775, Sum of Digits: 19\n",
      "Number: 776, Sum of Digits: 20\n",
      "Number: 777, Sum of Digits: 21\n",
      "Number: 778, Sum of Digits: 22\n",
      "Number: 779, Sum of Digits: 23\n",
      "Number: 780, Sum of Digits: 15\n",
      "Number: 781, Sum of Digits: 16\n",
      "Number: 782, Sum of Digits: 17\n",
      "Number: 783, Sum of Digits: 18\n",
      "Number: 784, Sum of Digits: 19\n",
      "Number: 785, Sum of Digits: 20\n",
      "Number: 786, Sum of Digits: 21\n",
      "Number: 787, Sum of Digits: 22\n",
      "Number: 788, Sum of Digits: 23\n",
      "Number: 789, Sum of Digits: 24\n",
      "Number: 790, Sum of Digits: 16\n",
      "Number: 791, Sum of Digits: 17\n",
      "Number: 792, Sum of Digits: 18\n",
      "Number: 793, Sum of Digits: 19\n",
      "Number: 794, Sum of Digits: 20\n",
      "Number: 795, Sum of Digits: 21\n",
      "Number: 796, Sum of Digits: 22\n",
      "Number: 797, Sum of Digits: 23\n",
      "Number: 798, Sum of Digits: 24\n",
      "Number: 799, Sum of Digits: 25\n",
      "Number: 800, Sum of Digits: 8\n",
      "Number: 801, Sum of Digits: 9\n",
      "Number: 802, Sum of Digits: 10\n",
      "Number: 803, Sum of Digits: 11\n",
      "Number: 804, Sum of Digits: 12\n",
      "Number: 805, Sum of Digits: 13\n",
      "Number: 806, Sum of Digits: 14\n",
      "Number: 807, Sum of Digits: 15\n",
      "Number: 808, Sum of Digits: 16\n",
      "Number: 809, Sum of Digits: 17\n",
      "Number: 810, Sum of Digits: 9\n",
      "Number: 811, Sum of Digits: 10\n",
      "Number: 812, Sum of Digits: 11\n",
      "Number: 813, Sum of Digits: 12\n",
      "Number: 814, Sum of Digits: 13\n",
      "Number: 815, Sum of Digits: 14\n",
      "Number: 816, Sum of Digits: 15\n",
      "Number: 817, Sum of Digits: 16\n",
      "Number: 818, Sum of Digits: 17\n",
      "Number: 819, Sum of Digits: 18\n",
      "Number: 820, Sum of Digits: 10\n",
      "Number: 821, Sum of Digits: 11\n",
      "Number: 822, Sum of Digits: 12\n",
      "Number: 823, Sum of Digits: 13\n",
      "Number: 824, Sum of Digits: 14\n",
      "Number: 825, Sum of Digits: 15\n",
      "Number: 826, Sum of Digits: 16\n",
      "Number: 827, Sum of Digits: 17\n",
      "Number: 828, Sum of Digits: 18\n",
      "Number: 829, Sum of Digits: 19\n",
      "Number: 830, Sum of Digits: 11\n",
      "Number: 831, Sum of Digits: 12\n",
      "Number: 832, Sum of Digits: 13\n",
      "Number: 833, Sum of Digits: 14\n",
      "Number: 834, Sum of Digits: 15\n",
      "Number: 835, Sum of Digits: 16\n",
      "Number: 836, Sum of Digits: 17\n",
      "Number: 837, Sum of Digits: 18\n",
      "Number: 838, Sum of Digits: 19\n",
      "Number: 839, Sum of Digits: 20\n",
      "Number: 840, Sum of Digits: 12\n",
      "Number: 841, Sum of Digits: 13\n",
      "Number: 842, Sum of Digits: 14\n",
      "Number: 843, Sum of Digits: 15\n",
      "Number: 844, Sum of Digits: 16\n",
      "Number: 845, Sum of Digits: 17\n",
      "Number: 846, Sum of Digits: 18\n",
      "Number: 847, Sum of Digits: 19\n",
      "Number: 848, Sum of Digits: 20\n",
      "Number: 849, Sum of Digits: 21\n",
      "Number: 850, Sum of Digits: 13\n",
      "Number: 851, Sum of Digits: 14\n",
      "Number: 852, Sum of Digits: 15\n",
      "Number: 853, Sum of Digits: 16\n",
      "Number: 854, Sum of Digits: 17\n",
      "Number: 855, Sum of Digits: 18\n",
      "Number: 856, Sum of Digits: 19\n",
      "Number: 857, Sum of Digits: 20\n",
      "Number: 858, Sum of Digits: 21\n",
      "Number: 859, Sum of Digits: 22\n",
      "Number: 860, Sum of Digits: 14\n",
      "Number: 861, Sum of Digits: 15\n",
      "Number: 862, Sum of Digits: 16\n",
      "Number: 863, Sum of Digits: 17\n",
      "Number: 864, Sum of Digits: 18\n",
      "Number: 865, Sum of Digits: 19\n",
      "Number: 866, Sum of Digits: 20\n",
      "Number: 867, Sum of Digits: 21\n",
      "Number: 868, Sum of Digits: 22\n",
      "Number: 869, Sum of Digits: 23\n",
      "Number: 870, Sum of Digits: 15\n",
      "Number: 871, Sum of Digits: 16\n",
      "Number: 872, Sum of Digits: 17\n",
      "Number: 873, Sum of Digits: 18\n",
      "Number: 874, Sum of Digits: 19\n",
      "Number: 875, Sum of Digits: 20\n",
      "Number: 876, Sum of Digits: 21\n",
      "Number: 877, Sum of Digits: 22\n",
      "Number: 878, Sum of Digits: 23\n",
      "Number: 879, Sum of Digits: 24\n",
      "Number: 880, Sum of Digits: 16\n",
      "Number: 881, Sum of Digits: 17\n",
      "Number: 882, Sum of Digits: 18\n",
      "Number: 883, Sum of Digits: 19\n",
      "Number: 884, Sum of Digits: 20\n",
      "Number: 885, Sum of Digits: 21\n",
      "Number: 886, Sum of Digits: 22\n",
      "Number: 887, Sum of Digits: 23\n",
      "Number: 888, Sum of Digits: 24\n",
      "Number: 889, Sum of Digits: 25\n",
      "Number: 890, Sum of Digits: 17\n",
      "Number: 891, Sum of Digits: 18\n",
      "Number: 892, Sum of Digits: 19\n",
      "Number: 893, Sum of Digits: 20\n",
      "Number: 894, Sum of Digits: 21\n",
      "Number: 895, Sum of Digits: 22\n",
      "Number: 896, Sum of Digits: 23\n",
      "Number: 897, Sum of Digits: 24\n",
      "Number: 898, Sum of Digits: 25\n",
      "Number: 899, Sum of Digits: 26\n",
      "Number: 900, Sum of Digits: 9\n",
      "Number: 901, Sum of Digits: 10\n",
      "Number: 902, Sum of Digits: 11\n",
      "Number: 903, Sum of Digits: 12\n",
      "Number: 904, Sum of Digits: 13\n",
      "Number: 905, Sum of Digits: 14\n",
      "Number: 906, Sum of Digits: 15\n",
      "Number: 907, Sum of Digits: 16\n",
      "Number: 908, Sum of Digits: 17\n",
      "Number: 909, Sum of Digits: 18\n",
      "Number: 910, Sum of Digits: 10\n",
      "Number: 911, Sum of Digits: 11\n",
      "Number: 912, Sum of Digits: 12\n",
      "Number: 913, Sum of Digits: 13\n",
      "Number: 914, Sum of Digits: 14\n",
      "Number: 915, Sum of Digits: 15\n",
      "Number: 916, Sum of Digits: 16\n",
      "Number: 917, Sum of Digits: 17\n",
      "Number: 918, Sum of Digits: 18\n",
      "Number: 919, Sum of Digits: 19\n",
      "Number: 920, Sum of Digits: 11\n",
      "Number: 921, Sum of Digits: 12\n",
      "Number: 922, Sum of Digits: 13\n",
      "Number: 923, Sum of Digits: 14\n",
      "Number: 924, Sum of Digits: 15\n",
      "Number: 925, Sum of Digits: 16\n",
      "Number: 926, Sum of Digits: 17\n",
      "Number: 927, Sum of Digits: 18\n",
      "Number: 928, Sum of Digits: 19\n",
      "Number: 929, Sum of Digits: 20\n",
      "Number: 930, Sum of Digits: 12\n",
      "Number: 931, Sum of Digits: 13\n",
      "Number: 932, Sum of Digits: 14\n",
      "Number: 933, Sum of Digits: 15\n",
      "Number: 934, Sum of Digits: 16\n",
      "Number: 935, Sum of Digits: 17\n",
      "Number: 936, Sum of Digits: 18\n",
      "Number: 937, Sum of Digits: 19\n",
      "Number: 938, Sum of Digits: 20\n",
      "Number: 939, Sum of Digits: 21\n",
      "Number: 940, Sum of Digits: 13\n",
      "Number: 941, Sum of Digits: 14\n",
      "Number: 942, Sum of Digits: 15\n",
      "Number: 943, Sum of Digits: 16\n",
      "Number: 944, Sum of Digits: 17\n",
      "Number: 945, Sum of Digits: 18\n",
      "Number: 946, Sum of Digits: 19\n",
      "Number: 947, Sum of Digits: 20\n",
      "Number: 948, Sum of Digits: 21\n",
      "Number: 949, Sum of Digits: 22\n",
      "Number: 950, Sum of Digits: 14\n",
      "Number: 951, Sum of Digits: 15\n",
      "Number: 952, Sum of Digits: 16\n",
      "Number: 953, Sum of Digits: 17\n",
      "Number: 954, Sum of Digits: 18\n",
      "Number: 955, Sum of Digits: 19\n",
      "Number: 956, Sum of Digits: 20\n",
      "Number: 957, Sum of Digits: 21\n",
      "Number: 958, Sum of Digits: 22\n",
      "Number: 959, Sum of Digits: 23\n",
      "Number: 960, Sum of Digits: 15\n",
      "Number: 961, Sum of Digits: 16\n",
      "Number: 962, Sum of Digits: 17\n",
      "Number: 963, Sum of Digits: 18\n",
      "Number: 964, Sum of Digits: 19\n",
      "Number: 965, Sum of Digits: 20\n",
      "Number: 966, Sum of Digits: 21\n",
      "Number: 967, Sum of Digits: 22\n",
      "Number: 968, Sum of Digits: 23\n",
      "Number: 969, Sum of Digits: 24\n",
      "Number: 970, Sum of Digits: 16\n",
      "Number: 971, Sum of Digits: 17\n",
      "Number: 972, Sum of Digits: 18\n",
      "Number: 973, Sum of Digits: 19\n",
      "Number: 974, Sum of Digits: 20\n",
      "Number: 975, Sum of Digits: 21\n",
      "Number: 976, Sum of Digits: 22\n",
      "Number: 977, Sum of Digits: 23\n",
      "Number: 978, Sum of Digits: 24\n",
      "Number: 979, Sum of Digits: 25\n",
      "Number: 980, Sum of Digits: 17\n",
      "Number: 981, Sum of Digits: 18\n",
      "Number: 982, Sum of Digits: 19\n",
      "Number: 983, Sum of Digits: 20\n",
      "Number: 984, Sum of Digits: 21\n",
      "Number: 985, Sum of Digits: 22\n",
      "Number: 986, Sum of Digits: 23\n",
      "Number: 987, Sum of Digits: 24\n",
      "Number: 988, Sum of Digits: 25\n",
      "Number: 989, Sum of Digits: 26\n",
      "Number: 990, Sum of Digits: 18\n",
      "Number: 991, Sum of Digits: 19\n",
      "Number: 992, Sum of Digits: 20\n",
      "Number: 993, Sum of Digits: 21\n",
      "Number: 994, Sum of Digits: 22\n",
      "Number: 995, Sum of Digits: 23\n",
      "Number: 996, Sum of Digits: 24\n",
      "Number: 997, Sum of Digits: 25\n",
      "Number: 998, Sum of Digits: 26\n",
      "Number: 999, Sum of Digits: 27\n",
      "Number: 1000, Sum of Digits: 1\n"
     ]
    }
   ],
   "source": [
    "def sum_of_digits(number):\n",
    "    return sum(int(digit) for digit in str(number))\n",
    "\n",
    "def main():\n",
    "\n",
    "    digit_sums = [sum_of_digits(num) for num in range(1, 1001)]\n",
    "\n",
    "    for num, digit_sum in zip(range(1, 1001), digit_sums):\n",
    "        print(f\"Number: {num}, Sum of Digits: {digit_sum}\")\n",
    "\n",
    "if __name__ == \"__main__\":\n",
    "    main()\n"
   ]
  },
  {
   "cell_type": "markdown",
   "id": "ba23041c-7647-4dab-911e-e1aefa6080f8",
   "metadata": {},
   "source": [
    "QUestion 40. Write a program that generates a list of prime palindromic numbers using list comprehension."
   ]
  },
  {
   "cell_type": "code",
   "execution_count": 29,
   "id": "a34f16da-401a-4c3d-9e93-4fccca374bce",
   "metadata": {},
   "outputs": [
    {
     "name": "stdout",
     "output_type": "stream",
     "text": [
      "Prime Palindromic Numbers up to 1000: [2, 3, 5, 7, 11, 101, 131, 151, 181, 191, 313, 353, 373, 383, 727, 757, 787, 797, 919, 929]\n"
     ]
    }
   ],
   "source": [
    "def is_prime(num):\n",
    "    if num < 2:\n",
    "        return False\n",
    "    for i in range(2, int(num**0.5) + 1):\n",
    "        if num % i == 0:\n",
    "            return False\n",
    "    return True\n",
    "\n",
    "def is_palindrome(num):\n",
    "    return str(num) == str(num)[::-1]\n",
    "\n",
    "prime_palindromes = [num for num in range(1, 1000) if is_prime(num) and is_palindrome(num)]\n",
    "\n",
    "print(\"Prime Palindromic Numbers up to 1000:\", prime_palindromes)\n"
   ]
  },
  {
   "cell_type": "code",
   "execution_count": null,
   "id": "0013d3b4-006d-466e-aee9-a2c8c93bdb15",
   "metadata": {},
   "outputs": [],
   "source": []
  }
 ],
 "metadata": {
  "kernelspec": {
   "display_name": "Python 3 (ipykernel)",
   "language": "python",
   "name": "python3"
  },
  "language_info": {
   "codemirror_mode": {
    "name": "ipython",
    "version": 3
   },
   "file_extension": ".py",
   "mimetype": "text/x-python",
   "name": "python",
   "nbconvert_exporter": "python",
   "pygments_lexer": "ipython3",
   "version": "3.10.8"
  }
 },
 "nbformat": 4,
 "nbformat_minor": 5
}
