{
 "cells": [
  {
   "cell_type": "markdown",
   "id": "ecde3722-3b4f-4eb2-a760-1d04d5c3618d",
   "metadata": {},
   "source": [
    "Q.1 Can you explain the logic and working of the Tower of Hanoi algorithm by writing a Python program?\n",
    "How does the recursion work, and how are the movements of disks between rods accomplished?"
   ]
  },
  {
   "cell_type": "markdown",
   "id": "0b7eb4b3-9d5a-403e-b4bc-602cc0971d80",
   "metadata": {},
   "source": [
    "The Tower of Hanoi is a classic problem involving three rods and a number of disks of different sizes. The objective is to move all the disks from one rod to another\n",
    "while following these rules:\n",
    "\n",
    "1. Only one disk can be moved at a time.\n",
    "2. Each move consists of taking the top disk from one of the stacks and placing it onto another stack.\n",
    "3. No disk may be placed on top of a smaller disk.\n",
    "\n",
    "The Tower of Hanoi problem can be solved recursively. The logic behind the recursive solution is as follows:\n",
    "\n",
    "1. Move n-1 disks from the source rod to an auxiliary rod, using the destination rod as the auxiliary rod.\n",
    "2. Move the largest disk from the source rod to the destination rod.\n",
    "3. Move the n-1 disks from the auxiliary rod to the destination rod, using the source rod as the auxiliary rod.\n",
    "\n",
    "--> Python program that demonstrates the Tower of Hanoi problem:\n",
    "\n",
    "```\n",
    "def tower_of_hanoi(n, source, auxiliary, destination):\n",
    "    if n == 1:\n",
    "        print(f\"Move disk 1 from {source} to {destination}\")\n",
    "        return\n",
    "    \n",
    "    tower_of_hanoi(n - 1, source, destination, auxiliary)\n",
    "    print(f\"Move disk {n} from {source} to {destination}\")\n",
    "    tower_of_hanoi(n - 1, auxiliary, source, destination)\n",
    "\n",
    "\n",
    "n_disks = 3\n",
    "tower_of_hanoi(n_disks, 'A', 'B', 'C')\n",
    "```\n",
    "\n",
    "This `tower_of_hanoi` function takes in the number of disks (`n`) and the names of the three rods: source, auxiliary, and destination. It implements the recursive\n",
    "logic described earlier.\n",
    "\n",
    "When you run this code with `n_disks = 3`, it will output the sequence of steps to move three disks from rod 'A' to rod 'C', using rod 'B' as the auxiliary rod.\n",
    "\n",
    "Recursion works in this case by breaking down the problem into smaller subproblems. The base case (`n == 1`) is the termination condition. For larger values of \n",
    "`n`, the function calls itself recursively to solve smaller instances of the Tower of Hanoi problem until it reaches the base case.\n",
    "\n",
    "The movements of disks between rods are accomplished by following the rules of the Tower of Hanoi: moving smaller stacks on top of larger ones,\n",
    "ensuring that no disk is placed on top of a smaller disk. The recursive approach ensures that each movement is done following these rules,\n",
    "ultimately solving the Tower of Hanoi puzzle."
   ]
  },
  {
   "cell_type": "markdown",
   "id": "41562976-ba8a-4b8b-8393-59a7c23bf99b",
   "metadata": {},
   "source": [
    "Q.2 Given two strings word1 and word2, return the minimum number of operations required to convert word1\n",
    "to word2."
   ]
  },
  {
   "cell_type": "code",
   "execution_count": 2,
   "id": "85f2d926-5dac-4667-b29e-a820ffc3b2c6",
   "metadata": {},
   "outputs": [
    {
     "name": "stdout",
     "output_type": "stream",
     "text": [
      "Minimum operations required: 3\n"
     ]
    }
   ],
   "source": [
    "def min_distance(word1, word2):\n",
    "    # Base case: if either word1 or word2 becomes empty, return the length of the other string\n",
    "    if not word1:\n",
    "        return len(word2)\n",
    "    if not word2:\n",
    "        return len(word1)\n",
    "\n",
    "    # If the last characters are the same, continue with the rest of the strings\n",
    "    if word1[-1] == word2[-1]:\n",
    "        return min_distance(word1[:-1], word2[:-1])\n",
    "\n",
    "    #consider three operations: delete, insert, replace\n",
    "    delete = 1 + min_distance(word1[:-1], word2)\n",
    "    insert = 1 + min_distance(word1, word2[:-1])\n",
    "    replace = 1 + min_distance(word1[:-1], word2[:-1])\n",
    "\n",
    "    \n",
    "    return min(delete, insert, replace)\n",
    "\n",
    "word1 = \"horse\"\n",
    "word2 = \"ros\"\n",
    "result = min_distance(word1, word2)\n",
    "print(\"Minimum operations required:\", result)\n"
   ]
  },
  {
   "cell_type": "markdown",
   "id": "6f618c12-f0c2-46fb-8eb2-73635231ba24",
   "metadata": {},
   "source": [
    "Q. 3 Print the max value of the array [ 13, 1, -3, 22, 5]."
   ]
  },
  {
   "cell_type": "code",
   "execution_count": 5,
   "id": "ce8f2b5f-4c35-496d-b123-04f31236d92d",
   "metadata": {},
   "outputs": [
    {
     "name": "stdout",
     "output_type": "stream",
     "text": [
      "Maximum value in array is:  22\n"
     ]
    }
   ],
   "source": [
    "def max_value(array):\n",
    "    maxi = -99999\n",
    "    for num in array:\n",
    "        if num > maxi:\n",
    "            maxi = num\n",
    "    return maxi\n",
    "\n",
    "array = [ 13, 1, -3, 22, 5]\n",
    "result = max_value(array)\n",
    "print(\"Maximum value in array is: \", result)"
   ]
  },
  {
   "cell_type": "markdown",
   "id": "88ef6494-d2a5-4926-aedb-93eaf9da9014",
   "metadata": {},
   "source": [
    " Q.4 Find the sum of the values of the array [92, 23, 15, -20, 10]."
   ]
  },
  {
   "cell_type": "code",
   "execution_count": 8,
   "id": "189814e8-85fc-4522-b0e6-24b4bbdbddf0",
   "metadata": {},
   "outputs": [
    {
     "name": "stdout",
     "output_type": "stream",
     "text": [
      "Total value in array is:  125\n"
     ]
    }
   ],
   "source": [
    "def sum_of_array(array):\n",
    "    total = 0\n",
    "    for num in array:\n",
    "        total += num\n",
    "    return total\n",
    "\n",
    "array = [92,5, 23, 15, -20, 10]\n",
    "result = sum_of_array(array)\n",
    "print(\"Total value in array is: \", result)"
   ]
  },
  {
   "cell_type": "markdown",
   "id": "a0d59923-e1d4-4151-89a4-f8a5625ad24f",
   "metadata": {},
   "source": [
    "Q.5 Given a number n. Print if it is an armstrong number or not.An armstrong number is a number if the sum\n",
    "of every digit in that number raised to the power of total digits in that number is equal to the number."
   ]
  },
  {
   "cell_type": "code",
   "execution_count": null,
   "id": "3e4dcb0a-24fc-4609-b3ce-22f62c2ce3c0",
   "metadata": {},
   "outputs": [],
   "source": [
    "def is_armstrong_number(n):\n",
    "    # Convert the number to a string to count digits\n",
    "    num_str = str(n)\n",
    "    num_digits = len(num_str)\n",
    "    \n",
    "    # Calculate the sum of digits raised to the power of total digits\n",
    "    armstrong_sum = sum(int(digit) ** num_digits for digit in num_str)\n",
    "    \n",
    "    # Check if the sum equals the original number\n",
    "    return armstrong_sum == n\n",
    "\n",
    "# Example usage\n",
    "number = 153  # Replace this number with the number you want to check\n",
    "result = is_armstrong_number(number)\n",
    "\n",
    "if result:\n",
    "    print(f\"{number} is an Armstrong number\")\n",
    "else:\n",
    "    print(f\"{number} is not an Armstrong number\")\n"
   ]
  }
 ],
 "metadata": {
  "kernelspec": {
   "display_name": "Python 3 (ipykernel)",
   "language": "python",
   "name": "python3"
  },
  "language_info": {
   "codemirror_mode": {
    "name": "ipython",
    "version": 3
   },
   "file_extension": ".py",
   "mimetype": "text/x-python",
   "name": "python",
   "nbconvert_exporter": "python",
   "pygments_lexer": "ipython3",
   "version": "3.10.8"
  }
 },
 "nbformat": 4,
 "nbformat_minor": 5
}
