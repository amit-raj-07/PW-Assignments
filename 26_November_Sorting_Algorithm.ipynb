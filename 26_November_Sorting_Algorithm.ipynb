{
 "cells": [
  {
   "cell_type": "markdown",
   "id": "eb2e8d11-0ff1-4740-a1b7-e465795c14e6",
   "metadata": {},
   "source": [
    "Problem 1.Given an array of n numbers, give an algorithm which gives the element appearing maximum\n",
    "number of times?"
   ]
  },
  {
   "cell_type": "code",
   "execution_count": 4,
   "id": "dd8fd06c-1c4e-4c30-8979-1b617c8aa7af",
   "metadata": {},
   "outputs": [
    {
     "name": "stdout",
     "output_type": "stream",
     "text": [
      "Maximum number of time number appears in array is :  8\n"
     ]
    }
   ],
   "source": [
    "def maxNum(arr):\n",
    "    frequency = {}\n",
    "    max_count = 0\n",
    "    common_element = None\n",
    "    \n",
    "    for num in arr:\n",
    "        if num in frequency:\n",
    "            frequency[num] += 1\n",
    "        else:\n",
    "            frequency[num] = 1\n",
    "            \n",
    "        if frequency[num] > max_count:\n",
    "            max_count = frequency[num]\n",
    "            common_element = num\n",
    "            \n",
    "    return common_element\n",
    "        \n",
    "\n",
    "\n",
    "arr = [2,3,4,53,2,4,2,2,6,8,8,8,8,8,]\n",
    "\n",
    "result = maxNum(arr)\n",
    "print(\"Maximum number of time number appears in array is : \", result)"
   ]
  },
  {
   "cell_type": "markdown",
   "id": "e56183a3-f9e8-4caa-8d16-edec4c3580ab",
   "metadata": {},
   "source": [
    "Problem 2 : We are given a list of n-1 integers and these integers are in the range of 1 to n . There are no\n",
    "duplicates in the list. One of the integers is missing in the list. Give an algorithm to find that element Ex:\n",
    "[1,2,4,6,3,7,8] 5 is the missing num."
   ]
  },
  {
   "cell_type": "code",
   "execution_count": 13,
   "id": "6dc684ea-f4bf-47b7-90cf-7bfbf98f2b38",
   "metadata": {},
   "outputs": [
    {
     "name": "stdout",
     "output_type": "stream",
     "text": [
      "Missing element in this array is :  9\n"
     ]
    }
   ],
   "source": [
    "def missing_element(arr, n):\n",
    "    n = len(arr)+1\n",
    "    for i in range(1,n):\n",
    "        if i not in arr:\n",
    "            return i\n",
    "        \n",
    "arr = [1,2,3,4,5,6,7,8,10]\n",
    "result = missing_element(arr,n)\n",
    "print(\"Missing element in this array is : \",result)"
   ]
  },
  {
   "cell_type": "markdown",
   "id": "6b02fb76-cef6-4a31-97ef-c4c422725c85",
   "metadata": {},
   "source": [
    "Problem 3 : Given an array of n positive numbers. All numbers occurs even number of times except 1 which\n",
    "occurs odd number of times. Find that number in O(n) time and O(1) space. Ex: [1,2,3,2,3,1,3]. 3 is repeats odd\n",
    "times."
   ]
  },
  {
   "cell_type": "code",
   "execution_count": 11,
   "id": "d91559c8-8c92-497f-9b1f-b9ae8832b784",
   "metadata": {},
   "outputs": [
    {
     "name": "stdout",
     "output_type": "stream",
     "text": [
      "The odd times number in array is :  3\n"
     ]
    }
   ],
   "source": [
    "def odd_times_number(arr):\n",
    "    res = 0\n",
    "    for num in arr:\n",
    "        res ^= num\n",
    "    return res\n",
    "arr = [1,2,3,2,3,1,3]\n",
    "result = odd_number(arr)\n",
    "print(\"The odd times number in array is : \", result)\n"
   ]
  },
  {
   "cell_type": "markdown",
   "id": "c1ff832b-bf75-438f-bd4d-c51aa2a51042",
   "metadata": {},
   "source": [
    "Problem 4 : Given an array of n elements. Find two elements in the array such that their sum is equal to given\n",
    "element K."
   ]
  },
  {
   "cell_type": "code",
   "execution_count": 15,
   "id": "436cfd40-2b91-480b-8697-2ae2fe362d61",
   "metadata": {},
   "outputs": [
    {
     "name": "stdout",
     "output_type": "stream",
     "text": [
      "The odd times number in array is :  (1, 4)\n"
     ]
    }
   ],
   "source": [
    "def sum_is_K(arr,k):\n",
    "    for i in range(len(arr)):\n",
    "        res = 0\n",
    "        for j in range(len(arr)):\n",
    "            if arr[i] + arr[j] == k:\n",
    "                return arr[i],arr[j]\n",
    "            \n",
    "    else:\n",
    "        return None\n",
    "    \n",
    "\n",
    "\n",
    "arr = [1,2,3,4,1,3]\n",
    "k=5\n",
    "result = sum_is_K(arr,k)\n",
    "print(\"The odd times number in array is : \", result)"
   ]
  },
  {
   "cell_type": "markdown",
   "id": "851f05c0-d845-45fe-bc49-cfcee899393b",
   "metadata": {},
   "source": [
    "Problem 5 : Given an array of both positive and negative numbers, find two numbers such that their sum is\n",
    "closest to 0. Ex: [ 1 ,60 ,-10, 70, -80,85]. Ans : -80,85."
   ]
  },
  {
   "cell_type": "code",
   "execution_count": 1,
   "id": "e8466dca-a1d8-4541-b1fe-40be58ed1904",
   "metadata": {},
   "outputs": [
    {
     "name": "stdout",
     "output_type": "stream",
     "text": [
      "Closest zero numbers in array are :  (-80, 85)\n"
     ]
    }
   ],
   "source": [
    "def closest_Zero(arr):\n",
    "    arr.sort()\n",
    "    left=0\n",
    "    right = len(arr)-1\n",
    "    closest_sum = float('inf')\n",
    "    result_pair = None\n",
    "    \n",
    "    while left<right:\n",
    "        current_sum = arr[left] + arr[right]\n",
    "        if abs(current_sum) < abs(closest_sum):\n",
    "            closest_sum = current_sum\n",
    "            result_pair = (arr[left], arr[right])\n",
    "\n",
    "        if current_sum < 0:\n",
    "            left += 1\n",
    "        else:\n",
    "            right -= 1\n",
    "\n",
    "    return result_pair\n",
    "    \n",
    "    \n",
    "    \n",
    "arr = [1,60,-10,70,-80,85]\n",
    "result = closest_Zero(arr)\n",
    "print(\"Closest zero numbers in array are : \", result)"
   ]
  },
  {
   "cell_type": "markdown",
   "id": "91c179b0-e507-44ef-8ce3-2331083da15d",
   "metadata": {},
   "source": [
    "Problem 6 : Given an array of n elements . Find three elements such that their sum is equal to the given\n",
    "number."
   ]
  },
  {
   "cell_type": "code",
   "execution_count": 3,
   "id": "bb3401e3-224c-4ad3-9f97-7e33b6e55134",
   "metadata": {},
   "outputs": [
    {
     "name": "stdout",
     "output_type": "stream",
     "text": [
      "The sum of three numbers in the array that sum to 77 is: (2, 8, 67)\n"
     ]
    }
   ],
   "source": [
    "def Sum_Of_Three(arr, k):\n",
    "    arr.sort()\n",
    "    for i in range(len(arr) - 2):\n",
    "        left = i + 1\n",
    "        right = len(arr) - 1\n",
    "\n",
    "        while left < right:\n",
    "            current_sum = arr[i] + arr[left] + arr[right]\n",
    "            if current_sum == k:\n",
    "                return arr[i], arr[left], arr[right]\n",
    "            elif current_sum < k:\n",
    "                left += 1\n",
    "            else:\n",
    "                right -= 1\n",
    "\n",
    "    return None  \n",
    "\n",
    "\n",
    "arr = [2, 3, 4, 8, 67, 21, 51]\n",
    "k = 77\n",
    "result = Sum_Of_Three(arr, k)\n",
    "\n",
    "if result:\n",
    "    print(f\"The sum of three numbers in the array that sum to {k} is:\", result)\n",
    "else:\n",
    "    print(\"No such triplet found\")\n"
   ]
  },
  {
   "cell_type": "markdown",
   "id": "83fe19f9-5bd6-4b57-8bd5-a74d97db971c",
   "metadata": {},
   "source": [
    "Problem 7 : Given an array of n elements . Find three elements i, j, k in the array such that\n",
    "i * i + j * j = k*k."
   ]
  },
  {
   "cell_type": "code",
   "execution_count": null,
   "id": "f614fe0b-bf07-409b-99ae-f6d8abc34b2a",
   "metadata": {},
   "outputs": [],
   "source": [
    "def find_triplet(arr):\n",
    "    n = len(arr)\n",
    "    for i in range(n):\n",
    "        for j in range(n):\n",
    "            for k in range(n):\n",
    "                if arr[i] * arr[i] + arr[j] * arr[j] == arr[k] * arr[k]:\n",
    "                    return arr[i], arr[j], arr[k]\n",
    "    return None  \n",
    "\n",
    "\n",
    "array = [3, 4, 5, 6, 8, 10, 12, 15]\n",
    "result = find_triplet(array)\n",
    "\n",
    "if result:\n",
    "    print(\"The triplet is:\", result)\n",
    "else:\n",
    "    print(\"No triplet found\")\n"
   ]
  },
  {
   "cell_type": "markdown",
   "id": "f81a3222-01db-4767-8bde-52ba19d11cc0",
   "metadata": {},
   "source": [
    "Problem 8 : An element is a majority if it appears more than n/2 times. Give an algorithm takes an array of n\n",
    "element as argument and identifies a majority (if it exists)."
   ]
  },
  {
   "cell_type": "code",
   "execution_count": 10,
   "id": "aad35899-b90b-49c0-8db3-34b41eb56120",
   "metadata": {},
   "outputs": [
    {
     "name": "stdout",
     "output_type": "stream",
     "text": [
      "The number greater than n/2 in an array is: (2, 10)\n"
     ]
    }
   ],
   "source": [
    "def N_timesNumber(arr):\n",
    "    for i in range(len(arr)):\n",
    "        count = 0\n",
    "        num = arr[i]\n",
    "        for j in range(len(arr)):\n",
    "            if arr[j] == num:\n",
    "                count += 1\n",
    "        if count >= len(arr) / 2:\n",
    "            return num, count\n",
    "\n",
    "arr = [2, 2, 2, 3, 4, 55, 6, 7, 2, 2, 2, 7, 9, 5, 2, 2, 2, 2]\n",
    "result = N_timesNumber(arr)\n",
    "print(\"The number greater than n/2 in an array is:\", result)\n"
   ]
  },
  {
   "cell_type": "markdown",
   "id": "86eaa22f-08b1-4e8c-ae78-3f67b02ea095",
   "metadata": {},
   "source": [
    "Problem 9 : Given n × n matrix, and in each row all 1’s are followed by 0’s. Find the row with the maximum\n",
    "number of 0’s."
   ]
  },
  {
   "cell_type": "code",
   "execution_count": 11,
   "id": "72205071-c480-4155-93d2-3754fc3a794c",
   "metadata": {},
   "outputs": [
    {
     "name": "stdout",
     "output_type": "stream",
     "text": [
      "Row with the maximum number of zeros: 2\n"
     ]
    }
   ],
   "source": [
    "def max_zeros_row(matrix):\n",
    "    max_zeros = 0\n",
    "    max_zeros_row_index = -1\n",
    "\n",
    "    for i, row in enumerate(matrix):\n",
    "        count_zeros = row.count(0)\n",
    "        if count_zeros > max_zeros:\n",
    "            max_zeros = count_zeros\n",
    "            max_zeros_row_index = i\n",
    "\n",
    "    return max_zeros_row_index\n",
    "\n",
    "matrix = [\n",
    "    [1, 1, 1, 0, 0],\n",
    "    [1, 1, 0, 0, 0],\n",
    "    [1, 0, 0, 0, 0],\n",
    "    [1, 1, 1, 1, 0],\n",
    "    [1, 1, 1, 0, 0]\n",
    "]\n",
    "\n",
    "row_with_max_zeros = max_zeros_row(matrix)\n",
    "print(\"Row with the maximum number of zeros:\", row_with_max_zeros)\n"
   ]
  },
  {
   "cell_type": "markdown",
   "id": "a7e343b4-20b7-40fd-b653-45cc9de56c93",
   "metadata": {},
   "source": [
    "Problem 10 : Sort an array of 0’s, 1’s and 2’s [or R’s, G’s and B’s]: Given an array A[] consisting of 0’s, 1’s and\n",
    "2’s, give an algorithm for sorting A[].The algorithm should put all 0’s first, then all 1’s and finally all 2’s at the\n",
    "end. Example Input = {0,1,1,0,1,2,1,2,0,0,0,1}, Output = {0,0,0,0,0,1,1,1,1,1,2,2}"
   ]
  },
  {
   "cell_type": "code",
   "execution_count": 12,
   "id": "e3591fa5-5ace-4f3c-b243-4d91063dbef0",
   "metadata": {},
   "outputs": [
    {
     "name": "stdout",
     "output_type": "stream",
     "text": [
      "Sorted Array: [0, 0, 0, 0, 0, 1, 1, 1, 1, 1, 2, 2]\n"
     ]
    }
   ],
   "source": [
    "def sortColors(nums):\n",
    "    low, mid, high = 0, 0, len(nums) - 1\n",
    "\n",
    "    while mid <= high:\n",
    "        if nums[mid] == 0:\n",
    "            nums[low], nums[mid] = nums[mid], nums[low]\n",
    "            low += 1\n",
    "            mid += 1\n",
    "        elif nums[mid] == 1:\n",
    "            mid += 1\n",
    "        else:\n",
    "            nums[mid], nums[high] = nums[high], nums[mid]\n",
    "            high -= 1\n",
    "\n",
    "arr = [0, 1, 1, 0, 1, 2, 1, 2, 0, 0, 0, 1]\n",
    "sortColors(arr)\n",
    "print(\"Sorted Array:\", arr)\n"
   ]
  },
  {
   "cell_type": "code",
   "execution_count": null,
   "id": "909129ce-1598-43c5-b570-0600773380f1",
   "metadata": {},
   "outputs": [],
   "source": []
  }
 ],
 "metadata": {
  "kernelspec": {
   "display_name": "Python 3 (ipykernel)",
   "language": "python",
   "name": "python3"
  },
  "language_info": {
   "codemirror_mode": {
    "name": "ipython",
    "version": 3
   },
   "file_extension": ".py",
   "mimetype": "text/x-python",
   "name": "python",
   "nbconvert_exporter": "python",
   "pygments_lexer": "ipython3",
   "version": "3.10.8"
  }
 },
 "nbformat": 4,
 "nbformat_minor": 5
}
