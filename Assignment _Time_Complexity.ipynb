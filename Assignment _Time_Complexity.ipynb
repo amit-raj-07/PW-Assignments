{
 "cells": [
  {
   "cell_type": "markdown",
   "id": "35a94bf4-6210-42b8-8ca2-7f884339c31f",
   "metadata": {},
   "source": [
    "# Find time complexity of below code blocks :"
   ]
  },
  {
   "cell_type": "code",
   "execution_count": 10,
   "id": "855fccd5-45c8-4129-8ad2-e47e3e85f347",
   "metadata": {},
   "outputs": [],
   "source": [
    "# Problem 1 :\n",
    "# def quicksort(arr):\n",
    "#     if len(arr) <= 1:\n",
    "#         return arr\n",
    "#     pivot = arr[len(arr) // 2]\n",
    "#     left = [x for x in arr if x < pivot]\n",
    "#     middle = [x for x in arr if x == pivot]\n",
    "#     right = [x for x in arr if x > pivot]\n",
    "#     return quicksort(left) + middle + quicksort(right)"
   ]
  },
  {
   "cell_type": "markdown",
   "id": "95654c88-c9ff-499f-98df-d972f2678e58",
   "metadata": {},
   "source": [
    "-  considering the worst-case scenario, the time complexity of the provided quicksort implementation is O(n^2), but in practice, it's usually closer to O(n log n) due to average-case behavior with more optimal pivot selection."
   ]
  },
  {
   "cell_type": "code",
   "execution_count": 11,
   "id": "b5978aac-ca63-4461-8029-5a2146050469",
   "metadata": {},
   "outputs": [],
   "source": [
    "# Problem 2 :\n",
    "# def nested_loop_example(matrix):\n",
    "#     rows, cols = len(matrix), len(matrix[0])\n",
    "#     total = 0\n",
    "#     for i in range(rows):\n",
    "#         for j in range(cols):\n",
    "#             total += matrix[i][j]\n",
    "#     return total"
   ]
  },
  {
   "cell_type": "markdown",
   "id": "b34131ed-51f5-4fce-8e01-a00021f34247",
   "metadata": {},
   "source": [
    "- Let's denote n as the number of rows and m as the number of columns in the matrix.\n",
    "\n",
    "- The outer loop runs n times, and for each iteration of the outer loop, the inner loop runs m times. Therefore, the total number of iterations is n * m.\n",
    "\n",
    "- Hence, the time complexity of the nested_loop_example function is O(n * m), where n is the number of rows and m is the number of columns in the matrix."
   ]
  },
  {
   "cell_type": "code",
   "execution_count": 12,
   "id": "9c6732d1-562b-4e65-ae03-f789788e6c71",
   "metadata": {},
   "outputs": [],
   "source": [
    "# Problem 3 :\n",
    "# def example_function(arr):\n",
    "#     result = 0\n",
    "#     for element in arr:\n",
    "#         result += element\n",
    "#     return result"
   ]
  },
  {
   "cell_type": "markdown",
   "id": "fe0d286c-6db8-4c42-96c5-c2bce2cd480e",
   "metadata": {},
   "source": [
    "- Since each element of the array is visited once, and the time taken to process each element is constant, the time complexity of the function is O(n), where n is the number of elements in the input array."
   ]
  },
  {
   "cell_type": "code",
   "execution_count": 13,
   "id": "1a0371a1-6dd6-4058-bb29-7f6062db4bb6",
   "metadata": {},
   "outputs": [],
   "source": [
    "# Problem 4 :\n",
    "# def longest_increasing_subsequence(nums):\n",
    "#     n = len(nums)\n",
    "#     lis = [1] * n\n",
    "#     for i in range(1, n):\n",
    "#         for j in range(0, i):\n",
    "#             if nums[i] > nums[j] and lis[i] < lis[j] + 1:\n",
    "#                 lis[i] = lis[j] + 1\n",
    "#     return max(lis)"
   ]
  },
  {
   "cell_type": "markdown",
   "id": "18082fb7-07f2-4b2e-b35e-6fda125f6509",
   "metadata": {},
   "source": [
    "-  The time complexity is dominated by the nested loops.\n",
    "\n",
    "The outer loop runs n times, and for each iteration of the outer loop, the inner loop can run up to i times, where i is the index of the current element in the outer loop.\n",
    "\n",
    "To simplify, let's analyze the worst-case scenario when the inner loop runs its maximum number of times for each iteration of the outer loop:\n",
    "\n",
    "1 + 2 + 3 + ... + (n-1) = (n * (n - 1)) / 2\n",
    "\n",
    "Therefore, the time complexity is O(n^2) because the inner loop's complexity grows quadratically with the size of the input list."
   ]
  },
  {
   "cell_type": "code",
   "execution_count": 14,
   "id": "fd8da4e9-60a1-4b94-beb9-afd26c4a869b",
   "metadata": {},
   "outputs": [],
   "source": [
    "# Problem 5 :\n",
    "# def mysterious_function(arr):\n",
    "#     n = len(arr)\n",
    "#     result = 0\n",
    "#     for i in range(n):\n",
    "#         for j in range(i, n):\n",
    "#             result += arr[i] * arr[j]\n",
    "#     return result"
   ]
  },
  {
   "cell_type": "markdown",
   "id": "9de69e70-a6be-450c-ac10-45811e0152df",
   "metadata": {},
   "source": [
    "- Let's denote n as the length of the input list arr.\n",
    "\n",
    "- The outer loop iterates n times, and for each iteration of the outer loop, the inner loop iterates from i to n-1.\n",
    "\n",
    "- For the inner loop:\n",
    "\n",
    "- When i = 0, it iterates n times.\n",
    "- When i = 1, it iterates n-1 times.\n",
    "- When i = 2, it iterates n-2 times.\n",
    "...\n",
    "- When i = n-1, it iterates only once.\n",
    "- So, the total number of iterations in the inner loop can be calculated as the sum of the first n integers, which is (n * (n + 1)) / 2.\n",
    "\n",
    "- Therefore, the time complexity of the mysterious_function is O(n^2) due to the nested loops."
   ]
  },
  {
   "cell_type": "markdown",
   "id": "4975638e-8160-4df3-84ff-0b74cccedaf1",
   "metadata": {},
   "source": [
    "# Solve the following problems on recursion"
   ]
  },
  {
   "cell_type": "markdown",
   "id": "acac2952-c0c5-43d3-ad8e-a324df1a8326",
   "metadata": {},
   "source": [
    "Problem 6 : Sum of Digits\n",
    "Write a recursive function to calculate the sum of digits of a given positive integer.\n",
    "sum_of_digits(123) -> 6"
   ]
  },
  {
   "cell_type": "code",
   "execution_count": 6,
   "id": "66066982-d762-41e5-adbb-7dce4ec6cd63",
   "metadata": {},
   "outputs": [
    {
     "name": "stdout",
     "output_type": "stream",
     "text": [
      "6\n"
     ]
    }
   ],
   "source": [
    "def sum_of_digits(n):\n",
    "    # Base condition\n",
    "    if n < 10:\n",
    "        return n\n",
    "    # Recursive case\n",
    "    else:\n",
    "        return n % 10 + sum_of_digits(n // 10)\n",
    "\n",
    "result = sum_of_digits(123)\n",
    "print(result) \n"
   ]
  },
  {
   "cell_type": "markdown",
   "id": "94c7b1bb-e9e7-4694-ba11-d15723b6419d",
   "metadata": {},
   "source": [
    "Problem 7: Fibonacci Series\n",
    "Write a recursive function to generate the first n numbers of the Fibonacci series.\n",
    "fibonacci_series(6) -> [0, 1, 1, 2, 3, 5]"
   ]
  },
  {
   "cell_type": "code",
   "execution_count": 7,
   "id": "d702a737-6948-4c6a-8138-3745257238cb",
   "metadata": {},
   "outputs": [
    {
     "name": "stdout",
     "output_type": "stream",
     "text": [
      "[0, 1, 1, 2, 3, 5]\n"
     ]
    }
   ],
   "source": [
    "def fibonacci_series(n):\n",
    "    # Base case\n",
    "    if n == 0:\n",
    "        return []\n",
    "    # Base case:\n",
    "    elif n == 1:\n",
    "        return [0]\n",
    "    # Base case:\n",
    "    elif n == 2:\n",
    "        return [0, 1]\n",
    "    # Recursive case:\n",
    "    else:\n",
    "        fib_series = fibonacci_series(n - 1)\n",
    "        fib_series.append(fib_series[-1] + fib_series[-2])\n",
    "        return fib_series\n",
    "\n",
    "result = fibonacci_series(6)\n",
    "print(result)  \n"
   ]
  },
  {
   "cell_type": "markdown",
   "id": "236a132c-a59f-46e9-bdc4-e4df4fcad253",
   "metadata": {},
   "source": [
    "Problem 8 : Subset Sum\n",
    "- Given a set of positive integers and a target sum, write a recursive function to determine if there exists a subset\n",
    "- of the integers that adds up to the target sum.\n",
    "- subset_sum([3, 34, 4, 12, 5, 2], 9) -> True"
   ]
  },
  {
   "cell_type": "code",
   "execution_count": 3,
   "id": "01a0f819-f236-4d39-834e-1e35c78413b2",
   "metadata": {},
   "outputs": [
    {
     "name": "stdout",
     "output_type": "stream",
     "text": [
      "True\n"
     ]
    }
   ],
   "source": [
    "def subset_sum(nums, target):\n",
    "    # Define a helper function \n",
    "    def is_subset_sum(nums, n, target, memo):\n",
    "        # Base cases\n",
    "        if target == 0:\n",
    "            return True\n",
    "        if n == 0:\n",
    "            return False\n",
    "        # If the result for the current combination of n and target is already calculated, return it\n",
    "        if memo[n][target] is not None:\n",
    "            return memo[n][target]\n",
    "        # If the last element is greater than the target, ignore it\n",
    "        if nums[n - 1] > target:\n",
    "            memo[n][target] = is_subset_sum(nums, n - 1, target, memo)\n",
    "            return memo[n][target]\n",
    "        # Check if either including or excluding the last element leads to a subset with the target sum\n",
    "        memo[n][target] = is_subset_sum(nums, n - 1, target, memo) or \\\n",
    "                          is_subset_sum(nums, n - 1, target - nums[n - 1], memo)\n",
    "        return memo[n][target]\n",
    "\n",
    "    # Initialize memoization table\n",
    "    n = len(nums)\n",
    "    memo = [[None] * (target + 1) for _ in range(n + 1)]\n",
    "    # Call the helper function to check if there exists a subset with the target sum\n",
    "    return is_subset_sum(nums, n, target, memo)\n",
    "\n",
    "result = subset_sum([3, 34, 4, 12, 5, 2], 9)\n",
    "print(result)  "
   ]
  },
  {
   "cell_type": "markdown",
   "id": "a5c9f6f0-ce11-470f-9d64-e079779e9ab1",
   "metadata": {},
   "source": [
    "Problem 9: Word Break\n",
    "- Given a non-empty string and a dictionary of words, write a recursive function to determine if the string can be\n",
    "- segmented into a space-separated sequence of dictionary words.\n",
    "- word_break( leetcode , [ leet , code ]) -> True"
   ]
  },
  {
   "cell_type": "code",
   "execution_count": 8,
   "id": "fe718bfc-130a-47d8-b28c-bb138e47b9ba",
   "metadata": {},
   "outputs": [
    {
     "name": "stdout",
     "output_type": "stream",
     "text": [
      "True\n"
     ]
    }
   ],
   "source": [
    "def word_break(s, word_dict):\n",
    "    # Define a helper function \n",
    "    def can_segment(s, word_dict, memo):\n",
    "        # Base case:\n",
    "        if not s:\n",
    "            return True\n",
    "        # If the result for the current string is already calculated, return it\n",
    "        if s in memo:\n",
    "            return memo[s]\n",
    "        # Check all possible prefixes of the string and see if they are present in the dictionary\n",
    "        for i in range(1, len(s) + 1):\n",
    "            prefix = s[:i]\n",
    "            if prefix in word_dict and can_segment(s[i:], word_dict, memo):\n",
    "                memo[s] = True\n",
    "                return True\n",
    "        # If no prefix found in the dictionary, mark the current string as not segmentable\n",
    "        memo[s] = False\n",
    "        return False\n",
    "\n",
    "    # Initialize memoization table\n",
    "    memo = {}\n",
    "    # Call the helper function to check if the string can be segmented\n",
    "    return can_segment(s, set(word_dict), memo)\n",
    "\n",
    "result = word_break(\"leetcode\", [\"leet\", \"code\"])\n",
    "print(result) \n"
   ]
  },
  {
   "cell_type": "code",
   "execution_count": 15,
   "id": "c42b7365-3a01-4668-953a-0bdf5a63522b",
   "metadata": {},
   "outputs": [],
   "source": [
    "# Problem 10 : N-Queens\n",
    "# Implement a recursive function to solve the N Queens problem, where you have to place N queens on an N×N\n",
    "# chessboard in such a way that no two queens threaten each other.\n",
    "# n_queens(4)\n",
    "# [\n",
    "# [\".Q..\",\n",
    "# \"...Q\",\n",
    "# \"Q...\",\n",
    "# \"..Q.\"],\n",
    "# [\"..Q.\",\n",
    "# \"Q...\",\n",
    "# \"...Q\",\n",
    "# \".Q..\"]\n",
    "# ]"
   ]
  },
  {
   "cell_type": "code",
   "execution_count": 9,
   "id": "06d68ee3-c664-4c5e-b17d-dbac6df790a2",
   "metadata": {},
   "outputs": [
    {
     "name": "stdout",
     "output_type": "stream",
     "text": [
      "['.Q..', '...Q', 'Q...', '..Q.']\n",
      "['..Q.', 'Q...', '...Q', '.Q..']\n"
     ]
    }
   ],
   "source": [
    "def n_queens(n):\n",
    "    def is_safe(board, row, col):\n",
    "        # Check if there is a queen in the same column\n",
    "        for i in range(row):\n",
    "            if board[i][col] == 'Q':\n",
    "                return False\n",
    "        # Check upper left diagonal\n",
    "        for i, j in zip(range(row-1, -1, -1), range(col-1, -1, -1)):\n",
    "            if board[i][j] == 'Q':\n",
    "                return False\n",
    "        # Check upper right diagonal\n",
    "        for i, j in zip(range(row-1, -1, -1), range(col+1, n)):\n",
    "            if board[i][j] == 'Q':\n",
    "                return False\n",
    "        return True\n",
    "\n",
    "    def backtrack(board, row):\n",
    "        if row == n:\n",
    "            result.append([''.join(row) for row in board])\n",
    "            return\n",
    "        for col in range(n):\n",
    "            if is_safe(board, row, col):\n",
    "                board[row][col] = 'Q'\n",
    "                backtrack(board, row + 1)\n",
    "                board[row][col] = '.'\n",
    "\n",
    "    result = []\n",
    "    board = [['.' for _ in range(n)] for _ in range(n)]\n",
    "    backtrack(board, 0)\n",
    "    return result\n",
    "\n",
    "result = n_queens(4)\n",
    "for solution in result:\n",
    "    print(solution)\n"
   ]
  },
  {
   "cell_type": "code",
   "execution_count": null,
   "id": "d67b267a-1364-4473-abed-19052f030d34",
   "metadata": {},
   "outputs": [],
   "source": []
  }
 ],
 "metadata": {
  "kernelspec": {
   "display_name": "Python 3 (ipykernel)",
   "language": "python",
   "name": "python3"
  },
  "language_info": {
   "codemirror_mode": {
    "name": "ipython",
    "version": 3
   },
   "file_extension": ".py",
   "mimetype": "text/x-python",
   "name": "python",
   "nbconvert_exporter": "python",
   "pygments_lexer": "ipython3",
   "version": "3.10.8"
  }
 },
 "nbformat": 4,
 "nbformat_minor": 5
}
