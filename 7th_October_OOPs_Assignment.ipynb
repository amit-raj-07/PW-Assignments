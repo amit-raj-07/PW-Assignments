{
 "cells": [
  {
   "cell_type": "markdown",
   "id": "360dabad-789b-472d-91fa-803f97b13ccd",
   "metadata": {},
   "source": [
    "Problem 1: Bank Account Create a class representing a bank account with attributes like account number, account holder name, and balance.\n",
    "Implement methods to deposit and withdraw money from the account."
   ]
  },
  {
   "cell_type": "code",
   "execution_count": 8,
   "id": "228a63b3-52f6-49a5-8ab4-450a2842ffda",
   "metadata": {},
   "outputs": [],
   "source": [
    "class Bank_Account:\n",
    "    \n",
    "    def __init__(self, account_number, account_holder_name, balance=0.0):\n",
    "        self.account_number = account_number\n",
    "        self.account_holder_name = account_holder_name\n",
    "        self.balance = balance\n",
    "        \n",
    "    \n",
    "    def deposite(self, amount):\n",
    "        if amount>0:\n",
    "            self.balance += amount\n",
    "            print(f\"Deposited ${amount:.2f}. New Available balance: ${self.balance:.2f}\")\n",
    "        else:\n",
    "            print(\"Invalid deposit amount. Amount must be greater than zero.\")\n",
    "    \n",
    "    def withdraw(self, amount):\n",
    "        if amount>0:\n",
    "            if self.balance >= amount:\n",
    "                self.balance -= amount\n",
    "                print(f\"Withdrew ${amount:.2f}. New Available balance: ${self.balance:.2f}\")\n",
    "            else:\n",
    "                print(\"Insufficient balance to withdraw.\")\n",
    "        else:\n",
    "            print(\"Invalid withdrawal amount. Amount must be greater than zero.\")\n",
    "\n"
   ]
  },
  {
   "cell_type": "code",
   "execution_count": 9,
   "id": "070650a2-528b-43f0-aa6f-705509775c16",
   "metadata": {},
   "outputs": [],
   "source": [
    "ICICI = Bank_Account(1234, \"Raju\", 190)"
   ]
  },
  {
   "cell_type": "code",
   "execution_count": 10,
   "id": "36fa7a5d-c700-44d9-92e0-13453bca7624",
   "metadata": {},
   "outputs": [
    {
     "data": {
      "text/plain": [
       "'Raju'"
      ]
     },
     "execution_count": 10,
     "metadata": {},
     "output_type": "execute_result"
    }
   ],
   "source": [
    "ICICI.account_holder_name"
   ]
  },
  {
   "cell_type": "code",
   "execution_count": 11,
   "id": "d35bc2d7-8072-40a6-b222-a0b3544944f7",
   "metadata": {},
   "outputs": [
    {
     "data": {
      "text/plain": [
       "1234"
      ]
     },
     "execution_count": 11,
     "metadata": {},
     "output_type": "execute_result"
    }
   ],
   "source": [
    "ICICI.account_number"
   ]
  },
  {
   "cell_type": "code",
   "execution_count": 12,
   "id": "bcd29697-fa59-4012-9293-56903215d8e1",
   "metadata": {},
   "outputs": [
    {
     "data": {
      "text/plain": [
       "190"
      ]
     },
     "execution_count": 12,
     "metadata": {},
     "output_type": "execute_result"
    }
   ],
   "source": [
    "ICICI.balance"
   ]
  },
  {
   "cell_type": "code",
   "execution_count": 13,
   "id": "cbb68370-3d1a-4274-8ba8-b907c852b205",
   "metadata": {},
   "outputs": [
    {
     "name": "stdout",
     "output_type": "stream",
     "text": [
      "Deposited $500.00. New Available balance: $690.00\n"
     ]
    }
   ],
   "source": [
    "ICICI.deposite(500.00)"
   ]
  },
  {
   "cell_type": "code",
   "execution_count": 14,
   "id": "b01a3dff-507d-407f-93b7-5443d203b4f2",
   "metadata": {},
   "outputs": [
    {
     "name": "stdout",
     "output_type": "stream",
     "text": [
      "Withdrew $55.20. New Available balance: $634.80\n"
     ]
    }
   ],
   "source": [
    "ICICI.withdraw(55.20)"
   ]
  },
  {
   "cell_type": "code",
   "execution_count": null,
   "id": "34a17a3c-05c0-4085-8272-33402642113b",
   "metadata": {},
   "outputs": [],
   "source": []
  },
  {
   "cell_type": "markdown",
   "id": "2feaa26e-ca37-428c-93a9-339a4a9d7e8f",
   "metadata": {},
   "source": [
    "Problem 2: Employee Management Create a class representing an employee with attributes like employee ID, name, and salary.\n",
    "Implement methods to calculate the yearly bonus and display employee details."
   ]
  },
  {
   "cell_type": "code",
   "execution_count": 30,
   "id": "9d4e903f-7275-4208-aa7d-78b29be644c5",
   "metadata": {},
   "outputs": [],
   "source": [
    "class employee:\n",
    "    \n",
    "    def __init__(self, employee_ID, name, salary=0.0):\n",
    "        self.employee_ID = employee_ID\n",
    "        self.name = name\n",
    "        self.salary = salary\n",
    "        \n",
    "    def Yearly_bonus(self, bonus_percent):\n",
    "        if bonus_percent >= 0:\n",
    "            bonus_amount = (bonus_percent / 100) * self.salary\n",
    "            return bonus_amount\n",
    "        else:\n",
    "            return 0\n",
    "          \n",
    "    def display_employee_name(self):\n",
    "        print(f\"Employee ID : {self.employee_ID}\")\n",
    "        print(f\"Employee name : {self.name}\")\n",
    "        print(f\"Employee salary : {self.salary:.2f}\")\n",
    "        "
   ]
  },
  {
   "cell_type": "code",
   "execution_count": 31,
   "id": "831c9184-934e-4ea4-83e4-5c2c86a8ccd3",
   "metadata": {},
   "outputs": [],
   "source": [
    "emp1 = employee(1, 'Aashu', 5000)"
   ]
  },
  {
   "cell_type": "code",
   "execution_count": 32,
   "id": "0f116b13-1822-45c9-b311-e996d18c3167",
   "metadata": {},
   "outputs": [
    {
     "name": "stdout",
     "output_type": "stream",
     "text": [
      "Employee ID : 1\n",
      "Employee name : Aashu\n",
      "Employee salary : 5000.00\n"
     ]
    }
   ],
   "source": [
    "emp1.display_employee_name()"
   ]
  },
  {
   "cell_type": "code",
   "execution_count": 33,
   "id": "1c87a0ca-e635-4ad9-a9fa-fb2d1d9711c8",
   "metadata": {},
   "outputs": [
    {
     "data": {
      "text/plain": [
       "1"
      ]
     },
     "execution_count": 33,
     "metadata": {},
     "output_type": "execute_result"
    }
   ],
   "source": [
    "emp1.employee_ID"
   ]
  },
  {
   "cell_type": "code",
   "execution_count": 34,
   "id": "73925c55-324d-45b5-9ab0-d3809fe8324b",
   "metadata": {},
   "outputs": [
    {
     "data": {
      "text/plain": [
       "'Aashu'"
      ]
     },
     "execution_count": 34,
     "metadata": {},
     "output_type": "execute_result"
    }
   ],
   "source": [
    "emp1.name"
   ]
  },
  {
   "cell_type": "code",
   "execution_count": 35,
   "id": "f4007d64-10b5-4f99-a538-b5067ccccc7e",
   "metadata": {},
   "outputs": [
    {
     "data": {
      "text/plain": [
       "5000"
      ]
     },
     "execution_count": 35,
     "metadata": {},
     "output_type": "execute_result"
    }
   ],
   "source": [
    "emp1.salary"
   ]
  },
  {
   "cell_type": "code",
   "execution_count": 36,
   "id": "73c24b3a-804b-49d6-9404-bd11836b2ef1",
   "metadata": {},
   "outputs": [
    {
     "data": {
      "text/plain": [
       "500.0"
      ]
     },
     "execution_count": 36,
     "metadata": {},
     "output_type": "execute_result"
    }
   ],
   "source": [
    "emp1.Yearly_bonus(10)"
   ]
  },
  {
   "cell_type": "code",
   "execution_count": 37,
   "id": "c818cfbe-96f2-4f7f-a9ae-f010072135a0",
   "metadata": {},
   "outputs": [
    {
     "name": "stdout",
     "output_type": "stream",
     "text": [
      "Employee ID : 1\n",
      "Employee name : Aashu\n",
      "Employee salary : 5000.00\n"
     ]
    }
   ],
   "source": [
    " emp1.display_employee_name()"
   ]
  },
  {
   "cell_type": "markdown",
   "id": "7a0ebcc7-202f-4570-8709-39a7f897ab19",
   "metadata": {},
   "source": [
    "Problem 3: Vehicle Rental Create a class representing a vehicle rental system. \n",
    "Implement methods to rent a vehicle, return a vehicle, and display available vehicles."
   ]
  },
  {
   "cell_type": "code",
   "execution_count": 7,
   "id": "110149d9-236f-4c6a-8a9c-7a8b055d4d4f",
   "metadata": {},
   "outputs": [
    {
     "name": "stdout",
     "output_type": "stream",
     "text": [
      "Rented 2 car(s).\n",
      "Rented 3 motorcycle(s).\n",
      "Available Vehicles:\n",
      "car: 8\n",
      "motorcycle: 2\n",
      "bicycle: 20\n",
      "Returned 1 car(s).\n",
      "Returned 2 motorcycle(s).\n",
      "Rented Vehicles:\n",
      "car: 1\n",
      "motorcycle: 1\n",
      "bicycle: 0\n"
     ]
    }
   ],
   "source": [
    "class VehicleRentalSystem:\n",
    "    def __init__(self):\n",
    "        self.available_vehicles = {'car': 10, 'motorcycle': 5, 'bicycle': 20}\n",
    "        self.rented_vehicles = {'car': 0, 'motorcycle': 0, 'bicycle': 0}\n",
    "\n",
    "    def rent_vehicle(self, vehicle_type, quantity):\n",
    "        if vehicle_type in self.available_vehicles and quantity > 0:\n",
    "            if self.available_vehicles[vehicle_type] >= quantity:\n",
    "                self.available_vehicles[vehicle_type] -= quantity\n",
    "                self.rented_vehicles[vehicle_type] += quantity\n",
    "                print(f\"Rented {quantity} {vehicle_type}(s).\")\n",
    "            else:\n",
    "                print(f\"Sorry, we don't have enough {vehicle_type}(s) available.\")\n",
    "        else:\n",
    "            print(\"Invalid vehicle type or quantity.\")\n",
    "\n",
    "    def return_vehicle(self, vehicle_type, quantity):\n",
    "        if vehicle_type in self.rented_vehicles and quantity > 0:\n",
    "            if self.rented_vehicles[vehicle_type] >= quantity:\n",
    "                self.available_vehicles[vehicle_type] += quantity\n",
    "                self.rented_vehicles[vehicle_type] -= quantity\n",
    "                print(f\"Returned {quantity} {vehicle_type}(s).\")\n",
    "            else:\n",
    "                print(f\"You can't return more {vehicle_type}(s) than you've rented.\")\n",
    "        else:\n",
    "            print(\"Invalid vehicle type or quantity.\")\n",
    "\n",
    "    def display_available_vehicles(self):\n",
    "        print(\"Available Vehicles:\")\n",
    "        for vehicle_type, quantity in self.available_vehicles.items():\n",
    "            print(f\"{vehicle_type}: {quantity}\")\n",
    "\n",
    "    def display_rented_vehicles(self):\n",
    "        print(\"Rented Vehicles:\")\n",
    "        for vehicle_type, quantity in self.rented_vehicles.items():\n",
    "            print(f\"{vehicle_type}: {quantity}\")\n",
    "\n",
    "\n",
    "# Example usage:\n",
    "rental_system = VehicleRentalSystem()\n",
    "\n",
    "# Rent vehicles\n",
    "rental_system.rent_vehicle('car', 2)\n",
    "rental_system.rent_vehicle('motorcycle', 3)\n",
    "\n",
    "# Display available vehicles\n",
    "rental_system.display_available_vehicles()\n",
    "\n",
    "# Return vehicles\n",
    "rental_system.return_vehicle('car', 1)\n",
    "rental_system.return_vehicle('motorcycle', 2)\n",
    "\n",
    "# Display rented vehicles\n",
    "rental_system.display_rented_vehicles()\n"
   ]
  },
  {
   "cell_type": "markdown",
   "id": "64d018e3-2238-4073-b69e-4353bd935efc",
   "metadata": {},
   "source": [
    "Problem 4: Library Catalog Create classes representing a library and a book. Implement methods to add books to the library, borrow books, and display available books."
   ]
  },
  {
   "cell_type": "code",
   "execution_count": 9,
   "id": "4919e185-15c9-4679-ba90-186712fd53e9",
   "metadata": {},
   "outputs": [
    {
     "name": "stdout",
     "output_type": "stream",
     "text": [
      "Added 'The Great Gatsby' by F. Scott Fitzgerald to the library.\n",
      "Added 'To Kill a Mockingbird' by Harper Lee to the library.\n",
      "Added '1984' by George Orwell to the library.\n",
      "Available Books:\n",
      "The Great Gatsby by F. Scott Fitzgerald (Available)\n",
      "To Kill a Mockingbird by Harper Lee (Available)\n",
      "1984 by George Orwell (Available)\n",
      "You have borrowed 'The Great Gatsby'.\n",
      "Available Books:\n",
      "To Kill a Mockingbird by Harper Lee (Available)\n",
      "1984 by George Orwell (Available)\n"
     ]
    }
   ],
   "source": [
    "class Book:\n",
    "    def __init__(self, title, author):\n",
    "        self.title = title\n",
    "        self.author = author\n",
    "        self.is_available = True\n",
    "        \n",
    "    def __str__(self):\n",
    "        availability = \"Available\" if self.is_available else \"Borrowed\"\n",
    "        return f\"{self.title} by {self.author} ({availability})\" \n",
    "    \n",
    "class Library:\n",
    "    def __init__(self):\n",
    "        self.books = []\n",
    "        \n",
    "    def add_book(self, title, author):\n",
    "        book = Book(title, author)\n",
    "        self.books.append(book)\n",
    "        print(f\"Added '{title}' by {author} to the library.\")\n",
    "        \n",
    "    def borrow_book(self, title):\n",
    "        for book in self.books:\n",
    "            if book.title == title and book.is_available:\n",
    "                book.is_available = False\n",
    "                print(f\"You have borrowed '{title}'.\")\n",
    "                return\n",
    "        print(f\"'{title}' is not available for borrowing.\")\n",
    "        \n",
    "    def display_available_books(self):\n",
    "        available_books = [book for book in self.books if book.is_available]\n",
    "        if available_books:\n",
    "            print(\"Available Books:\")\n",
    "            for book in available_books:\n",
    "                print(book)\n",
    "        else:\n",
    "            print(\"No books are available at the moment.\")\n",
    "\n",
    "            \n",
    "\n",
    "# Example usage:\n",
    "library = Library()\n",
    "\n",
    "# Add books to the library\n",
    "library.add_book(\"The Great Gatsby\", \"F. Scott Fitzgerald\")\n",
    "library.add_book(\"To Kill a Mockingbird\", \"Harper Lee\")\n",
    "library.add_book(\"1984\", \"George Orwell\")\n",
    "\n",
    "# Display available books\n",
    "library.display_available_books()\n",
    "\n",
    "# Borrow a book\n",
    "library.borrow_book(\"The Great Gatsby\")\n",
    "\n",
    "# Display available books after borrowing\n",
    "library.display_available_books()\n",
    "        \n",
    "        "
   ]
  },
  {
   "cell_type": "markdown",
   "id": "f9e2fecb-bfc0-44e9-8df2-f45742ef9605",
   "metadata": {},
   "source": [
    "Problem 5: Product Inventory Create classes representing a product and an inventory system. Implement methods to add products to the inventory,\n",
    "update product quantity, and display available products."
   ]
  },
  {
   "cell_type": "code",
   "execution_count": 2,
   "id": "a3c8ced1-29d7-4206-9d71-e700a3a00675",
   "metadata": {},
   "outputs": [
    {
     "name": "stdout",
     "output_type": "stream",
     "text": [
      "Available Products:\n",
      "Product ID: 1, Name: Widget, Price: $10.99, Quantity: 100\n",
      "Product ID: 2, Name: Gadget, Price: $19.99, Quantity: 50\n",
      "Product ID: 3, Name: Doodad, Price: $7.49, Quantity: 75\n",
      "\n",
      "Available Products after Quantity Update:\n",
      "Product ID: 1, Name: Widget, Price: $10.99, Quantity: 100\n",
      "Product ID: 2, Name: Gadget, Price: $19.99, Quantity: 60\n",
      "Product ID: 3, Name: Doodad, Price: $7.49, Quantity: 75\n"
     ]
    }
   ],
   "source": [
    "class Product:\n",
    "    def __init__(self, product_id, name, price, quantity):\n",
    "        self.product_id = product_id\n",
    "        self.name = name\n",
    "        self.price = price\n",
    "        self.quantity = quantity\n",
    "\n",
    "    def __str__(self):\n",
    "        return f\"Product ID: {self.product_id}, Name: {self.name}, Price: ${self.price}, Quantity: {self.quantity}\"\n",
    "\n",
    "class Inventory:\n",
    "    def __init__(self):\n",
    "        self.products = []\n",
    "\n",
    "    def add_product(self, product):\n",
    "        self.products.append(product)\n",
    "\n",
    "    def update_quantity(self, product_id, new_quantity):\n",
    "        for product in self.products:\n",
    "            if product.product_id == product_id:\n",
    "                product.quantity = new_quantity\n",
    "                return\n",
    "\n",
    "    def display_products(self):\n",
    "        for product in self.products:\n",
    "            print(product)\n",
    "\n",
    "# Example usage:\n",
    "if __name__ == '__main__':\n",
    "    # Create some products\n",
    "    product1 = Product(1, \"Widget\", 10.99, 100)\n",
    "    product2 = Product(2, \"Gadget\", 19.99, 50)\n",
    "    product3 = Product(3, \"Doodad\", 7.49, 75)\n",
    "\n",
    "    # Create an inventory system and add products\n",
    "    inventory = Inventory()\n",
    "    inventory.add_product(product1)\n",
    "    inventory.add_product(product2)\n",
    "    inventory.add_product(product3)\n",
    "\n",
    "    # Display available products\n",
    "    print(\"Available Products:\")\n",
    "    inventory.display_products()\n",
    "\n",
    "    # Update the quantity of a product\n",
    "    inventory.update_quantity(2, 60)\n",
    "\n",
    "    # Display available products after the update\n",
    "    print(\"\\nAvailable Products after Quantity Update:\")\n",
    "    inventory.display_products()\n",
    "\n",
    "\n",
    "\n",
    "\n",
    "\n",
    "\n",
    "    "
   ]
  },
  {
   "cell_type": "markdown",
   "id": "ce248f24-554a-4408-ace4-1d24a3d3e842",
   "metadata": {},
   "source": [
    "Problem 6: Shape Calculation Create a class representing a shape with attributes like length, width, and height. \n",
    "Implement methods to calculate the area and perimeter of the shape."
   ]
  },
  {
   "cell_type": "code",
   "execution_count": 4,
   "id": "2825def1-01af-42e1-9383-d625157aa1c6",
   "metadata": {},
   "outputs": [
    {
     "name": "stdout",
     "output_type": "stream",
     "text": [
      "Rectangle Area: 35\n",
      "Rectangle Perimeter: 24\n",
      "Triangle Area: 6.0\n",
      "Triangle Perimeter: 12\n"
     ]
    }
   ],
   "source": [
    "class Shape:\n",
    "    def __init__(self, length, width, height):\n",
    "        self.length = length\n",
    "        self.width = width\n",
    "        self.height = height\n",
    "        \n",
    "    def claculate_area(self):\n",
    "        raise NotImplementedError(\"Subclass must omplement this method\")\n",
    "        \n",
    "    def claculate_perimeter(self):\n",
    "        raise NotImplementedError(\"Subclass must omplement this method\")\n",
    "        \n",
    "class Rectangle(Shape):\n",
    "    def calculate_area(self):\n",
    "        return self.length*self.width\n",
    "    \n",
    "    def calculate_perimeter(self):\n",
    "        return 2 * (self.length+self.width)\n",
    "    \n",
    "class Triangle(Shape):\n",
    "    def calculate_area(self):\n",
    "        s = (self.length + self.width + self.height) / 2\n",
    "        return (s * (s - self.length) * (s - self.width) * (s - self.height)) ** 0.5\n",
    "\n",
    "    \n",
    "    def calculate_perimeter(self):\n",
    "        return self.length+self.width+self.height\n",
    "    \n",
    "    \n",
    "rectangle = Rectangle(5,7,0)\n",
    "triangle = Triangle(3,4,5)\n",
    "\n",
    "print(\"Rectangle Area:\", rectangle.calculate_area())\n",
    "print(\"Rectangle Perimeter:\", rectangle.calculate_perimeter())\n",
    "\n",
    "print(\"Triangle Area:\", triangle.calculate_area())\n",
    "print(\"Triangle Perimeter:\", triangle.calculate_perimeter())\n",
    "     \n",
    "    "
   ]
  },
  {
   "cell_type": "markdown",
   "id": "a48f3841-b790-4ce1-8986-9e581cd8f299",
   "metadata": {},
   "source": [
    "Problem 7: Student Management Create a class representing a student with attributes like student ID, name, and grades. Implement methods to calculate the average grade\n",
    "and display student details."
   ]
  },
  {
   "cell_type": "code",
   "execution_count": 1,
   "id": "e6d60335-fef5-4f0b-a2a5-81b6da2e75ca",
   "metadata": {},
   "outputs": [
    {
     "name": "stdout",
     "output_type": "stream",
     "text": [
      "Student ID: 1\n",
      "Name: Mohan\n",
      "Grades: 85, 90, 78, 92\n",
      "Average Grade: 86.25\n",
      "------------------------\n",
      "Student ID: 2\n",
      "Name: Sohan\n",
      "Grades: 76, 88, 95, 82\n",
      "Average Grade: 85.25\n"
     ]
    }
   ],
   "source": [
    "class Student:\n",
    "    def __init__(self, student_id, name, grades):\n",
    "        self.student_id = student_id\n",
    "        self.name = name\n",
    "        self.grades = grades\n",
    "        \n",
    "    def calculate_average_grade(self):\n",
    "        if not self.grades:\n",
    "            return 0\n",
    "        return sum(self.grades)/len(self.grades)\n",
    "    \n",
    "    def display_student_details(self):\n",
    "        print(f\"Student ID: {self.student_id}\")\n",
    "        print(f\"Name: {self.name}\")\n",
    "        print(f\"Grades: {', '.join(map(str, self.grades))}\")\n",
    "        print(f\"Average Grade: {self.calculate_average_grade()}\")\n",
    "        \n",
    "student1 = Student(1, \"Mohan\", [85, 90, 78, 92])\n",
    "student2 = Student(2, \"Sohan\", [76, 88, 95, 82])\n",
    "\n",
    "student1.display_student_details()\n",
    "print(\"------------------------\")\n",
    "student2.display_student_details()"
   ]
  },
  {
   "cell_type": "markdown",
   "id": "cd1d9c87-94ee-40c2-8d71-e3284b5c9614",
   "metadata": {},
   "source": [
    "Problem 8: Email Management Create a class representing an email with attributes like sender, recipient, and subject. Implement methods to send an email\n",
    "and display email details."
   ]
  },
  {
   "cell_type": "code",
   "execution_count": 3,
   "id": "d06a65fe-8f0b-43aa-a783-b2c72c267610",
   "metadata": {},
   "outputs": [
    {
     "name": "stdout",
     "output_type": "stream",
     "text": [
      "Email Details:\n",
      "Sender: john@example.com\n",
      "Recipient: jane@example.com\n",
      "Subject: Meeting Details\n",
      "Body:\n",
      "Let's meet at 2 PM tomorrow!\n",
      "Status: Not Sent\n",
      "------------------------\n",
      "Email sent from john@example.com to jane@example.com with subject 'Meeting Details'\n",
      "Email Details:\n",
      "Sender: john@example.com\n",
      "Recipient: jane@example.com\n",
      "Subject: Meeting Details\n",
      "Body:\n",
      "Let's meet at 2 PM tomorrow!\n",
      "Status: Sent\n"
     ]
    }
   ],
   "source": [
    "class Email:\n",
    "    def __init__(self, sender, recipient, subject, body):\n",
    "        self.sender = sender\n",
    "        self.recipient = recipient\n",
    "        self.subject = subject\n",
    "        self.body = body\n",
    "        self.is_sent = False\n",
    "\n",
    "    def send_email(self):\n",
    "        print(f\"Email sent from {self.sender} to {self.recipient} with subject '{self.subject}'\")\n",
    "        self.is_sent = True\n",
    "\n",
    "    def display_email_details(self):\n",
    "        print(\"Email Details:\")\n",
    "        print(f\"Sender: {self.sender}\")\n",
    "        print(f\"Recipient: {self.recipient}\")\n",
    "        print(f\"Subject: {self.subject}\")\n",
    "        print(\"Body:\")\n",
    "        print(self.body)\n",
    "        print(f\"Status: {'Sent' if self.is_sent else 'Not Sent'}\")\n",
    "\n",
    "email = Email(\"john@example.com\", \"jane@example.com\", \"Meeting Details\", \"Let's meet at 2 PM tomorrow!\")\n",
    "\n",
    "email.display_email_details()\n",
    "print(\"------------------------\")\n",
    "email.send_email()\n",
    "email.display_email_details()\n"
   ]
  },
  {
   "cell_type": "markdown",
   "id": "4ba1f104-8bf4-43ad-86dd-65044e76320e",
   "metadata": {},
   "source": [
    "Problem 9: Social Media Profile Create a class representing a social media profile with attributes like username and posts. Implement methods to add posts, display posts,\n",
    "and search for posts by keyword."
   ]
  },
  {
   "cell_type": "code",
   "execution_count": 4,
   "id": "b88568e9-3943-4c1e-b9c7-962aea18a0f9",
   "metadata": {},
   "outputs": [
    {
     "name": "stdout",
     "output_type": "stream",
     "text": [
      "Posts by john_doe:\n",
      "1. Enjoying a sunny day at the beach! - by john_doe\n",
      "2. Coding all night to meet project deadlines. - by john_doe\n",
      "3. Trying out a new recipe for dinner. - by john_doe\n",
      "------------------------\n",
      "Posts containing the keyword 'coding':\n",
      "1. Coding all night to meet project deadlines. - by john_doe\n"
     ]
    }
   ],
   "source": [
    "class SocialMediaProfile:\n",
    "    def __init__(self, username):\n",
    "        self.username = username\n",
    "        self.posts = []\n",
    "\n",
    "    def add_post(self, content):\n",
    "        post = {\"content\": content, \"author\": self.username}\n",
    "        self.posts.append(post)\n",
    "\n",
    "    def display_posts(self):\n",
    "        print(f\"Posts by {self.username}:\")\n",
    "        for i, post in enumerate(self.posts, 1):\n",
    "            print(f\"{i}. {post['content']} - by {post['author']}\")\n",
    "\n",
    "    def search_posts_by_keyword(self, keyword):\n",
    "        matching_posts = [post for post in self.posts if keyword.lower() in post[\"content\"].lower()]\n",
    "        if matching_posts:\n",
    "            print(f\"Posts containing the keyword '{keyword}':\")\n",
    "            for i, post in enumerate(matching_posts, 1):\n",
    "                print(f\"{i}. {post['content']} - by {post['author']}\")\n",
    "        else:\n",
    "            print(f\"No posts found containing the keyword '{keyword}'.\")\n",
    "\n",
    "profile = SocialMediaProfile(\"john_doe\")\n",
    "\n",
    "profile.add_post(\"Enjoying a sunny day at the beach!\")\n",
    "profile.add_post(\"Coding all night to meet project deadlines.\")\n",
    "profile.add_post(\"Trying out a new recipe for dinner.\")\n",
    "\n",
    "profile.display_posts()\n",
    "\n",
    "print(\"------------------------\")\n",
    "\n",
    "profile.search_posts_by_keyword(\"coding\")\n"
   ]
  },
  {
   "cell_type": "markdown",
   "id": "06755754-bd20-426e-9397-5cc680225ccf",
   "metadata": {},
   "source": [
    "Problem 10: ToDo List Create a class representing a ToDo list with attributes like tasks and due dates. Implement methods to add tasks, mark tasks as completed, \n",
    "and display pending tasks."
   ]
  },
  {
   "cell_type": "code",
   "execution_count": 5,
   "id": "1405b49c-2097-4c04-9e11-d2f9bd9b6841",
   "metadata": {},
   "outputs": [
    {
     "name": "stdout",
     "output_type": "stream",
     "text": [
      "Pending Tasks:\n",
      "1. Finish coding assignment - Due Date: 2024-01-20\n",
      "2. Buy groceries - Due Date: None\n",
      "3. Exercise - Due Date: 2024-01-15\n",
      "------------------------\n",
      "Pending Tasks:\n",
      "1. Finish coding assignment - Due Date: 2024-01-20\n",
      "2. Exercise - Due Date: 2024-01-15\n"
     ]
    }
   ],
   "source": [
    "from datetime import datetime\n",
    "\n",
    "class ToDoList:\n",
    "    def __init__(self):\n",
    "        self.tasks = []\n",
    "\n",
    "    def add_task(self, task, due_date=None):\n",
    "        \"\"\"\n",
    "        Add a task to the ToDo list.\n",
    "\n",
    "        Parameters:\n",
    "        - task (str): The task description.\n",
    "        - due_date (str, optional): Due date for the task in the format 'YYYY-MM-DD'.\n",
    "\n",
    "        \"\"\"\n",
    "        new_task = {\"task\": task, \"due_date\": due_date, \"completed\": False}\n",
    "        self.tasks.append(new_task)\n",
    "\n",
    "    def mark_task_as_completed(self, task_index):\n",
    "        \"\"\"\n",
    "        Mark a task as completed.\n",
    "\n",
    "        Parameters:\n",
    "        - task_index (int): Index of the task to mark as completed.\n",
    "\n",
    "        \"\"\"\n",
    "        if 0 <= task_index < len(self.tasks):\n",
    "            self.tasks[task_index][\"completed\"] = True\n",
    "        else:\n",
    "            print(\"Invalid task index.\")\n",
    "\n",
    "    def display_pending_tasks(self):\n",
    "        \"\"\"\n",
    "        Display pending tasks that are not yet completed.\n",
    "\n",
    "        \"\"\"\n",
    "        pending_tasks = [task for task in self.tasks if not task[\"completed\"]]\n",
    "        if pending_tasks:\n",
    "            print(\"Pending Tasks:\")\n",
    "            for i, task in enumerate(pending_tasks, 1):\n",
    "                print(f\"{i}. {task['task']} - Due Date: {task['due_date']}\")\n",
    "        else:\n",
    "            print(\"No pending tasks.\")\n",
    "\n",
    "\n",
    "todo_list = ToDoList()\n",
    "\n",
    "todo_list.add_task(\"Finish coding assignment\", \"2024-01-20\")\n",
    "todo_list.add_task(\"Buy groceries\")\n",
    "todo_list.add_task(\"Exercise\", \"2024-01-15\")\n",
    "\n",
    "todo_list.display_pending_tasks()\n",
    "\n",
    "print(\"------------------------\")\n",
    "\n",
    "todo_list.mark_task_as_completed(1)\n",
    "\n",
    "todo_list.display_pending_tasks()\n"
   ]
  },
  {
   "cell_type": "code",
   "execution_count": null,
   "id": "5cb19bb7-5225-4e7b-91da-eae8ace7f8f0",
   "metadata": {},
   "outputs": [],
   "source": []
  }
 ],
 "metadata": {
  "kernelspec": {
   "display_name": "Python 3 (ipykernel)",
   "language": "python",
   "name": "python3"
  },
  "language_info": {
   "codemirror_mode": {
    "name": "ipython",
    "version": 3
   },
   "file_extension": ".py",
   "mimetype": "text/x-python",
   "name": "python",
   "nbconvert_exporter": "python",
   "pygments_lexer": "ipython3",
   "version": "3.10.8"
  }
 },
 "nbformat": 4,
 "nbformat_minor": 5
}
