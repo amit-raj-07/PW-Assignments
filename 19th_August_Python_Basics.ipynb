{
 "cells": [
  {
   "cell_type": "markdown",
   "id": "3c2bd08c-2f89-4b13-9b41-455289a2f91b",
   "metadata": {},
   "source": [
    "TOPIC: Python Basic Variables"
   ]
  },
  {
   "cell_type": "markdown",
   "id": "42d84171-9d20-41df-8459-c89cb2c4a343",
   "metadata": {},
   "source": [
    "Question 1. Declare two variables, `x` and `y`, and assign them integer values. Swap the\n",
    "            values of these variables without using any temporary variable."
   ]
  },
  {
   "cell_type": "code",
   "execution_count": 1,
   "id": "c11228df-64d9-4be2-9b14-6ced6f44fb6e",
   "metadata": {},
   "outputs": [
    {
     "name": "stdout",
     "output_type": "stream",
     "text": [
      "Before Swapping the X and Y\n",
      "x =  10\n",
      "y =  20\n",
      "After Swapping the X and Y\n",
      "x =  20\n",
      "y =  10\n"
     ]
    }
   ],
   "source": [
    "#Here X and Y is variable and assigned the value to it\n",
    "x = 10\n",
    "y = 20\n",
    "\n",
    "print(\"Before Swapping the X and Y\")\n",
    "#Before Swapping Variables\n",
    "print(\"x = \", x)\n",
    "print(\"y = \", y)\n",
    "\n",
    "x,y = y,x\n",
    "\n",
    "print(\"After Swapping the X and Y\")\n",
    "#After Swapping Variables\n",
    "print(\"x = \", x)\n",
    "print(\"y = \", y)"
   ]
  },
  {
   "cell_type": "markdown",
   "id": "06ff7794-5cdc-426d-b4f8-10663909f5d3",
   "metadata": {},
   "source": [
    "Question 2.Create a program that calculates the area of a rectangle. Take the length and\n",
    "           width as inputs from the user and store them in variables. Calculate and\n",
    "           display the area."
   ]
  },
  {
   "cell_type": "code",
   "execution_count": 2,
   "id": "ddee382a-75b7-4af7-999e-36158fb8ea72",
   "metadata": {},
   "outputs": [
    {
     "name": "stdin",
     "output_type": "stream",
     "text": [
      "Pease Enter the length of the rectangle :  8\n",
      "Pease Enter the Width of the rectangle :  10\n"
     ]
    },
    {
     "name": "stdout",
     "output_type": "stream",
     "text": [
      "Area of Rectangle is :  80\n"
     ]
    }
   ],
   "source": [
    "#Here taken Length and Width of the rectangle to find the area of the rectangle\n",
    "Len = int(input(\"Pease Enter the length of the rectangle : \"))\n",
    "Wid = int(input(\"Pease Enter the Width of the rectangle : \"))\n",
    "Area_of_rectangle = Len*Wid\n",
    "print(\"Area of Rectangle is : \",Area_of_rectangle)"
   ]
  },
  {
   "cell_type": "markdown",
   "id": "4c81c492-9101-461e-8056-67e75f3623b2",
   "metadata": {},
   "source": [
    "Question 3.Write a Python program that converts temperatures from Celsius to\n",
    "           Fahrenheit. Take the temperature in Celsius as input, store it in a variable,\n",
    "           convert it to Fahrenheit, and display the result."
   ]
  },
  {
   "cell_type": "code",
   "execution_count": 3,
   "id": "56b4c354-cdaf-4692-b55e-35535d519c5d",
   "metadata": {},
   "outputs": [
    {
     "name": "stdin",
     "output_type": "stream",
     "text": [
      "Please Enter the Temperature in Celsius :  56\n"
     ]
    },
    {
     "name": "stdout",
     "output_type": "stream",
     "text": [
      "Fahrenheit is :  132.8\n"
     ]
    }
   ],
   "source": [
    "Celsius = float(input(\"Please Enter the Temperature in Celsius : \"))\n",
    "Fahrenheit  = (Celsius*(9/5)) + 32\n",
    "print(\"Fahrenheit is : \", Fahrenheit)"
   ]
  },
  {
   "cell_type": "raw",
   "id": "2b965665-1147-477e-a593-eb9f31ca151b",
   "metadata": {},
   "source": []
  },
  {
   "cell_type": "markdown",
   "id": "5bbe6c5a-2992-498b-86ed-49a930593dc3",
   "metadata": {},
   "source": [
    "TOPIC: String Based Questions"
   ]
  },
  {
   "cell_type": "markdown",
   "id": "f98fb901-e73a-432a-aa04-cdfe6270c6e0",
   "metadata": {},
   "source": [
    "Question 1: Write a Python program that takes a string as input and prints the length of\n",
    "            the string."
   ]
  },
  {
   "cell_type": "code",
   "execution_count": 4,
   "id": "94dd3052-0e76-48db-8b59-1ed36e5ce32a",
   "metadata": {},
   "outputs": [
    {
     "name": "stdin",
     "output_type": "stream",
     "text": [
      "Please Enter your name here :  Amit Raj Kumar\n"
     ]
    },
    {
     "name": "stdout",
     "output_type": "stream",
     "text": [
      "Name is :  Amit Raj Kumar\n",
      "Length of the input Name is :  14\n"
     ]
    }
   ],
   "source": [
    "Name = input(\"Please Enter your name here : \")\n",
    "print(\"Name is : \",Name)\n",
    "Length_of_the_Name  = len(Name)\n",
    "print(\"Length of the input Name is : \",Length_of_the_Name)\n"
   ]
  },
  {
   "cell_type": "markdown",
   "id": "5b888a8a-0520-453d-bb5c-06f7fe63aaf9",
   "metadata": {},
   "source": [
    "Question 2:Create a program that takes a sentence from the user and counts the number\n",
    "           of vowels (a, e, i, o, u) in the string."
   ]
  },
  {
   "cell_type": "code",
   "execution_count": 5,
   "id": "36791293-1a97-4f95-b050-3e109258fb4d",
   "metadata": {},
   "outputs": [
    {
     "name": "stdin",
     "output_type": "stream",
     "text": [
      "Enter a sentence:  asjkdhjfhfgxbvbuyrupwqpeoormvdn\n"
     ]
    },
    {
     "name": "stdout",
     "output_type": "stream",
     "text": [
      "Number of vowels in the sentence: 6\n"
     ]
    }
   ],
   "source": [
    "# Taking input from the user\n",
    "input_sentence = input(\"Enter a sentence: \")\n",
    "# Converting the input sentence to lowercase\n",
    "input_sentence = input_sentence.lower()\n",
    "# Initializing a counter for vowels\n",
    "vowel_count = 0\n",
    "# Looping through each character in the sentence\n",
    "for char in input_sentence:\n",
    "    if char in \"aeiou\":\n",
    "        vowel_count += 1\n",
    "# Printing the vowel count\n",
    "print(\"Number of vowels in the sentence:\", vowel_count)\n"
   ]
  },
  {
   "cell_type": "markdown",
   "id": "53e5ab93-da8d-4c4c-bbd0-cf369f1943d8",
   "metadata": {},
   "source": [
    "Question 3: Given a string, reverse the order of characters using string slicing and print\n",
    "            the reversed string."
   ]
  },
  {
   "cell_type": "code",
   "execution_count": 6,
   "id": "7a2db153-a013-4fd4-b925-0598ea2a2e3b",
   "metadata": {},
   "outputs": [
    {
     "name": "stdin",
     "output_type": "stream",
     "text": [
      "Enter a string:  Amit Raj\n"
     ]
    },
    {
     "name": "stdout",
     "output_type": "stream",
     "text": [
      "Reversed string: jaR timA\n"
     ]
    }
   ],
   "source": [
    "# Taking input from the user\n",
    "input_string = input(\"Enter a string: \")\n",
    "# Reverse the string using slicing\n",
    "reversed_string = input_string[::-1]\n",
    "# Printing the reversed string\n",
    "print(\"Reversed string:\", reversed_string)\n",
    "\n"
   ]
  },
  {
   "cell_type": "markdown",
   "id": "1a2ed0f3-b49c-4e3e-ac98-90e2f1542935",
   "metadata": {},
   "source": [
    "Question 4: Write a program that takes a string as input and checks if it is a palindrome\n",
    "            (reads the same forwards and backwards)."
   ]
  },
  {
   "cell_type": "code",
   "execution_count": 7,
   "id": "47969be7-831e-4901-9b86-2ee4ee9f256d",
   "metadata": {},
   "outputs": [
    {
     "name": "stdin",
     "output_type": "stream",
     "text": [
      "Enter a string:  Amit Raj\n"
     ]
    },
    {
     "name": "stdout",
     "output_type": "stream",
     "text": [
      "The input string is not a palindrome.\n"
     ]
    }
   ],
   "source": [
    "# Taking input from the user\n",
    "input_string = input(\"Enter a string: \")\n",
    "# Removing spaces and converting to lowercase for comparison\n",
    "cleaned_string = input_string.replace(\" \", \"\").lower()\n",
    "# Reversing the string using string slicing\n",
    "reversed_string = cleaned_string[::-1]\n",
    "# Checking if the original string is the same as the reversed string\n",
    "if cleaned_string == reversed_string:\n",
    "    print(\"The input string is a palindrome.\")\n",
    "else:\n",
    "    print(\"The input string is not a palindrome.\")\n"
   ]
  },
  {
   "cell_type": "markdown",
   "id": "8b8280f2-4368-4f0f-8756-7cf3991fb902",
   "metadata": {},
   "source": [
    "Question 5: Create a program that takes a string as input and removes all the spaces from\n",
    "            it. Print the modified string without spaces."
   ]
  },
  {
   "cell_type": "code",
   "execution_count": 8,
   "id": "34f1b511-b9d0-4d83-90dc-651db18e27f8",
   "metadata": {},
   "outputs": [
    {
     "name": "stdin",
     "output_type": "stream",
     "text": [
      "Enter a string:  Amit Raj Kumar\n"
     ]
    },
    {
     "name": "stdout",
     "output_type": "stream",
     "text": [
      "Modified string: AmitRajKumar\n"
     ]
    }
   ],
   "source": [
    "# Taking input from the user\n",
    "input_Name = input(\"Enter a string: \")\n",
    "# Removing spaces from the input string\n",
    "modified_string = input_Name.replace(\" \",\"\")\n",
    "\n",
    "# Printing the modified string without spaces\n",
    "print(\"Modified string:\", modified_string)"
   ]
  },
  {
   "cell_type": "code",
   "execution_count": null,
   "id": "1d167909-3416-445d-a3f0-b09a7b826497",
   "metadata": {},
   "outputs": [],
   "source": []
  }
 ],
 "metadata": {
  "kernelspec": {
   "display_name": "Python 3 (ipykernel)",
   "language": "python",
   "name": "python3"
  },
  "language_info": {
   "codemirror_mode": {
    "name": "ipython",
    "version": 3
   },
   "file_extension": ".py",
   "mimetype": "text/x-python",
   "name": "python",
   "nbconvert_exporter": "python",
   "pygments_lexer": "ipython3",
   "version": "3.10.8"
  }
 },
 "nbformat": 4,
 "nbformat_minor": 5
}
