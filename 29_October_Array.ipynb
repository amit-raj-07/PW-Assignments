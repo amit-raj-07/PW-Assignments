{
 "cells": [
  {
   "cell_type": "raw",
   "id": "88c8db23-35bd-4b16-a011-1f9c781c212a",
   "metadata": {},
   "source": [
    "Problem 1. Given an array, check if it contains any duplicates or not.\n",
    "arr = [1, 2, 4, 2, 5, 9]\n",
    "Output = True"
   ]
  },
  {
   "cell_type": "code",
   "execution_count": 2,
   "id": "4546cd98-0bff-4e6c-b57d-e6d3ba71b989",
   "metadata": {},
   "outputs": [
    {
     "name": "stdout",
     "output_type": "stream",
     "text": [
      "True\n"
     ]
    }
   ],
   "source": [
    "# Problem 1. Given an array, check if it contains any duplicates or not.\n",
    "# arr = [1, 2, 4, 2, 5, 9]\n",
    "# Output = True\n",
    "\n",
    "\n",
    "def contains_duplicates(arr):\n",
    "    seen = set()  # Create an empty set to store seen elements\n",
    "    for element in arr:\n",
    "        if element in seen:\n",
    "            return True  # If the element is already in the set, it's a duplicate\n",
    "        else:\n",
    "            seen.add(element)  # Add the element to the set\n",
    "    return False  # If we reach this point, there are no duplicates\n",
    "\n",
    "arr = [1, 2, 4, 2, 5, 9]\n",
    "output = contains_duplicates(arr)\n",
    "print(output)"
   ]
  },
  {
   "cell_type": "raw",
   "id": "c3842a01-7db8-4c48-9058-debe1a48e761",
   "metadata": {},
   "source": [
    "Problem 2. Given an array and an integer k, rotate the array to the right by k steps.\n",
    "arr = [1, 2, 3, 4, 5, 6, 7] k = 3\n",
    "Output = [5, 6, 7, 1, 2, 3, 4]"
   ]
  },
  {
   "cell_type": "code",
   "execution_count": 3,
   "id": "0eab3e40-796e-40e7-8d7b-3d6f367f7ce6",
   "metadata": {},
   "outputs": [
    {
     "name": "stdout",
     "output_type": "stream",
     "text": [
      "[5, 6, 7, 1, 2, 3, 4]\n"
     ]
    }
   ],
   "source": [
    "# Problem 2. Given an array and an integer k, rotate the array to the right by k steps.\n",
    "# arr = [1, 2, 3, 4, 5, 6, 7] k = 3\n",
    "# Output = [5, 6, 7, 1, 2, 3, 4]\n",
    "\n",
    "\n",
    "def rotate_array(arr, k):\n",
    "    n = len(arr)\n",
    "    k = k % n  # In case k is larger than the array size\n",
    "\n",
    "    if k == 0:\n",
    "        return arr  # If k is 0, no rotation is needed\n",
    "\n",
    "    # Create a new list to store the rotated elements\n",
    "    rotated_arr = [0] * n\n",
    "\n",
    "    for i in range(n):\n",
    "        rotated_arr[(i + k) % n] = arr[i]\n",
    "\n",
    "    # Copy the rotated elements back to the original array\n",
    "    for i in range(n):\n",
    "        arr[i] = rotated_arr[i]\n",
    "\n",
    "# Driver Code\n",
    "arr = [1, 2, 3, 4, 5, 6, 7]\n",
    "k = 3\n",
    "rotate_array(arr, k)\n",
    "print(arr)\n"
   ]
  },
  {
   "cell_type": "raw",
   "id": "be1c7629-0d9d-427e-9838-54d3abec79af",
   "metadata": {},
   "source": [
    "Problem 3. Reverse the given array in-place, means without using any extra data structure.\n",
    "arr = [2, 4, 5, 7, 9, 12]\n",
    "Output = [12, 9, 7, 5, 4, 2]"
   ]
  },
  {
   "cell_type": "code",
   "execution_count": 4,
   "id": "4822bad8-b458-4150-8552-ca8c03c15773",
   "metadata": {},
   "outputs": [
    {
     "name": "stdout",
     "output_type": "stream",
     "text": [
      "[12, 9, 7, 5, 4, 2]\n"
     ]
    }
   ],
   "source": [
    "def reverse_array(arr):\n",
    "    start = 0\n",
    "    end = len(arr)-1\n",
    "    \n",
    "    while start<end:\n",
    "        arr[start], arr[end] = arr[end], arr[start]  # Swap elements at the start and end indices\n",
    "        start += 1\n",
    "        end -= 1\n",
    "    \n",
    "    return arr\n",
    "#Driver Code\n",
    "#Gievn Array\n",
    "arr = [2, 4, 5, 7, 9, 12]\n",
    "result = reverse_array(arr)\n",
    "print(arr)"
   ]
  },
  {
   "cell_type": "raw",
   "id": "2765f42d-f874-4c07-8db6-04b5dc76112b",
   "metadata": {},
   "source": [
    "Problem 4. Given an array of integers, find the maximum element in an array\n",
    "arr = [10, 5, 20, 8, 15]\n",
    "Output = 20"
   ]
  },
  {
   "cell_type": "code",
   "execution_count": 5,
   "id": "1460f90a-f4be-47b5-8a6f-5d16bac94da3",
   "metadata": {},
   "outputs": [
    {
     "name": "stdout",
     "output_type": "stream",
     "text": [
      "20\n"
     ]
    }
   ],
   "source": [
    "#define max_element function\n",
    "def max_element(arr):\n",
    "    max_ele = arr[0]\n",
    "    for element in arr:\n",
    "        if element > max_ele:\n",
    "            max_ele = element\n",
    "    return max_ele\n",
    "\n",
    "# Driver Code\n",
    "# Given Array\n",
    "arr = [10, 5, 20, 8, 15]\n",
    "result = max_element(arr)\n",
    "print(result)\n"
   ]
  },
  {
   "cell_type": "raw",
   "id": "356fe642-d96e-4b6c-aa50-749379d0d5f0",
   "metadata": {},
   "source": [
    "Problem 5. Given a sorted array, remove the duplicate element without using any extra data structure.\n",
    "arr = [1, 1, 2, 2, 2, 3, 3, 4, 4, 4, 5, 5]\n",
    "Output = [1, 2, 3, 4, 5]"
   ]
  },
  {
   "cell_type": "code",
   "execution_count": 6,
   "id": "f6b4a11a-0a7d-44f3-81b8-c04e57a269f5",
   "metadata": {},
   "outputs": [
    {
     "name": "stdout",
     "output_type": "stream",
     "text": [
      "[1, 1, 2, 2, 2, 3]\n"
     ]
    }
   ],
   "source": [
    "def remove_duplicate(arr):\n",
    "    for i in arr:\n",
    "        if i==i:\n",
    "            arr.pop()\n",
    "    return arr\n",
    "\n",
    "# Driver Code\n",
    "# Given Array\n",
    "arr = [1, 1, 2, 2, 2, 3, 3, 4, 4, 4, 5, 5]\n",
    "result = remove_duplicate(arr)\n",
    "print(result)"
   ]
  },
  {
   "cell_type": "code",
   "execution_count": null,
   "id": "bd5f5e1f-31a6-4753-b363-d04e1dd9f5ee",
   "metadata": {},
   "outputs": [],
   "source": []
  }
 ],
 "metadata": {
  "kernelspec": {
   "display_name": "Python 3 (ipykernel)",
   "language": "python",
   "name": "python3"
  },
  "language_info": {
   "codemirror_mode": {
    "name": "ipython",
    "version": 3
   },
   "file_extension": ".py",
   "mimetype": "text/x-python",
   "name": "python",
   "nbconvert_exporter": "python",
   "pygments_lexer": "ipython3",
   "version": "3.10.8"
  }
 },
 "nbformat": 4,
 "nbformat_minor": 5
}
