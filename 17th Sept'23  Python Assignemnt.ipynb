{
 "cells": [
  {
   "cell_type": "markdown",
   "id": "f9ae65cc-0a8e-4c78-b874-9abd9233069c",
   "metadata": {},
   "source": [
    "# FOR LOOP--->\n",
    "\n",
    "Question 1. Write a Python program to print numbers from 1 to 10 using a for loop.\n"
   ]
  },
  {
   "cell_type": "code",
   "execution_count": 1,
   "id": "c9c1e266-adc9-47cf-a28b-7cde8402e243",
   "metadata": {},
   "outputs": [
    {
     "name": "stdout",
     "output_type": "stream",
     "text": [
      "1 2 3 4 5 6 7 8 9 10 "
     ]
    }
   ],
   "source": [
    "for i in range(1,11):\n",
    "    print(i, end=\" \")"
   ]
  },
  {
   "cell_type": "markdown",
   "id": "3951901f-6076-44ab-bbd7-98d62878881b",
   "metadata": {},
   "source": [
    "Question 2. Explain the difference between a for loop and a while loop in Python."
   ]
  },
  {
   "cell_type": "raw",
   "id": "dad5990b-f697-4ead-acb6-40431d5c9590",
   "metadata": {},
   "source": [
    " for loops are used when you know the number of iterations in advance or when you want to iterate over a sequence,\n",
    "    \n",
    " Example- \n",
    " numbers = [1, 2, 3, 4, 5]\n",
    " for num in numbers:\n",
    "     print(num)\n",
    "\n",
    "    \n",
    "    \n",
    "    \n",
    " while,  while loops are used when you need to repeat a block of code until a specific condition is met or becomes \n",
    " False. The choice between them depends on the specific requirements of your program or task.\n",
    " \n",
    " Example:- \n",
    " count = 0\n",
    " while count < 5:\n",
    "     print(count)\n",
    "     count += 1\n"
   ]
  },
  {
   "cell_type": "markdown",
   "id": "f174fc3a-d937-4dae-892d-e8475207f6bb",
   "metadata": {},
   "source": [
    "Question 3. Write a Python program to calculate the sum of all numbers from 1 to 100 using a for loop.\n"
   ]
  },
  {
   "cell_type": "code",
   "execution_count": 3,
   "id": "c164b839-37bc-47d1-9372-db5d2d8102dc",
   "metadata": {},
   "outputs": [
    {
     "name": "stdout",
     "output_type": "stream",
     "text": [
      "Total sum is :  5050\n"
     ]
    }
   ],
   "source": [
    "summation = 0\n",
    "for i in range(1,101):\n",
    "    summation += i\n",
    "    \n",
    "print(\"Total sum is : \",summation)"
   ]
  },
  {
   "cell_type": "raw",
   "id": "a54ba8ab-8b6b-4280-892f-7816474294a6",
   "metadata": {},
   "source": [
    "Question 4. How do you iterate through a list using a for loop in Python?"
   ]
  },
  {
   "cell_type": "code",
   "execution_count": null,
   "id": "01502deb-3c06-4709-b78e-de4558ca4d4f",
   "metadata": {},
   "outputs": [],
   "source": [
    "We can iterate through a list using a for loop in Python by following these steps:\n",
    "\n",
    "1. Define a list that you want to iterate through.\n",
    "\n",
    "2. Use the `for` keyword followed by a loop variable (you can choose any valid variable name) that will represent each item in the list during each iteration.\n",
    "\n",
    "3. Use the `in` keyword followed by the list you want to iterate through.\n",
    "\n",
    "4. Indent the code block that you want to execute within the loop. This code block will be executed for each item in the list.\n",
    "\n",
    "Example:\n",
    "\n",
    "fruits = [\"apple\", \"banana\", \"cherry\"]\n",
    "\n",
    "for fruit in fruits:\n",
    "    print(fruit)\n",
    "\n",
    "\n",
    "In this example, the for loop iterates through the \"fruits\" list, and in each iteration, the \"fruit\" variable takes on the value of the current item in the list. The `print(fruit)` statement then prints each fruit name one by one.\n",
    "\n",
    "When you run this code, the output will be:\n",
    "\n",
    "```\n",
    "apple\n",
    "banana\n",
    "cherry\n",
    "```\n",
    "\n",
    "The loop continues until all items in the list have been processed. This is a simple way to iterate through a list in Python using a for loop."
   ]
  },
  {
   "cell_type": "markdown",
   "id": "eaf5bcc4-1061-47d0-b196-bda6db2bd80f",
   "metadata": {},
   "source": [
    "Question 5. Write a Python program to find the product of all elements in a list using a for loop."
   ]
  },
  {
   "cell_type": "code",
   "execution_count": 2,
   "id": "589c953e-46da-4004-ab36-c9c8a4e69b75",
   "metadata": {},
   "outputs": [
    {
     "name": "stdout",
     "output_type": "stream",
     "text": [
      "Product of all elements in the list is :  24\n"
     ]
    }
   ],
   "source": [
    "li = [2,3,4]\n",
    "\n",
    "mul = 1\n",
    "\n",
    "for i in li:\n",
    "    mul *= i\n",
    "    \n",
    "print(\"Product of all elements in the list is : \", mul)"
   ]
  },
  {
   "cell_type": "markdown",
   "id": "737f8a0e-8978-4e4e-8665-818c1db3a811",
   "metadata": {},
   "source": [
    "Question 6. Create a Python program that prints all even numbers from 1 to 20 using a for loop."
   ]
  },
  {
   "cell_type": "code",
   "execution_count": 3,
   "id": "2d412538-ec34-4d3b-bda8-0ff6ca4929b5",
   "metadata": {},
   "outputs": [
    {
     "name": "stdout",
     "output_type": "stream",
     "text": [
      "2 4 6 8 10 12 14 16 18 20 "
     ]
    }
   ],
   "source": [
    "for i in range(1,21):\n",
    "    if i%2==0:\n",
    "        print(i, end=\" \")"
   ]
  },
  {
   "cell_type": "markdown",
   "id": "680d3656-8b5e-4373-8953-d65193434ee0",
   "metadata": {},
   "source": [
    "Question 7. Write a Python program that calculates the factorial of a number using a for loop."
   ]
  },
  {
   "cell_type": "code",
   "execution_count": 7,
   "id": "32e6fdb0-a8b5-415f-90ff-fb1c769fb670",
   "metadata": {},
   "outputs": [
    {
     "name": "stdin",
     "output_type": "stream",
     "text": [
      "Enter number :  6\n"
     ]
    },
    {
     "data": {
      "text/plain": [
       "720"
      ]
     },
     "execution_count": 7,
     "metadata": {},
     "output_type": "execute_result"
    }
   ],
   "source": [
    "a = int(input(\"Enter number : \"))\n",
    "\n",
    "def fact(a):\n",
    "    if a == 1:\n",
    "        return a\n",
    "    else:\n",
    "        return a*fact(a-1)\n",
    "    \n",
    "fact(a)"
   ]
  },
  {
   "cell_type": "markdown",
   "id": "b92a11d5-f125-448f-89e9-968fd5ebd7f1",
   "metadata": {},
   "source": [
    "Question 8. How can you iterate through the characters of a string using a for loop in Python?"
   ]
  },
  {
   "cell_type": "raw",
   "id": "30951b18-5dac-4c15-8f76-08d0edaf8969",
   "metadata": {},
   "source": [
    "You can iterate through the characters of a string using a for loop in Python by treating the string as an iterable sequence of characters. \n",
    "\n",
    "\n",
    "Example:\n",
    "'''    \n",
    "my_string = \"Hello, World!\"\n",
    "\n",
    "for char in my_string:\n",
    "    print(char)\n",
    "'''\n",
    "\n",
    "This code will iterate through each character in the my_string variable and print it to the console"
   ]
  },
  {
   "cell_type": "markdown",
   "id": "14d4cda5-8dbe-4083-a51d-af9d601c841e",
   "metadata": {},
   "source": [
    "Question 9. Write a Python program to find the largest number in a list using a for loop."
   ]
  },
  {
   "cell_type": "code",
   "execution_count": 10,
   "id": "fe2f7c66-6d2c-4591-b132-dd8cebff0761",
   "metadata": {},
   "outputs": [
    {
     "name": "stdout",
     "output_type": "stream",
     "text": [
      "Greatest Element in list is :  51\n"
     ]
    }
   ],
   "source": [
    "li = [1,51,8,6,3,9,4,0]\n",
    "\n",
    "max_ele = li[0]\n",
    "\n",
    "for i in li:\n",
    "    if i > max_ele:\n",
    "        max_ele = i\n",
    "        \n",
    "print(\"Greatest Element in list is : \", max_ele)"
   ]
  },
  {
   "cell_type": "markdown",
   "id": "689e4a47-a97b-4ea0-b517-403566e02cd0",
   "metadata": {},
   "source": [
    "Question 10. Create a Python program that prints the Fibonacci sequence up to a specified limit using a for loop."
   ]
  },
  {
   "cell_type": "code",
   "execution_count": 4,
   "id": "971f8ef3-f963-458c-b7e4-5985504424ba",
   "metadata": {},
   "outputs": [
    {
     "name": "stdin",
     "output_type": "stream",
     "text": [
      "Enter to get fibonacci number :  6\n"
     ]
    },
    {
     "name": "stdout",
     "output_type": "stream",
     "text": [
      "0 1 1 2 3 5 8 "
     ]
    }
   ],
   "source": [
    "a=0\n",
    "b=1\n",
    "\n",
    "c = int(input(\"Enter to get fibonacci number : \"))\n",
    "\n",
    "for i in range(0,c+1):\n",
    "    if i==0:\n",
    "        print(\"0\", end=\" \")\n",
    "    elif i==1:\n",
    "        print(\"1\", end=\" \")\n",
    "    else:\n",
    "        num=a+b\n",
    "        a=b\n",
    "        b=num\n",
    "        print(num, end=\" \")"
   ]
  },
  {
   "cell_type": "markdown",
   "id": "45e5ce4c-44c0-4cfa-b03e-1fd8020e0624",
   "metadata": {},
   "source": [
    "Question 11. Write a Python program to count the number of vowels in a given string using a for loop."
   ]
  },
  {
   "cell_type": "code",
   "execution_count": 7,
   "id": "301f3a56-18ee-49b7-8bc2-f030344360f5",
   "metadata": {},
   "outputs": [
    {
     "name": "stdout",
     "output_type": "stream",
     "text": [
      "Total Vowels present in the string is :  17\n"
     ]
    }
   ],
   "source": [
    "s = \"India is a great country and have enough money\"\n",
    "vowel_list = ['a','e','i','o','u','A','E','I','O','U']\n",
    "count_vowel=0\n",
    "\n",
    "for i in s:\n",
    "    if i in vowel_list:\n",
    "        count_vowel += 1\n",
    "    \n",
    "print(\"Total Vowels present in the string is : \", count_vowel)\n",
    "        "
   ]
  },
  {
   "cell_type": "markdown",
   "id": "e91770fe-7600-4566-b671-5d5033d90dd6",
   "metadata": {},
   "source": [
    "Question 12. Create a Python program that generates a multiplication table for a given number using a for loop"
   ]
  },
  {
   "cell_type": "code",
   "execution_count": 9,
   "id": "29598045-a290-4782-9bdd-174f009ead52",
   "metadata": {},
   "outputs": [
    {
     "name": "stdin",
     "output_type": "stream",
     "text": [
      "Enter number :  6\n"
     ]
    },
    {
     "name": "stdout",
     "output_type": "stream",
     "text": [
      "6 * 1  =  6\n",
      "6 * 2  =  12\n",
      "6 * 3  =  18\n",
      "6 * 4  =  24\n",
      "6 * 5  =  30\n",
      "6 * 6  =  36\n",
      "6 * 7  =  42\n",
      "6 * 8  =  48\n",
      "6 * 9  =  54\n",
      "6 * 10  =  60\n"
     ]
    }
   ],
   "source": [
    "a = int(input(\"Enter number : \"))\n",
    "\n",
    "for i in range(1,11):\n",
    "    result = a*i\n",
    "    print(a, '*' ,i, ' = ', result)"
   ]
  },
  {
   "cell_type": "markdown",
   "id": "312550bd-3c1c-4982-96d0-d81f0c241bd1",
   "metadata": {},
   "source": [
    "Question 13. Write a Python program to reverse a list using a for loop."
   ]
  },
  {
   "cell_type": "code",
   "execution_count": 10,
   "id": "2d4835f8-bd0c-4049-9d48-9a6fcf327ec1",
   "metadata": {},
   "outputs": [
    {
     "name": "stdout",
     "output_type": "stream",
     "text": [
      "Reversed list is :  [54.67, 'Raj', 'Amit', 4, 3, 2, 1]\n"
     ]
    }
   ],
   "source": [
    "li = [1,2,3,4, 'Amit', 'Raj', 54.67]\n",
    "\n",
    "reverse_li = []\n",
    "for i in reversed(li):\n",
    "    reverse_li.append(i)\n",
    "print(\"Reversed list is : \", reverse_li)\n",
    "    "
   ]
  },
  {
   "cell_type": "markdown",
   "id": "fefe3415-7c56-4b74-8487-2547cc7114fa",
   "metadata": {},
   "source": [
    "Question 14.Write a Python program to find the common elements between two lists using a for loop."
   ]
  },
  {
   "cell_type": "code",
   "execution_count": 22,
   "id": "8195c968-06a8-403d-8d44-8d6e3e2c88c2",
   "metadata": {},
   "outputs": [
    {
     "name": "stdout",
     "output_type": "stream",
     "text": [
      "1 2 3 A b k "
     ]
    }
   ],
   "source": [
    "# l1 = [1,2,3,4,5,\"A\", 'b', 45.5]\n",
    "# l2 = [3,2,1,\"Aashu\", 'c', 'b',0, \"A\"]\n",
    "\n",
    "# for i in l1:\n",
    "#     for j in l2:\n",
    "#         if i == j:\n",
    "#             print(i, end=\" \")\n",
    "#             break\n",
    "\n",
    "\n",
    "l1 = [1,2,3,4,5,\"A\", 'b', 45.5,'k']\n",
    "l2 = [3,2,1,\"Aashu\", 'c', 'b',0, \"A\",'k']\n",
    "\n",
    "for i in l1:\n",
    "    if i in l2:\n",
    "        print(i, end=\" \")\n",
    "        "
   ]
  },
  {
   "cell_type": "markdown",
   "id": "d8464a04-438a-4e3a-a4a1-3404d4307402",
   "metadata": {},
   "source": [
    "Question 15. Explain how to use a for loop to iterate through the keys and values of a dictionary in Python."
   ]
  },
  {
   "cell_type": "code",
   "execution_count": 1,
   "id": "54d18bfe-a0af-4dd0-9b40-4a2fcfea1892",
   "metadata": {},
   "outputs": [
    {
     "name": "stdout",
     "output_type": "stream",
     "text": [
      "Key: a, Value: 1\n",
      "Key: b, Value: 2\n",
      "Key: c, Value: 3\n",
      "Key: d, Value: 4\n"
     ]
    }
   ],
   "source": [
    "#my dictionary\n",
    "my_dict = {'a': 1, 'b': 2, 'c': 3, 'd': 4}\n",
    "\n",
    "# Iterate through the keys and values using a for loop\n",
    "for key, value in my_dict.items():\n",
    "    print(f'Key: {key}, Value: {value}')\n",
    "    \n",
    "    \n",
    "   \n",
    "#Explanation\n",
    "\n",
    "# 1. We define a dictionary called my_dict with key-value pairs.\n",
    "# 2. We use a for loop to iterate through the dictionary using the .items() method. The .items() method returns a sequence of tuples, where each tuple contains a key-value pair from the dictionary.\n",
    "# 3. Inside the loop, we unpack each tuple into key and value variables, allowing us to access both the key and the corresponding value in each iteration.\n",
    "# 4. We then print the key and value in a formatted way, such as \"Key: a, Value: 1\" for the first iteration, and so on.\n",
    "# 5. This loop allows you to process both the keys and values of the dictionary, making it a convenient way to work with the data stored in a dictionary.\n",
    "\n",
    "\n",
    "\n",
    "\n"
   ]
  },
  {
   "cell_type": "markdown",
   "id": "2271ea84-e751-4fe5-a516-02ea235353af",
   "metadata": {},
   "source": [
    "Question 16. Write a Python program to find the GCD (Greatest Common Divisor) of two numbers using a for loop."
   ]
  },
  {
   "cell_type": "code",
   "execution_count": 28,
   "id": "8e5b9920-5730-436e-9737-3a1630ff8230",
   "metadata": {},
   "outputs": [
    {
     "name": "stdin",
     "output_type": "stream",
     "text": [
      "Enter 1st number :  16\n",
      "Enter 2nd number :  12\n"
     ]
    },
    {
     "name": "stdout",
     "output_type": "stream",
     "text": [
      "The GCD of 16 and 12 is 4\n"
     ]
    }
   ],
   "source": [
    "a = int(input(\"Enter 1st number : \"))\n",
    "b = int(input(\"Enter 2nd number : \"))\n",
    "\n",
    "min_num = min(a,b)\n",
    "\n",
    "gcd=1\n",
    "\n",
    "for i in range(1,min_num+1):\n",
    "    if a%i==0 and b%i==0:\n",
    "        gcd=i\n",
    "    \n",
    "print(f\"The GCD of {a} and {b} is {gcd}\")"
   ]
  },
  {
   "cell_type": "markdown",
   "id": "fbdaa372-8c62-4920-96d0-8502c25a9f41",
   "metadata": {},
   "source": [
    "Question 17. Create a Python program that checks if a string is a palindrome using a for loop."
   ]
  },
  {
   "cell_type": "code",
   "execution_count": 7,
   "id": "0551139d-bcd4-4060-9096-5b91ebb5cea2",
   "metadata": {},
   "outputs": [
    {
     "name": "stdin",
     "output_type": "stream",
     "text": [
      "Enter string  Aashu\n"
     ]
    },
    {
     "name": "stdout",
     "output_type": "stream",
     "text": [
      "it is not palindrom\n"
     ]
    }
   ],
   "source": [
    "def is_palindrom(s1):\n",
    "    s2 = ' '.join(s1.split()).lower()\n",
    "    \n",
    "    is_palindrom = True\n",
    "    for i in range(len(s1)//2):\n",
    "        if s2[i] != s2[-i-1]:\n",
    "            is_palindrom = False\n",
    "            break\n",
    "    return is_palindrom\n",
    "        \n",
    "s1 = input(\"Enter string \")\n",
    "\n",
    "if is_palindrom(s1):\n",
    "    print(\"Yes it is palindrom\")\n",
    "else:\n",
    "    print(\"it is not palindrom\")"
   ]
  },
  {
   "cell_type": "markdown",
   "id": "1c9f92ce-3241-44e8-90ee-e509997d94f0",
   "metadata": {},
   "source": [
    "Question 18. Write a Python program to remove duplicates from a list using a for loop."
   ]
  },
  {
   "cell_type": "code",
   "execution_count": 9,
   "id": "2d3182bb-faff-4948-a9dc-c2f1ad2b952d",
   "metadata": {},
   "outputs": [
    {
     "name": "stdout",
     "output_type": "stream",
     "text": [
      "[2, 3, 4, 5, 6, 7, 5, 4, 3, 9, 0, 87, 56, 67]\n",
      "[2, 3, 4, 5, 6, 7, 9, 0, 87, 56, 67]\n"
     ]
    }
   ],
   "source": [
    "def remove_duplicates(l):\n",
    "    unique_list = []\n",
    "    for i in l:\n",
    "        if i not in unique_list:\n",
    "            unique_list.append(i)\n",
    "    return unique_list\n",
    "\n",
    "l = [2,3,4,5,6,7,5,4,3,9,0,87,56,67]\n",
    "res = remove_duplicates(l)\n",
    "\n",
    "print(\"list with duplicates value : \",l)\n",
    "print(\"list without duplicates value : \",res)"
   ]
  },
  {
   "cell_type": "markdown",
   "id": "8e02a58d-6839-421e-97b2-e51dc84bd234",
   "metadata": {},
   "source": [
    "Question 19 Create a Python program that counts the number of words in a sentence using a for loop"
   ]
  },
  {
   "cell_type": "code",
   "execution_count": 11,
   "id": "d3ab4996-7b28-401c-8a99-22a4b533dd2e",
   "metadata": {},
   "outputs": [
    {
     "name": "stdin",
     "output_type": "stream",
     "text": [
      "Enter sentence :  Amit Raj is learning Data Science program batch\n"
     ]
    },
    {
     "name": "stdout",
     "output_type": "stream",
     "text": [
      "Total word in a sentence is :  8\n"
     ]
    }
   ],
   "source": [
    "def sentence_count(s):\n",
    "    sen_count=0\n",
    "    \n",
    "    for char in s:\n",
    "        if char == ' ' or char == '/n':\n",
    "            sen_count += 1\n",
    "     \n",
    "    #for last word add 1 to sen_count\n",
    "    sen_count += 1\n",
    "    return sen_count\n",
    "    \n",
    "\n",
    "\n",
    "s=input(\"Enter sentence : \")\n",
    "res = sentence_count(s)\n",
    "print(\"Total word in a sentence is : \", res)"
   ]
  },
  {
   "cell_type": "markdown",
   "id": "2042dfb2-64fb-4fab-9ddb-c61ccde60b2a",
   "metadata": {},
   "source": [
    "Question 20.Write a Python program to find the sum of all odd numbers from 1 to 50 using a for loop."
   ]
  },
  {
   "cell_type": "code",
   "execution_count": 14,
   "id": "445365c9-2e2d-4eff-9425-0b5b6771c895",
   "metadata": {},
   "outputs": [
    {
     "name": "stdout",
     "output_type": "stream",
     "text": [
      "Total Odd Sum from 1 to 50 is :  625\n"
     ]
    }
   ],
   "source": [
    "sum_of_odd_numbers=0\n",
    "for i in range(1,51):\n",
    "    if i%2!=0:\n",
    "        sum_of_odd_numbers += i\n",
    "print(\"Total Odd Sum from 1 to 50 is : \",sum_of_odd_numbers)"
   ]
  },
  {
   "cell_type": "markdown",
   "id": "72f6d952-4d1a-4e8f-8436-cc0672c9dac9",
   "metadata": {},
   "source": [
    "Question 21. Write a Python program that checks if a given year is a leap year using a for loop."
   ]
  },
  {
   "cell_type": "code",
   "execution_count": 19,
   "id": "24174ea2-3c8a-4e9f-945b-23ed18d5e96b",
   "metadata": {},
   "outputs": [
    {
     "name": "stdin",
     "output_type": "stream",
     "text": [
      "Enter year to check it is leap year or not :  2030\n"
     ]
    },
    {
     "name": "stdout",
     "output_type": "stream",
     "text": [
      "It is not leap year\n"
     ]
    }
   ],
   "source": [
    "def leap_year(s):\n",
    "    if (s%4==0 and s%100!=0) or (s%400==0):\n",
    "        return True\n",
    "    return False\n",
    "\n",
    "s = int(input(\"Enter year to check it is leap year or not : \"))\n",
    "res = leap_year(s)\n",
    "if leap_year(s):\n",
    "    print(\"It is leap Year\")\n",
    "else:\n",
    "    print(\"It is not leap year\")"
   ]
  },
  {
   "cell_type": "markdown",
   "id": "5cc03a03-e3b1-4d31-b3cf-f0d1a2329ab1",
   "metadata": {},
   "source": [
    "Question 22. Create a Python program that calculates the square root of a number using a for loop."
   ]
  },
  {
   "cell_type": "code",
   "execution_count": 3,
   "id": "cd689115-8bc6-44a5-8984-f7490d580964",
   "metadata": {},
   "outputs": [
    {
     "name": "stdin",
     "output_type": "stream",
     "text": [
      "Enter a number to calculate its square root:  32\n"
     ]
    },
    {
     "name": "stdout",
     "output_type": "stream",
     "text": [
      "The square root of 32.0 is approximately 5.65685\n"
     ]
    }
   ],
   "source": [
    "def calculate_square_root(number):\n",
    "    if number < 0:\n",
    "        print(\"Error: Square root is undefined for negative numbers\")\n",
    "        return\n",
    "\n",
    "    guess = number / 2  # Initial guess\n",
    "\n",
    "    for _ in range(10):  # Use a fixed number of iterations (adjust as needed)\n",
    "        guess = 0.5 * (guess + number / guess)\n",
    "\n",
    "    print(\"The square root of {} is approximately {:.5f}\".format(number, guess))\n",
    "\n",
    "num = float(input(\"Enter a number to calculate its square root: \"))\n",
    "calculate_square_root(num)\n"
   ]
  },
  {
   "cell_type": "markdown",
   "id": "61723da1-802c-4ca1-ac8a-3a183103f5e5",
   "metadata": {},
   "source": [
    "Question 23.Write a Python program to find the LCM (Least Common Multiple) of two numbers using a for loop."
   ]
  },
  {
   "cell_type": "code",
   "execution_count": 24,
   "id": "91589f99-96ab-4828-a708-880e147d86f3",
   "metadata": {},
   "outputs": [
    {
     "name": "stdin",
     "output_type": "stream",
     "text": [
      "Enter number a :  12\n",
      "Enter number b :  8\n"
     ]
    },
    {
     "name": "stdout",
     "output_type": "stream",
     "text": [
      "The LCM is  24\n",
      "The HCF is  4\n"
     ]
    }
   ],
   "source": [
    "def find_gcd(x, y):\n",
    "    while y != 0:\n",
    "        x, y = y,x%y\n",
    "    return x\n",
    "\n",
    "def find_lcm(a,b):\n",
    "    product = a*b\n",
    "    \n",
    "    gcd = find_gcd(a,b)\n",
    "    \n",
    "    lcm = product//gcd\n",
    "    \n",
    "    return lcm\n",
    "\n",
    "a=int(input(\"Enter number a : \"))\n",
    "b=int(input(\"Enter number b : \"))\n",
    "\n",
    "lcm = find_lcm(a,b)\n",
    "print(\"The LCM is \", lcm)\n",
    "gcd = find_gcd(a,b)\n",
    "print(\"The HCF is \",gcd)"
   ]
  },
  {
   "cell_type": "code",
   "execution_count": null,
   "id": "2a2fe013-074d-46bc-88e6-8ad4917c0008",
   "metadata": {},
   "outputs": [],
   "source": [
    "\n",
    "\n",
    "\n"
   ]
  },
  {
   "cell_type": "markdown",
   "id": "24940d01-aea1-4e4c-9f8b-deacaf7b2b22",
   "metadata": {},
   "source": [
    "# IF -ELSE"
   ]
  },
  {
   "cell_type": "markdown",
   "id": "a0b2a370-2f8b-43c5-8696-481a113412d7",
   "metadata": {},
   "source": [
    "Question 1.Write a Python program to check if a number is positive, negative, or zero using an if-else statement."
   ]
  },
  {
   "cell_type": "code",
   "execution_count": 27,
   "id": "6a92b4fb-e051-4734-8647-e3cd351c2eb6",
   "metadata": {},
   "outputs": [
    {
     "name": "stdin",
     "output_type": "stream",
     "text": [
      "Enter a number :  -5\n"
     ]
    },
    {
     "name": "stdout",
     "output_type": "stream",
     "text": [
      "Number is Negative\n"
     ]
    }
   ],
   "source": [
    "a = int(input(\"Enter a number : \"))\n",
    "\n",
    "if a==0:\n",
    "    print(\"Number is Zero\")\n",
    "elif a>0:\n",
    "    print(\"number is Positive\")\n",
    "else:\n",
    "    print(\"Number is Negative\")"
   ]
  },
  {
   "cell_type": "markdown",
   "id": "4e868483-6156-45e0-8738-d2a36ab288bd",
   "metadata": {},
   "source": [
    "Question 2. Create a Python program that checks if a given number is even or odd using an if-else statement."
   ]
  },
  {
   "cell_type": "code",
   "execution_count": 29,
   "id": "56d669c3-9ebb-485f-8f2a-390933a11b37",
   "metadata": {},
   "outputs": [
    {
     "name": "stdin",
     "output_type": "stream",
     "text": [
      "Enter a number :  59\n"
     ]
    },
    {
     "name": "stdout",
     "output_type": "stream",
     "text": [
      "Odd Number\n"
     ]
    }
   ],
   "source": [
    "a = int(input(\"Enter a number : \"))\n",
    "if a%2==0:\n",
    "    print(\"Even Number\")\n",
    "else:\n",
    "    print(\"Odd Number\")"
   ]
  },
  {
   "cell_type": "markdown",
   "id": "a8dfd260-de44-496b-ade4-16fb73800893",
   "metadata": {},
   "source": [
    "Question 3.How can you use nested if-else statements in Python, and provide an example?"
   ]
  },
  {
   "cell_type": "code",
   "execution_count": 31,
   "id": "96acaeb8-face-4c93-9cd9-b7d68d2710bc",
   "metadata": {},
   "outputs": [
    {
     "name": "stdin",
     "output_type": "stream",
     "text": [
      "Enter your age:  6\n"
     ]
    },
    {
     "name": "stdout",
     "output_type": "stream",
     "text": [
      "You are not eligible to drive.\n"
     ]
    }
   ],
   "source": [
    "'''\n",
    "Nested if-else statements in Python allow you to have one if-else statement inside another if-else statement.\n",
    "This is useful when you need to check multiple conditions and perform different actions based on combinations\n",
    "of these conditions. You can nest if-else statements as deep as needed to handle your specific logic.\n",
    "'''\n",
    "#Exaple :- \n",
    "age = int(input(\"Enter your age: \"))\n",
    "\n",
    "if age >= 18:\n",
    "    has_license = input(\"Do you have a driver's license? (yes/no): \").lower()\n",
    "    if has_license == \"yes\":\n",
    "        print(\"You are eligible to drive.\")\n",
    "    else:\n",
    "        print(\"You are eligible to apply for a driver's license.\")\n",
    "else:\n",
    "    print(\"You are not eligible to drive.\")\n",
    "\n",
    "\n"
   ]
  },
  {
   "cell_type": "markdown",
   "id": "f6e06964-d28b-4af9-80a2-2887bbd3c3e9",
   "metadata": {},
   "source": [
    "Question 4.Write a Python program to determine the largest of three numbers using if-else."
   ]
  },
  {
   "cell_type": "code",
   "execution_count": 32,
   "id": "6fc8d84b-c1a7-40b0-8481-3eaa600c11dd",
   "metadata": {},
   "outputs": [
    {
     "name": "stdin",
     "output_type": "stream",
     "text": [
      "Enter number a :  9\n",
      "Enter number b :  56\n",
      "Enter number c :  2\n"
     ]
    },
    {
     "name": "stdout",
     "output_type": "stream",
     "text": [
      "B is Largest  56\n"
     ]
    }
   ],
   "source": [
    "a=int(input(\"Enter number a : \"))\n",
    "b=int(input(\"Enter number b : \"))\n",
    "c=int(input(\"Enter number c : \"))\n",
    "\n",
    "if a>b and b>c:\n",
    "    print(\"A is largesst \",a)\n",
    "elif b>c and b>a:\n",
    "    print(\"B is Largest \",b)\n",
    "else:\n",
    "    print(\"C is largest \",c)"
   ]
  },
  {
   "cell_type": "markdown",
   "id": "ead88b5e-38e9-42b4-862f-01fd1fc85f28",
   "metadata": {},
   "source": [
    "Question 5. Write a Python program that calculates the absolute value of a number using if-else."
   ]
  },
  {
   "cell_type": "code",
   "execution_count": 36,
   "id": "e90ca59e-c632-42da-be3b-27fbab68742f",
   "metadata": {},
   "outputs": [
    {
     "name": "stdin",
     "output_type": "stream",
     "text": [
      "Enter a number 5.6\n"
     ]
    },
    {
     "name": "stdout",
     "output_type": "stream",
     "text": [
      "5.6\n"
     ]
    }
   ],
   "source": [
    "a=float(input(\"Enter a number\"))\n",
    "\n",
    "if a>=0:\n",
    "    absolute_value = a\n",
    "    print(absolute_value)\n",
    "else:\n",
    "    absolute_value = -a\n",
    "    print(absolute_value)\n"
   ]
  },
  {
   "cell_type": "markdown",
   "id": "f3edc368-c8c0-490e-9952-371cbb7c9460",
   "metadata": {},
   "source": [
    "Question 6. Create a Python program that checks if a given character is a vowel or consonant using if-else."
   ]
  },
  {
   "cell_type": "code",
   "execution_count": 2,
   "id": "71c9c58e-41fd-4ade-a625-0bc17a5efca5",
   "metadata": {},
   "outputs": [
    {
     "name": "stdin",
     "output_type": "stream",
     "text": [
      "Enter a character :  e\n"
     ]
    },
    {
     "name": "stdout",
     "output_type": "stream",
     "text": [
      "It is Vowels\n"
     ]
    }
   ],
   "source": [
    "vowels = ['a','e','i','o','u', 'A','E','I','O','U']\n",
    "char = input(\"Enter a character : \")\n",
    "\n",
    "if char in vowels:\n",
    "        print('It is Vowels')\n",
    "else:\n",
    "    print(\"It is consonent\")"
   ]
  },
  {
   "cell_type": "markdown",
   "id": "0d0e5621-5601-4f86-a664-6f1315b37d6e",
   "metadata": {},
   "source": [
    "Question 7. Write a Python program to determine if a user is eligible to vote based on their age using if-else."
   ]
  },
  {
   "cell_type": "code",
   "execution_count": 6,
   "id": "8a31e565-9ff6-46aa-b979-ff8d486ac88d",
   "metadata": {},
   "outputs": [
    {
     "name": "stdin",
     "output_type": "stream",
     "text": [
      "Enter the age : 51\n"
     ]
    },
    {
     "name": "stdout",
     "output_type": "stream",
     "text": [
      "You can give vote\n"
     ]
    }
   ],
   "source": [
    "age = int(input(\"Enter the age :\"))\n",
    "\n",
    "if age>=18:\n",
    "    print(\"You can give vote\")\n",
    "else:\n",
    "    print(\"You are not eligible to give vote\")"
   ]
  },
  {
   "cell_type": "markdown",
   "id": "c9eb6286-845d-45be-9216-bc82a31f77a0",
   "metadata": {},
   "source": [
    "Question 8.Create a Python program that calculates the discount amount based on the purchase amount using if-else."
   ]
  },
  {
   "cell_type": "code",
   "execution_count": 9,
   "id": "4a51a3d8-3a76-4ffb-b1a7-1dbdffb5b479",
   "metadata": {},
   "outputs": [
    {
     "name": "stdin",
     "output_type": "stream",
     "text": [
      "Enter Purchased amount :  700\n"
     ]
    },
    {
     "name": "stdout",
     "output_type": "stream",
     "text": [
      "After dicount amount is :  665.0\n"
     ]
    }
   ],
   "source": [
    "Purchase_amount = float(input(\"Enter Purchased amount : \"))\n",
    "\n",
    "item_price1 = 100\n",
    "item_price1_discount = 0.05\n",
    "item_price2 = 500\n",
    "item_price2_discount = 0.10\n",
    "\n",
    "if item_price1>=100 and item_price1<500:\n",
    "    Purchase_amount = Purchase_amount - (Purchase_amount*item_price1_discount)\n",
    "    \n",
    "elif item_price2>=500:\n",
    "        Purchase_amount = Purchase_amount - (Purchase_amount*item_price2_discount)\n",
    "else:\n",
    "    print(\"No discoun Available\")\n",
    "    \n",
    "print(\"After dicount amount is : \",Purchase_amount)"
   ]
  },
  {
   "cell_type": "markdown",
   "id": "f3f2add2-eb21-40cf-aa32-3b76f0f2196a",
   "metadata": {},
   "source": [
    "Question 9.Write a Python program to check if a number is within a specified range using if-else"
   ]
  },
  {
   "cell_type": "code",
   "execution_count": 11,
   "id": "ffaa1aa7-80bc-46e0-9496-b5cc681dbce2",
   "metadata": {},
   "outputs": [
    {
     "name": "stdin",
     "output_type": "stream",
     "text": [
      "Enter amount :  121\n"
     ]
    },
    {
     "name": "stdout",
     "output_type": "stream",
     "text": [
      "Number is outside the range\n"
     ]
    }
   ],
   "source": [
    "num = float(input(\"Enter amount : \"))\n",
    "\n",
    "lower_num = 10\n",
    "upper_num = 100\n",
    "\n",
    "if num>= lower_num and num <= upper_num:\n",
    "    print(\"Number is within the range\")\n",
    "else:\n",
    "    print(\"Number is outside the range\")"
   ]
  },
  {
   "cell_type": "markdown",
   "id": "93d32973-cccf-4b4d-9a29-bb7907f4d26c",
   "metadata": {},
   "source": [
    "Question 10.Create a Python program that determines the grade of a student based on their score using if-else."
   ]
  },
  {
   "cell_type": "code",
   "execution_count": 13,
   "id": "6311834c-766c-4f42-aad7-eb82c8be7e71",
   "metadata": {},
   "outputs": [
    {
     "name": "stdin",
     "output_type": "stream",
     "text": [
      "Enter marks of the student :  93\n"
     ]
    },
    {
     "name": "stdout",
     "output_type": "stream",
     "text": [
      "Grade A\n"
     ]
    }
   ],
   "source": [
    "Student_marks = float(input(\"Enter marks of the student : \"))\n",
    "\n",
    "if Student_marks>= 90:\n",
    "    print(\"Grade A\")\n",
    "\n",
    "elif Student_marks>= 80 and Student_marks<90:\n",
    "    print(\"Grade B\")\n",
    "elif Student_marks>=70 and Student_marks<80:\n",
    "    print(\"Grade C\")\n",
    "elif Student_marks>=60 and Student_marks<70:\n",
    "    print(\"Grade D\")\n",
    "elif Student_marks>=33 and Student_marks<60:\n",
    "    print(\"Grade E\")\n",
    "else:\n",
    "    print(\"Fail\")"
   ]
  },
  {
   "cell_type": "markdown",
   "id": "de210806-6d8b-43f4-addd-2d4f7b0a3b8e",
   "metadata": {},
   "source": [
    "Question 11.Write a Python program to check if a string is empty or not using if-else."
   ]
  },
  {
   "cell_type": "code",
   "execution_count": 21,
   "id": "7a8ff00c-22b8-441e-998a-cb4416680381",
   "metadata": {},
   "outputs": [
    {
     "name": "stdin",
     "output_type": "stream",
     "text": [
      "Enter string :  o\n"
     ]
    },
    {
     "name": "stdout",
     "output_type": "stream",
     "text": [
      "String is not empty\n"
     ]
    }
   ],
   "source": [
    "string = input(\"Enter string : \")\n",
    "\n",
    "if string:\n",
    "    print(\"String is not empty\")\n",
    "else:\n",
    "    print(\"String is empty\")"
   ]
  },
  {
   "cell_type": "markdown",
   "id": "c490c19b-7324-4e2b-90ba-559563726f7b",
   "metadata": {},
   "source": [
    "Question 12. Create a Python program that identifies the type of a triangle (e.g., equilateral, isosceles, or scalene) based on input values using if-else."
   ]
  },
  {
   "cell_type": "code",
   "execution_count": 6,
   "id": "560756fd-881a-428f-9ef6-20196da492c4",
   "metadata": {},
   "outputs": [
    {
     "name": "stdin",
     "output_type": "stream",
     "text": [
      "Enter the length of side 1:  5\n",
      "Enter the length of side 2:  5\n",
      "Enter the length of side 3:  5\n"
     ]
    },
    {
     "name": "stdout",
     "output_type": "stream",
     "text": [
      "The triangle with sides 5.0, 5.0, 5.0 is a Equilateral Triangle\n"
     ]
    }
   ],
   "source": [
    " def identify_triangle_type(side1, side2, side3):\n",
    "    if side1 <= 0 or side2 <= 0 or side3 <= 0:\n",
    "        return \"Invalid input: All sides must be positive\"\n",
    "\n",
    "    if side1 == side2 == side3:\n",
    "        return \"Equilateral Triangle\"\n",
    "    elif side1 == side2 or side2 == side3 or side1 == side3:\n",
    "        return \"Isosceles Triangle\"\n",
    "    else:\n",
    "        return \"Scalene Triangle\"\n",
    "\n",
    "\n",
    "side1 = float(input(\"Enter the length of side 1: \"))\n",
    "side2 = float(input(\"Enter the length of side 2: \"))\n",
    "side3 = float(input(\"Enter the length of side 3: \"))\n",
    "\n",
    "triangle_type = identify_triangle_type(side1, side2, side3)\n",
    "print(f\"The triangle with sides {side1}, {side2}, {side3} is a {triangle_type}\")\n",
    "\n"
   ]
  },
  {
   "cell_type": "markdown",
   "id": "629ac17b-80ba-42bd-9ee1-9d75397530f1",
   "metadata": {},
   "source": [
    "13. Write a Python program to determine the day of the week based on a user-provided number using if-else."
   ]
  },
  {
   "cell_type": "code",
   "execution_count": 8,
   "id": "791cca30-d3e1-4d62-897a-0febd6968c53",
   "metadata": {},
   "outputs": [
    {
     "name": "stdin",
     "output_type": "stream",
     "text": [
      "Enter the day number of the week (1-7):  6\n"
     ]
    },
    {
     "name": "stdout",
     "output_type": "stream",
     "text": [
      "The day of the week is: Saturday\n"
     ]
    }
   ],
   "source": [
    "def day_of_week(day):\n",
    "    week_days = [\"Monday\", \"Tuesday\", \"Wednesday\", \"Thursday\", \"Friday\", \"Saturday\", \"Sunday\"]\n",
    "\n",
    "    if 1 <= day <= 7:\n",
    "        return week_days[day - 1]\n",
    "    else:\n",
    "        return \"Invalid day number. Please enter a number between 1 and 7.\"\n",
    "\n",
    "\n",
    "day = int(input(\"Enter the day number of the week (1-7): \"))\n",
    "result = day_of_week(day)\n",
    "print(\"The day of the week is:\", result)\n",
    "\n"
   ]
  },
  {
   "cell_type": "markdown",
   "id": "56271733-1f20-4036-b9a2-e580c14cc85d",
   "metadata": {},
   "source": [
    "14. Create a Python program that checks if a given year is a leap year using both if-else and a function."
   ]
  },
  {
   "cell_type": "code",
   "execution_count": 17,
   "id": "7b61a8ee-9c10-4c93-bd71-edad356a1d2b",
   "metadata": {},
   "outputs": [
    {
     "name": "stdin",
     "output_type": "stream",
     "text": [
      "Enter the Year:  2024\n"
     ]
    },
    {
     "name": "stdout",
     "output_type": "stream",
     "text": [
      "The 2024 is: Leap Year\n"
     ]
    }
   ],
   "source": [
    "def leap_year_or_not(year):\n",
    "    if (year % 4 == 0 and year % 100 != 0) or (year % 400 == 0):\n",
    "        return \"Leap Year\"\n",
    "    else:\n",
    "        return \"Not Leap Year\"\n",
    "\n",
    "year = int(input(\"Enter the Year: \"))\n",
    "result = leap_year_or_not(year)\n",
    "print(f\"The {year} is: {result}\")\n"
   ]
  },
  {
   "cell_type": "markdown",
   "id": "f66f6bdf-48d4-4d1d-8541-718482850b64",
   "metadata": {},
   "source": [
    "15. How do you use the \"assert\" statement in Python to add debugging checks within if-else blocks?"
   ]
  },
  {
   "cell_type": "code",
   "execution_count": 19,
   "id": "7b5cf2ab-52e2-493d-ad4c-2e7ce90262c1",
   "metadata": {},
   "outputs": [
    {
     "name": "stdin",
     "output_type": "stream",
     "text": [
      "Enter the numerator:  6\n",
      "Enter the denominator:  3\n"
     ]
    },
    {
     "name": "stdout",
     "output_type": "stream",
     "text": [
      "The result of 6.0 / 3.0 is: 2.0\n"
     ]
    }
   ],
   "source": [
    "def divide_numbers(a, b):\n",
    "    assert b != 0, \"Division by zero is not allowed\"\n",
    "    \n",
    "    result = a / b\n",
    "    return result\n",
    "\n",
    "num1 = float(input(\"Enter the numerator: \"))\n",
    "num2 = float(input(\"Enter the denominator: \"))\n",
    "\n",
    "quotient = divide_numbers(num1, num2)\n",
    "print(f\"The result of {num1} / {num2} is: {quotient}\")"
   ]
  },
  {
   "cell_type": "markdown",
   "id": "54b53992-2a7d-45f4-a142-245e4e1235f2",
   "metadata": {},
   "source": [
    "16. Create a Python program that determines the eligibility of a person for a senior citizen discount based on age using if-else."
   ]
  },
  {
   "cell_type": "code",
   "execution_count": 20,
   "id": "91d2eeef-17d2-46d3-b468-bdd8d9263f76",
   "metadata": {},
   "outputs": [
    {
     "name": "stdin",
     "output_type": "stream",
     "text": [
      "Enter your age:  61\n"
     ]
    },
    {
     "name": "stdout",
     "output_type": "stream",
     "text": [
      "You are Eligible for Senior Citizen Discount\n"
     ]
    }
   ],
   "source": [
    "def check_senior_citizen_discount(age):\n",
    "    senior_citizen_age_threshold = 60\n",
    "\n",
    "    if age >= senior_citizen_age_threshold:\n",
    "        return \"Eligible for Senior Citizen Discount\"\n",
    "    else:\n",
    "        return \"Not Eligible for Senior Citizen Discount\"\n",
    "\n",
    "\n",
    "age = int(input(\"Enter your age: \"))\n",
    "result = check_senior_citizen_discount(age)\n",
    "print(f\"You are {result}\")\n"
   ]
  },
  {
   "cell_type": "markdown",
   "id": "85521c9d-e54b-4b01-adb9-2c10174b041c",
   "metadata": {},
   "source": [
    "17. Write a Python program to categorize a given character as uppercase, lowercase, or neither using if-else."
   ]
  },
  {
   "cell_type": "code",
   "execution_count": 22,
   "id": "74548367-6034-4ddb-b5e1-82cbc8c90c04",
   "metadata": {},
   "outputs": [
    {
     "name": "stdin",
     "output_type": "stream",
     "text": [
      "Enter a character:  O\n"
     ]
    },
    {
     "name": "stdout",
     "output_type": "stream",
     "text": [
      "The character 'O' is: Uppercase\n"
     ]
    }
   ],
   "source": [
    "def categorize_character(char):\n",
    "    if char.isupper():\n",
    "        return \"Uppercase\"\n",
    "    elif char.islower():\n",
    "        return \"Lowercase\"\n",
    "    else:\n",
    "        return \"Neither (Not a letter)\"\n",
    "\n",
    "character = input(\"Enter a character: \")\n",
    "result = categorize_character(character)\n",
    "print(f\"The character '{character}' is: {result}\")\n"
   ]
  },
  {
   "cell_type": "markdown",
   "id": "d16722b9-e207-47de-904b-90c59973b699",
   "metadata": {},
   "source": [
    "18. Write a Python program to determine the roots of a quadratic equation using if-else."
   ]
  },
  {
   "cell_type": "code",
   "execution_count": 29,
   "id": "d3b30f4b-fb80-4496-968d-5cbc736e5441",
   "metadata": {},
   "outputs": [
    {
     "name": "stdin",
     "output_type": "stream",
     "text": [
      "Enter the coefficient a:  1\n",
      "Enter the coefficient b:  6\n",
      "Enter the coefficient c:  0\n"
     ]
    },
    {
     "name": "stdout",
     "output_type": "stream",
     "text": [
      "The roots of the quadratic equation are: Two real and distinct roots: 0.0, -6.0\n"
     ]
    }
   ],
   "source": [
    "import math\n",
    "\n",
    "def quadratic_roots(a, b, c):\n",
    "    discriminant = b**2 - 4*a*c\n",
    "\n",
    "    if discriminant > 0:\n",
    "        root1 = (-b + math.sqrt(discriminant)) / (2*a)\n",
    "        root2 = (-b - math.sqrt(discriminant)) / (2*a)\n",
    "        return f\"Two real and distinct roots: {root1}, {root2}\"\n",
    "    elif discriminant == 0:\n",
    "        root = -b / (2*a)\n",
    "        return f\"One real root: {root}\"\n",
    "    else:\n",
    "        return \"No real roots (complex roots)\"\n",
    "\n",
    "# Example usage\n",
    "a = float(input(\"Enter the coefficient a: \"))\n",
    "b = float(input(\"Enter the coefficient b: \"))\n",
    "c = float(input(\"Enter the coefficient c: \"))\n",
    "result = quadratic_roots(a, b, c)\n",
    "print(f\"The roots of the quadratic equation are: {result}\")\n"
   ]
  },
  {
   "cell_type": "markdown",
   "id": "c4d77da1-9e6a-4458-96b5-d9e9dedd14cc",
   "metadata": {},
   "source": [
    "19. Create a Python program that checks if a given year is a century year or not using if-else."
   ]
  },
  {
   "cell_type": "code",
   "execution_count": 30,
   "id": "bf6b9126-7de0-4ad5-b8fa-ca592c7c359a",
   "metadata": {},
   "outputs": [
    {
     "name": "stdin",
     "output_type": "stream",
     "text": [
      "Enter a year:  2300\n"
     ]
    },
    {
     "name": "stdout",
     "output_type": "stream",
     "text": [
      "The year 2300 is: Century Year\n"
     ]
    }
   ],
   "source": [
    "def is_century_year(year):\n",
    "    if year % 100 == 0:\n",
    "        return \"Century Year\"\n",
    "    else:\n",
    "        return \"Not a Century Year\"\n",
    "\n",
    "year = int(input(\"Enter a year: \"))\n",
    "result = is_century_year(year)\n",
    "print(f\"The year {year} is: {result}\")\n"
   ]
  },
  {
   "cell_type": "markdown",
   "id": "45057206-d03a-40fd-97d0-61e8fdc6387c",
   "metadata": {},
   "source": [
    "20. Write a Python program to determine if a given number is a perfect square using if-else."
   ]
  },
  {
   "cell_type": "code",
   "execution_count": 32,
   "id": "86e803aa-00ed-4d3f-84d2-7bbc456a641f",
   "metadata": {},
   "outputs": [
    {
     "name": "stdin",
     "output_type": "stream",
     "text": [
      "Enter a number:  64\n"
     ]
    },
    {
     "name": "stdout",
     "output_type": "stream",
     "text": [
      "The number 64 is: Perfect Square\n"
     ]
    }
   ],
   "source": [
    "def is_perfect_square(number):\n",
    "    sqrt = int(math.sqrt(number))\n",
    "    \n",
    "    if sqrt**2 == number:\n",
    "        return \"Perfect Square\"\n",
    "    else:\n",
    "        return \"Not a Perfect Square\"\n",
    "    \n",
    "num = int(input(\"Enter a number: \"))\n",
    "result = is_perfect_square(num)\n",
    "print(f\"The number {num} is: {result}\")"
   ]
  },
  {
   "cell_type": "markdown",
   "id": "c61228a1-5284-46ea-a890-21dd0708fb4d",
   "metadata": {},
   "source": [
    "21. Explain the purpose of the \"continue\" and \"break\" statements within if-else loops."
   ]
  },
  {
   "cell_type": "markdown",
   "id": "ea1ae5d0-84af-4cb8-869b-9eec7fd08271",
   "metadata": {},
   "source": [
    "- continue: Skips the rest of the loop's code and moves to the next iteration.\n",
    "- break: Exits the loop entirely, regardless of the loop condition."
   ]
  },
  {
   "cell_type": "markdown",
   "id": "5ccf5888-840b-4f19-85c8-74ad7e406cc3",
   "metadata": {},
   "source": [
    "22. Create a Python program that calculates the BMI (Body Mass Index) of a person based on their weight and height using if-else."
   ]
  },
  {
   "cell_type": "code",
   "execution_count": 33,
   "id": "ccacc934-ef8e-4874-ac2e-5b2ad6626d7a",
   "metadata": {},
   "outputs": [
    {
     "name": "stdin",
     "output_type": "stream",
     "text": [
      "Enter your weight in kg:  75\n",
      "Enter your height in meters:  1.74\n"
     ]
    },
    {
     "name": "stdout",
     "output_type": "stream",
     "text": [
      "Your BMI category is: Normal Weight\n"
     ]
    }
   ],
   "source": [
    "def calculate_bmi(weight, height):\n",
    "    bmi = weight / (height**2)\n",
    "\n",
    "    if bmi < 18.5:\n",
    "        return \"Underweight\"\n",
    "    elif 18.5 <= bmi < 25:\n",
    "        return \"Normal Weight\"\n",
    "    elif 25 <= bmi < 30:\n",
    "        return \"Overweight\"\n",
    "    else:\n",
    "        return \"Obese\"\n",
    "\n",
    "weight = float(input(\"Enter your weight in kg: \"))\n",
    "height = float(input(\"Enter your height in meters: \"))\n",
    "result = calculate_bmi(weight, height)\n",
    "print(f\"Your BMI category is: {result}\")\n"
   ]
  },
  {
   "cell_type": "markdown",
   "id": "707f5581-4d96-4dd7-9376-faf64ace18ec",
   "metadata": {},
   "source": [
    "23. How can you use the \"filter()\" function with if-else statements to filter elements from a list?"
   ]
  },
  {
   "cell_type": "code",
   "execution_count": 34,
   "id": "8f1712a2-65aa-4cf7-ac43-cab34560fcd6",
   "metadata": {},
   "outputs": [
    {
     "name": "stdout",
     "output_type": "stream",
     "text": [
      "Filtered numbers: [6, 8]\n"
     ]
    }
   ],
   "source": [
    "numbers = [1, 2, 3, 4, 5, 6, 7, 8, 9]\n",
    "\n",
    "filtered_numbers = list(filter(lambda x: x % 2 == 0 if x > 5 else False, numbers))\n",
    "print(\"Filtered numbers:\", filtered_numbers)\n"
   ]
  },
  {
   "cell_type": "markdown",
   "id": "55c553e6-a58c-43bd-a36d-8f235f498928",
   "metadata": {},
   "source": [
    "24. Write a Python program to determine if a given number is prime or not using if-else."
   ]
  },
  {
   "cell_type": "code",
   "execution_count": 35,
   "id": "cb1ba876-7d2b-4734-a7b2-76f386c72b8b",
   "metadata": {},
   "outputs": [
    {
     "name": "stdin",
     "output_type": "stream",
     "text": [
      "Enter a number:  5\n"
     ]
    },
    {
     "name": "stdout",
     "output_type": "stream",
     "text": [
      "The number 5 is: Prime\n"
     ]
    }
   ],
   "source": [
    "def is_prime(number):\n",
    "    if number <= 1:\n",
    "        return \"Not Prime\"\n",
    "    \n",
    "    for i in range(2, int(math.sqrt(number)) + 1):\n",
    "        if number % i == 0:\n",
    "            return \"Not Prime\"\n",
    "        \n",
    "    return \"Prime\"\n",
    "\n",
    "num = int(input(\"Enter a number: \"))\n",
    "result = is_prime(num)\n",
    "print(f\"The number {num} is: {result}\")"
   ]
  },
  {
   "cell_type": "markdown",
   "id": "48447c8d-5d9d-41ce-8779-6bdd2c5acb69",
   "metadata": {},
   "source": [
    "# Map"
   ]
  },
  {
   "cell_type": "markdown",
   "id": "2482c6ba-7b01-4660-bc12-eadbff06ebe6",
   "metadata": {},
   "source": [
    "1. Explain the purpose of the `map()` function in Python and provide an example of how it can be used to apply a function to each element of an iterable."
   ]
  },
  {
   "cell_type": "markdown",
   "id": "594633fe-0527-456c-8813-dc1a87006a95",
   "metadata": {},
   "source": [
    "The map() function in Python is used to apply a specified function to all items in an input iterable (e.g., list, tuple) and return an iterator that produces the results.\n",
    "It allows for concise and efficient element-wise operations."
   ]
  },
  {
   "cell_type": "markdown",
   "id": "922bfbb0-d8a4-48c6-95ee-d47b5eff0c1a",
   "metadata": {},
   "source": [
    "2. Write a Python program that uses the `map()` function to square each element of a list of numbers."
   ]
  },
  {
   "cell_type": "code",
   "execution_count": 36,
   "id": "2702c1c8-a765-4fe7-abf7-14de90bd80c2",
   "metadata": {},
   "outputs": [
    {
     "name": "stdout",
     "output_type": "stream",
     "text": [
      "Squared numbers:  [1, 4, 9, 16, 25]\n"
     ]
    }
   ],
   "source": [
    "numbers = [1,2,3,4,5]\n",
    "\n",
    "squared_numbers = list(map(lambda x : x**2, numbers))\n",
    "print(\"Squared numbers: \", squared_numbers)"
   ]
  },
  {
   "cell_type": "markdown",
   "id": "7139022f-da21-4373-b3a7-9f9520bae5f7",
   "metadata": {},
   "source": [
    "3. How does the `map()` function differ from a list comprehension in Python, and when would you choose one over the other?"
   ]
  },
  {
   "cell_type": "markdown",
   "id": "1530bc0c-2f0a-4bc1-81d2-ce165f37e909",
   "metadata": {},
   "source": [
    "-  map(): Applies a function to each element of an iterable, returning an iterator.\n",
    "-  List comprehension: Creates a new list by specifying the elements to include based on a condition.\n",
    "-  Use map() when you want to apply a function to each element and obtain an iterator, while list comprehension is used for creating new lists."
   ]
  },
  {
   "cell_type": "markdown",
   "id": "ed8acf4a-e550-4514-bd6c-8afd848a48ab",
   "metadata": {},
   "source": [
    "4. Create a Python program that uses the `map()` function to convert a list of names to uppercase."
   ]
  },
  {
   "cell_type": "code",
   "execution_count": 37,
   "id": "5c9903b2-3451-48ff-89fa-b96ff05244c6",
   "metadata": {},
   "outputs": [
    {
     "name": "stdout",
     "output_type": "stream",
     "text": [
      "Uppercased names:  ['ALICE', 'BOB', 'CHARLIE']\n"
     ]
    }
   ],
   "source": [
    "names = [\"Alice\", \"Bob\", \"Charlie\"]\n",
    "\n",
    "uppercased_names = list(map(str.upper, names))\n",
    "print(\"Uppercased names: \", uppercased_names)"
   ]
  },
  {
   "cell_type": "markdown",
   "id": "5eed63ca-a09e-4f1c-a15a-90bf55642cf3",
   "metadata": {},
   "source": [
    "5. Write a Python program that uses the `map()` function to calculate the length of each word in a list of strings."
   ]
  },
  {
   "cell_type": "code",
   "execution_count": 38,
   "id": "a793c0a5-dd76-4eb2-a0f2-c151268a6ce4",
   "metadata": {},
   "outputs": [
    {
     "name": "stdout",
     "output_type": "stream",
     "text": [
      "Word Lengths:  [5, 6, 6]\n"
     ]
    }
   ],
   "source": [
    "words = [\"Apple\", \"Banana\", \"Orange\"]\n",
    "\n",
    "word_lengths = list(map(len, words))\n",
    "print(\"Word Lengths: \", word_lengths)"
   ]
  },
  {
   "cell_type": "markdown",
   "id": "f09a9903-c50f-4133-a28a-ee74a78f8141",
   "metadata": {},
   "source": [
    "6. How can you use the `map()` function to apply a custom function to elements of multiple lists simultaneously in Python?"
   ]
  },
  {
   "cell_type": "code",
   "execution_count": 39,
   "id": "ed6597c6-8e5e-4ff9-b170-f676620f84b8",
   "metadata": {},
   "outputs": [
    {
     "name": "stdout",
     "output_type": "stream",
     "text": [
      "Result of adding corresponding elements: [5, 7, 9]\n"
     ]
    }
   ],
   "source": [
    "list1 = [1, 2, 3]\n",
    "list2 = [4, 5, 6]\n",
    "\n",
    "result = list(map(lambda x, y: x + y, list1, list2))\n",
    "print(\"Result of adding corresponding elements:\", result)\n"
   ]
  },
  {
   "cell_type": "markdown",
   "id": "23a72cae-9b7a-4b2e-b504-49f3b9a59969",
   "metadata": {},
   "source": [
    "7. Create a Python program that uses `map()` to convert a list of temperatures from Celsius to Fahrenheit."
   ]
  },
  {
   "cell_type": "code",
   "execution_count": 40,
   "id": "cae634c7-8326-40db-9df2-fe35c87d1bbe",
   "metadata": {},
   "outputs": [
    {
     "name": "stdout",
     "output_type": "stream",
     "text": [
      "Temperatures in Fahrenheit: [68.0, 77.0, 86.0]\n"
     ]
    }
   ],
   "source": [
    "celsius_temps = [20,25,30]\n",
    "\n",
    "fahrenheit_temps = list(map(lambda c : (c*9/5)+32, celsius_temps))\n",
    "print(\"Temperatures in Fahrenheit:\", fahrenheit_temps)"
   ]
  },
  {
   "cell_type": "markdown",
   "id": "e82acae6-c773-4060-bb41-ef1c5abb4724",
   "metadata": {},
   "source": [
    "8. Write a Python program that uses the `map()` function to round each element of a list of floating-point numbers to the nearest integer."
   ]
  },
  {
   "cell_type": "code",
   "execution_count": 41,
   "id": "5791c8dd-91d3-40b2-b39c-840918e29454",
   "metadata": {},
   "outputs": [
    {
     "name": "stdout",
     "output_type": "stream",
     "text": [
      "Rounded numbers: [3, 3, 2]\n"
     ]
    }
   ],
   "source": [
    "float_numbers = [3.14, 2.718, 1.5]\n",
    "\n",
    "rounded_numbers = list(map(round, float_numbers))\n",
    "print(\"Rounded numbers:\", rounded_numbers)"
   ]
  },
  {
   "cell_type": "markdown",
   "id": "7eb1067f-5cd0-4599-800b-841bd33ce194",
   "metadata": {},
   "source": [
    "# Reduce"
   ]
  },
  {
   "cell_type": "markdown",
   "id": "4d233331-0d9f-4735-bf9a-161dbc1de5de",
   "metadata": {},
   "source": [
    "1. What is the `reduce()` function in Python, and what module should you import to use it? Provide an example of its basic usage."
   ]
  },
  {
   "cell_type": "code",
   "execution_count": 1,
   "id": "f8f3b98a-afe4-4f6a-94e1-dbbba5bf827e",
   "metadata": {},
   "outputs": [
    {
     "name": "stdout",
     "output_type": "stream",
     "text": [
      "Sum of elements: 15\n"
     ]
    }
   ],
   "source": [
    "# The reduce() function is part of the functools module in Python. It is used to successively apply a binary function to the elements of an iterable, \n",
    "# cumulatively reducing the iterable to a single accumulated result. In other words, it performs a rolling computation over the elements of the iterable.\n",
    "\n",
    "\n",
    "\n",
    "from functools import reduce\n",
    "numbers = [1,2,3,4,5]\n",
    "\n",
    "sum_result = reduce(lambda x,y : x+y, numbers)\n",
    "print(\"Sum of elements:\", sum_result)"
   ]
  },
  {
   "cell_type": "markdown",
   "id": "13f17a8a-7572-4565-b7e0-5483ba6c4686",
   "metadata": {},
   "source": [
    "2. Write a Python program that uses the `reduce()` function to find the product of all elements in a list."
   ]
  },
  {
   "cell_type": "code",
   "execution_count": 2,
   "id": "188a0aaf-d9ae-4547-aac6-9846bb51fee2",
   "metadata": {},
   "outputs": [
    {
     "name": "stdout",
     "output_type": "stream",
     "text": [
      "Product of Elements:  120\n"
     ]
    }
   ],
   "source": [
    "from functools import reduce\n",
    "\n",
    "numbers = [1,2,3,4,5]\n",
    "product_result = reduce(lambda x,y : x*y, numbers)\n",
    "print(\"Product of Elements: \", product_result)"
   ]
  },
  {
   "cell_type": "markdown",
   "id": "6a5ea7a1-579a-490f-bb33-f19c7eb8071e",
   "metadata": {},
   "source": [
    "3. Create a Python program that uses `reduce()` to find the maximum element in a list of numbers.\n"
   ]
  },
  {
   "cell_type": "code",
   "execution_count": 3,
   "id": "7643fa2b-6d59-424b-8aa3-9f4d3671ad4e",
   "metadata": {},
   "outputs": [
    {
     "name": "stdout",
     "output_type": "stream",
     "text": [
      "Maximum Elements:  652\n"
     ]
    }
   ],
   "source": [
    "from functools import reduce\n",
    "\n",
    "numbers = [12,2,34,65,8,652]\n",
    "max_result = reduce(lambda x,y : x if x>y else y, numbers)\n",
    "print(\"Maximum Elements: \", max_result)"
   ]
  },
  {
   "cell_type": "markdown",
   "id": "6d26ebfc-f9dd-41ce-b59a-db2f513e4c5c",
   "metadata": {},
   "source": [
    "4. How can you use the `reduce()` function to concatenate a list of strings into a single string?\n"
   ]
  },
  {
   "cell_type": "code",
   "execution_count": 5,
   "id": "5dca971f-f17c-4cc1-8fe2-82b5f9b98aa0",
   "metadata": {},
   "outputs": [
    {
     "name": "stdout",
     "output_type": "stream",
     "text": [
      "Concatenated string: Hello World!\n"
     ]
    }
   ],
   "source": [
    "from functools import reduce\n",
    "\n",
    "strings = [\"Hello\", \" \", \"World\", \"!\"]\n",
    "\n",
    "concatenated_strings = reduce(lambda x,y : x+y, strings)\n",
    "print(\"Concatenated string:\", concatenated_strings)"
   ]
  },
  {
   "cell_type": "markdown",
   "id": "75fde582-3542-4e2e-b1b4-926639ae4264",
   "metadata": {},
   "source": [
    "5. Write a Python program that calculates the factorial of a number using the `reduce()` function.\n"
   ]
  },
  {
   "cell_type": "code",
   "execution_count": 6,
   "id": "ae181c01-c924-49f2-929d-7e118d3588de",
   "metadata": {},
   "outputs": [
    {
     "name": "stdout",
     "output_type": "stream",
     "text": [
      "Factorial of 5: 120\n"
     ]
    }
   ],
   "source": [
    "from functools import reduce\n",
    "\n",
    "def factorial(n):\n",
    "    return reduce(lambda x,y : x*y, range(1, n+1))\n",
    "\n",
    "number = 5\n",
    "factorial_result = factorial(number)\n",
    "print(f\"Factorial of {number}:\", factorial_result)"
   ]
  },
  {
   "cell_type": "markdown",
   "id": "f1f99459-60aa-4578-bfe4-e99ec8bae6e0",
   "metadata": {},
   "source": [
    "6. Create a Python program that uses `reduce()` to find the GCD (Greatest Common Divisor) of a list of numbers.\n"
   ]
  },
  {
   "cell_type": "code",
   "execution_count": 7,
   "id": "640c1e26-becc-4cde-ab79-a6260e3904d3",
   "metadata": {},
   "outputs": [
    {
     "name": "stdout",
     "output_type": "stream",
     "text": [
      "GCD of numbers: 12\n"
     ]
    }
   ],
   "source": [
    "from functools import reduce\n",
    "from math import gcd\n",
    "\n",
    "number = [24,36,48,60]\n",
    "\n",
    "gcd_result = reduce(gcd, number)\n",
    "print(\"GCD of numbers:\", gcd_result)\n"
   ]
  },
  {
   "cell_type": "markdown",
   "id": "5cac33f8-c971-4ade-929a-e1faac3c2ba7",
   "metadata": {},
   "source": [
    "7. Write a Python program that uses the `reduce()` function to find the sum of the digits of a given number.\n"
   ]
  },
  {
   "cell_type": "code",
   "execution_count": 8,
   "id": "e49f08b0-de75-4330-8aa7-f59e30e90679",
   "metadata": {},
   "outputs": [
    {
     "name": "stdout",
     "output_type": "stream",
     "text": [
      "Sum of Digits:  21\n"
     ]
    }
   ],
   "source": [
    "from functools import reduce\n",
    "\n",
    "number = 123456\n",
    "\n",
    "sum_of_digits = reduce(lambda x,y : int(x) + int(y), str(number))\n",
    "print(\"Sum of Digits: \", sum_of_digits)"
   ]
  },
  {
   "cell_type": "markdown",
   "id": "252deb8e-995c-47c9-be66-4d57f55f0f71",
   "metadata": {},
   "source": [
    "# Filter"
   ]
  },
  {
   "cell_type": "markdown",
   "id": "ebc5fc1c-1ccc-4473-a88c-7629c8607246",
   "metadata": {},
   "source": [
    "1. Explain the purpose of the `filter()` function in Python and provide an example of how it can be used to filter elements from an iterable.\n"
   ]
  },
  {
   "cell_type": "markdown",
   "id": "0cc2016b-4135-4106-8347-8d71423754f7",
   "metadata": {},
   "source": [
    "The filter() function in Python is used to construct an iterator from elements of an iterable for which a function returns True. It filters out the elements based on the given function."
   ]
  },
  {
   "cell_type": "markdown",
   "id": "656a2aa1-5f80-45bc-9a0c-6102437d8595",
   "metadata": {},
   "source": [
    "2. Write a Python program that uses the `filter()` function to select even numbers from a list of integers.\n"
   ]
  },
  {
   "cell_type": "code",
   "execution_count": 9,
   "id": "6d407d17-04be-4e8c-9521-e9c1f42dd9f2",
   "metadata": {},
   "outputs": [
    {
     "name": "stdout",
     "output_type": "stream",
     "text": [
      "Even Numbers:  [2, 4, 6, 8]\n"
     ]
    }
   ],
   "source": [
    "numbers = [1,2,3,4,5,6,7,8,9]\n",
    "even_numbers = list(filter(lambda x : x%2 == 0, numbers))\n",
    "print(\"Even Numbers: \", even_numbers)"
   ]
  },
  {
   "cell_type": "markdown",
   "id": "5ce7a078-7830-442b-91cf-89792b03f870",
   "metadata": {},
   "source": [
    "3. Create a Python program that uses the `filter()` function to select names that start with a specific letter from a list of strings.\n"
   ]
  },
  {
   "cell_type": "code",
   "execution_count": 12,
   "id": "07598a99-6044-45be-b72f-0a1ee76bf7f5",
   "metadata": {},
   "outputs": [
    {
     "name": "stdout",
     "output_type": "stream",
     "text": [
      "Names starting with 'A': ['Alice']\n"
     ]
    }
   ],
   "source": [
    "names = [\"Alice\", \"Bob\", \"Charlie\", \"David\", \"Eva\"]\n",
    "selected_names = list(filter(lambda x: x.startswith('A'), names))\n",
    "print(\"Names starting with 'A':\", selected_names)"
   ]
  },
  {
   "cell_type": "markdown",
   "id": "c952d7f7-6d23-4d18-bf16-24ad6be9404c",
   "metadata": {},
   "source": [
    "4. Write a Python program that uses the `filter()` function to select prime numbers from a list of integers.\n"
   ]
  },
  {
   "cell_type": "code",
   "execution_count": 14,
   "id": "8e0b33ba-67da-4197-a77d-3d7286cfbaa7",
   "metadata": {},
   "outputs": [
    {
     "name": "stdout",
     "output_type": "stream",
     "text": [
      "Prime numbers: [2, 3, 5, 7]\n"
     ]
    }
   ],
   "source": [
    "def is_prime(n):\n",
    "    if n<2:\n",
    "        return False\n",
    "    for i in range(2, int(n**0.5)+1):\n",
    "        if n%i == 0:\n",
    "            return False\n",
    "    return True\n",
    "\n",
    "numbers = [2,3,4,5,6,7,8,9,10]\n",
    "prime_numbers = list(filter(is_prime, numbers))\n",
    "print(\"Prime numbers:\", prime_numbers)"
   ]
  },
  {
   "cell_type": "markdown",
   "id": "16fcfa71-d30f-4c82-94e8-edb5ede89e39",
   "metadata": {},
   "source": [
    "5. How can you use the `filter()` function to remove None values from a list in Python?\n"
   ]
  },
  {
   "cell_type": "code",
   "execution_count": 15,
   "id": "f76c7aab-c4c8-4fa1-a5c8-dc70407ca271",
   "metadata": {},
   "outputs": [
    {
     "name": "stdout",
     "output_type": "stream",
     "text": [
      "List without None values: [1, 3, 4, 6, 7, 9]\n"
     ]
    }
   ],
   "source": [
    "values = [1,None, 3,4, None, 6,7, None,9]\n",
    "filtered_values = list(filter(lambda x: x is not None, values))\n",
    "print(\"List without None values:\", filtered_values)"
   ]
  },
  {
   "cell_type": "markdown",
   "id": "4dde0405-5a2f-4b60-9b72-7168f0dc79d7",
   "metadata": {},
   "source": [
    "6. Create a Python program that uses `filter()` to select words longer than a certain length from a list of strings.\n"
   ]
  },
  {
   "cell_type": "code",
   "execution_count": 16,
   "id": "548712a2-d7f7-4379-9655-aa3c47d05745",
   "metadata": {},
   "outputs": [
    {
     "name": "stdout",
     "output_type": "stream",
     "text": [
      "Words longer than 5 characters: ['banana', 'orange']\n"
     ]
    }
   ],
   "source": [
    "words = [\"apple\", \"banana\", \"grape\", \"kiwi\", \"orange\"]\n",
    "\n",
    "selected_words = list(filter(lambda x: len(x)> 5, words))\n",
    "print(\"Words longer than 5 characters:\", selected_words)"
   ]
  },
  {
   "cell_type": "markdown",
   "id": "d0d1ef46-3b0d-4611-a057-0fb5fb1d5f07",
   "metadata": {},
   "source": [
    "7. Write a Python program that uses the `filter()` function to select elements greater than a specified threshold from a list of values."
   ]
  },
  {
   "cell_type": "code",
   "execution_count": 18,
   "id": "f55ba173-0df4-4173-b276-31a73e7a93f6",
   "metadata": {},
   "outputs": [
    {
     "name": "stdout",
     "output_type": "stream",
     "text": [
      "Values greater than 80: [343, 453, 101, 99]\n"
     ]
    }
   ],
   "source": [
    "values = [343,2,23,54,65,78,453,101,99]\n",
    "\n",
    "selected_values = list(filter(lambda x: x > 80, values))\n",
    "print(\"Values greater than 80:\", selected_values)"
   ]
  },
  {
   "cell_type": "markdown",
   "id": "04e41f06-9390-4ff6-9cf8-18de8439c7db",
   "metadata": {},
   "source": [
    "# Recursion"
   ]
  },
  {
   "cell_type": "markdown",
   "id": "f7af17b9-41c6-4a25-a17b-73c6db024ff1",
   "metadata": {},
   "source": [
    "1. Explain the concept of recursion in Python. How does it differ from iteration?"
   ]
  },
  {
   "cell_type": "markdown",
   "id": "8f03484b-06d1-4cc2-aad7-cbb5e0c6543d",
   "metadata": {},
   "source": [
    "- Recursion is a programming concept where a function calls itself in its own definition. It involves breaking a problem into smaller subproblems, solving each subproblem, and combining the results. Recursion provides an elegant and concise way to solve problems that can be naturally broken down into smaller, similar problems.\n",
    "\n",
    "Difference from Iteration:\n",
    "- Iteration involves using loops to repeat a set of instructions until a certain condition is met.\n",
    "Recursion involves breaking down a problem into smaller instances of the same problem, calling the function on each smaller instance until a base case is reached."
   ]
  },
  {
   "cell_type": "markdown",
   "id": "1503f0da-ba53-4a7a-9ea1-dd186eb732d4",
   "metadata": {},
   "source": [
    "2. Write a Python program to calculate the factorial of a number using recursion."
   ]
  },
  {
   "cell_type": "code",
   "execution_count": 19,
   "id": "24b706de-abb0-46f0-8261-ea7d4804648c",
   "metadata": {},
   "outputs": [
    {
     "name": "stdout",
     "output_type": "stream",
     "text": [
      "The factorial of 5 is: 120\n"
     ]
    }
   ],
   "source": [
    "def factorial(n):\n",
    "    if n==0 or n==1:\n",
    "        return 1\n",
    "    else:\n",
    "        return n*factorial(n-1)\n",
    "number = 5\n",
    "result = factorial(number)\n",
    "print(f\"The factorial of {number} is: {result}\")"
   ]
  },
  {
   "cell_type": "markdown",
   "id": "96e19707-4b97-405a-b9ea-1ef0462f1277",
   "metadata": {},
   "source": [
    "3. Create a recursive Python function to find the nth Fibonacci number.\n"
   ]
  },
  {
   "cell_type": "code",
   "execution_count": 21,
   "id": "6b8eaa8b-7295-4c6c-8075-1b8a30a87f77",
   "metadata": {},
   "outputs": [
    {
     "name": "stdout",
     "output_type": "stream",
     "text": [
      "The 6th Fibonacci number is: 8\n"
     ]
    }
   ],
   "source": [
    "def fibonacci(n):\n",
    "    if n<=1:\n",
    "        return n\n",
    "    else:\n",
    "        return fibonacci(n-1) + fibonacci(n-2)\n",
    "    \n",
    "num = 6\n",
    "result = fibonacci(num)\n",
    "print(f\"The {num}th Fibonacci number is: {result}\")"
   ]
  },
  {
   "cell_type": "markdown",
   "id": "cf8dc2b2-717c-41a1-8970-aa4f3aa43d11",
   "metadata": {},
   "source": [
    "4. Write a recursive Python function to calculate the sum of all elements in a list.\n"
   ]
  },
  {
   "cell_type": "code",
   "execution_count": 23,
   "id": "b258f10e-560a-42b7-8549-33b0304f8c2b",
   "metadata": {},
   "outputs": [
    {
     "name": "stdout",
     "output_type": "stream",
     "text": [
      "The sum of elements in the list is: 15\n"
     ]
    }
   ],
   "source": [
    "def sum_of_elements(lst):\n",
    "    if not lst:\n",
    "        return 0\n",
    "    else:\n",
    "        return lst[0] + sum_of_elements(lst[1:])\n",
    "    \n",
    "numbers = [1,2,3,4,5]\n",
    "result = sum_of_elements(numbers)\n",
    "print(f\"The sum of elements in the list is: {result}\")"
   ]
  },
  {
   "cell_type": "markdown",
   "id": "bf4e98c5-8240-4f09-88bf-2170fab155ee",
   "metadata": {},
   "source": [
    "5. How can you prevent a recursive function from running indefinitely, causing a stack overflow error?"
   ]
  },
  {
   "cell_type": "markdown",
   "id": "a76ad8b4-c58a-4292-86fa-856d894adbf7",
   "metadata": {},
   "source": [
    "Ensure that there is a base case in the recursive function, and the input to the function gets closer to the base case with each recursive call. This prevents the function from calling itself indefinitely."
   ]
  },
  {
   "cell_type": "markdown",
   "id": "33b53f5d-d9ee-4559-9885-9229ccf01df1",
   "metadata": {},
   "source": [
    "6. Create a recursive Python function to find the greatest common divisor (GCD) of two numbers using the Euclidean algorithm.\n"
   ]
  },
  {
   "cell_type": "code",
   "execution_count": 24,
   "id": "0661107e-cd7a-430e-a9eb-41aa8e3e7926",
   "metadata": {},
   "outputs": [
    {
     "name": "stdout",
     "output_type": "stream",
     "text": [
      "The GCD of 48 and 18 is: 6\n"
     ]
    }
   ],
   "source": [
    "def gcd(a,b):\n",
    "    if b==0:\n",
    "        return a\n",
    "    else:\n",
    "        return gcd(b,a%b)\n",
    "    \n",
    "num1, num2 = 48, 18\n",
    "result = gcd(num1, num2)\n",
    "print(f\"The GCD of {num1} and {num2} is: {result}\")"
   ]
  },
  {
   "cell_type": "markdown",
   "id": "ec598a93-5d61-4046-9d5c-549011b8b104",
   "metadata": {},
   "source": [
    "7. Write a recursive Python function to reverse a string.\n"
   ]
  },
  {
   "cell_type": "code",
   "execution_count": 25,
   "id": "9e061a0d-7a0e-41e3-9b76-66961385b8b6",
   "metadata": {},
   "outputs": [
    {
     "name": "stdout",
     "output_type": "stream",
     "text": [
      "The reversed string is: olleh\n"
     ]
    }
   ],
   "source": [
    "def reverse_string(s):\n",
    "    if not s:\n",
    "        return s\n",
    "    else:\n",
    "        return reverse_string(s[1:]) + s[0]\n",
    "\n",
    "# Example usage\n",
    "text = \"hello\"\n",
    "result = reverse_string(text)\n",
    "print(f\"The reversed string is: {result}\")\n"
   ]
  },
  {
   "cell_type": "markdown",
   "id": "8463dd7f-3db7-4120-a8a5-719dad582358",
   "metadata": {},
   "source": [
    "8. Create a recursive Python function to calculate the power of a number (x^n).\n"
   ]
  },
  {
   "cell_type": "code",
   "execution_count": 26,
   "id": "b080f397-026f-484d-8def-46afc1ae25b5",
   "metadata": {},
   "outputs": [
    {
     "name": "stdout",
     "output_type": "stream",
     "text": [
      "2 raised to the power of 3 is: 8\n"
     ]
    }
   ],
   "source": [
    "def power(x,n):\n",
    "    if n==0:\n",
    "        return 1\n",
    "    else:\n",
    "        return x*power(x,n-1)\n",
    "    \n",
    "base, exponent = 2,3\n",
    "result = power(base, exponent)\n",
    "print(f\"{base} raised to the power of {exponent} is: {result}\")"
   ]
  },
  {
   "cell_type": "markdown",
   "id": "3bffd47d-2b12-4c81-b14e-fdab9e5413e2",
   "metadata": {},
   "source": [
    "9. Write a recursive Python function to find all permutations of a given string.\n"
   ]
  },
  {
   "cell_type": "code",
   "execution_count": 27,
   "id": "8cdf72b6-e1ed-4ca6-89a0-1002603f393e",
   "metadata": {},
   "outputs": [
    {
     "name": "stdout",
     "output_type": "stream",
     "text": [
      "All permutations of abc are: ['abc', 'acb', 'bac', 'bca', 'cab', 'cba']\n"
     ]
    }
   ],
   "source": [
    "def permutations(s):\n",
    "    if len(s) == 1:\n",
    "        return [s]\n",
    "    else:\n",
    "        perms = []\n",
    "        for i, char in enumerate(s):\n",
    "            remaining_chars = s[:i] + s[i+1:]\n",
    "            for perm in permutations(remaining_chars):\n",
    "                perms.append(char + perm)\n",
    "        return perms\n",
    "\n",
    "# Example usage\n",
    "word = \"abc\"\n",
    "result = permutations(word)\n",
    "print(f\"All permutations of {word} are: {result}\")\n"
   ]
  },
  {
   "cell_type": "markdown",
   "id": "411eb4e4-ff39-4adf-b332-3967cccabb93",
   "metadata": {},
   "source": [
    "10. Write a recursive Python function to check if a string is a palindrome.\n"
   ]
  },
  {
   "cell_type": "code",
   "execution_count": 28,
   "id": "79d28001-b0d4-402d-b5b5-c25d543be089",
   "metadata": {},
   "outputs": [
    {
     "name": "stdout",
     "output_type": "stream",
     "text": [
      "level is a palindrome: True\n"
     ]
    }
   ],
   "source": [
    "def is_palindrome(s):\n",
    "    s = s.lower()\n",
    "    if len(s) <= 1:\n",
    "        return True\n",
    "    else:\n",
    "        return s[0] == s[-1] and is_palindrome(s[1:-1])\n",
    "\n",
    "text = \"level\"\n",
    "result = is_palindrome(text)\n",
    "print(f\"{text} is a palindrome: {result}\")\n"
   ]
  },
  {
   "cell_type": "markdown",
   "id": "db5d3690-2b8b-4919-b9d3-0b5bb104f320",
   "metadata": {},
   "source": [
    "11. Create a recursive Python function to generate all possible combinations of a list of elements.\n"
   ]
  },
  {
   "cell_type": "code",
   "execution_count": 29,
   "id": "39c43de8-fbc6-48a5-bb38-43c073303a01",
   "metadata": {},
   "outputs": [
    {
     "name": "stdout",
     "output_type": "stream",
     "text": [
      "All combinations are: [[], [3], [2], [2, 3], [1], [1, 3], [1, 2], [1, 2, 3]]\n"
     ]
    }
   ],
   "source": [
    "def combinations(lst):\n",
    "    if not lst:\n",
    "        return [[]]\n",
    "    else:\n",
    "        current, rest = lst[0], lst[1:]\n",
    "        without_current = combinations(rest)\n",
    "        with_current = [ [current] + combo for combo in without_current]\n",
    "        return without_current + with_current\n",
    "\n",
    "# Example usage\n",
    "elements = [1, 2, 3]\n",
    "result = combinations(elements)\n",
    "print(f\"All combinations are: {result}\")\n"
   ]
  },
  {
   "cell_type": "markdown",
   "id": "9a6d519b-966b-482c-b930-c41342807916",
   "metadata": {},
   "source": [
    "# Basics of Functions:\n"
   ]
  },
  {
   "cell_type": "markdown",
   "id": "de55cae5-0571-4e00-a621-b636d9902f7f",
   "metadata": {},
   "source": [
    "1. What is a function in Python, and why is it used?\n"
   ]
  },
  {
   "cell_type": "markdown",
   "id": "c1bdb1e7-9515-448d-84a6-13daeba5879e",
   "metadata": {},
   "source": [
    "A function in Python is a reusable block of code that performs a specific task. It helps in organizing code, promoting code reusability, and improving readability. Functions allow you to break down a program into smaller, manageable units, making it easier to understand, debug, and maintain."
   ]
  },
  {
   "cell_type": "markdown",
   "id": "5e007fc0-6894-467a-a42c-3731d35ad536",
   "metadata": {},
   "source": [
    "2. How do you define a function in Python? Provide an example.\n"
   ]
  },
  {
   "cell_type": "code",
   "execution_count": 30,
   "id": "b09b7b4d-655c-4e14-a539-0a296f7f0c3b",
   "metadata": {},
   "outputs": [
    {
     "name": "stdout",
     "output_type": "stream",
     "text": [
      "Hello, Alice!\n"
     ]
    }
   ],
   "source": [
    "def greet(name):\n",
    "    print(f\"Hello, {name}!\")\n",
    "\n",
    "greet(\"Alice\")\n"
   ]
  },
  {
   "cell_type": "markdown",
   "id": "7b0d5c23-7550-46ed-ac00-0715e18226e6",
   "metadata": {},
   "source": [
    "3. Explain the difference between a function definition and a function call.\n"
   ]
  },
  {
   "cell_type": "markdown",
   "id": "a48b92ff-8d54-47da-8bf5-cb737c5caf56",
   "metadata": {},
   "source": [
    "- Function Definition: It is the process of specifying what a function does. It includes the function name, parameters, and the code block defining the functionality.\n",
    "\n",
    "- Function Call: It is the process of invoking or executing the defined function. It involves providing actual values (arguments) for the parameters defined in the function."
   ]
  },
  {
   "cell_type": "markdown",
   "id": "a2a24b3e-1095-443d-bde3-244882478e40",
   "metadata": {},
   "source": [
    "4. Write a Python program that defines a function to calculate the sum of two numbers and then calls the function.\n"
   ]
  },
  {
   "cell_type": "code",
   "execution_count": 31,
   "id": "096d6154-8f4b-4196-bf5a-f8c490eb845a",
   "metadata": {},
   "outputs": [
    {
     "name": "stdout",
     "output_type": "stream",
     "text": [
      "The sum of 5 and 7 is: 12\n"
     ]
    }
   ],
   "source": [
    "def calculate_sum(a, b):\n",
    "    result = a + b\n",
    "    return result\n",
    "\n",
    "num1, num2 = 5, 7\n",
    "sum_result = calculate_sum(num1, num2)\n",
    "print(f\"The sum of {num1} and {num2} is: {sum_result}\")\n"
   ]
  },
  {
   "cell_type": "markdown",
   "id": "9ad664df-15c9-4470-83b7-90947cafd640",
   "metadata": {},
   "source": [
    "5. What is a function signature, and what information does it typically include?\n"
   ]
  },
  {
   "cell_type": "markdown",
   "id": "cd9f97b2-fbb4-4f68-8aac-2ce1a7cb72b0",
   "metadata": {},
   "source": [
    "- The function signature includes the function name, parameters (if any), and their types. It typically does not include the return type in Python, as Python functions can return values of any type.\n",
    "\n",
    "def multiply(x: int, y: int) -> int:\n",
    "    return x * y\n"
   ]
  },
  {
   "cell_type": "markdown",
   "id": "d001801a-2b77-4f34-9ed4-486eb5ae4573",
   "metadata": {},
   "source": [
    "6. Create a Python function that takes two arguments and returns their product.\n"
   ]
  },
  {
   "cell_type": "code",
   "execution_count": 32,
   "id": "fd37b530-0af3-40cd-ae2a-fcaeb4081d9f",
   "metadata": {},
   "outputs": [
    {
     "name": "stdout",
     "output_type": "stream",
     "text": [
      "The product of 3 and 4 is: 12\n"
     ]
    }
   ],
   "source": [
    "def calculate_product(x, y):\n",
    "    return x * y\n",
    "\n",
    "num1, num2 = 3, 4\n",
    "product_result = calculate_product(num1, num2)\n",
    "print(f\"The product of {num1} and {num2} is: {product_result}\")\n"
   ]
  },
  {
   "cell_type": "markdown",
   "id": "b03fe418-05c0-4296-b60d-64c00b558342",
   "metadata": {},
   "source": [
    "# Function Parameters and Arguments:\n"
   ]
  },
  {
   "cell_type": "markdown",
   "id": "8ba56061-2bf7-4b37-818f-b1f631fee40f",
   "metadata": {},
   "source": [
    "1.Explain the concepts of formal parameters and actual arguments in Python functions.\n"
   ]
  },
  {
   "cell_type": "markdown",
   "id": "bbfb2ac7-fc67-4027-88ca-8df6e15e251c",
   "metadata": {},
   "source": [
    "- Formal Parameters: These are the parameters defined in the function header during its declaration. They act as placeholders for the values that will be passed during a function call.\n",
    "\n",
    "Example:\n",
    "    def add(x, y):  # x and y are formal parameters\n",
    "    return x + y\n",
    "\n",
    "- Actual Arguments: These are the values passed to the function during its invocation. These values are substituted for the formal parameters.\n",
    "\n",
    "Example:\n",
    "    result = add(3, 5)  # 3 and 5 are actual arguments\n"
   ]
  },
  {
   "cell_type": "markdown",
   "id": "e47df0f9-2510-464e-92aa-221a8dd7c228",
   "metadata": {},
   "source": [
    "2. Write a Python program that defines a function with default argument values.\n"
   ]
  },
  {
   "cell_type": "code",
   "execution_count": 33,
   "id": "80b82fb9-c644-45d4-974e-0975c583d0f8",
   "metadata": {},
   "outputs": [
    {
     "name": "stdout",
     "output_type": "stream",
     "text": [
      "Hello, Alice!\n",
      "Hi, Bob!\n"
     ]
    }
   ],
   "source": [
    "def greet(name, greeting=\"Hello\"):\n",
    "    print(f\"{greeting}, {name}!\")\n",
    "\n",
    "\n",
    "greet(\"Alice\")                # Uses default greeting\n",
    "greet(\"Bob\", greeting=\"Hi\")   # Overrides default greeting\n"
   ]
  },
  {
   "cell_type": "markdown",
   "id": "eff0c285-b0e9-4585-9391-556e82f7abb9",
   "metadata": {},
   "source": [
    "3. How do you use keyword arguments in Python function calls? Provide an example.\n"
   ]
  },
  {
   "cell_type": "code",
   "execution_count": 34,
   "id": "2e200f36-13db-4208-8e26-358f529e3b65",
   "metadata": {},
   "outputs": [
    {
     "name": "stdout",
     "output_type": "stream",
     "text": [
      "Name: Alice, Age: 25, City: Wonderland\n"
     ]
    }
   ],
   "source": [
    "def display_info(name, age, city):\n",
    "    print(f\"Name: {name}, Age: {age}, City: {city}\")\n",
    "\n",
    "display_info(name=\"Alice\", age=25, city=\"Wonderland\")\n"
   ]
  },
  {
   "cell_type": "markdown",
   "id": "307b1f6c-2bb9-4f4e-83fb-d3a0ec92f117",
   "metadata": {},
   "source": [
    "4. Create a Python function that accepts a variable number of arguments and calculates their sum."
   ]
  },
  {
   "cell_type": "code",
   "execution_count": 35,
   "id": "f79b1c09-81a1-4cfd-8386-d2c51b099975",
   "metadata": {},
   "outputs": [
    {
     "name": "stdout",
     "output_type": "stream",
     "text": [
      "The sum is: 15\n"
     ]
    }
   ],
   "source": [
    "def calculate_sum(*args):\n",
    "    return sum(args)\n",
    "\n",
    "result = calculate_sum(1, 2, 3, 4, 5)\n",
    "print(f\"The sum is: {result}\")\n"
   ]
  },
  {
   "cell_type": "markdown",
   "id": "f55a3be5-bc8d-4f22-9a6c-3fd0cf833f68",
   "metadata": {},
   "source": [
    "5. What is the purpose of the `*args` and `**kwargs` syntax in function parameter lists?\n"
   ]
  },
  {
   "cell_type": "markdown",
   "id": "84085bd4-55a5-493e-84dd-d83b38253919",
   "metadata": {},
   "source": [
    "- *args: It allows a function to accept a variable number of positional arguments. The args will be treated as a tuple.\n",
    "\n",
    "- **kwargs: It allows a function to accept a variable number of keyword arguments. The kwargs will be treated as a dictionary.\n",
    "\n",
    " def print_values(*args, **kwargs):\n",
    "    print(\"Positional arguments:\", args)\n",
    "    print(\"Keyword arguments:\", kwargs)\n",
    "\n",
    " \n",
    "print_values(1, 2, a=3, b=4)\n"
   ]
  },
  {
   "cell_type": "markdown",
   "id": "9ebcabc8-9e20-4ebf-9093-8968d901ef1a",
   "metadata": {},
   "source": [
    "# Return Values and Scoping:\n"
   ]
  },
  {
   "cell_type": "markdown",
   "id": "a92c9e29-cc40-4e89-bed0-0cf97282b578",
   "metadata": {},
   "source": [
    " 1. Describe the role of the `return` statement in Python functions and \n",
    "provide examples.\n"
   ]
  },
  {
   "cell_type": "markdown",
   "id": "fbdbc77b-dd2a-4b20-922b-0164ce260055",
   "metadata": {},
   "source": [
    "- The return statement in Python is used to exit a function and return a value to the caller. It marks the end of the function's execution. The value specified in the return statement is the result of the function.\n",
    "\n",
    "\n",
    "- \n",
    "def add_numbers(x, y):\n",
    "    result = x + y\n",
    "    return result\n",
    "\n",
    "sum_result = add_numbers(3, 5)\n",
    "print(\"Sum:\", sum_result)\n"
   ]
  },
  {
   "cell_type": "markdown",
   "id": "76e9412a-d672-408b-8cb7-93337987138a",
   "metadata": {},
   "source": [
    "2. Explain the concept of variable scope in Python, including local and global variables.\n"
   ]
  },
  {
   "cell_type": "markdown",
   "id": "75ed7fd6-ff46-483a-a46a-02bfac9efd50",
   "metadata": {},
   "source": [
    "- Local Variables: Variables declared inside a function are local to that function. They are only accessible within the function.\n",
    "\n",
    "- Global Variables: Variables declared outside of any function or declared with the global keyword are global. They can be accessed throughout the entire program."
   ]
  },
  {
   "cell_type": "markdown",
   "id": "ac9d5206-8a89-462f-9f20-bfc35576be7c",
   "metadata": {},
   "source": [
    "3. Write a Python program that demonstrates the use of global variables within functions.\n"
   ]
  },
  {
   "cell_type": "code",
   "execution_count": 36,
   "id": "375166eb-393b-48a5-a84e-51eb806e68ab",
   "metadata": {},
   "outputs": [
    {
     "name": "stdout",
     "output_type": "stream",
     "text": [
      "Global variable inside function: 10\n",
      "Global variable outside function: 10\n"
     ]
    }
   ],
   "source": [
    "global_var = 10  # Global variable\n",
    "\n",
    "def print_global():\n",
    "    print(\"Global variable inside function:\", global_var)\n",
    "\n",
    "print_global()\n",
    "print(\"Global variable outside function:\", global_var)\n"
   ]
  },
  {
   "cell_type": "markdown",
   "id": "d054c9e7-13bc-4afc-b518-09e2d0b17bae",
   "metadata": {},
   "source": [
    "4. Create a Python function that calculates the factorial of a number and returns it.\n"
   ]
  },
  {
   "cell_type": "code",
   "execution_count": 38,
   "id": "e2ef6913-31ea-45d9-b88f-f25b37207249",
   "metadata": {},
   "outputs": [
    {
     "name": "stdout",
     "output_type": "stream",
     "text": [
      "Factorial :  120\n"
     ]
    }
   ],
   "source": [
    "def factorial(n):\n",
    "    if n==0 or n==1:\n",
    "        return 1\n",
    "    \n",
    "    else:\n",
    "        return n* factorial(n-1)\n",
    "    \n",
    "result = factorial(5)\n",
    "print(\"Factorial : \", result)"
   ]
  },
  {
   "cell_type": "markdown",
   "id": "4115af6f-4da7-4827-9cc4-8fb63eaa3518",
   "metadata": {},
   "source": [
    "5. How can you access variables defined outside a function from within the function?"
   ]
  },
  {
   "cell_type": "code",
   "execution_count": 39,
   "id": "3fda9ca0-0244-40c7-8584-12111d84c4f1",
   "metadata": {},
   "outputs": [
    {
     "name": "stdout",
     "output_type": "stream",
     "text": [
      "Accessing global variable: 10\n"
     ]
    }
   ],
   "source": [
    "global_var = 10\n",
    "\n",
    "def print_global():\n",
    "    print(\"Accessing global variable:\", global_var)\n",
    "\n",
    "print_global()\n"
   ]
  },
  {
   "cell_type": "markdown",
   "id": "0665e0cd-ea6b-4b34-aaee-e104502232ec",
   "metadata": {},
   "source": [
    "# Lambda Functions and Higher-Order Functions:\n"
   ]
  },
  {
   "cell_type": "markdown",
   "id": "45f015a3-bb8f-42a7-be9c-654b2d250d97",
   "metadata": {},
   "source": [
    "1.  What are lambda functions in Python, and when are they typically used?"
   ]
  },
  {
   "cell_type": "markdown",
   "id": "bc606f62-7870-43f1-b23c-19ed6017ef27",
   "metadata": {},
   "source": [
    "- Definition: Lambda functions, also known as anonymous functions, are small, unnamed functions defined using the lambda keyword.\n",
    "\n",
    "- Typical Use Cases: Lambda functions are typically used for short-term operations where a full function definition is not required. They are often used in functional programming constructs like map, filter, and sorted."
   ]
  },
  {
   "cell_type": "markdown",
   "id": "c067e378-0bc1-4d0f-8703-bf327b0b8e8e",
   "metadata": {},
   "source": [
    "2. Write a Python program that uses lambda functions to sort a list of tuples based on the second element.\n"
   ]
  },
  {
   "cell_type": "code",
   "execution_count": 40,
   "id": "7ec52b5d-96d6-438c-b4b5-dbec01ce0aea",
   "metadata": {},
   "outputs": [
    {
     "name": "stdout",
     "output_type": "stream",
     "text": [
      "Sorted Data: [(5, 1), (3, 2), (1, 4), (2, 8)]\n"
     ]
    }
   ],
   "source": [
    "# List of tuples\n",
    "data = [(1, 4), (3, 2), (2, 8), (5, 1)]\n",
    "\n",
    "# Sorting based on the second element of each tuple using lambda function\n",
    "sorted_data = sorted(data, key=lambda x: x[1])\n",
    "\n",
    "print(\"Sorted Data:\", sorted_data)\n"
   ]
  },
  {
   "cell_type": "markdown",
   "id": "3d263ccb-fe33-4002-9098-b1b5aae918d1",
   "metadata": {},
   "source": [
    "3. Explain the concept of higher-order functions in Python, and provide an example."
   ]
  },
  {
   "cell_type": "code",
   "execution_count": 41,
   "id": "5fec0783-9153-41f5-9c5a-47b4e82e99fd",
   "metadata": {},
   "outputs": [
    {
     "name": "stdout",
     "output_type": "stream",
     "text": [
      "Result: 8\n"
     ]
    }
   ],
   "source": [
    "# Concept: Higher-order functions are functions that can take other functions as arguments or return functions as results.\n",
    "\n",
    "def apply_operation(operation, x, y):\n",
    "    return operation(x, y)\n",
    "\n",
    "# Higher-order function being used\n",
    "result = apply_operation(lambda a, b: a + b, 3, 5)\n",
    "print(\"Result:\", result)\n"
   ]
  },
  {
   "cell_type": "markdown",
   "id": "9650c4da-07ad-4abb-9eb5-032918bbab55",
   "metadata": {},
   "source": [
    "4. Create a Python function that takes a list of numbers and a function as arguments, applying the function to each element in the list.\n"
   ]
  },
  {
   "cell_type": "code",
   "execution_count": 42,
   "id": "68482311-3e81-4fd5-b72d-a6837bd8e444",
   "metadata": {},
   "outputs": [
    {
     "name": "stdout",
     "output_type": "stream",
     "text": [
      "Original Numbers: [1, 2, 3, 4, 5]\n",
      "Squared Numbers: [1, 4, 9, 16, 25]\n"
     ]
    }
   ],
   "source": [
    "def apply_function_to_list(func, data):\n",
    "    return [func(item) for item in data]\n",
    "\n",
    "# Example usage with a lambda function\n",
    "numbers = [1, 2, 3, 4, 5]\n",
    "squared_numbers = apply_function_to_list(lambda x: x ** 2, numbers)\n",
    "\n",
    "print(\"Original Numbers:\", numbers)\n",
    "print(\"Squared Numbers:\", squared_numbers)\n"
   ]
  },
  {
   "cell_type": "markdown",
   "id": "335bf633-4a1e-4e95-9534-9bd3dbbd1658",
   "metadata": {},
   "source": [
    "# Built-in Functions:\n"
   ]
  },
  {
   "cell_type": "markdown",
   "id": "7ad5e3b1-f42b-4b52-a45a-da739e65e28b",
   "metadata": {},
   "source": [
    "1. Describe the role of built-in functions like `len()`, `max()`, and `min()` in Python.\n"
   ]
  },
  {
   "cell_type": "markdown",
   "id": "98ab1bb9-326f-469a-bca3-2d008490505b",
   "metadata": {},
   "source": [
    "- len(): Returns the number of items in an object, such as the number of elements in a list or characters in a string.\n",
    "\n",
    "- max(): Returns the largest item in an iterable or the largest of two or more arguments.\n",
    "\n",
    "- min(): Returns the smallest item in an iterable or the smallest of two or more arguments."
   ]
  },
  {
   "cell_type": "markdown",
   "id": "2788d1cd-49bd-42f6-a4bd-d7519e4d1ee6",
   "metadata": {},
   "source": [
    "2. Write a Python program that uses the `map()` function to apply a function to each element of a list.\n"
   ]
  },
  {
   "cell_type": "code",
   "execution_count": 43,
   "id": "1b0038ca-46d8-4308-8ae9-f4d3b39abdc5",
   "metadata": {},
   "outputs": [
    {
     "name": "stdout",
     "output_type": "stream",
     "text": [
      "Original Numbers: [1, 2, 3, 4, 5]\n",
      "Squared Numbers: [1, 4, 9, 16, 25]\n"
     ]
    }
   ],
   "source": [
    "def square(x):\n",
    "    return x ** 2\n",
    "\n",
    "numbers = [1, 2, 3, 4, 5]\n",
    "\n",
    "squared_numbers = list(map(square, numbers))\n",
    "\n",
    "print(\"Original Numbers:\", numbers)\n",
    "print(\"Squared Numbers:\", squared_numbers)\n"
   ]
  },
  {
   "cell_type": "markdown",
   "id": "12b54da2-5895-48ea-9300-a114e4cb5411",
   "metadata": {},
   "source": [
    "3. How does the `filter()` function work in Python, and when would you use it?\n"
   ]
  },
  {
   "cell_type": "markdown",
   "id": "dddbc057-5aac-415f-b868-a39fc8eb6183",
   "metadata": {},
   "source": [
    "- Concept: The filter() function constructs an iterator from elements of an iterable for which a function returns true.\n",
    "\n",
    "- Use Case: It is used when you want to filter elements from an iterable based on a condition."
   ]
  },
  {
   "cell_type": "markdown",
   "id": "9ec4f1c5-298f-4d68-9b1c-3c36608659b9",
   "metadata": {},
   "source": [
    "4. Create a Python program that uses the `reduce()` function to find the product of all elements in a list."
   ]
  },
  {
   "cell_type": "code",
   "execution_count": 44,
   "id": "25a6b6a3-ee43-4681-b6e9-9c60cabd7954",
   "metadata": {},
   "outputs": [
    {
     "name": "stdout",
     "output_type": "stream",
     "text": [
      "Original Numbers: [1, 2, 3, 4, 5]\n",
      "Product of Numbers: 120\n"
     ]
    }
   ],
   "source": [
    "from functools import reduce\n",
    "\n",
    "def multiply(x, y):\n",
    "    return x * y\n",
    "\n",
    "numbers = [1, 2, 3, 4, 5]\n",
    "\n",
    "product = reduce(multiply, numbers)\n",
    "\n",
    "print(\"Original Numbers:\", numbers)\n",
    "print(\"Product of Numbers:\", product)\n"
   ]
  },
  {
   "cell_type": "markdown",
   "id": "bc01f1b2-e01f-4b3e-bebb-c50bca4ff35f",
   "metadata": {},
   "source": [
    "# Function Documentation and Best Practices:\n"
   ]
  },
  {
   "cell_type": "markdown",
   "id": "e5a10ac7-7731-425d-bfed-48dbc0f51e11",
   "metadata": {},
   "source": [
    "1. Explain the purpose of docstrings in Python functions and how to write them.\n"
   ]
  },
  {
   "cell_type": "markdown",
   "id": "5964b22b-5f47-443a-832a-acec6a2b5781",
   "metadata": {},
   "source": [
    "- Documentation: Docstrings are used to document Python functions, modules, classes, or methods. They provide a way to describe what a piece of code does.\n",
    "\n",
    "- Readability: Docstrings enhance the readability of code by providing a quick reference for users who want to understand the functionality of a particular function.\n",
    "\n",
    "- Help Command: Docstrings can be accessed using the help() command in the Python interpreter. This makes it easy for users to get information about a function directly in the interactive mode.\n",
    "\n",
    "- Automatic Documentation Tools: Docstrings are often used by automatic documentation generation tools like Sphinx to create documentation for projects.\n",
    "\n",
    "def example_function(param1, param2):\n",
    "    \"\"\"\n",
    "    This is a docstring for example_function.\n",
    "\n",
    "    Parameters:\n",
    "    - param1: Description of param1.\n",
    "    - param2: Description of param2.\n",
    "\n",
    "    Returns:\n",
    "    Description of the return value.\n",
    "    \"\"\"\n",
    "    # Function code goes here\n",
    "    \"\"\"\n",
    "    This is a docstring for the example module.\n",
    "\n",
    "    It provides an overview of the module's purpose and contents."
   ]
  },
  {
   "cell_type": "code",
   "execution_count": null,
   "id": "2ce61716-c722-422e-a98b-38f975ccfbe5",
   "metadata": {},
   "outputs": [],
   "source": []
  }
 ],
 "metadata": {
  "kernelspec": {
   "display_name": "Python 3 (ipykernel)",
   "language": "python",
   "name": "python3"
  },
  "language_info": {
   "codemirror_mode": {
    "name": "ipython",
    "version": 3
   },
   "file_extension": ".py",
   "mimetype": "text/x-python",
   "name": "python",
   "nbconvert_exporter": "python",
   "pygments_lexer": "ipython3",
   "version": "3.10.8"
  }
 },
 "nbformat": 4,
 "nbformat_minor": 5
}
